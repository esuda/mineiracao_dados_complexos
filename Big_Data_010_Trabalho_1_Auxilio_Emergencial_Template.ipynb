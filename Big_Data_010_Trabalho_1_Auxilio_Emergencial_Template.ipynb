{
  "nbformat": 4,
  "nbformat_minor": 0,
  "metadata": {
    "colab": {
      "name": "Big Data 010 - Trabalho 1 - Auxilio Emergencial - Template.ipynb",
      "provenance": [],
      "collapsed_sections": [],
      "include_colab_link": true
    },
    "kernelspec": {
      "name": "python3",
      "display_name": "Python 3"
    }
  },
  "cells": [
    {
      "cell_type": "markdown",
      "metadata": {
        "id": "view-in-github",
        "colab_type": "text"
      },
      "source": [
        "<a href=\"https://colab.research.google.com/github/esuda/mineiracao_dados_complexos/blob/master/Big_Data_010_Trabalho_1_Auxilio_Emergencial_Template.ipynb\" target=\"_parent\"><img src=\"https://colab.research.google.com/assets/colab-badge.svg\" alt=\"Open In Colab\"/></a>"
      ]
    },
    {
      "cell_type": "markdown",
      "metadata": {
        "id": "TYeGbnhvd3zo"
      },
      "source": [
        "# Pacote de dados\n",
        "\n",
        "\n",
        "*   Abra o link do pacote de dados: https://tinyurl.com/bd10-auxilio\n",
        "*   Selecione a opção \"Adicionar Atalho ao Drive\"\n"
      ]
    },
    {
      "cell_type": "code",
      "metadata": {
        "id": "5OU9jC4pqnxO"
      },
      "source": [
        "!pip install mrjob"
      ],
      "execution_count": null,
      "outputs": []
    },
    {
      "cell_type": "code",
      "metadata": {
        "id": "pwXDq_hhqVuI",
        "colab": {
          "base_uri": "https://localhost:8080/"
        },
        "outputId": "7bf76cd9-fc17-4783-80fc-673e3a6bf92d"
      },
      "source": [
        "from google.colab import drive\n",
        "drive.mount('/content/drive')"
      ],
      "execution_count": null,
      "outputs": [
        {
          "output_type": "stream",
          "name": "stdout",
          "text": [
            "Drive already mounted at /content/drive; to attempt to forcibly remount, call drive.mount(\"/content/drive\", force_remount=True).\n"
          ]
        }
      ]
    },
    {
      "cell_type": "code",
      "metadata": {
        "id": "9j1swTizo3Ab"
      },
      "source": [
        "!ls \"/content/drive/My Drive/auxilio/\""
      ],
      "execution_count": null,
      "outputs": []
    },
    {
      "cell_type": "code",
      "metadata": {
        "id": "_zzC2hIHpt-J"
      },
      "source": [
        "!zcat \"/content/drive/My Drive/auxilio/auxilio.csv.gz\" | head"
      ],
      "execution_count": null,
      "outputs": []
    },
    {
      "cell_type": "code",
      "metadata": {
        "id": "pU54MmPDq9ud",
        "colab": {
          "base_uri": "https://localhost:8080/"
        },
        "outputId": "997bdc04-98a5-4421-8caf-a06564d0a93f"
      },
      "source": [
        "%%file auxilio.py\n",
        "from mrjob.job import MRJob\n",
        "from mrjob.protocol import TextProtocol\n",
        "import re\n",
        "import logging\n",
        "\n",
        "class Auxilio(MRJob):\n",
        "\n",
        "  OUTPUT_PROTOCOL = TextProtocol\n",
        "\n",
        "  def configure_args(self):\n",
        "    super(Auxilio, self).configure_args()\n",
        "    self.add_passthru_arg('--popFile', default=\"/content/drive/My Drive/auxilio/estimativa_dou_2021.csv\")\n",
        "\n",
        "  def mapper(self, _, line):\n",
        "    try :\n",
        "      # modificar para extrair os dados da linha e gerar saída conforme enunciado\n",
        "      yield \"3550308\", int(1)\n",
        "    except :\n",
        "      logging.warning(\"linha descartada: \"+line)\n",
        "      pass\n",
        "\n",
        "  def reducer_init(self):\n",
        "    logging.warning(\"criando dicionário de municipios\")\n",
        "    popFile = open(self.options.popFile, \"r\")\n",
        "    self.popDict = {}\n",
        "    for line in popFile :\n",
        "      try :\n",
        "        uf,coduf,codmun,nome,pop = line.split(',')\n",
        "        self.popDict[coduf+codmun] = [nome, int(pop)]\n",
        "      except:\n",
        "        pass      \n",
        "    popFile.close()\n",
        "\n",
        "  def reducer(self, key, values):\n",
        "    try :\n",
        "      # modificar para obter município e população a partir da chave, e \n",
        "      # calcular pagamentos per capita de acordo com o total de valores\n",
        "      yield key, max(values)\n",
        "    except :\n",
        "      pass\n",
        "\n",
        "if __name__ == '__main__':\n",
        "    logging.basicConfig(filename=\"log.txt\")\n",
        "    Auxilio.run()"
      ],
      "execution_count": null,
      "outputs": [
        {
          "output_type": "stream",
          "name": "stdout",
          "text": [
            "Overwriting auxilio.py\n"
          ]
        }
      ]
    },
    {
      "cell_type": "code",
      "metadata": {
        "id": "K8NldWEus6e-"
      },
      "source": [
        "!python auxilio.py \"/content/drive/My Drive/auxilio/auxilio_10pct.csv.gz\" "
      ],
      "execution_count": null,
      "outputs": []
    },
    {
      "cell_type": "code",
      "metadata": {
        "id": "BJqL4kpsqYb8"
      },
      "source": [
        "!cat log.txt"
      ],
      "execution_count": null,
      "outputs": []
    },
    {
      "cell_type": "code",
      "metadata": {
        "id": "AWo3Hv3-u3X9"
      },
      "source": [
        "!rm log.txt"
      ],
      "execution_count": null,
      "outputs": []
    },
    {
      "cell_type": "code",
      "metadata": {
        "id": "CVo9y2NHngkU"
      },
      "source": [
        "!python auxilio.py \"/content/drive/My Drive/auxilio/auxilio.csv.gz\" "
      ],
      "execution_count": null,
      "outputs": []
    },
    {
      "cell_type": "code",
      "metadata": {
        "id": "nEzvy2T5md3B"
      },
      "source": [
        "drive.flush_and_unmount()"
      ],
      "execution_count": null,
      "outputs": []
    }
  ]
}