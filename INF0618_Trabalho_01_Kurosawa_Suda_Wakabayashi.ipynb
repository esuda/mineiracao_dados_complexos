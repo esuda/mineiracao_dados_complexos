{
  "nbformat": 4,
  "nbformat_minor": 0,
  "metadata": {
    "colab": {
      "name": "INF0618_Trabalho_01_Kurosawa_Suda_Wakabayashi.ipynb",
      "provenance": [],
      "authorship_tag": "ABX9TyPerkzXMkzlihC+bQa3lwx+",
      "include_colab_link": true
    },
    "kernelspec": {
      "name": "python3",
      "display_name": "Python 3"
    },
    "language_info": {
      "name": "python"
    }
  },
  "cells": [
    {
      "cell_type": "markdown",
      "metadata": {
        "id": "view-in-github",
        "colab_type": "text"
      },
      "source": [
        "<a href=\"https://colab.research.google.com/github/esuda/mineiracao_dados_complexos/blob/master/INF0618_Trabalho_01_Kurosawa_Suda_Wakabayashi.ipynb\" target=\"_parent\"><img src=\"https://colab.research.google.com/assets/colab-badge.svg\" alt=\"Open In Colab\"/></a>"
      ]
    },
    {
      "cell_type": "markdown",
      "metadata": {
        "id": "0SIv8pLgoc13"
      },
      "source": [
        "# **Inf0618 Deep Learning - Trabalho 1 - CNN**\n",
        "## Integrantes do grupo:\n",
        "#### - Daniel Noriaki Kurosawa\n",
        "#### - Eric Uyemura Suda\n",
        "#### - Fernando Shigeru Wakabayashi"
      ]
    },
    {
      "cell_type": "code",
      "metadata": {
        "id": "9_bzod5toU2z"
      },
      "source": [
        "#Importando as libs necessarias\n",
        "\n",
        "import tensorflow as tf\n",
        "import numpy as np\n",
        "import matplotlib.pyplot as plt\n",
        "from tensorflow import keras"
      ],
      "execution_count": 2,
      "outputs": []
    },
    {
      "cell_type": "code",
      "metadata": {
        "id": "j9vtcMiPpLdp"
      },
      "source": [
        "#Importando Dataset do trabalho\n",
        "\n",
        "from tensorflow.keras.datasets import cifar10\n",
        "(x_trainval, y_trainval), (x_test, y_test) = cifar10.load_data()"
      ],
      "execution_count": 25,
      "outputs": []
    },
    {
      "cell_type": "code",
      "metadata": {
        "colab": {
          "base_uri": "https://localhost:8080/"
        },
        "id": "G90Xky9apsYH",
        "outputId": "ca0ca488-318a-4ca1-f17e-e08f1f8cdd8d"
      },
      "source": [
        "#Cada imagem tem o tamanho de 32x32x3\n",
        "\n",
        "print(\"Tamanho treino {}\".format(x_trainval.shape), \"\\t\", \"Tamanho teste {}\".format(x_test.shape))"
      ],
      "execution_count": 26,
      "outputs": [
        {
          "output_type": "stream",
          "name": "stdout",
          "text": [
            "Tamanho treino (50000, 32, 32, 3) \t Tamanho teste (10000, 32, 32, 3)\n"
          ]
        }
      ]
    },
    {
      "cell_type": "code",
      "metadata": {
        "colab": {
          "base_uri": "https://localhost:8080/"
        },
        "id": "vm-yXZ_bqYHT",
        "outputId": "4cba89e3-42f8-463e-ee64-fc1a996f694c"
      },
      "source": [
        "#Dataset ja esta balanceado com 5k amostras para cada classe de imagem\n",
        "\n",
        "unique, counts = np.unique(y_trainval, return_counts=True)\n",
        "print(\"Treino ---> \", dict(zip(unique, counts)), \"\\n\")"
      ],
      "execution_count": 27,
      "outputs": [
        {
          "output_type": "stream",
          "name": "stdout",
          "text": [
            "Treino --->  {0: 5000, 1: 5000, 2: 5000, 3: 5000, 4: 5000, 5: 5000, 6: 5000, 7: 5000, 8: 5000, 9: 5000} \n",
            "\n"
          ]
        }
      ]
    },
    {
      "cell_type": "code",
      "metadata": {
        "colab": {
          "base_uri": "https://localhost:8080/"
        },
        "id": "sCVbzvoirbSc",
        "outputId": "8565c33c-baa6-4054-eeeb-4aa41f7c8db1"
      },
      "source": [
        "#Separando o dataset em treino(80%) e validacao(20%)\n",
        "\n",
        "#Embaralha os dados e divide em 80% para treino, 20% para validação\n",
        "nData = x_trainval.shape[0]  \n",
        "nTrain = int(nData * 0.8)  \n",
        "randomIdx = np.random.permutation(np.arange(nData))\n",
        "trainIdx = randomIdx[:nTrain] \n",
        "valIdx = randomIdx[nTrain:]\n",
        "\n",
        "#Divide os dados\n",
        "x_val, y_val = x_trainval[valIdx], y_trainval[valIdx]\n",
        "x_train, y_train = x_trainval[trainIdx], y_trainval[trainIdx]\n",
        "\n",
        "print(\"Formato das imagens de treinamento\", x_train.shape)\n",
        "print(\"Formato dos rótulos de treinamento\", y_train.shape)\n",
        "print()\n",
        "\n",
        "print(\"Formato das imagens de validação\", x_val.shape)\n",
        "print(\"Formato dos rótulos de validação\", y_val.shape)"
      ],
      "execution_count": 39,
      "outputs": [
        {
          "output_type": "stream",
          "name": "stdout",
          "text": [
            "Formato das imagens de treinamento (40000, 32, 32, 3)\n",
            "Formato dos rótulos de treinamento (40000, 1)\n",
            "\n",
            "Formato das imagens de validação (10000, 32, 32, 3)\n",
            "Formato dos rótulos de validação (10000, 1)\n"
          ]
        }
      ]
    },
    {
      "cell_type": "code",
      "metadata": {
        "id": "NnNQ6YZFts3-"
      },
      "source": [
        "# Escalando dados de para um intervalo de 0-1\n",
        "\n",
        "# Normaliza dados entre [0, 1]\n",
        "x_train = x_train / 255.0\n",
        "x_val = x_val / 255.0\n",
        "x_test = x_test / 255.0"
      ],
      "execution_count": 40,
      "outputs": []
    },
    {
      "cell_type": "code",
      "metadata": {
        "colab": {
          "base_uri": "https://localhost:8080/"
        },
        "id": "DjbF04lpu7bC",
        "outputId": "402b0a66-cf67-4cf3-90f7-b8558bfd3253"
      },
      "source": [
        "# One hot encoding dos labels\n",
        "\n",
        "num_classes = len(np.unique(y_train))\n",
        "y_train_oh = tf.keras.utils.to_categorical(y_train, num_classes)\n",
        "y_val_oh = tf.keras.utils.to_categorical(y_val, num_classes)\n",
        "y_test_oh = tf.keras.utils.to_categorical(y_test, num_classes)\n",
        "print(x_train.shape, y_train_oh.shape)\n",
        "print(\"Exemplo: \")\n",
        "print(\"Classe Imagem: \", y_train[0], \"\\tOne Hot: \", y_train_oh[0])"
      ],
      "execution_count": 48,
      "outputs": [
        {
          "output_type": "stream",
          "name": "stdout",
          "text": [
            "(40000, 32, 32, 3) (40000, 10)\n",
            "Exemplo: \n",
            "Classe Imagem:  [8] \tOne Hot:  [0. 0. 0. 0. 0. 0. 0. 0. 1. 0.]\n"
          ]
        }
      ]
    }
  ]
}