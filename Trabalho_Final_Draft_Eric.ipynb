{
  "nbformat": 4,
  "nbformat_minor": 0,
  "metadata": {
    "colab": {
      "name": "Trabalho_Final_Draft_Eric.ipynb",
      "provenance": [],
      "machine_shape": "hm",
      "mount_file_id": "https://github.com/esuda/mineiracao_dados_complexos/blob/master/Trabalho_Final_Draft_Eric.ipynb",
      "authorship_tag": "ABX9TyMjk+93wpn8VAs7JbyYSf+4",
      "include_colab_link": true
    },
    "kernelspec": {
      "name": "python3",
      "display_name": "Python 3"
    },
    "language_info": {
      "name": "python"
    },
    "accelerator": "GPU",
    "widgets": {
      "application/vnd.jupyter.widget-state+json": {
        "243e30afa8924797be7d946ccb51a006": {
          "model_module": "@jupyter-widgets/controls",
          "model_name": "HBoxModel",
          "model_module_version": "1.5.0",
          "state": {
            "_view_name": "HBoxView",
            "_dom_classes": [],
            "_model_name": "HBoxModel",
            "_view_module": "@jupyter-widgets/controls",
            "_model_module_version": "1.5.0",
            "_view_count": null,
            "_view_module_version": "1.5.0",
            "box_style": "",
            "layout": "IPY_MODEL_873a8c50f1694286aeed592199f43c55",
            "_model_module": "@jupyter-widgets/controls",
            "children": [
              "IPY_MODEL_0a152a33cbde4078b175bd20ac2718cc",
              "IPY_MODEL_38cb2326e28644bebe8145b6b904b9e9",
              "IPY_MODEL_a0ff0549bed04299a5b7bb5bc3becb00"
            ]
          }
        },
        "873a8c50f1694286aeed592199f43c55": {
          "model_module": "@jupyter-widgets/base",
          "model_name": "LayoutModel",
          "model_module_version": "1.2.0",
          "state": {
            "_view_name": "LayoutView",
            "grid_template_rows": null,
            "right": null,
            "justify_content": null,
            "_view_module": "@jupyter-widgets/base",
            "overflow": null,
            "_model_module_version": "1.2.0",
            "_view_count": null,
            "flex_flow": null,
            "width": null,
            "min_width": null,
            "border": null,
            "align_items": null,
            "bottom": null,
            "_model_module": "@jupyter-widgets/base",
            "top": null,
            "grid_column": null,
            "overflow_y": null,
            "overflow_x": null,
            "grid_auto_flow": null,
            "grid_area": null,
            "grid_template_columns": null,
            "flex": null,
            "_model_name": "LayoutModel",
            "justify_items": null,
            "grid_row": null,
            "max_height": null,
            "align_content": null,
            "visibility": null,
            "align_self": null,
            "height": null,
            "min_height": null,
            "padding": null,
            "grid_auto_rows": null,
            "grid_gap": null,
            "max_width": null,
            "order": null,
            "_view_module_version": "1.2.0",
            "grid_template_areas": null,
            "object_position": null,
            "object_fit": null,
            "grid_auto_columns": null,
            "margin": null,
            "display": null,
            "left": null
          }
        },
        "0a152a33cbde4078b175bd20ac2718cc": {
          "model_module": "@jupyter-widgets/controls",
          "model_name": "HTMLModel",
          "model_module_version": "1.5.0",
          "state": {
            "_view_name": "HTMLView",
            "style": "IPY_MODEL_81a56b4d45034498b9de6310e9e09332",
            "_dom_classes": [],
            "description": "",
            "_model_name": "HTMLModel",
            "placeholder": "​",
            "_view_module": "@jupyter-widgets/controls",
            "_model_module_version": "1.5.0",
            "value": "100%",
            "_view_count": null,
            "_view_module_version": "1.5.0",
            "description_tooltip": null,
            "_model_module": "@jupyter-widgets/controls",
            "layout": "IPY_MODEL_541b6ca8e7e344dc924df99aaf2bc8b3"
          }
        },
        "38cb2326e28644bebe8145b6b904b9e9": {
          "model_module": "@jupyter-widgets/controls",
          "model_name": "FloatProgressModel",
          "model_module_version": "1.5.0",
          "state": {
            "_view_name": "ProgressView",
            "style": "IPY_MODEL_8fbdb4536246499fb390e3c1f7b1a960",
            "_dom_classes": [],
            "description": "",
            "_model_name": "FloatProgressModel",
            "bar_style": "success",
            "max": 18632,
            "_view_module": "@jupyter-widgets/controls",
            "_model_module_version": "1.5.0",
            "value": 18632,
            "_view_count": null,
            "_view_module_version": "1.5.0",
            "orientation": "horizontal",
            "min": 0,
            "description_tooltip": null,
            "_model_module": "@jupyter-widgets/controls",
            "layout": "IPY_MODEL_6e4c9684e3554a84ae4ce402b1fe1870"
          }
        },
        "a0ff0549bed04299a5b7bb5bc3becb00": {
          "model_module": "@jupyter-widgets/controls",
          "model_name": "HTMLModel",
          "model_module_version": "1.5.0",
          "state": {
            "_view_name": "HTMLView",
            "style": "IPY_MODEL_0e88004f28cc4c09a709ecdcef38dbc5",
            "_dom_classes": [],
            "description": "",
            "_model_name": "HTMLModel",
            "placeholder": "​",
            "_view_module": "@jupyter-widgets/controls",
            "_model_module_version": "1.5.0",
            "value": " 18632/18632 [24:45&lt;00:00, 12.47it/s]",
            "_view_count": null,
            "_view_module_version": "1.5.0",
            "description_tooltip": null,
            "_model_module": "@jupyter-widgets/controls",
            "layout": "IPY_MODEL_63070f1552f64d2491edabbe9edbafb6"
          }
        },
        "81a56b4d45034498b9de6310e9e09332": {
          "model_module": "@jupyter-widgets/controls",
          "model_name": "DescriptionStyleModel",
          "model_module_version": "1.5.0",
          "state": {
            "_view_name": "StyleView",
            "_model_name": "DescriptionStyleModel",
            "description_width": "",
            "_view_module": "@jupyter-widgets/base",
            "_model_module_version": "1.5.0",
            "_view_count": null,
            "_view_module_version": "1.2.0",
            "_model_module": "@jupyter-widgets/controls"
          }
        },
        "541b6ca8e7e344dc924df99aaf2bc8b3": {
          "model_module": "@jupyter-widgets/base",
          "model_name": "LayoutModel",
          "model_module_version": "1.2.0",
          "state": {
            "_view_name": "LayoutView",
            "grid_template_rows": null,
            "right": null,
            "justify_content": null,
            "_view_module": "@jupyter-widgets/base",
            "overflow": null,
            "_model_module_version": "1.2.0",
            "_view_count": null,
            "flex_flow": null,
            "width": null,
            "min_width": null,
            "border": null,
            "align_items": null,
            "bottom": null,
            "_model_module": "@jupyter-widgets/base",
            "top": null,
            "grid_column": null,
            "overflow_y": null,
            "overflow_x": null,
            "grid_auto_flow": null,
            "grid_area": null,
            "grid_template_columns": null,
            "flex": null,
            "_model_name": "LayoutModel",
            "justify_items": null,
            "grid_row": null,
            "max_height": null,
            "align_content": null,
            "visibility": null,
            "align_self": null,
            "height": null,
            "min_height": null,
            "padding": null,
            "grid_auto_rows": null,
            "grid_gap": null,
            "max_width": null,
            "order": null,
            "_view_module_version": "1.2.0",
            "grid_template_areas": null,
            "object_position": null,
            "object_fit": null,
            "grid_auto_columns": null,
            "margin": null,
            "display": null,
            "left": null
          }
        },
        "8fbdb4536246499fb390e3c1f7b1a960": {
          "model_module": "@jupyter-widgets/controls",
          "model_name": "ProgressStyleModel",
          "model_module_version": "1.5.0",
          "state": {
            "_view_name": "StyleView",
            "_model_name": "ProgressStyleModel",
            "description_width": "",
            "_view_module": "@jupyter-widgets/base",
            "_model_module_version": "1.5.0",
            "_view_count": null,
            "_view_module_version": "1.2.0",
            "bar_color": null,
            "_model_module": "@jupyter-widgets/controls"
          }
        },
        "6e4c9684e3554a84ae4ce402b1fe1870": {
          "model_module": "@jupyter-widgets/base",
          "model_name": "LayoutModel",
          "model_module_version": "1.2.0",
          "state": {
            "_view_name": "LayoutView",
            "grid_template_rows": null,
            "right": null,
            "justify_content": null,
            "_view_module": "@jupyter-widgets/base",
            "overflow": null,
            "_model_module_version": "1.2.0",
            "_view_count": null,
            "flex_flow": null,
            "width": null,
            "min_width": null,
            "border": null,
            "align_items": null,
            "bottom": null,
            "_model_module": "@jupyter-widgets/base",
            "top": null,
            "grid_column": null,
            "overflow_y": null,
            "overflow_x": null,
            "grid_auto_flow": null,
            "grid_area": null,
            "grid_template_columns": null,
            "flex": null,
            "_model_name": "LayoutModel",
            "justify_items": null,
            "grid_row": null,
            "max_height": null,
            "align_content": null,
            "visibility": null,
            "align_self": null,
            "height": null,
            "min_height": null,
            "padding": null,
            "grid_auto_rows": null,
            "grid_gap": null,
            "max_width": null,
            "order": null,
            "_view_module_version": "1.2.0",
            "grid_template_areas": null,
            "object_position": null,
            "object_fit": null,
            "grid_auto_columns": null,
            "margin": null,
            "display": null,
            "left": null
          }
        },
        "0e88004f28cc4c09a709ecdcef38dbc5": {
          "model_module": "@jupyter-widgets/controls",
          "model_name": "DescriptionStyleModel",
          "model_module_version": "1.5.0",
          "state": {
            "_view_name": "StyleView",
            "_model_name": "DescriptionStyleModel",
            "description_width": "",
            "_view_module": "@jupyter-widgets/base",
            "_model_module_version": "1.5.0",
            "_view_count": null,
            "_view_module_version": "1.2.0",
            "_model_module": "@jupyter-widgets/controls"
          }
        },
        "63070f1552f64d2491edabbe9edbafb6": {
          "model_module": "@jupyter-widgets/base",
          "model_name": "LayoutModel",
          "model_module_version": "1.2.0",
          "state": {
            "_view_name": "LayoutView",
            "grid_template_rows": null,
            "right": null,
            "justify_content": null,
            "_view_module": "@jupyter-widgets/base",
            "overflow": null,
            "_model_module_version": "1.2.0",
            "_view_count": null,
            "flex_flow": null,
            "width": null,
            "min_width": null,
            "border": null,
            "align_items": null,
            "bottom": null,
            "_model_module": "@jupyter-widgets/base",
            "top": null,
            "grid_column": null,
            "overflow_y": null,
            "overflow_x": null,
            "grid_auto_flow": null,
            "grid_area": null,
            "grid_template_columns": null,
            "flex": null,
            "_model_name": "LayoutModel",
            "justify_items": null,
            "grid_row": null,
            "max_height": null,
            "align_content": null,
            "visibility": null,
            "align_self": null,
            "height": null,
            "min_height": null,
            "padding": null,
            "grid_auto_rows": null,
            "grid_gap": null,
            "max_width": null,
            "order": null,
            "_view_module_version": "1.2.0",
            "grid_template_areas": null,
            "object_position": null,
            "object_fit": null,
            "grid_auto_columns": null,
            "margin": null,
            "display": null,
            "left": null
          }
        },
        "0b2e18e6e4bc4c5a94a7bdd9d9a9aef4": {
          "model_module": "@jupyter-widgets/controls",
          "model_name": "HBoxModel",
          "model_module_version": "1.5.0",
          "state": {
            "_view_name": "HBoxView",
            "_dom_classes": [],
            "_model_name": "HBoxModel",
            "_view_module": "@jupyter-widgets/controls",
            "_model_module_version": "1.5.0",
            "_view_count": null,
            "_view_module_version": "1.5.0",
            "box_style": "",
            "layout": "IPY_MODEL_17cf2d4f74c54693b26afe1e5f2c7f82",
            "_model_module": "@jupyter-widgets/controls",
            "children": [
              "IPY_MODEL_3dff99aa77d741c1a2bb5e26d9bb8132",
              "IPY_MODEL_f29e97f69fe84ea382bdcd564915211a",
              "IPY_MODEL_1343c7d54eda4cd6aa98d38a7ed03d18"
            ]
          }
        },
        "17cf2d4f74c54693b26afe1e5f2c7f82": {
          "model_module": "@jupyter-widgets/base",
          "model_name": "LayoutModel",
          "model_module_version": "1.2.0",
          "state": {
            "_view_name": "LayoutView",
            "grid_template_rows": null,
            "right": null,
            "justify_content": null,
            "_view_module": "@jupyter-widgets/base",
            "overflow": null,
            "_model_module_version": "1.2.0",
            "_view_count": null,
            "flex_flow": null,
            "width": null,
            "min_width": null,
            "border": null,
            "align_items": null,
            "bottom": null,
            "_model_module": "@jupyter-widgets/base",
            "top": null,
            "grid_column": null,
            "overflow_y": null,
            "overflow_x": null,
            "grid_auto_flow": null,
            "grid_area": null,
            "grid_template_columns": null,
            "flex": null,
            "_model_name": "LayoutModel",
            "justify_items": null,
            "grid_row": null,
            "max_height": null,
            "align_content": null,
            "visibility": null,
            "align_self": null,
            "height": null,
            "min_height": null,
            "padding": null,
            "grid_auto_rows": null,
            "grid_gap": null,
            "max_width": null,
            "order": null,
            "_view_module_version": "1.2.0",
            "grid_template_areas": null,
            "object_position": null,
            "object_fit": null,
            "grid_auto_columns": null,
            "margin": null,
            "display": null,
            "left": null
          }
        },
        "3dff99aa77d741c1a2bb5e26d9bb8132": {
          "model_module": "@jupyter-widgets/controls",
          "model_name": "HTMLModel",
          "model_module_version": "1.5.0",
          "state": {
            "_view_name": "HTMLView",
            "style": "IPY_MODEL_e02ee89c4f8242808e58cabf050cf0d2",
            "_dom_classes": [],
            "description": "",
            "_model_name": "HTMLModel",
            "placeholder": "​",
            "_view_module": "@jupyter-widgets/controls",
            "_model_module_version": "1.5.0",
            "value": "100%",
            "_view_count": null,
            "_view_module_version": "1.5.0",
            "description_tooltip": null,
            "_model_module": "@jupyter-widgets/controls",
            "layout": "IPY_MODEL_5099092854eb48e3bb3173ccc365145b"
          }
        },
        "f29e97f69fe84ea382bdcd564915211a": {
          "model_module": "@jupyter-widgets/controls",
          "model_name": "FloatProgressModel",
          "model_module_version": "1.5.0",
          "state": {
            "_view_name": "ProgressView",
            "style": "IPY_MODEL_b17eee2b0e6948f79646ef6551d8dbd4",
            "_dom_classes": [],
            "description": "",
            "_model_name": "FloatProgressModel",
            "bar_style": "success",
            "max": 18632,
            "_view_module": "@jupyter-widgets/controls",
            "_model_module_version": "1.5.0",
            "value": 18632,
            "_view_count": null,
            "_view_module_version": "1.5.0",
            "orientation": "horizontal",
            "min": 0,
            "description_tooltip": null,
            "_model_module": "@jupyter-widgets/controls",
            "layout": "IPY_MODEL_bfaaa6b4c44c4d0cbcb717fc2d9ade8e"
          }
        },
        "1343c7d54eda4cd6aa98d38a7ed03d18": {
          "model_module": "@jupyter-widgets/controls",
          "model_name": "HTMLModel",
          "model_module_version": "1.5.0",
          "state": {
            "_view_name": "HTMLView",
            "style": "IPY_MODEL_a7f2a4b630244379a96a7e584290d983",
            "_dom_classes": [],
            "description": "",
            "_model_name": "HTMLModel",
            "placeholder": "​",
            "_view_module": "@jupyter-widgets/controls",
            "_model_module_version": "1.5.0",
            "value": " 18632/18632 [09:59&lt;00:00, 31.17it/s]",
            "_view_count": null,
            "_view_module_version": "1.5.0",
            "description_tooltip": null,
            "_model_module": "@jupyter-widgets/controls",
            "layout": "IPY_MODEL_f9312066867a4d69b1a0efe515525a0b"
          }
        },
        "e02ee89c4f8242808e58cabf050cf0d2": {
          "model_module": "@jupyter-widgets/controls",
          "model_name": "DescriptionStyleModel",
          "model_module_version": "1.5.0",
          "state": {
            "_view_name": "StyleView",
            "_model_name": "DescriptionStyleModel",
            "description_width": "",
            "_view_module": "@jupyter-widgets/base",
            "_model_module_version": "1.5.0",
            "_view_count": null,
            "_view_module_version": "1.2.0",
            "_model_module": "@jupyter-widgets/controls"
          }
        },
        "5099092854eb48e3bb3173ccc365145b": {
          "model_module": "@jupyter-widgets/base",
          "model_name": "LayoutModel",
          "model_module_version": "1.2.0",
          "state": {
            "_view_name": "LayoutView",
            "grid_template_rows": null,
            "right": null,
            "justify_content": null,
            "_view_module": "@jupyter-widgets/base",
            "overflow": null,
            "_model_module_version": "1.2.0",
            "_view_count": null,
            "flex_flow": null,
            "width": null,
            "min_width": null,
            "border": null,
            "align_items": null,
            "bottom": null,
            "_model_module": "@jupyter-widgets/base",
            "top": null,
            "grid_column": null,
            "overflow_y": null,
            "overflow_x": null,
            "grid_auto_flow": null,
            "grid_area": null,
            "grid_template_columns": null,
            "flex": null,
            "_model_name": "LayoutModel",
            "justify_items": null,
            "grid_row": null,
            "max_height": null,
            "align_content": null,
            "visibility": null,
            "align_self": null,
            "height": null,
            "min_height": null,
            "padding": null,
            "grid_auto_rows": null,
            "grid_gap": null,
            "max_width": null,
            "order": null,
            "_view_module_version": "1.2.0",
            "grid_template_areas": null,
            "object_position": null,
            "object_fit": null,
            "grid_auto_columns": null,
            "margin": null,
            "display": null,
            "left": null
          }
        },
        "b17eee2b0e6948f79646ef6551d8dbd4": {
          "model_module": "@jupyter-widgets/controls",
          "model_name": "ProgressStyleModel",
          "model_module_version": "1.5.0",
          "state": {
            "_view_name": "StyleView",
            "_model_name": "ProgressStyleModel",
            "description_width": "",
            "_view_module": "@jupyter-widgets/base",
            "_model_module_version": "1.5.0",
            "_view_count": null,
            "_view_module_version": "1.2.0",
            "bar_color": null,
            "_model_module": "@jupyter-widgets/controls"
          }
        },
        "bfaaa6b4c44c4d0cbcb717fc2d9ade8e": {
          "model_module": "@jupyter-widgets/base",
          "model_name": "LayoutModel",
          "model_module_version": "1.2.0",
          "state": {
            "_view_name": "LayoutView",
            "grid_template_rows": null,
            "right": null,
            "justify_content": null,
            "_view_module": "@jupyter-widgets/base",
            "overflow": null,
            "_model_module_version": "1.2.0",
            "_view_count": null,
            "flex_flow": null,
            "width": null,
            "min_width": null,
            "border": null,
            "align_items": null,
            "bottom": null,
            "_model_module": "@jupyter-widgets/base",
            "top": null,
            "grid_column": null,
            "overflow_y": null,
            "overflow_x": null,
            "grid_auto_flow": null,
            "grid_area": null,
            "grid_template_columns": null,
            "flex": null,
            "_model_name": "LayoutModel",
            "justify_items": null,
            "grid_row": null,
            "max_height": null,
            "align_content": null,
            "visibility": null,
            "align_self": null,
            "height": null,
            "min_height": null,
            "padding": null,
            "grid_auto_rows": null,
            "grid_gap": null,
            "max_width": null,
            "order": null,
            "_view_module_version": "1.2.0",
            "grid_template_areas": null,
            "object_position": null,
            "object_fit": null,
            "grid_auto_columns": null,
            "margin": null,
            "display": null,
            "left": null
          }
        },
        "a7f2a4b630244379a96a7e584290d983": {
          "model_module": "@jupyter-widgets/controls",
          "model_name": "DescriptionStyleModel",
          "model_module_version": "1.5.0",
          "state": {
            "_view_name": "StyleView",
            "_model_name": "DescriptionStyleModel",
            "description_width": "",
            "_view_module": "@jupyter-widgets/base",
            "_model_module_version": "1.5.0",
            "_view_count": null,
            "_view_module_version": "1.2.0",
            "_model_module": "@jupyter-widgets/controls"
          }
        },
        "f9312066867a4d69b1a0efe515525a0b": {
          "model_module": "@jupyter-widgets/base",
          "model_name": "LayoutModel",
          "model_module_version": "1.2.0",
          "state": {
            "_view_name": "LayoutView",
            "grid_template_rows": null,
            "right": null,
            "justify_content": null,
            "_view_module": "@jupyter-widgets/base",
            "overflow": null,
            "_model_module_version": "1.2.0",
            "_view_count": null,
            "flex_flow": null,
            "width": null,
            "min_width": null,
            "border": null,
            "align_items": null,
            "bottom": null,
            "_model_module": "@jupyter-widgets/base",
            "top": null,
            "grid_column": null,
            "overflow_y": null,
            "overflow_x": null,
            "grid_auto_flow": null,
            "grid_area": null,
            "grid_template_columns": null,
            "flex": null,
            "_model_name": "LayoutModel",
            "justify_items": null,
            "grid_row": null,
            "max_height": null,
            "align_content": null,
            "visibility": null,
            "align_self": null,
            "height": null,
            "min_height": null,
            "padding": null,
            "grid_auto_rows": null,
            "grid_gap": null,
            "max_width": null,
            "order": null,
            "_view_module_version": "1.2.0",
            "grid_template_areas": null,
            "object_position": null,
            "object_fit": null,
            "grid_auto_columns": null,
            "margin": null,
            "display": null,
            "left": null
          }
        },
        "edb42b05ed1b4d759c4881e8e90692da": {
          "model_module": "@jupyter-widgets/controls",
          "model_name": "HBoxModel",
          "model_module_version": "1.5.0",
          "state": {
            "_view_name": "HBoxView",
            "_dom_classes": [],
            "_model_name": "HBoxModel",
            "_view_module": "@jupyter-widgets/controls",
            "_model_module_version": "1.5.0",
            "_view_count": null,
            "_view_module_version": "1.5.0",
            "box_style": "",
            "layout": "IPY_MODEL_e0c3d632d96f41e9971693ecb1fbb9e4",
            "_model_module": "@jupyter-widgets/controls",
            "children": [
              "IPY_MODEL_6366e9a467574406871345b4d30ac9b5",
              "IPY_MODEL_1a105b78978f4d908146bf86eed598a6",
              "IPY_MODEL_809aa0d3b0f547ba9b62a91aed320f87"
            ]
          }
        },
        "e0c3d632d96f41e9971693ecb1fbb9e4": {
          "model_module": "@jupyter-widgets/base",
          "model_name": "LayoutModel",
          "model_module_version": "1.2.0",
          "state": {
            "_view_name": "LayoutView",
            "grid_template_rows": null,
            "right": null,
            "justify_content": null,
            "_view_module": "@jupyter-widgets/base",
            "overflow": null,
            "_model_module_version": "1.2.0",
            "_view_count": null,
            "flex_flow": null,
            "width": null,
            "min_width": null,
            "border": null,
            "align_items": null,
            "bottom": null,
            "_model_module": "@jupyter-widgets/base",
            "top": null,
            "grid_column": null,
            "overflow_y": null,
            "overflow_x": null,
            "grid_auto_flow": null,
            "grid_area": null,
            "grid_template_columns": null,
            "flex": null,
            "_model_name": "LayoutModel",
            "justify_items": null,
            "grid_row": null,
            "max_height": null,
            "align_content": null,
            "visibility": null,
            "align_self": null,
            "height": null,
            "min_height": null,
            "padding": null,
            "grid_auto_rows": null,
            "grid_gap": null,
            "max_width": null,
            "order": null,
            "_view_module_version": "1.2.0",
            "grid_template_areas": null,
            "object_position": null,
            "object_fit": null,
            "grid_auto_columns": null,
            "margin": null,
            "display": null,
            "left": null
          }
        },
        "6366e9a467574406871345b4d30ac9b5": {
          "model_module": "@jupyter-widgets/controls",
          "model_name": "HTMLModel",
          "model_module_version": "1.5.0",
          "state": {
            "_view_name": "HTMLView",
            "style": "IPY_MODEL_1a478d4557c340919f0f6010a5607c9b",
            "_dom_classes": [],
            "description": "",
            "_model_name": "HTMLModel",
            "placeholder": "​",
            "_view_module": "@jupyter-widgets/controls",
            "_model_module_version": "1.5.0",
            "value": "100%",
            "_view_count": null,
            "_view_module_version": "1.5.0",
            "description_tooltip": null,
            "_model_module": "@jupyter-widgets/controls",
            "layout": "IPY_MODEL_206dbdb586f14e5f9211cacaa41b1fd4"
          }
        },
        "1a105b78978f4d908146bf86eed598a6": {
          "model_module": "@jupyter-widgets/controls",
          "model_name": "FloatProgressModel",
          "model_module_version": "1.5.0",
          "state": {
            "_view_name": "ProgressView",
            "style": "IPY_MODEL_9fdf2965c0d342c2bb0361b1f5c326b8",
            "_dom_classes": [],
            "description": "",
            "_model_name": "FloatProgressModel",
            "bar_style": "success",
            "max": 18632,
            "_view_module": "@jupyter-widgets/controls",
            "_model_module_version": "1.5.0",
            "value": 18632,
            "_view_count": null,
            "_view_module_version": "1.5.0",
            "orientation": "horizontal",
            "min": 0,
            "description_tooltip": null,
            "_model_module": "@jupyter-widgets/controls",
            "layout": "IPY_MODEL_6d47dd21ee114cb7b025267d7eca7ffa"
          }
        },
        "809aa0d3b0f547ba9b62a91aed320f87": {
          "model_module": "@jupyter-widgets/controls",
          "model_name": "HTMLModel",
          "model_module_version": "1.5.0",
          "state": {
            "_view_name": "HTMLView",
            "style": "IPY_MODEL_428f58fa032a4599b8058f530835214e",
            "_dom_classes": [],
            "description": "",
            "_model_name": "HTMLModel",
            "placeholder": "​",
            "_view_module": "@jupyter-widgets/controls",
            "_model_module_version": "1.5.0",
            "value": " 18632/18632 [03:41&lt;00:00, 85.28it/s]",
            "_view_count": null,
            "_view_module_version": "1.5.0",
            "description_tooltip": null,
            "_model_module": "@jupyter-widgets/controls",
            "layout": "IPY_MODEL_28da2fe99acf4f81a843a16e6d029f32"
          }
        },
        "1a478d4557c340919f0f6010a5607c9b": {
          "model_module": "@jupyter-widgets/controls",
          "model_name": "DescriptionStyleModel",
          "model_module_version": "1.5.0",
          "state": {
            "_view_name": "StyleView",
            "_model_name": "DescriptionStyleModel",
            "description_width": "",
            "_view_module": "@jupyter-widgets/base",
            "_model_module_version": "1.5.0",
            "_view_count": null,
            "_view_module_version": "1.2.0",
            "_model_module": "@jupyter-widgets/controls"
          }
        },
        "206dbdb586f14e5f9211cacaa41b1fd4": {
          "model_module": "@jupyter-widgets/base",
          "model_name": "LayoutModel",
          "model_module_version": "1.2.0",
          "state": {
            "_view_name": "LayoutView",
            "grid_template_rows": null,
            "right": null,
            "justify_content": null,
            "_view_module": "@jupyter-widgets/base",
            "overflow": null,
            "_model_module_version": "1.2.0",
            "_view_count": null,
            "flex_flow": null,
            "width": null,
            "min_width": null,
            "border": null,
            "align_items": null,
            "bottom": null,
            "_model_module": "@jupyter-widgets/base",
            "top": null,
            "grid_column": null,
            "overflow_y": null,
            "overflow_x": null,
            "grid_auto_flow": null,
            "grid_area": null,
            "grid_template_columns": null,
            "flex": null,
            "_model_name": "LayoutModel",
            "justify_items": null,
            "grid_row": null,
            "max_height": null,
            "align_content": null,
            "visibility": null,
            "align_self": null,
            "height": null,
            "min_height": null,
            "padding": null,
            "grid_auto_rows": null,
            "grid_gap": null,
            "max_width": null,
            "order": null,
            "_view_module_version": "1.2.0",
            "grid_template_areas": null,
            "object_position": null,
            "object_fit": null,
            "grid_auto_columns": null,
            "margin": null,
            "display": null,
            "left": null
          }
        },
        "9fdf2965c0d342c2bb0361b1f5c326b8": {
          "model_module": "@jupyter-widgets/controls",
          "model_name": "ProgressStyleModel",
          "model_module_version": "1.5.0",
          "state": {
            "_view_name": "StyleView",
            "_model_name": "ProgressStyleModel",
            "description_width": "",
            "_view_module": "@jupyter-widgets/base",
            "_model_module_version": "1.5.0",
            "_view_count": null,
            "_view_module_version": "1.2.0",
            "bar_color": null,
            "_model_module": "@jupyter-widgets/controls"
          }
        },
        "6d47dd21ee114cb7b025267d7eca7ffa": {
          "model_module": "@jupyter-widgets/base",
          "model_name": "LayoutModel",
          "model_module_version": "1.2.0",
          "state": {
            "_view_name": "LayoutView",
            "grid_template_rows": null,
            "right": null,
            "justify_content": null,
            "_view_module": "@jupyter-widgets/base",
            "overflow": null,
            "_model_module_version": "1.2.0",
            "_view_count": null,
            "flex_flow": null,
            "width": null,
            "min_width": null,
            "border": null,
            "align_items": null,
            "bottom": null,
            "_model_module": "@jupyter-widgets/base",
            "top": null,
            "grid_column": null,
            "overflow_y": null,
            "overflow_x": null,
            "grid_auto_flow": null,
            "grid_area": null,
            "grid_template_columns": null,
            "flex": null,
            "_model_name": "LayoutModel",
            "justify_items": null,
            "grid_row": null,
            "max_height": null,
            "align_content": null,
            "visibility": null,
            "align_self": null,
            "height": null,
            "min_height": null,
            "padding": null,
            "grid_auto_rows": null,
            "grid_gap": null,
            "max_width": null,
            "order": null,
            "_view_module_version": "1.2.0",
            "grid_template_areas": null,
            "object_position": null,
            "object_fit": null,
            "grid_auto_columns": null,
            "margin": null,
            "display": null,
            "left": null
          }
        },
        "428f58fa032a4599b8058f530835214e": {
          "model_module": "@jupyter-widgets/controls",
          "model_name": "DescriptionStyleModel",
          "model_module_version": "1.5.0",
          "state": {
            "_view_name": "StyleView",
            "_model_name": "DescriptionStyleModel",
            "description_width": "",
            "_view_module": "@jupyter-widgets/base",
            "_model_module_version": "1.5.0",
            "_view_count": null,
            "_view_module_version": "1.2.0",
            "_model_module": "@jupyter-widgets/controls"
          }
        },
        "28da2fe99acf4f81a843a16e6d029f32": {
          "model_module": "@jupyter-widgets/base",
          "model_name": "LayoutModel",
          "model_module_version": "1.2.0",
          "state": {
            "_view_name": "LayoutView",
            "grid_template_rows": null,
            "right": null,
            "justify_content": null,
            "_view_module": "@jupyter-widgets/base",
            "overflow": null,
            "_model_module_version": "1.2.0",
            "_view_count": null,
            "flex_flow": null,
            "width": null,
            "min_width": null,
            "border": null,
            "align_items": null,
            "bottom": null,
            "_model_module": "@jupyter-widgets/base",
            "top": null,
            "grid_column": null,
            "overflow_y": null,
            "overflow_x": null,
            "grid_auto_flow": null,
            "grid_area": null,
            "grid_template_columns": null,
            "flex": null,
            "_model_name": "LayoutModel",
            "justify_items": null,
            "grid_row": null,
            "max_height": null,
            "align_content": null,
            "visibility": null,
            "align_self": null,
            "height": null,
            "min_height": null,
            "padding": null,
            "grid_auto_rows": null,
            "grid_gap": null,
            "max_width": null,
            "order": null,
            "_view_module_version": "1.2.0",
            "grid_template_areas": null,
            "object_position": null,
            "object_fit": null,
            "grid_auto_columns": null,
            "margin": null,
            "display": null,
            "left": null
          }
        }
      }
    }
  },
  "cells": [
    {
      "cell_type": "markdown",
      "metadata": {
        "id": "view-in-github",
        "colab_type": "text"
      },
      "source": [
        "<a href=\"https://colab.research.google.com/github/esuda/mineiracao_dados_complexos/blob/master/Trabalho_Final_Draft_Eric.ipynb\" target=\"_parent\"><img src=\"https://colab.research.google.com/assets/colab-badge.svg\" alt=\"Open In Colab\"/></a>"
      ]
    },
    {
      "cell_type": "markdown",
      "metadata": {
        "id": "FfUHwRph0KNd"
      },
      "source": [
        "# ***Projeto Final - Mineração de Dados Complexos***"
      ]
    },
    {
      "cell_type": "markdown",
      "metadata": {
        "id": "cvE0BuhQyBhn"
      },
      "source": [
        "# 0) Setup"
      ]
    },
    {
      "cell_type": "code",
      "metadata": {
        "colab": {
          "base_uri": "https://localhost:8080/"
        },
        "id": "6aKlGZGXyA00",
        "outputId": "41b28e3e-8603-4423-da3b-3cfd77ee8480"
      },
      "source": [
        "%tensorflow_version 2.x\n",
        "import tensorflow as tf\n",
        "device_name = tf.test.gpu_device_name()\n",
        "if device_name != '/device:GPU:0':\n",
        "  raise SystemError('GPU device not found')\n",
        "print('Found GPU at: {}'.format(device_name))"
      ],
      "execution_count": 1,
      "outputs": [
        {
          "output_type": "stream",
          "name": "stdout",
          "text": [
            "Found GPU at: /device:GPU:0\n"
          ]
        }
      ]
    },
    {
      "cell_type": "code",
      "metadata": {
        "colab": {
          "base_uri": "https://localhost:8080/"
        },
        "id": "3yrThq30yzts",
        "outputId": "b692d1c1-69ab-4c33-aa4e-e8bc309f9d59"
      },
      "source": [
        "%tensorflow_version 2.x\n",
        "import tensorflow as tf\n",
        "import timeit\n",
        "\n",
        "device_name = tf.test.gpu_device_name()\n",
        "if device_name != '/device:GPU:0':\n",
        "  print(\n",
        "      '\\n\\nThis error most likely means that this notebook is not '\n",
        "      'configured to use a GPU.  Change this in Notebook Settings via the '\n",
        "      'command palette (cmd/ctrl-shift-P) or the Edit menu.\\n\\n')\n",
        "  raise SystemError('GPU device not found')\n",
        "\n",
        "def cpu():\n",
        "  with tf.device('/cpu:0'):\n",
        "    random_image_cpu = tf.random.normal((100, 100, 100, 3))\n",
        "    net_cpu = tf.keras.layers.Conv2D(32, 7)(random_image_cpu)\n",
        "    return tf.math.reduce_sum(net_cpu)\n",
        "\n",
        "def gpu():\n",
        "  with tf.device('/device:GPU:0'):\n",
        "    random_image_gpu = tf.random.normal((100, 100, 100, 3))\n",
        "    net_gpu = tf.keras.layers.Conv2D(32, 7)(random_image_gpu)\n",
        "    return tf.math.reduce_sum(net_gpu)\n",
        "  \n",
        "# We run each op once to warm up; see: https://stackoverflow.com/a/45067900\n",
        "cpu()\n",
        "gpu()\n",
        "\n",
        "# Run the op several times.\n",
        "print('Time (s) to convolve 32x7x7x3 filter over random 100x100x100x3 images '\n",
        "      '(batch x height x width x channel). Sum of ten runs.')\n",
        "print('CPU (s):')\n",
        "cpu_time = timeit.timeit('cpu()', number=10, setup=\"from __main__ import cpu\")\n",
        "print(cpu_time)\n",
        "print('GPU (s):')\n",
        "gpu_time = timeit.timeit('gpu()', number=10, setup=\"from __main__ import gpu\")\n",
        "print(gpu_time)\n",
        "print('GPU speedup over CPU: {}x'.format(int(cpu_time/gpu_time)))"
      ],
      "execution_count": 2,
      "outputs": [
        {
          "output_type": "stream",
          "name": "stdout",
          "text": [
            "Time (s) to convolve 32x7x7x3 filter over random 100x100x100x3 images (batch x height x width x channel). Sum of ten runs.\n",
            "CPU (s):\n",
            "1.475606071002403\n",
            "GPU (s):\n",
            "0.03710129999672063\n",
            "GPU speedup over CPU: 39x\n"
          ]
        }
      ]
    },
    {
      "cell_type": "code",
      "metadata": {
        "id": "9KYmA2Npjl0b",
        "colab": {
          "base_uri": "https://localhost:8080/"
        },
        "outputId": "11f2d930-1a21-4b89-c3fc-6f47053908c6"
      },
      "source": [
        "import gc\n",
        "import re\n",
        "\n",
        "import numpy as np\n",
        "import pandas as pd\n",
        "%matplotlib inline\n",
        "import seaborn as sns\n",
        "import matplotlib.pyplot as plt\n",
        "import cv2\n",
        "import os\n",
        "import warnings\n",
        "warnings.filterwarnings('ignore')\n",
        "import random\n",
        "from PIL import Image\n",
        "from matplotlib import image\n",
        "\n",
        "import tensorflow as tf\n",
        "!pip install tensorflow_addons\n",
        "import tensorflow_addons as tfa\n",
        "from tensorflow.keras.preprocessing.image import ImageDataGenerator\n",
        "from tensorflow.keras.layers import Dense,Activation,Flatten, Conv2D, MaxPooling2D\n",
        "from tensorflow.keras.models import Sequential\n",
        "from tensorflow.keras.callbacks import ModelCheckpoint,EarlyStopping\n",
        "from tensorflow.python.keras import backend as K\n",
        "from tensorflow.python.keras.metrics import Metric\n",
        "from tensorflow.python.keras.utils import metrics_utils\n",
        "from tensorflow.python.ops import init_ops\n",
        "from tensorflow.python.ops import math_ops\n",
        "from tensorflow.python.keras.utils.generic_utils import to_list\n",
        "from tensorflow.keras.metrics import Recall, SpecificityAtSensitivity\n",
        "from tensorflow.python.ops import math_ops\n",
        "from tensorflow.keras.models import Model, Sequential\n",
        "from tensorflow.keras.layers import (\n",
        "    Input, Conv2D, Dense, Flatten, Dropout,\n",
        "    GlobalMaxPooling2D, MaxPooling2D, BatchNormalization, MaxPool2D\n",
        ")\n",
        "from tensorflow.keras import regularizers\n",
        "from tensorflow.keras.callbacks import EarlyStopping, ModelCheckpoint,ReduceLROnPlateau\n",
        "from tensorflow.keras.utils import plot_model\n",
        "from keras.layers.merge import concatenate\n",
        "\n",
        "import seaborn as sns\n",
        "from tqdm import tqdm\n",
        "import matplotlib.cm as cm\n",
        "from sklearn import metrics\n",
        "import matplotlib.pyplot as plt\n",
        "from sklearn.utils import shuffle\n",
        "from sklearn.model_selection import train_test_split\n",
        "from sklearn.metrics import confusion_matrix as cmx\n",
        "\n",
        "\n",
        "tqdm.pandas()\n",
        "import plotly.express as px\n",
        "import plotly.graph_objects as go\n",
        "import plotly.figure_factory as ff\n",
        "from plotly.subplots import make_subplots\n",
        "\n",
        "np.random.seed(0)\n",
        "tf.random.set_seed(0)\n",
        "\n",
        "import warnings\n",
        "warnings.filterwarnings(\"ignore\")\n",
        "\n",
        "import os"
      ],
      "execution_count": 3,
      "outputs": [
        {
          "output_type": "stream",
          "name": "stdout",
          "text": [
            "Requirement already satisfied: tensorflow_addons in /usr/local/lib/python3.7/dist-packages (0.15.0)\n",
            "Requirement already satisfied: typeguard>=2.7 in /usr/local/lib/python3.7/dist-packages (from tensorflow_addons) (2.7.1)\n"
          ]
        }
      ]
    },
    {
      "cell_type": "markdown",
      "metadata": {
        "id": "mfyEqClzRj0V"
      },
      "source": [
        "# 1) Importando bases do kaggle"
      ]
    },
    {
      "cell_type": "code",
      "metadata": {
        "id": "tCqfrAnmxN0m",
        "colab": {
          "resources": {
            "http://localhost:8080/nbextensions/google.colab/files.js": {
              "data": "Ly8gQ29weXJpZ2h0IDIwMTcgR29vZ2xlIExMQwovLwovLyBMaWNlbnNlZCB1bmRlciB0aGUgQXBhY2hlIExpY2Vuc2UsIFZlcnNpb24gMi4wICh0aGUgIkxpY2Vuc2UiKTsKLy8geW91IG1heSBub3QgdXNlIHRoaXMgZmlsZSBleGNlcHQgaW4gY29tcGxpYW5jZSB3aXRoIHRoZSBMaWNlbnNlLgovLyBZb3UgbWF5IG9idGFpbiBhIGNvcHkgb2YgdGhlIExpY2Vuc2UgYXQKLy8KLy8gICAgICBodHRwOi8vd3d3LmFwYWNoZS5vcmcvbGljZW5zZXMvTElDRU5TRS0yLjAKLy8KLy8gVW5sZXNzIHJlcXVpcmVkIGJ5IGFwcGxpY2FibGUgbGF3IG9yIGFncmVlZCB0byBpbiB3cml0aW5nLCBzb2Z0d2FyZQovLyBkaXN0cmlidXRlZCB1bmRlciB0aGUgTGljZW5zZSBpcyBkaXN0cmlidXRlZCBvbiBhbiAiQVMgSVMiIEJBU0lTLAovLyBXSVRIT1VUIFdBUlJBTlRJRVMgT1IgQ09ORElUSU9OUyBPRiBBTlkgS0lORCwgZWl0aGVyIGV4cHJlc3Mgb3IgaW1wbGllZC4KLy8gU2VlIHRoZSBMaWNlbnNlIGZvciB0aGUgc3BlY2lmaWMgbGFuZ3VhZ2UgZ292ZXJuaW5nIHBlcm1pc3Npb25zIGFuZAovLyBsaW1pdGF0aW9ucyB1bmRlciB0aGUgTGljZW5zZS4KCi8qKgogKiBAZmlsZW92ZXJ2aWV3IEhlbHBlcnMgZm9yIGdvb2dsZS5jb2xhYiBQeXRob24gbW9kdWxlLgogKi8KKGZ1bmN0aW9uKHNjb3BlKSB7CmZ1bmN0aW9uIHNwYW4odGV4dCwgc3R5bGVBdHRyaWJ1dGVzID0ge30pIHsKICBjb25zdCBlbGVtZW50ID0gZG9jdW1lbnQuY3JlYXRlRWxlbWVudCgnc3BhbicpOwogIGVsZW1lbnQudGV4dENvbnRlbnQgPSB0ZXh0OwogIGZvciAoY29uc3Qga2V5IG9mIE9iamVjdC5rZXlzKHN0eWxlQXR0cmlidXRlcykpIHsKICAgIGVsZW1lbnQuc3R5bGVba2V5XSA9IHN0eWxlQXR0cmlidXRlc1trZXldOwogIH0KICByZXR1cm4gZWxlbWVudDsKfQoKLy8gTWF4IG51bWJlciBvZiBieXRlcyB3aGljaCB3aWxsIGJlIHVwbG9hZGVkIGF0IGEgdGltZS4KY29uc3QgTUFYX1BBWUxPQURfU0laRSA9IDEwMCAqIDEwMjQ7CgpmdW5jdGlvbiBfdXBsb2FkRmlsZXMoaW5wdXRJZCwgb3V0cHV0SWQpIHsKICBjb25zdCBzdGVwcyA9IHVwbG9hZEZpbGVzU3RlcChpbnB1dElkLCBvdXRwdXRJZCk7CiAgY29uc3Qgb3V0cHV0RWxlbWVudCA9IGRvY3VtZW50LmdldEVsZW1lbnRCeUlkKG91dHB1dElkKTsKICAvLyBDYWNoZSBzdGVwcyBvbiB0aGUgb3V0cHV0RWxlbWVudCB0byBtYWtlIGl0IGF2YWlsYWJsZSBmb3IgdGhlIG5leHQgY2FsbAogIC8vIHRvIHVwbG9hZEZpbGVzQ29udGludWUgZnJvbSBQeXRob24uCiAgb3V0cHV0RWxlbWVudC5zdGVwcyA9IHN0ZXBzOwoKICByZXR1cm4gX3VwbG9hZEZpbGVzQ29udGludWUob3V0cHV0SWQpOwp9CgovLyBUaGlzIGlzIHJvdWdobHkgYW4gYXN5bmMgZ2VuZXJhdG9yIChub3Qgc3VwcG9ydGVkIGluIHRoZSBicm93c2VyIHlldCksCi8vIHdoZXJlIHRoZXJlIGFyZSBtdWx0aXBsZSBhc3luY2hyb25vdXMgc3RlcHMgYW5kIHRoZSBQeXRob24gc2lkZSBpcyBnb2luZwovLyB0byBwb2xsIGZvciBjb21wbGV0aW9uIG9mIGVhY2ggc3RlcC4KLy8gVGhpcyB1c2VzIGEgUHJvbWlzZSB0byBibG9jayB0aGUgcHl0aG9uIHNpZGUgb24gY29tcGxldGlvbiBvZiBlYWNoIHN0ZXAsCi8vIHRoZW4gcGFzc2VzIHRoZSByZXN1bHQgb2YgdGhlIHByZXZpb3VzIHN0ZXAgYXMgdGhlIGlucHV0IHRvIHRoZSBuZXh0IHN0ZXAuCmZ1bmN0aW9uIF91cGxvYWRGaWxlc0NvbnRpbnVlKG91dHB1dElkKSB7CiAgY29uc3Qgb3V0cHV0RWxlbWVudCA9IGRvY3VtZW50LmdldEVsZW1lbnRCeUlkKG91dHB1dElkKTsKICBjb25zdCBzdGVwcyA9IG91dHB1dEVsZW1lbnQuc3RlcHM7CgogIGNvbnN0IG5leHQgPSBzdGVwcy5uZXh0KG91dHB1dEVsZW1lbnQubGFzdFByb21pc2VWYWx1ZSk7CiAgcmV0dXJuIFByb21pc2UucmVzb2x2ZShuZXh0LnZhbHVlLnByb21pc2UpLnRoZW4oKHZhbHVlKSA9PiB7CiAgICAvLyBDYWNoZSB0aGUgbGFzdCBwcm9taXNlIHZhbHVlIHRvIG1ha2UgaXQgYXZhaWxhYmxlIHRvIHRoZSBuZXh0CiAgICAvLyBzdGVwIG9mIHRoZSBnZW5lcmF0b3IuCiAgICBvdXRwdXRFbGVtZW50Lmxhc3RQcm9taXNlVmFsdWUgPSB2YWx1ZTsKICAgIHJldHVybiBuZXh0LnZhbHVlLnJlc3BvbnNlOwogIH0pOwp9CgovKioKICogR2VuZXJhdG9yIGZ1bmN0aW9uIHdoaWNoIGlzIGNhbGxlZCBiZXR3ZWVuIGVhY2ggYXN5bmMgc3RlcCBvZiB0aGUgdXBsb2FkCiAqIHByb2Nlc3MuCiAqIEBwYXJhbSB7c3RyaW5nfSBpbnB1dElkIEVsZW1lbnQgSUQgb2YgdGhlIGlucHV0IGZpbGUgcGlja2VyIGVsZW1lbnQuCiAqIEBwYXJhbSB7c3RyaW5nfSBvdXRwdXRJZCBFbGVtZW50IElEIG9mIHRoZSBvdXRwdXQgZGlzcGxheS4KICogQHJldHVybiB7IUl0ZXJhYmxlPCFPYmplY3Q+fSBJdGVyYWJsZSBvZiBuZXh0IHN0ZXBzLgogKi8KZnVuY3Rpb24qIHVwbG9hZEZpbGVzU3RlcChpbnB1dElkLCBvdXRwdXRJZCkgewogIGNvbnN0IGlucHV0RWxlbWVudCA9IGRvY3VtZW50LmdldEVsZW1lbnRCeUlkKGlucHV0SWQpOwogIGlucHV0RWxlbWVudC5kaXNhYmxlZCA9IGZhbHNlOwoKICBjb25zdCBvdXRwdXRFbGVtZW50ID0gZG9jdW1lbnQuZ2V0RWxlbWVudEJ5SWQob3V0cHV0SWQpOwogIG91dHB1dEVsZW1lbnQuaW5uZXJIVE1MID0gJyc7CgogIGNvbnN0IHBpY2tlZFByb21pc2UgPSBuZXcgUHJvbWlzZSgocmVzb2x2ZSkgPT4gewogICAgaW5wdXRFbGVtZW50LmFkZEV2ZW50TGlzdGVuZXIoJ2NoYW5nZScsIChlKSA9PiB7CiAgICAgIHJlc29sdmUoZS50YXJnZXQuZmlsZXMpOwogICAgfSk7CiAgfSk7CgogIGNvbnN0IGNhbmNlbCA9IGRvY3VtZW50LmNyZWF0ZUVsZW1lbnQoJ2J1dHRvbicpOwogIGlucHV0RWxlbWVudC5wYXJlbnRFbGVtZW50LmFwcGVuZENoaWxkKGNhbmNlbCk7CiAgY2FuY2VsLnRleHRDb250ZW50ID0gJ0NhbmNlbCB1cGxvYWQnOwogIGNvbnN0IGNhbmNlbFByb21pc2UgPSBuZXcgUHJvbWlzZSgocmVzb2x2ZSkgPT4gewogICAgY2FuY2VsLm9uY2xpY2sgPSAoKSA9PiB7CiAgICAgIHJlc29sdmUobnVsbCk7CiAgICB9OwogIH0pOwoKICAvLyBXYWl0IGZvciB0aGUgdXNlciB0byBwaWNrIHRoZSBmaWxlcy4KICBjb25zdCBmaWxlcyA9IHlpZWxkIHsKICAgIHByb21pc2U6IFByb21pc2UucmFjZShbcGlja2VkUHJvbWlzZSwgY2FuY2VsUHJvbWlzZV0pLAogICAgcmVzcG9uc2U6IHsKICAgICAgYWN0aW9uOiAnc3RhcnRpbmcnLAogICAgfQogIH07CgogIGNhbmNlbC5yZW1vdmUoKTsKCiAgLy8gRGlzYWJsZSB0aGUgaW5wdXQgZWxlbWVudCBzaW5jZSBmdXJ0aGVyIHBpY2tzIGFyZSBub3QgYWxsb3dlZC4KICBpbnB1dEVsZW1lbnQuZGlzYWJsZWQgPSB0cnVlOwoKICBpZiAoIWZpbGVzKSB7CiAgICByZXR1cm4gewogICAgICByZXNwb25zZTogewogICAgICAgIGFjdGlvbjogJ2NvbXBsZXRlJywKICAgICAgfQogICAgfTsKICB9CgogIGZvciAoY29uc3QgZmlsZSBvZiBmaWxlcykgewogICAgY29uc3QgbGkgPSBkb2N1bWVudC5jcmVhdGVFbGVtZW50KCdsaScpOwogICAgbGkuYXBwZW5kKHNwYW4oZmlsZS5uYW1lLCB7Zm9udFdlaWdodDogJ2JvbGQnfSkpOwogICAgbGkuYXBwZW5kKHNwYW4oCiAgICAgICAgYCgke2ZpbGUudHlwZSB8fCAnbi9hJ30pIC0gJHtmaWxlLnNpemV9IGJ5dGVzLCBgICsKICAgICAgICBgbGFzdCBtb2RpZmllZDogJHsKICAgICAgICAgICAgZmlsZS5sYXN0TW9kaWZpZWREYXRlID8gZmlsZS5sYXN0TW9kaWZpZWREYXRlLnRvTG9jYWxlRGF0ZVN0cmluZygpIDoKICAgICAgICAgICAgICAgICAgICAgICAgICAgICAgICAgICAgJ24vYSd9IC0gYCkpOwogICAgY29uc3QgcGVyY2VudCA9IHNwYW4oJzAlIGRvbmUnKTsKICAgIGxpLmFwcGVuZENoaWxkKHBlcmNlbnQpOwoKICAgIG91dHB1dEVsZW1lbnQuYXBwZW5kQ2hpbGQobGkpOwoKICAgIGNvbnN0IGZpbGVEYXRhUHJvbWlzZSA9IG5ldyBQcm9taXNlKChyZXNvbHZlKSA9PiB7CiAgICAgIGNvbnN0IHJlYWRlciA9IG5ldyBGaWxlUmVhZGVyKCk7CiAgICAgIHJlYWRlci5vbmxvYWQgPSAoZSkgPT4gewogICAgICAgIHJlc29sdmUoZS50YXJnZXQucmVzdWx0KTsKICAgICAgfTsKICAgICAgcmVhZGVyLnJlYWRBc0FycmF5QnVmZmVyKGZpbGUpOwogICAgfSk7CiAgICAvLyBXYWl0IGZvciB0aGUgZGF0YSB0byBiZSByZWFkeS4KICAgIGxldCBmaWxlRGF0YSA9IHlpZWxkIHsKICAgICAgcHJvbWlzZTogZmlsZURhdGFQcm9taXNlLAogICAgICByZXNwb25zZTogewogICAgICAgIGFjdGlvbjogJ2NvbnRpbnVlJywKICAgICAgfQogICAgfTsKCiAgICAvLyBVc2UgYSBjaHVua2VkIHNlbmRpbmcgdG8gYXZvaWQgbWVzc2FnZSBzaXplIGxpbWl0cy4gU2VlIGIvNjIxMTU2NjAuCiAgICBsZXQgcG9zaXRpb24gPSAwOwogICAgZG8gewogICAgICBjb25zdCBsZW5ndGggPSBNYXRoLm1pbihmaWxlRGF0YS5ieXRlTGVuZ3RoIC0gcG9zaXRpb24sIE1BWF9QQVlMT0FEX1NJWkUpOwogICAgICBjb25zdCBjaHVuayA9IG5ldyBVaW50OEFycmF5KGZpbGVEYXRhLCBwb3NpdGlvbiwgbGVuZ3RoKTsKICAgICAgcG9zaXRpb24gKz0gbGVuZ3RoOwoKICAgICAgY29uc3QgYmFzZTY0ID0gYnRvYShTdHJpbmcuZnJvbUNoYXJDb2RlLmFwcGx5KG51bGwsIGNodW5rKSk7CiAgICAgIHlpZWxkIHsKICAgICAgICByZXNwb25zZTogewogICAgICAgICAgYWN0aW9uOiAnYXBwZW5kJywKICAgICAgICAgIGZpbGU6IGZpbGUubmFtZSwKICAgICAgICAgIGRhdGE6IGJhc2U2NCwKICAgICAgICB9LAogICAgICB9OwoKICAgICAgbGV0IHBlcmNlbnREb25lID0gZmlsZURhdGEuYnl0ZUxlbmd0aCA9PT0gMCA/CiAgICAgICAgICAxMDAgOgogICAgICAgICAgTWF0aC5yb3VuZCgocG9zaXRpb24gLyBmaWxlRGF0YS5ieXRlTGVuZ3RoKSAqIDEwMCk7CiAgICAgIHBlcmNlbnQudGV4dENvbnRlbnQgPSBgJHtwZXJjZW50RG9uZX0lIGRvbmVgOwoKICAgIH0gd2hpbGUgKHBvc2l0aW9uIDwgZmlsZURhdGEuYnl0ZUxlbmd0aCk7CiAgfQoKICAvLyBBbGwgZG9uZS4KICB5aWVsZCB7CiAgICByZXNwb25zZTogewogICAgICBhY3Rpb246ICdjb21wbGV0ZScsCiAgICB9CiAgfTsKfQoKc2NvcGUuZ29vZ2xlID0gc2NvcGUuZ29vZ2xlIHx8IHt9OwpzY29wZS5nb29nbGUuY29sYWIgPSBzY29wZS5nb29nbGUuY29sYWIgfHwge307CnNjb3BlLmdvb2dsZS5jb2xhYi5fZmlsZXMgPSB7CiAgX3VwbG9hZEZpbGVzLAogIF91cGxvYWRGaWxlc0NvbnRpbnVlLAp9Owp9KShzZWxmKTsK",
              "ok": true,
              "headers": [
                [
                  "content-type",
                  "application/javascript"
                ]
              ],
              "status": 200,
              "status_text": "OK"
            }
          },
          "base_uri": "https://localhost:8080/",
          "height": 58
        },
        "outputId": "e36ead49-4671-44e5-c8ff-c01c469e5439"
      },
      "source": [
        "from google.colab import files\n",
        "files.upload()"
      ],
      "execution_count": 4,
      "outputs": [
        {
          "output_type": "display_data",
          "data": {
            "text/html": [
              "\n",
              "     <input type=\"file\" id=\"files-4f1c68f6-006b-4bd8-a037-ce7b33c3b100\" name=\"files[]\" multiple disabled\n",
              "        style=\"border:none\" />\n",
              "     <output id=\"result-4f1c68f6-006b-4bd8-a037-ce7b33c3b100\">\n",
              "      Upload widget is only available when the cell has been executed in the\n",
              "      current browser session. Please rerun this cell to enable.\n",
              "      </output>\n",
              "      <script src=\"/nbextensions/google.colab/files.js\"></script> "
            ],
            "text/plain": [
              "<IPython.core.display.HTML object>"
            ]
          },
          "metadata": {}
        },
        {
          "output_type": "execute_result",
          "data": {
            "text/plain": [
              "{}"
            ]
          },
          "metadata": {},
          "execution_count": 4
        }
      ]
    },
    {
      "cell_type": "code",
      "metadata": {
        "id": "sfQlpl4-xW4z",
        "colab": {
          "base_uri": "https://localhost:8080/"
        },
        "outputId": "b9a5e69b-a748-4e6b-e827-7de0c797d45c"
      },
      "source": [
        "! pip install kaggle==1.5.6\n",
        "! mkdir ~/.kaggle\n",
        "! cp kaggle.json ~/.kaggle/\n",
        "! chmod 600 ~/.kaggle/kaggle.json"
      ],
      "execution_count": 5,
      "outputs": [
        {
          "output_type": "stream",
          "name": "stdout",
          "text": [
            "Requirement already satisfied: kaggle==1.5.6 in /usr/local/lib/python3.7/dist-packages (1.5.6)\n",
            "Requirement already satisfied: urllib3<1.25,>=1.21.1 in /usr/local/lib/python3.7/dist-packages (from kaggle==1.5.6) (1.24.3)\n",
            "Requirement already satisfied: six>=1.10 in /usr/local/lib/python3.7/dist-packages (from kaggle==1.5.6) (1.15.0)\n",
            "Requirement already satisfied: python-dateutil in /usr/local/lib/python3.7/dist-packages (from kaggle==1.5.6) (2.8.2)\n",
            "Requirement already satisfied: python-slugify in /usr/local/lib/python3.7/dist-packages (from kaggle==1.5.6) (5.0.2)\n",
            "Requirement already satisfied: requests in /usr/local/lib/python3.7/dist-packages (from kaggle==1.5.6) (2.23.0)\n",
            "Requirement already satisfied: certifi in /usr/local/lib/python3.7/dist-packages (from kaggle==1.5.6) (2021.10.8)\n",
            "Requirement already satisfied: tqdm in /usr/local/lib/python3.7/dist-packages (from kaggle==1.5.6) (4.62.3)\n",
            "Requirement already satisfied: text-unidecode>=1.3 in /usr/local/lib/python3.7/dist-packages (from python-slugify->kaggle==1.5.6) (1.3)\n",
            "Requirement already satisfied: idna<3,>=2.5 in /usr/local/lib/python3.7/dist-packages (from requests->kaggle==1.5.6) (2.10)\n",
            "Requirement already satisfied: chardet<4,>=3.0.2 in /usr/local/lib/python3.7/dist-packages (from requests->kaggle==1.5.6) (3.0.4)\n",
            "mkdir: cannot create directory ‘/root/.kaggle’: File exists\n"
          ]
        }
      ]
    },
    {
      "cell_type": "code",
      "metadata": {
        "id": "i7tEOUeBxa3E",
        "colab": {
          "base_uri": "https://localhost:8080/"
        },
        "outputId": "16922b80-1c29-45c2-9245-123d05d5c714"
      },
      "source": [
        "! mkdir projeto_final"
      ],
      "execution_count": 6,
      "outputs": [
        {
          "output_type": "stream",
          "name": "stdout",
          "text": [
            "mkdir: cannot create directory ‘projeto_final’: File exists\n"
          ]
        }
      ]
    },
    {
      "cell_type": "code",
      "metadata": {
        "id": "FO2rsXqPx0SG",
        "colab": {
          "base_uri": "https://localhost:8080/"
        },
        "outputId": "81968e92-78c5-465b-dc59-3983d8776816"
      },
      "source": [
        "! kaggle competitions download -c plant-pathology-2021-fgvc8 -p \"projeto_final/\""
      ],
      "execution_count": 8,
      "outputs": [
        {
          "output_type": "stream",
          "name": "stdout",
          "text": [
            "plant-pathology-2021-fgvc8.zip: Skipping, found more recently modified local copy (use --force to force download)\n"
          ]
        }
      ]
    },
    {
      "cell_type": "code",
      "metadata": {
        "id": "BAcIe8sD237q",
        "colab": {
          "base_uri": "https://localhost:8080/"
        },
        "outputId": "3b872e0c-5e92-4924-dd43-3eb7ef02ec05"
      },
      "source": [
        "!unzip \"projeto_final/plant-pathology-2021-fgvc8.zip\" -d \"/projeto_final/\""
      ],
      "execution_count": 9,
      "outputs": [
        {
          "metadata": {
            "tags": null
          },
          "name": "stdout",
          "output_type": "stream",
          "text": [
            "Archive:  projeto_final/plant-pathology-2021-fgvc8.zip\n",
            "replace /projeto_final/sample_submission.csv? [y]es, [n]o, [A]ll, [N]one, [r]ename: "
          ]
        }
      ]
    },
    {
      "cell_type": "markdown",
      "metadata": {
        "id": "PCySNejv0FWT"
      },
      "source": [
        "# 2) EDA"
      ]
    },
    {
      "cell_type": "markdown",
      "metadata": {
        "id": "fsmJEimW9AoO"
      },
      "source": [
        "### 2.1) Carregando os datasets"
      ]
    },
    {
      "cell_type": "code",
      "metadata": {
        "id": "_knIOnb19I5p"
      },
      "source": [
        "TEST_PATH = \"../projeto_final/sample_submission.csv\"\n",
        "TRAIN_PATH = \"../projeto_final/train.csv\""
      ],
      "execution_count": 7,
      "outputs": []
    },
    {
      "cell_type": "code",
      "metadata": {
        "id": "-YjRlHz34t6l"
      },
      "source": [
        "df_train = pd.read_csv(TRAIN_PATH)\n",
        "df_test=pd.read_csv(TEST_PATH)"
      ],
      "execution_count": 8,
      "outputs": []
    },
    {
      "cell_type": "code",
      "metadata": {
        "id": "DHRff2385GXz",
        "colab": {
          "base_uri": "https://localhost:8080/"
        },
        "outputId": "dc3106fd-84d1-42a1-b486-08d4463f03ff"
      },
      "source": [
        "df_train[\"labels\"].value_counts()"
      ],
      "execution_count": 9,
      "outputs": [
        {
          "output_type": "execute_result",
          "data": {
            "text/plain": [
              "scab                               4826\n",
              "healthy                            4624\n",
              "frog_eye_leaf_spot                 3181\n",
              "rust                               1860\n",
              "complex                            1602\n",
              "powdery_mildew                     1184\n",
              "scab frog_eye_leaf_spot             686\n",
              "scab frog_eye_leaf_spot complex     200\n",
              "frog_eye_leaf_spot complex          165\n",
              "rust frog_eye_leaf_spot             120\n",
              "rust complex                         97\n",
              "powdery_mildew complex               87\n",
              "Name: labels, dtype: int64"
            ]
          },
          "metadata": {},
          "execution_count": 9
        }
      ]
    },
    {
      "cell_type": "markdown",
      "metadata": {
        "id": "GhbVui6SZuPh"
      },
      "source": [
        "#### Preparacao do dataset"
      ]
    },
    {
      "cell_type": "code",
      "metadata": {
        "colab": {
          "base_uri": "https://localhost:8080/",
          "height": 206
        },
        "id": "HUOQOs9EZGCc",
        "outputId": "8a3f126c-69e3-4169-f36f-9687b8acdefd"
      },
      "source": [
        "# Ajustando labels com onehot encoding\n",
        "\n",
        "df_train[\"label_list\"] = df_train[\"labels\"].str.split(\" \")\n",
        "\n",
        "df_train.head()"
      ],
      "execution_count": 10,
      "outputs": [
        {
          "output_type": "execute_result",
          "data": {
            "text/html": [
              "<div>\n",
              "<style scoped>\n",
              "    .dataframe tbody tr th:only-of-type {\n",
              "        vertical-align: middle;\n",
              "    }\n",
              "\n",
              "    .dataframe tbody tr th {\n",
              "        vertical-align: top;\n",
              "    }\n",
              "\n",
              "    .dataframe thead th {\n",
              "        text-align: right;\n",
              "    }\n",
              "</style>\n",
              "<table border=\"1\" class=\"dataframe\">\n",
              "  <thead>\n",
              "    <tr style=\"text-align: right;\">\n",
              "      <th></th>\n",
              "      <th>image</th>\n",
              "      <th>labels</th>\n",
              "      <th>label_list</th>\n",
              "    </tr>\n",
              "  </thead>\n",
              "  <tbody>\n",
              "    <tr>\n",
              "      <th>0</th>\n",
              "      <td>800113bb65efe69e.jpg</td>\n",
              "      <td>healthy</td>\n",
              "      <td>[healthy]</td>\n",
              "    </tr>\n",
              "    <tr>\n",
              "      <th>1</th>\n",
              "      <td>8002cb321f8bfcdf.jpg</td>\n",
              "      <td>scab frog_eye_leaf_spot complex</td>\n",
              "      <td>[scab, frog_eye_leaf_spot, complex]</td>\n",
              "    </tr>\n",
              "    <tr>\n",
              "      <th>2</th>\n",
              "      <td>80070f7fb5e2ccaa.jpg</td>\n",
              "      <td>scab</td>\n",
              "      <td>[scab]</td>\n",
              "    </tr>\n",
              "    <tr>\n",
              "      <th>3</th>\n",
              "      <td>80077517781fb94f.jpg</td>\n",
              "      <td>scab</td>\n",
              "      <td>[scab]</td>\n",
              "    </tr>\n",
              "    <tr>\n",
              "      <th>4</th>\n",
              "      <td>800cbf0ff87721f8.jpg</td>\n",
              "      <td>complex</td>\n",
              "      <td>[complex]</td>\n",
              "    </tr>\n",
              "  </tbody>\n",
              "</table>\n",
              "</div>"
            ],
            "text/plain": [
              "                  image  ...                           label_list\n",
              "0  800113bb65efe69e.jpg  ...                            [healthy]\n",
              "1  8002cb321f8bfcdf.jpg  ...  [scab, frog_eye_leaf_spot, complex]\n",
              "2  80070f7fb5e2ccaa.jpg  ...                               [scab]\n",
              "3  80077517781fb94f.jpg  ...                               [scab]\n",
              "4  800cbf0ff87721f8.jpg  ...                            [complex]\n",
              "\n",
              "[5 rows x 3 columns]"
            ]
          },
          "metadata": {},
          "execution_count": 10
        }
      ]
    },
    {
      "cell_type": "code",
      "metadata": {
        "id": "QgdAcXgCZJov"
      },
      "source": [
        "# Metodo 1 de oneohot ecoding\n",
        "\n",
        "def onehot_label(col, label_list):\n",
        "  if col in label_list:\n",
        "    onehot = 1\n",
        "  else:\n",
        "    onehot = 0\n",
        "  \n",
        "  return onehot\n",
        "  \n",
        "label_list = df_train[df_train[\"label_list\"].str.len() == 1][\"labels\"].unique()\n",
        "\n",
        "for label in label_list:\n",
        "  df_train[label] = 0\n",
        "\n",
        "for label in label_list:\n",
        "  df_train[label] = np.vectorize(onehot_label)(label, df_train[\"label_list\"])"
      ],
      "execution_count": 11,
      "outputs": []
    },
    {
      "cell_type": "code",
      "metadata": {
        "colab": {
          "base_uri": "https://localhost:8080/",
          "height": 261
        },
        "id": "Svhn14GRZSxr",
        "outputId": "a21c2b8d-0bdc-496c-ce6c-a5d9da71e48d"
      },
      "source": [
        "# Metodo 2 onehot encoding\n",
        "\n",
        "from sklearn.preprocessing import MultiLabelBinarizer\n",
        "\n",
        "mlb = MultiLabelBinarizer()\n",
        "df_mlb = pd.DataFrame(mlb.fit_transform(df_train[\"label_list\"]),columns=mlb.classes_)\n",
        "\n",
        "# Apenas para validar ambos os jeitos\n",
        "df_train.join(df_mlb, how=\"left\", lsuffix=\"_first_method\", rsuffix=\"_second_method\").head()"
      ],
      "execution_count": 12,
      "outputs": [
        {
          "output_type": "execute_result",
          "data": {
            "text/html": [
              "<div>\n",
              "<style scoped>\n",
              "    .dataframe tbody tr th:only-of-type {\n",
              "        vertical-align: middle;\n",
              "    }\n",
              "\n",
              "    .dataframe tbody tr th {\n",
              "        vertical-align: top;\n",
              "    }\n",
              "\n",
              "    .dataframe thead th {\n",
              "        text-align: right;\n",
              "    }\n",
              "</style>\n",
              "<table border=\"1\" class=\"dataframe\">\n",
              "  <thead>\n",
              "    <tr style=\"text-align: right;\">\n",
              "      <th></th>\n",
              "      <th>image</th>\n",
              "      <th>labels</th>\n",
              "      <th>label_list</th>\n",
              "      <th>healthy_first_method</th>\n",
              "      <th>scab_first_method</th>\n",
              "      <th>complex_first_method</th>\n",
              "      <th>rust_first_method</th>\n",
              "      <th>frog_eye_leaf_spot_first_method</th>\n",
              "      <th>powdery_mildew_first_method</th>\n",
              "      <th>complex_second_method</th>\n",
              "      <th>frog_eye_leaf_spot_second_method</th>\n",
              "      <th>healthy_second_method</th>\n",
              "      <th>powdery_mildew_second_method</th>\n",
              "      <th>rust_second_method</th>\n",
              "      <th>scab_second_method</th>\n",
              "    </tr>\n",
              "  </thead>\n",
              "  <tbody>\n",
              "    <tr>\n",
              "      <th>0</th>\n",
              "      <td>800113bb65efe69e.jpg</td>\n",
              "      <td>healthy</td>\n",
              "      <td>[healthy]</td>\n",
              "      <td>1</td>\n",
              "      <td>0</td>\n",
              "      <td>0</td>\n",
              "      <td>0</td>\n",
              "      <td>0</td>\n",
              "      <td>0</td>\n",
              "      <td>0</td>\n",
              "      <td>0</td>\n",
              "      <td>1</td>\n",
              "      <td>0</td>\n",
              "      <td>0</td>\n",
              "      <td>0</td>\n",
              "    </tr>\n",
              "    <tr>\n",
              "      <th>1</th>\n",
              "      <td>8002cb321f8bfcdf.jpg</td>\n",
              "      <td>scab frog_eye_leaf_spot complex</td>\n",
              "      <td>[scab, frog_eye_leaf_spot, complex]</td>\n",
              "      <td>0</td>\n",
              "      <td>1</td>\n",
              "      <td>1</td>\n",
              "      <td>0</td>\n",
              "      <td>1</td>\n",
              "      <td>0</td>\n",
              "      <td>1</td>\n",
              "      <td>1</td>\n",
              "      <td>0</td>\n",
              "      <td>0</td>\n",
              "      <td>0</td>\n",
              "      <td>1</td>\n",
              "    </tr>\n",
              "    <tr>\n",
              "      <th>2</th>\n",
              "      <td>80070f7fb5e2ccaa.jpg</td>\n",
              "      <td>scab</td>\n",
              "      <td>[scab]</td>\n",
              "      <td>0</td>\n",
              "      <td>1</td>\n",
              "      <td>0</td>\n",
              "      <td>0</td>\n",
              "      <td>0</td>\n",
              "      <td>0</td>\n",
              "      <td>0</td>\n",
              "      <td>0</td>\n",
              "      <td>0</td>\n",
              "      <td>0</td>\n",
              "      <td>0</td>\n",
              "      <td>1</td>\n",
              "    </tr>\n",
              "    <tr>\n",
              "      <th>3</th>\n",
              "      <td>80077517781fb94f.jpg</td>\n",
              "      <td>scab</td>\n",
              "      <td>[scab]</td>\n",
              "      <td>0</td>\n",
              "      <td>1</td>\n",
              "      <td>0</td>\n",
              "      <td>0</td>\n",
              "      <td>0</td>\n",
              "      <td>0</td>\n",
              "      <td>0</td>\n",
              "      <td>0</td>\n",
              "      <td>0</td>\n",
              "      <td>0</td>\n",
              "      <td>0</td>\n",
              "      <td>1</td>\n",
              "    </tr>\n",
              "    <tr>\n",
              "      <th>4</th>\n",
              "      <td>800cbf0ff87721f8.jpg</td>\n",
              "      <td>complex</td>\n",
              "      <td>[complex]</td>\n",
              "      <td>0</td>\n",
              "      <td>0</td>\n",
              "      <td>1</td>\n",
              "      <td>0</td>\n",
              "      <td>0</td>\n",
              "      <td>0</td>\n",
              "      <td>1</td>\n",
              "      <td>0</td>\n",
              "      <td>0</td>\n",
              "      <td>0</td>\n",
              "      <td>0</td>\n",
              "      <td>0</td>\n",
              "    </tr>\n",
              "  </tbody>\n",
              "</table>\n",
              "</div>"
            ],
            "text/plain": [
              "                  image  ... scab_second_method\n",
              "0  800113bb65efe69e.jpg  ...                  0\n",
              "1  8002cb321f8bfcdf.jpg  ...                  1\n",
              "2  80070f7fb5e2ccaa.jpg  ...                  1\n",
              "3  80077517781fb94f.jpg  ...                  1\n",
              "4  800cbf0ff87721f8.jpg  ...                  0\n",
              "\n",
              "[5 rows x 15 columns]"
            ]
          },
          "metadata": {},
          "execution_count": 12
        }
      ]
    },
    {
      "cell_type": "code",
      "metadata": {
        "id": "EFOU_ttvua6o"
      },
      "source": [
        "# Gera a coluna com a lista de labels a serem preditos\n",
        "df_train[\"target\"] = df_train[label_list].astype('float32').values.tolist()"
      ],
      "execution_count": 13,
      "outputs": []
    },
    {
      "cell_type": "code",
      "metadata": {
        "colab": {
          "base_uri": "https://localhost:8080/"
        },
        "id": "-Xhi8z5mvadH",
        "outputId": "e4649096-138c-4dfe-bbb3-3ba4081beb4d"
      },
      "source": [
        "print(\"labels estao na ordem: \")\n",
        "print(label_list)"
      ],
      "execution_count": 14,
      "outputs": [
        {
          "output_type": "stream",
          "name": "stdout",
          "text": [
            "labels estao na ordem: \n",
            "['healthy' 'scab' 'complex' 'rust' 'frog_eye_leaf_spot' 'powdery_mildew']\n"
          ]
        }
      ]
    },
    {
      "cell_type": "markdown",
      "metadata": {
        "id": "bmHvJEj45LKC"
      },
      "source": [
        "### Tecnicas de processamento de imagem"
      ]
    },
    {
      "cell_type": "markdown",
      "metadata": {
        "id": "1dhZ1zdJGl6W"
      },
      "source": [
        "#### Deteccao de bordas e bounding box"
      ]
    },
    {
      "cell_type": "code",
      "metadata": {
        "id": "0unrpRWh5PWC"
      },
      "source": [
        "def edge_and_cut(img):\n",
        "    emb_img = img.copy()\n",
        "    edges = cv2.Canny(img, 100, 200)\n",
        "    edge_coors = []\n",
        "    for i in range(edges.shape[0]):\n",
        "        for j in range(edges.shape[1]):\n",
        "            if edges[i][j] != 0:\n",
        "                edge_coors.append((i, j))\n",
        "    \n",
        "    row_min = edge_coors[np.argsort([coor[0] for coor in edge_coors])[0]][0]\n",
        "    row_max = edge_coors[np.argsort([coor[0] for coor in edge_coors])[-1]][0]\n",
        "    col_min = edge_coors[np.argsort([coor[1] for coor in edge_coors])[0]][1]\n",
        "    col_max = edge_coors[np.argsort([coor[1] for coor in edge_coors])[-1]][1]\n",
        "    new_img = img[row_min:row_max, col_min:col_max]\n",
        "    \n",
        "    emb_img[row_min-10:row_min+10, col_min:col_max] = [255, 0, 0]\n",
        "    emb_img[row_max-10:row_max+10, col_min:col_max] = [255, 0, 0]\n",
        "    emb_img[row_min:row_max, col_min-10:col_min+10] = [255, 0, 0]\n",
        "    emb_img[row_min:row_max, col_max-10:col_max+10] = [255, 0, 0]\n",
        "    \n",
        "    fig, ax = plt.subplots(nrows=1, ncols=3, figsize=(30, 20))\n",
        "    ax[0].imshow(img, cmap='gray')\n",
        "    ax[0].set_title('Original Image', fontsize=24)\n",
        "    ax[1].imshow(edges, cmap='gray')\n",
        "    ax[1].set_title('Canny Edges', fontsize=24)\n",
        "    ax[2].imshow(emb_img, cmap='gray')\n",
        "    ax[2].set_title('Bounding Box', fontsize=24)\n",
        "    plt.show()"
      ],
      "execution_count": 15,
      "outputs": []
    },
    {
      "cell_type": "code",
      "metadata": {
        "id": "Yo5HBTLM5PHi"
      },
      "source": [
        ""
      ],
      "execution_count": 15,
      "outputs": []
    },
    {
      "cell_type": "markdown",
      "metadata": {
        "id": "SMBveKtnvsVO"
      },
      "source": [
        "### Preparacao do dataset para treinar o modelo"
      ]
    },
    {
      "cell_type": "code",
      "metadata": {
        "id": "_Y0XLaDLxES1"
      },
      "source": [
        "img_height = 256\n",
        "img_width = 256\n",
        "batch_size = 128\n",
        "AUTOTUNE = tf.data.AUTOTUNE"
      ],
      "execution_count": 16,
      "outputs": []
    },
    {
      "cell_type": "code",
      "metadata": {
        "id": "hpQEACzysIS6"
      },
      "source": [
        "def format_path(image:str)->str:\n",
        "  return \"/projeto_final/train_images/\"+image"
      ],
      "execution_count": 17,
      "outputs": []
    },
    {
      "cell_type": "code",
      "metadata": {
        "id": "pALfa4vds8jB"
      },
      "source": [
        "image_count = len(list(df_train.image))\n",
        "\n",
        "train_paths = df_train[\"image\"].apply(format_path).values\n",
        "\n",
        "list_ds = tf.data.Dataset.from_tensor_slices((train_paths, np.vstack(df_train.target).astype(np.float)))\n",
        "\n",
        "#dividir em treino e validação\n",
        "val_size = int(image_count * 0.2)\n",
        "train_ds = list_ds.skip(val_size)\n",
        "val_ds = list_ds.take(val_size)"
      ],
      "execution_count": 18,
      "outputs": []
    },
    {
      "cell_type": "code",
      "metadata": {
        "colab": {
          "base_uri": "https://localhost:8080/"
        },
        "id": "azJwlLc6y3DQ",
        "outputId": "837c81ec-27b4-4d42-849e-42772cde2fc7"
      },
      "source": [
        "train_paths"
      ],
      "execution_count": 19,
      "outputs": [
        {
          "output_type": "execute_result",
          "data": {
            "text/plain": [
              "array(['/projeto_final/train_images/800113bb65efe69e.jpg',\n",
              "       '/projeto_final/train_images/8002cb321f8bfcdf.jpg',\n",
              "       '/projeto_final/train_images/80070f7fb5e2ccaa.jpg', ...,\n",
              "       '/projeto_final/train_images/fffc94e092a59086.jpg',\n",
              "       '/projeto_final/train_images/fffe105cf6808292.jpg',\n",
              "       '/projeto_final/train_images/fffe472a0001bd25.jpg'], dtype=object)"
            ]
          },
          "metadata": {},
          "execution_count": 19
        }
      ]
    },
    {
      "cell_type": "code",
      "metadata": {
        "id": "iki159Rbv3T0"
      },
      "source": [
        "def decode_img(img, rescale=255.0):\n",
        "  # Convert the compressed string to a 3D uint8 tensor\n",
        "  img = tf.io.decode_jpeg(img, channels=3)\n",
        "  # Rescale\n",
        "  # img = tf.cast(img, tf.float32)/rescale\n",
        "  # Resize the image to the desired size\n",
        "  return tf.image.resize(img, [img_height, img_width])\n",
        "\n",
        "\n",
        "def process_path(file_path, labels):\n",
        "  # Load the raw data from the file as a string\n",
        "  img = tf.io.read_file(file_path)\n",
        "  img = decode_img(img)\n",
        "  return img, labels\n",
        "\n",
        "def configure_for_performance(ds):\n",
        "  ds = ds.cache()\n",
        "  ds = ds.shuffle(buffer_size=1000)\n",
        "  ds = ds.batch(batch_size)\n",
        "  ds = ds.prefetch(buffer_size=AUTOTUNE)\n",
        "  return ds"
      ],
      "execution_count": 20,
      "outputs": []
    },
    {
      "cell_type": "code",
      "metadata": {
        "id": "KvBi0LnIxY7H"
      },
      "source": [
        "# Set `num_parallel_calls` so multiple images are loaded/processed in parallel.\n",
        "train_ds = train_ds.map(process_path, num_parallel_calls=AUTOTUNE)\n",
        "val_ds = val_ds.map(process_path, num_parallel_calls=AUTOTUNE)\n",
        "train_ds = configure_for_performance(train_ds)\n",
        "val_ds = configure_for_performance(val_ds)"
      ],
      "execution_count": 21,
      "outputs": []
    },
    {
      "cell_type": "markdown",
      "metadata": {
        "id": "Uvhs6-kgxskk"
      },
      "source": [
        "## Modelo Baseline"
      ]
    },
    {
      "cell_type": "code",
      "metadata": {
        "id": "9KLQlwIFxxjN"
      },
      "source": [
        "CLASSES = label_list\n",
        "\n",
        "F1_score = tfa.metrics.F1Score(\n",
        "    num_classes= len(CLASSES),\n",
        "    average = 'weighted',\n",
        ")"
      ],
      "execution_count": 22,
      "outputs": []
    },
    {
      "cell_type": "code",
      "metadata": {
        "id": "1yxVS-_Bx_FD"
      },
      "source": [
        "# Carregamento do modelo pré-treinado SEM as camadas densas (include_top = False)\n",
        "model = tf.keras.applications.ResNet50(weights='imagenet', \n",
        "                                       include_top=False, \n",
        "                                       input_shape=(256,256,3)) # 32 x 32 (?)\n",
        "#model.summary()\n",
        "\n",
        "# Congela camadas pré-treinadas\n",
        "for layer in model.layers:\n",
        "    layer.trainable = False"
      ],
      "execution_count": 23,
      "outputs": []
    },
    {
      "cell_type": "code",
      "metadata": {
        "colab": {
          "base_uri": "https://localhost:8080/"
        },
        "id": "GfnssmOnyhkE",
        "outputId": "7837dba3-32a6-498a-fa2d-6cd75965c20f"
      },
      "source": [
        "# Insere novas camadas no fim da rede para classificação\n",
        "frozen_model_without_rescaling = tf.keras.Sequential([\n",
        "  model,\n",
        "  tf.keras.layers.GlobalAveragePooling2D(),\n",
        "  tf.keras.layers.Dense(len(CLASSES), activation='sigmoid')\n",
        "])\n",
        "\n",
        "frozen_model_without_rescaling.summary()"
      ],
      "execution_count": 24,
      "outputs": [
        {
          "output_type": "stream",
          "name": "stdout",
          "text": [
            "Model: \"sequential\"\n",
            "_________________________________________________________________\n",
            " Layer (type)                Output Shape              Param #   \n",
            "=================================================================\n",
            " resnet50 (Functional)       (None, 8, 8, 2048)        23587712  \n",
            "                                                                 \n",
            " global_average_pooling2d (G  (None, 2048)             0         \n",
            " lobalAveragePooling2D)                                          \n",
            "                                                                 \n",
            " dense (Dense)               (None, 6)                 12294     \n",
            "                                                                 \n",
            "=================================================================\n",
            "Total params: 23,600,006\n",
            "Trainable params: 12,294\n",
            "Non-trainable params: 23,587,712\n",
            "_________________________________________________________________\n"
          ]
        }
      ]
    },
    {
      "cell_type": "code",
      "metadata": {
        "id": "g6PiLFir_YCb"
      },
      "source": [
        "def vanilla_model(model,\n",
        "                  train_ds,\n",
        "                  val_ds,\n",
        "                  learning_rate=0.001,\n",
        "                  momentum=0.9,\n",
        "                  decay=0.001,\n",
        "                  nesterov=True,\n",
        "                  monitor='val_loss',\n",
        "                  patience=5,\n",
        "                  filepath='model_x.h5',\n",
        "                  epochs=100,\n",
        "                  batches=100):\n",
        "  \n",
        "  # Instancia um otimizador SGD, compila e treina o modelo completo\n",
        "  sgd = tf.keras.optimizers.SGD(learning_rate=learning_rate, \n",
        "                                momentum=momentum, \n",
        "                                decay=decay, \n",
        "                                nesterov=nesterov)\n",
        "\n",
        "\n",
        "  # Early Stopping\n",
        "  early = tf.keras.callbacks.EarlyStopping(monitor=monitor, \n",
        "                                          patience=patience, \n",
        "                                          restore_best_weights=True)\n",
        "  # Checkpoint\n",
        "  filepath = './content/drive/MyDrive/projeto_final_modelos/'+filepath\n",
        "  checkpoint = ModelCheckpoint(filepath, \n",
        "                              monitor=monitor,\n",
        "                              save_best_only=True,\n",
        "                              mode='max')\n",
        "  callbacks = [early, checkpoint]\n",
        "\n",
        "  model.compile(loss=tf.keras.losses.BinaryCrossentropy(), \n",
        "                                        optimizer=sgd, \n",
        "                                        metrics=[F1_score])\n",
        "\n",
        "  history = model.fit(train_ds, \n",
        "                            epochs=100, \n",
        "                            callbacks=callbacks,\n",
        "                            validation_data=val_ds)\n",
        "  return history"
      ],
      "execution_count": 25,
      "outputs": []
    },
    {
      "cell_type": "code",
      "metadata": {
        "id": "KSypTc-zNS58",
        "outputId": "df85905c-627e-4b97-d34a-07198f9a10d8",
        "colab": {
          "base_uri": "https://localhost:8080/"
        }
      },
      "source": [
        "history = vanilla_model(frozen_model_without_rescaling,\n",
        "                         train_ds,\n",
        "                         val_ds,\n",
        "                         filepath='vanilla_resnet50_rescale.h5')"
      ],
      "execution_count": 26,
      "outputs": [
        {
          "output_type": "stream",
          "name": "stdout",
          "text": [
            "Epoch 1/100\n",
            "117/117 [==============================] - 631s 5s/step - loss: 0.4656 - f1_score: 0.2053 - val_loss: 0.4522 - val_f1_score: 0.0737\n",
            "Epoch 2/100\n",
            "117/117 [==============================] - 36s 304ms/step - loss: 0.4458 - f1_score: 0.1953 - val_loss: 0.4520 - val_f1_score: 0.0737\n",
            "Epoch 3/100\n",
            "117/117 [==============================] - 36s 308ms/step - loss: 0.4455 - f1_score: 0.1839 - val_loss: 0.4529 - val_f1_score: 0.0737\n",
            "Epoch 4/100\n",
            "117/117 [==============================] - 36s 304ms/step - loss: 0.4452 - f1_score: 0.2125 - val_loss: 0.4525 - val_f1_score: 0.0737\n",
            "Epoch 5/100\n",
            "117/117 [==============================] - 36s 305ms/step - loss: 0.4453 - f1_score: 0.1935 - val_loss: 0.4511 - val_f1_score: 0.0737\n",
            "Epoch 6/100\n",
            "117/117 [==============================] - 36s 304ms/step - loss: 0.4450 - f1_score: 0.2058 - val_loss: 0.4515 - val_f1_score: 0.0737\n",
            "Epoch 7/100\n",
            "117/117 [==============================] - 35s 303ms/step - loss: 0.4448 - f1_score: 0.1906 - val_loss: 0.4517 - val_f1_score: 0.0737\n",
            "Epoch 8/100\n",
            "117/117 [==============================] - 36s 304ms/step - loss: 0.4446 - f1_score: 0.1940 - val_loss: 0.4512 - val_f1_score: 0.0737\n",
            "Epoch 9/100\n",
            "117/117 [==============================] - 36s 306ms/step - loss: 0.4445 - f1_score: 0.1998 - val_loss: 0.4495 - val_f1_score: 0.0770\n",
            "Epoch 10/100\n",
            "117/117 [==============================] - 35s 304ms/step - loss: 0.4444 - f1_score: 0.1981 - val_loss: 0.4501 - val_f1_score: 0.0737\n",
            "Epoch 11/100\n",
            "117/117 [==============================] - 36s 305ms/step - loss: 0.4445 - f1_score: 0.1979 - val_loss: 0.4501 - val_f1_score: 0.0737\n",
            "Epoch 12/100\n",
            "117/117 [==============================] - 36s 305ms/step - loss: 0.4443 - f1_score: 0.1934 - val_loss: 0.4480 - val_f1_score: 0.2069\n",
            "Epoch 13/100\n",
            "117/117 [==============================] - 36s 304ms/step - loss: 0.4443 - f1_score: 0.1995 - val_loss: 0.4490 - val_f1_score: 0.1032\n",
            "Epoch 14/100\n",
            "117/117 [==============================] - 36s 305ms/step - loss: 0.4441 - f1_score: 0.1926 - val_loss: 0.4487 - val_f1_score: 0.0931\n",
            "Epoch 15/100\n",
            "117/117 [==============================] - 36s 304ms/step - loss: 0.4439 - f1_score: 0.1918 - val_loss: 0.4493 - val_f1_score: 0.0781\n",
            "Epoch 16/100\n",
            "117/117 [==============================] - 36s 304ms/step - loss: 0.4440 - f1_score: 0.1947 - val_loss: 0.4487 - val_f1_score: 0.0880\n",
            "Epoch 17/100\n",
            "117/117 [==============================] - 36s 305ms/step - loss: 0.4439 - f1_score: 0.1990 - val_loss: 0.4483 - val_f1_score: 0.0994\n"
          ]
        }
      ]
    },
    {
      "cell_type": "code",
      "metadata": {
        "colab": {
          "base_uri": "https://localhost:8080/"
        },
        "id": "LOhIAQahyl3Q",
        "outputId": "d5426765-ad7a-4f01-c4ba-20db7d10668f"
      },
      "source": [
        "# Instancia um otimizador SGD, compila e treina o modelo completo\n",
        "sgd = tf.keras.optimizers.SGD(learning_rate=0.001, \n",
        "                              momentum=0.9, \n",
        "                              decay=0.001, \n",
        "                              nesterov=True)\n",
        "\n",
        "\n",
        "# Early Stopping\n",
        "early = tf.keras.callbacks.EarlyStopping(monitor='val_loss', \n",
        "                                         patience=5, \n",
        "                                         restore_best_weights=True)\n",
        "# Checkpoint\n",
        "filepath = './content/drive/MyDrive/projeto_final_modelos/vanilla_resnet50_v0.h5'\n",
        "checkpoint = ModelCheckpoint(filepath, \n",
        "                             monitor='val_loss',\n",
        "                             save_best_only=True,\n",
        "                             mode='max')\n",
        "callbacks = [early, checkpoint]\n",
        "\n",
        "frozen_model_without_rescaling.compile(loss=tf.keras.losses.BinaryCrossentropy(), \n",
        "                                       optimizer=sgd, \n",
        "                                       metrics=[F1_score])\n",
        "\n",
        "model_history = frozen_model_without_rescaling.fit(train_ds, \n",
        "                                                   epochs=100, \n",
        "                                                   callbacks=callbacks,\n",
        "                                                   validation_data=val_ds)"
      ],
      "execution_count": 62,
      "outputs": [
        {
          "output_type": "stream",
          "name": "stdout",
          "text": [
            "Epoch 1/100\n",
            "117/117 [==============================] - 261s 2s/step - loss: 0.4246 - f1_score: 0.3116 - val_loss: 0.3961 - val_f1_score: 0.3903\n",
            "Epoch 2/100\n",
            "117/117 [==============================] - 36s 305ms/step - loss: 0.3808 - f1_score: 0.4502 - val_loss: 0.3635 - val_f1_score: 0.4938\n",
            "Epoch 3/100\n",
            "117/117 [==============================] - 36s 306ms/step - loss: 0.3573 - f1_score: 0.5160 - val_loss: 0.3441 - val_f1_score: 0.5647\n",
            "Epoch 4/100\n",
            "117/117 [==============================] - 36s 306ms/step - loss: 0.3421 - f1_score: 0.5512 - val_loss: 0.3316 - val_f1_score: 0.5908\n",
            "Epoch 5/100\n",
            "117/117 [==============================] - 36s 306ms/step - loss: 0.3316 - f1_score: 0.5775 - val_loss: 0.3224 - val_f1_score: 0.6143\n",
            "Epoch 6/100\n",
            "117/117 [==============================] - 36s 306ms/step - loss: 0.3240 - f1_score: 0.5937 - val_loss: 0.3157 - val_f1_score: 0.6278\n",
            "Epoch 7/100\n",
            "117/117 [==============================] - 36s 305ms/step - loss: 0.3177 - f1_score: 0.6053 - val_loss: 0.3104 - val_f1_score: 0.6395\n",
            "Epoch 8/100\n",
            "117/117 [==============================] - 36s 306ms/step - loss: 0.3129 - f1_score: 0.6175 - val_loss: 0.3052 - val_f1_score: 0.6414\n",
            "Epoch 9/100\n",
            "117/117 [==============================] - 36s 306ms/step - loss: 0.3089 - f1_score: 0.6255 - val_loss: 0.3017 - val_f1_score: 0.6505\n",
            "Epoch 10/100\n",
            "117/117 [==============================] - 36s 306ms/step - loss: 0.3055 - f1_score: 0.6288 - val_loss: 0.2983 - val_f1_score: 0.6543\n",
            "Epoch 11/100\n",
            "117/117 [==============================] - 36s 306ms/step - loss: 0.3026 - f1_score: 0.6361 - val_loss: 0.2954 - val_f1_score: 0.6569\n",
            "Epoch 12/100\n",
            "117/117 [==============================] - 36s 306ms/step - loss: 0.3001 - f1_score: 0.6391 - val_loss: 0.2931 - val_f1_score: 0.6642\n",
            "Epoch 13/100\n",
            "117/117 [==============================] - 36s 306ms/step - loss: 0.2978 - f1_score: 0.6430 - val_loss: 0.2907 - val_f1_score: 0.6657\n",
            "Epoch 14/100\n",
            "117/117 [==============================] - 36s 306ms/step - loss: 0.2957 - f1_score: 0.6460 - val_loss: 0.2888 - val_f1_score: 0.6689\n",
            "Epoch 15/100\n",
            "117/117 [==============================] - 36s 307ms/step - loss: 0.2940 - f1_score: 0.6489 - val_loss: 0.2869 - val_f1_score: 0.6700\n",
            "Epoch 16/100\n",
            "117/117 [==============================] - 36s 307ms/step - loss: 0.2923 - f1_score: 0.6506 - val_loss: 0.2852 - val_f1_score: 0.6712\n",
            "Epoch 17/100\n",
            "117/117 [==============================] - 36s 306ms/step - loss: 0.2909 - f1_score: 0.6529 - val_loss: 0.2838 - val_f1_score: 0.6737\n",
            "Epoch 18/100\n",
            "117/117 [==============================] - 36s 306ms/step - loss: 0.2896 - f1_score: 0.6565 - val_loss: 0.2825 - val_f1_score: 0.6765\n",
            "Epoch 19/100\n",
            "117/117 [==============================] - 36s 306ms/step - loss: 0.2883 - f1_score: 0.6570 - val_loss: 0.2809 - val_f1_score: 0.6759\n",
            "Epoch 20/100\n",
            "117/117 [==============================] - 36s 307ms/step - loss: 0.2872 - f1_score: 0.6588 - val_loss: 0.2799 - val_f1_score: 0.6780\n",
            "Epoch 21/100\n",
            "117/117 [==============================] - 36s 306ms/step - loss: 0.2862 - f1_score: 0.6596 - val_loss: 0.2789 - val_f1_score: 0.6793\n",
            "Epoch 22/100\n",
            "117/117 [==============================] - 36s 306ms/step - loss: 0.2852 - f1_score: 0.6618 - val_loss: 0.2780 - val_f1_score: 0.6812\n",
            "Epoch 23/100\n",
            "117/117 [==============================] - 36s 307ms/step - loss: 0.2842 - f1_score: 0.6643 - val_loss: 0.2770 - val_f1_score: 0.6822\n",
            "Epoch 24/100\n",
            "117/117 [==============================] - 36s 306ms/step - loss: 0.2833 - f1_score: 0.6653 - val_loss: 0.2761 - val_f1_score: 0.6819\n",
            "Epoch 25/100\n",
            "117/117 [==============================] - 36s 306ms/step - loss: 0.2825 - f1_score: 0.6674 - val_loss: 0.2753 - val_f1_score: 0.6839\n",
            "Epoch 26/100\n",
            "117/117 [==============================] - 36s 306ms/step - loss: 0.2818 - f1_score: 0.6686 - val_loss: 0.2744 - val_f1_score: 0.6829\n",
            "Epoch 27/100\n",
            "117/117 [==============================] - 36s 307ms/step - loss: 0.2811 - f1_score: 0.6692 - val_loss: 0.2737 - val_f1_score: 0.6850\n",
            "Epoch 28/100\n",
            "117/117 [==============================] - 36s 306ms/step - loss: 0.2804 - f1_score: 0.6712 - val_loss: 0.2730 - val_f1_score: 0.6853\n",
            "Epoch 29/100\n",
            "117/117 [==============================] - 36s 306ms/step - loss: 0.2798 - f1_score: 0.6717 - val_loss: 0.2723 - val_f1_score: 0.6855\n",
            "Epoch 30/100\n",
            "117/117 [==============================] - 36s 306ms/step - loss: 0.2791 - f1_score: 0.6727 - val_loss: 0.2717 - val_f1_score: 0.6865\n",
            "Epoch 31/100\n",
            "117/117 [==============================] - 36s 306ms/step - loss: 0.2786 - f1_score: 0.6743 - val_loss: 0.2711 - val_f1_score: 0.6858\n",
            "Epoch 32/100\n",
            "117/117 [==============================] - 36s 305ms/step - loss: 0.2780 - f1_score: 0.6736 - val_loss: 0.2705 - val_f1_score: 0.6884\n",
            "Epoch 33/100\n",
            "117/117 [==============================] - 36s 305ms/step - loss: 0.2775 - f1_score: 0.6750 - val_loss: 0.2701 - val_f1_score: 0.6861\n",
            "Epoch 34/100\n",
            "117/117 [==============================] - 36s 307ms/step - loss: 0.2770 - f1_score: 0.6766 - val_loss: 0.2695 - val_f1_score: 0.6880\n",
            "Epoch 35/100\n",
            "117/117 [==============================] - 36s 306ms/step - loss: 0.2765 - f1_score: 0.6776 - val_loss: 0.2689 - val_f1_score: 0.6891\n",
            "Epoch 36/100\n",
            "117/117 [==============================] - 36s 306ms/step - loss: 0.2760 - f1_score: 0.6779 - val_loss: 0.2686 - val_f1_score: 0.6888\n",
            "Epoch 37/100\n",
            "117/117 [==============================] - 36s 306ms/step - loss: 0.2755 - f1_score: 0.6783 - val_loss: 0.2681 - val_f1_score: 0.6899\n",
            "Epoch 38/100\n",
            "117/117 [==============================] - 36s 306ms/step - loss: 0.2751 - f1_score: 0.6790 - val_loss: 0.2677 - val_f1_score: 0.6902\n",
            "Epoch 39/100\n",
            "117/117 [==============================] - 36s 307ms/step - loss: 0.2747 - f1_score: 0.6799 - val_loss: 0.2672 - val_f1_score: 0.6903\n",
            "Epoch 40/100\n",
            "117/117 [==============================] - 36s 306ms/step - loss: 0.2743 - f1_score: 0.6799 - val_loss: 0.2668 - val_f1_score: 0.6918\n",
            "Epoch 41/100\n",
            "117/117 [==============================] - 36s 305ms/step - loss: 0.2739 - f1_score: 0.6817 - val_loss: 0.2664 - val_f1_score: 0.6919\n",
            "Epoch 42/100\n",
            "117/117 [==============================] - 36s 306ms/step - loss: 0.2736 - f1_score: 0.6816 - val_loss: 0.2661 - val_f1_score: 0.6932\n",
            "Epoch 43/100\n",
            "117/117 [==============================] - 36s 307ms/step - loss: 0.2732 - f1_score: 0.6818 - val_loss: 0.2657 - val_f1_score: 0.6928\n",
            "Epoch 44/100\n",
            "117/117 [==============================] - 36s 306ms/step - loss: 0.2729 - f1_score: 0.6826 - val_loss: 0.2654 - val_f1_score: 0.6939\n",
            "Epoch 45/100\n",
            "117/117 [==============================] - 36s 306ms/step - loss: 0.2725 - f1_score: 0.6836 - val_loss: 0.2650 - val_f1_score: 0.6945\n",
            "Epoch 46/100\n",
            "117/117 [==============================] - 36s 306ms/step - loss: 0.2722 - f1_score: 0.6831 - val_loss: 0.2647 - val_f1_score: 0.6936\n",
            "Epoch 47/100\n",
            "117/117 [==============================] - 36s 306ms/step - loss: 0.2719 - f1_score: 0.6843 - val_loss: 0.2644 - val_f1_score: 0.6941\n",
            "Epoch 48/100\n",
            "117/117 [==============================] - 36s 306ms/step - loss: 0.2716 - f1_score: 0.6848 - val_loss: 0.2642 - val_f1_score: 0.6959\n",
            "Epoch 49/100\n",
            "117/117 [==============================] - 36s 306ms/step - loss: 0.2713 - f1_score: 0.6849 - val_loss: 0.2638 - val_f1_score: 0.6940\n",
            "Epoch 50/100\n",
            "117/117 [==============================] - 36s 306ms/step - loss: 0.2710 - f1_score: 0.6848 - val_loss: 0.2635 - val_f1_score: 0.6947\n",
            "Epoch 51/100\n",
            "117/117 [==============================] - 36s 305ms/step - loss: 0.2708 - f1_score: 0.6856 - val_loss: 0.2632 - val_f1_score: 0.6943\n",
            "Epoch 52/100\n",
            "117/117 [==============================] - 36s 306ms/step - loss: 0.2705 - f1_score: 0.6857 - val_loss: 0.2630 - val_f1_score: 0.6947\n",
            "Epoch 53/100\n",
            "117/117 [==============================] - 36s 306ms/step - loss: 0.2702 - f1_score: 0.6859 - val_loss: 0.2627 - val_f1_score: 0.6957\n",
            "Epoch 54/100\n",
            "117/117 [==============================] - 36s 306ms/step - loss: 0.2700 - f1_score: 0.6860 - val_loss: 0.2625 - val_f1_score: 0.6957\n",
            "Epoch 55/100\n",
            "117/117 [==============================] - 36s 306ms/step - loss: 0.2697 - f1_score: 0.6865 - val_loss: 0.2622 - val_f1_score: 0.6955\n",
            "Epoch 56/100\n",
            "117/117 [==============================] - 36s 306ms/step - loss: 0.2695 - f1_score: 0.6865 - val_loss: 0.2620 - val_f1_score: 0.6983\n",
            "Epoch 57/100\n",
            "117/117 [==============================] - 36s 306ms/step - loss: 0.2692 - f1_score: 0.6870 - val_loss: 0.2617 - val_f1_score: 0.6975\n",
            "Epoch 58/100\n",
            "117/117 [==============================] - 36s 306ms/step - loss: 0.2690 - f1_score: 0.6879 - val_loss: 0.2615 - val_f1_score: 0.6966\n",
            "Epoch 59/100\n",
            "117/117 [==============================] - 36s 307ms/step - loss: 0.2688 - f1_score: 0.6880 - val_loss: 0.2613 - val_f1_score: 0.6976\n",
            "Epoch 60/100\n",
            "117/117 [==============================] - 36s 306ms/step - loss: 0.2686 - f1_score: 0.6879 - val_loss: 0.2611 - val_f1_score: 0.6976\n",
            "Epoch 61/100\n",
            "117/117 [==============================] - 36s 306ms/step - loss: 0.2684 - f1_score: 0.6879 - val_loss: 0.2609 - val_f1_score: 0.6984\n",
            "Epoch 62/100\n",
            "117/117 [==============================] - 36s 306ms/step - loss: 0.2682 - f1_score: 0.6878 - val_loss: 0.2607 - val_f1_score: 0.6996\n",
            "Epoch 63/100\n",
            "117/117 [==============================] - 36s 306ms/step - loss: 0.2679 - f1_score: 0.6887 - val_loss: 0.2604 - val_f1_score: 0.6991\n",
            "Epoch 64/100\n",
            "117/117 [==============================] - 36s 306ms/step - loss: 0.2677 - f1_score: 0.6886 - val_loss: 0.2603 - val_f1_score: 0.7007\n",
            "Epoch 65/100\n",
            "117/117 [==============================] - 36s 306ms/step - loss: 0.2676 - f1_score: 0.6896 - val_loss: 0.2601 - val_f1_score: 0.6988\n",
            "Epoch 66/100\n",
            "117/117 [==============================] - 36s 306ms/step - loss: 0.2674 - f1_score: 0.6897 - val_loss: 0.2599 - val_f1_score: 0.6998\n",
            "Epoch 67/100\n",
            "117/117 [==============================] - 36s 306ms/step - loss: 0.2672 - f1_score: 0.6900 - val_loss: 0.2597 - val_f1_score: 0.7000\n",
            "Epoch 68/100\n",
            "117/117 [==============================] - 36s 306ms/step - loss: 0.2670 - f1_score: 0.6909 - val_loss: 0.2595 - val_f1_score: 0.6991\n",
            "Epoch 69/100\n",
            "117/117 [==============================] - 36s 307ms/step - loss: 0.2668 - f1_score: 0.6900 - val_loss: 0.2593 - val_f1_score: 0.6997\n",
            "Epoch 70/100\n",
            "117/117 [==============================] - 36s 306ms/step - loss: 0.2666 - f1_score: 0.6909 - val_loss: 0.2592 - val_f1_score: 0.7001\n",
            "Epoch 71/100\n",
            "117/117 [==============================] - 36s 306ms/step - loss: 0.2665 - f1_score: 0.6908 - val_loss: 0.2590 - val_f1_score: 0.7000\n",
            "Epoch 72/100\n",
            "117/117 [==============================] - 36s 306ms/step - loss: 0.2663 - f1_score: 0.6913 - val_loss: 0.2588 - val_f1_score: 0.7018\n",
            "Epoch 73/100\n",
            "117/117 [==============================] - 36s 305ms/step - loss: 0.2661 - f1_score: 0.6915 - val_loss: 0.2587 - val_f1_score: 0.7000\n",
            "Epoch 74/100\n",
            "117/117 [==============================] - 36s 306ms/step - loss: 0.2660 - f1_score: 0.6915 - val_loss: 0.2585 - val_f1_score: 0.7013\n",
            "Epoch 75/100\n",
            "117/117 [==============================] - 36s 306ms/step - loss: 0.2658 - f1_score: 0.6917 - val_loss: 0.2584 - val_f1_score: 0.7005\n",
            "Epoch 76/100\n",
            "117/117 [==============================] - 36s 306ms/step - loss: 0.2656 - f1_score: 0.6921 - val_loss: 0.2582 - val_f1_score: 0.7010\n",
            "Epoch 77/100\n",
            "117/117 [==============================] - 36s 307ms/step - loss: 0.2655 - f1_score: 0.6927 - val_loss: 0.2581 - val_f1_score: 0.7014\n",
            "Epoch 78/100\n",
            "117/117 [==============================] - 36s 307ms/step - loss: 0.2653 - f1_score: 0.6924 - val_loss: 0.2579 - val_f1_score: 0.7012\n",
            "Epoch 79/100\n",
            "117/117 [==============================] - 36s 307ms/step - loss: 0.2652 - f1_score: 0.6926 - val_loss: 0.2578 - val_f1_score: 0.7014\n",
            "Epoch 80/100\n",
            "117/117 [==============================] - 36s 306ms/step - loss: 0.2651 - f1_score: 0.6926 - val_loss: 0.2576 - val_f1_score: 0.7019\n",
            "Epoch 81/100\n",
            "117/117 [==============================] - 36s 307ms/step - loss: 0.2649 - f1_score: 0.6932 - val_loss: 0.2575 - val_f1_score: 0.7029\n",
            "Epoch 82/100\n",
            "117/117 [==============================] - 36s 306ms/step - loss: 0.2648 - f1_score: 0.6931 - val_loss: 0.2574 - val_f1_score: 0.7035\n",
            "Epoch 83/100\n",
            "117/117 [==============================] - 36s 306ms/step - loss: 0.2646 - f1_score: 0.6932 - val_loss: 0.2572 - val_f1_score: 0.7038\n",
            "Epoch 84/100\n",
            "117/117 [==============================] - 36s 306ms/step - loss: 0.2645 - f1_score: 0.6932 - val_loss: 0.2571 - val_f1_score: 0.7037\n",
            "Epoch 85/100\n",
            "117/117 [==============================] - 36s 305ms/step - loss: 0.2644 - f1_score: 0.6930 - val_loss: 0.2570 - val_f1_score: 0.7035\n",
            "Epoch 86/100\n",
            "117/117 [==============================] - 36s 306ms/step - loss: 0.2642 - f1_score: 0.6934 - val_loss: 0.2568 - val_f1_score: 0.7033\n",
            "Epoch 87/100\n",
            "117/117 [==============================] - 36s 306ms/step - loss: 0.2641 - f1_score: 0.6936 - val_loss: 0.2567 - val_f1_score: 0.7031\n",
            "Epoch 88/100\n",
            "117/117 [==============================] - 36s 306ms/step - loss: 0.2640 - f1_score: 0.6938 - val_loss: 0.2566 - val_f1_score: 0.7031\n",
            "Epoch 89/100\n",
            "117/117 [==============================] - 36s 306ms/step - loss: 0.2638 - f1_score: 0.6942 - val_loss: 0.2565 - val_f1_score: 0.7031\n",
            "Epoch 90/100\n",
            "117/117 [==============================] - 36s 306ms/step - loss: 0.2637 - f1_score: 0.6940 - val_loss: 0.2563 - val_f1_score: 0.7027\n",
            "Epoch 91/100\n",
            "117/117 [==============================] - 36s 307ms/step - loss: 0.2636 - f1_score: 0.6940 - val_loss: 0.2562 - val_f1_score: 0.7039\n",
            "Epoch 92/100\n",
            "117/117 [==============================] - 36s 306ms/step - loss: 0.2635 - f1_score: 0.6943 - val_loss: 0.2561 - val_f1_score: 0.7028\n",
            "Epoch 93/100\n",
            "117/117 [==============================] - 36s 306ms/step - loss: 0.2634 - f1_score: 0.6941 - val_loss: 0.2560 - val_f1_score: 0.7047\n",
            "Epoch 94/100\n",
            "117/117 [==============================] - 36s 306ms/step - loss: 0.2632 - f1_score: 0.6942 - val_loss: 0.2559 - val_f1_score: 0.7034\n",
            "Epoch 95/100\n",
            "117/117 [==============================] - 36s 306ms/step - loss: 0.2631 - f1_score: 0.6947 - val_loss: 0.2558 - val_f1_score: 0.7036\n",
            "Epoch 96/100\n",
            "117/117 [==============================] - 36s 307ms/step - loss: 0.2630 - f1_score: 0.6953 - val_loss: 0.2557 - val_f1_score: 0.7031\n",
            "Epoch 97/100\n",
            "117/117 [==============================] - 36s 306ms/step - loss: 0.2629 - f1_score: 0.6948 - val_loss: 0.2556 - val_f1_score: 0.7033\n",
            "Epoch 98/100\n",
            "117/117 [==============================] - 36s 306ms/step - loss: 0.2628 - f1_score: 0.6950 - val_loss: 0.2554 - val_f1_score: 0.7036\n",
            "Epoch 99/100\n",
            "117/117 [==============================] - 36s 307ms/step - loss: 0.2627 - f1_score: 0.6954 - val_loss: 0.2554 - val_f1_score: 0.7041\n",
            "Epoch 100/100\n",
            "117/117 [==============================] - 36s 307ms/step - loss: 0.2626 - f1_score: 0.6957 - val_loss: 0.2552 - val_f1_score: 0.7046\n"
          ]
        }
      ]
    },
    {
      "cell_type": "code",
      "metadata": {
        "id": "pKCsMlmxWPEC",
        "outputId": "e201ac61-3c7d-4ae1-920c-2efca692a0bf",
        "colab": {
          "base_uri": "https://localhost:8080/"
        }
      },
      "source": [
        "import gc\n",
        "\n",
        "gc.collect()"
      ],
      "execution_count": 63,
      "outputs": [
        {
          "output_type": "execute_result",
          "data": {
            "text/plain": [
              "4"
            ]
          },
          "metadata": {},
          "execution_count": 63
        }
      ]
    },
    {
      "cell_type": "code",
      "metadata": {
        "colab": {
          "base_uri": "https://localhost:8080/"
        },
        "id": "OqJOPldd7NB-",
        "outputId": "94167a6f-6711-4bbb-9513-8c1efefe8ed1"
      },
      "source": [
        "model_history.history.keys()"
      ],
      "execution_count": 53,
      "outputs": [
        {
          "output_type": "execute_result",
          "data": {
            "text/plain": [
              "dict_keys(['loss', 'f1_score', 'val_loss', 'val_f1_score'])"
            ]
          },
          "metadata": {},
          "execution_count": 53
        }
      ]
    },
    {
      "cell_type": "code",
      "metadata": {
        "colab": {
          "base_uri": "https://localhost:8080/",
          "height": 295
        },
        "id": "SlULY3kI7s20",
        "outputId": "f79a6d8d-e4b0-4375-f764-00b64a4c038b"
      },
      "source": [
        "plt.plot(model_history.history['f1_score'])\n",
        "plt.plot(model_history.history['val_f1_score'])\n",
        "plt.title('model accuracy')\n",
        "plt.ylabel('f1 score')\n",
        "plt.xlabel('epoch')\n",
        "plt.legend(['train', 'validation'], loc='upper left')\n",
        "plt.show()"
      ],
      "execution_count": 63,
      "outputs": [
        {
          "output_type": "display_data",
          "data": {
            "image/png": "[encoded data removed]",
            "text/plain": [
              "<Figure size 432x288 with 1 Axes>"
            ]
          },
          "metadata": {
            "needs_background": "light"
          }
        }
      ]
    },
    {
      "cell_type": "code",
      "metadata": {
        "id": "ZiQf-K0U8Z_7"
      },
      "source": [
        ""
      ],
      "execution_count": null,
      "outputs": []
    },
    {
      "cell_type": "markdown",
      "metadata": {
        "id": "HOZRX3wEuG0A"
      },
      "source": [
        "### 2.2) Analise Exploratoria"
      ]
    },
    {
      "cell_type": "code",
      "metadata": {
        "colab": {
          "base_uri": "https://localhost:8080/",
          "height": 560
        },
        "id": "qbeqCmdQuc57",
        "outputId": "460b4636-bb98-473c-cf46-ce1f11f76e3e"
      },
      "source": [
        "plt.figure(figsize=(10,5))\n",
        "df_plot = pd.DataFrame(df_train[\"labels\"].value_counts()).reset_index()\n",
        "\n",
        "fig = px.bar(df_plot, x='index', y='labels')\n",
        "fig.show()"
      ],
      "execution_count": null,
      "outputs": [
        {
          "output_type": "display_data",
          "data": {
            "text/html": [
              "<html>\n",
              "<head><meta charset=\"utf-8\" /></head>\n",
              "<body>\n",
              "    <div>\n",
              "            <script src=\"https://cdnjs.cloudflare.com/ajax/libs/mathjax/2.7.5/MathJax.js?config=TeX-AMS-MML_SVG\"></script><script type=\"text/javascript\">if (window.MathJax) {MathJax.Hub.Config({SVG: {font: \"STIX-Web\"}});}</script>\n",
              "                <script type=\"text/javascript\">window.PlotlyConfig = {MathJaxConfig: 'local'};</script>\n",
              "        <script src=\"https://cdn.plot.ly/plotly-latest.min.js\"></script>    \n",
              "            <div id=\"9dcb24aa-2351-4cea-9a56-4d959e776593\" class=\"plotly-graph-div\" style=\"height:525px; width:100%;\"></div>\n",
              "            <script type=\"text/javascript\">\n",
              "                \n",
              "                    window.PLOTLYENV=window.PLOTLYENV || {};\n",
              "                    \n",
              "                if (document.getElementById(\"9dcb24aa-2351-4cea-9a56-4d959e776593\")) {\n",
              "                    Plotly.newPlot(\n",
              "                        '9dcb24aa-2351-4cea-9a56-4d959e776593',\n",
              "                        [{\"alignmentgroup\": \"True\", \"hoverlabel\": {\"namelength\": 0}, \"hovertemplate\": \"index=%{x}<br>labels=%{y}\", \"legendgroup\": \"\", \"marker\": {\"color\": \"#636efa\"}, \"name\": \"\", \"offsetgroup\": \"\", \"orientation\": \"v\", \"showlegend\": false, \"textposition\": \"auto\", \"type\": \"bar\", \"x\": [\"scab\", \"healthy\", \"frog_eye_leaf_spot\", \"rust\", \"complex\", \"powdery_mildew\", \"scab frog_eye_leaf_spot\", \"scab frog_eye_leaf_spot complex\", \"frog_eye_leaf_spot complex\", \"rust frog_eye_leaf_spot\", \"rust complex\", \"powdery_mildew complex\"], \"xaxis\": \"x\", \"y\": [4826, 4624, 3181, 1860, 1602, 1184, 686, 200, 165, 120, 97, 87], \"yaxis\": \"y\"}],\n",
              "                        {\"barmode\": \"relative\", \"legend\": {\"tracegroupgap\": 0}, \"margin\": {\"t\": 60}, \"template\": {\"data\": {\"bar\": [{\"error_x\": {\"color\": \"#2a3f5f\"}, \"error_y\": {\"color\": \"#2a3f5f\"}, \"marker\": {\"line\": {\"color\": \"#E5ECF6\", \"width\": 0.5}}, \"type\": \"bar\"}], \"barpolar\": [{\"marker\": {\"line\": {\"color\": \"#E5ECF6\", \"width\": 0.5}}, \"type\": \"barpolar\"}], \"carpet\": [{\"aaxis\": {\"endlinecolor\": \"#2a3f5f\", \"gridcolor\": \"white\", \"linecolor\": \"white\", \"minorgridcolor\": \"white\", \"startlinecolor\": \"#2a3f5f\"}, \"baxis\": {\"endlinecolor\": \"#2a3f5f\", \"gridcolor\": \"white\", \"linecolor\": \"white\", \"minorgridcolor\": \"white\", \"startlinecolor\": \"#2a3f5f\"}, \"type\": \"carpet\"}], \"choropleth\": [{\"colorbar\": {\"outlinewidth\": 0, \"ticks\": \"\"}, \"type\": \"choropleth\"}], \"contour\": [{\"colorbar\": {\"outlinewidth\": 0, \"ticks\": \"\"}, \"colorscale\": [[0.0, \"#0d0887\"], [0.1111111111111111, \"#46039f\"], [0.2222222222222222, \"#7201a8\"], [0.3333333333333333, \"#9c179e\"], [0.4444444444444444, \"#bd3786\"], [0.5555555555555556, \"#d8576b\"], [0.6666666666666666, \"#ed7953\"], [0.7777777777777778, \"#fb9f3a\"], [0.8888888888888888, \"#fdca26\"], [1.0, \"#f0f921\"]], \"type\": \"contour\"}], \"contourcarpet\": [{\"colorbar\": {\"outlinewidth\": 0, \"ticks\": \"\"}, \"type\": \"contourcarpet\"}], \"heatmap\": [{\"colorbar\": {\"outlinewidth\": 0, \"ticks\": \"\"}, \"colorscale\": [[0.0, \"#0d0887\"], [0.1111111111111111, \"#46039f\"], [0.2222222222222222, \"#7201a8\"], [0.3333333333333333, \"#9c179e\"], [0.4444444444444444, \"#bd3786\"], [0.5555555555555556, \"#d8576b\"], [0.6666666666666666, \"#ed7953\"], [0.7777777777777778, \"#fb9f3a\"], [0.8888888888888888, \"#fdca26\"], [1.0, \"#f0f921\"]], \"type\": \"heatmap\"}], \"heatmapgl\": [{\"colorbar\": {\"outlinewidth\": 0, \"ticks\": \"\"}, \"colorscale\": [[0.0, \"#0d0887\"], [0.1111111111111111, \"#46039f\"], [0.2222222222222222, \"#7201a8\"], [0.3333333333333333, \"#9c179e\"], [0.4444444444444444, \"#bd3786\"], [0.5555555555555556, \"#d8576b\"], [0.6666666666666666, \"#ed7953\"], [0.7777777777777778, \"#fb9f3a\"], [0.8888888888888888, \"#fdca26\"], [1.0, \"#f0f921\"]], \"type\": \"heatmapgl\"}], \"histogram\": [{\"marker\": {\"colorbar\": {\"outlinewidth\": 0, \"ticks\": \"\"}}, \"type\": \"histogram\"}], \"histogram2d\": [{\"colorbar\": {\"outlinewidth\": 0, \"ticks\": \"\"}, \"colorscale\": [[0.0, \"#0d0887\"], [0.1111111111111111, \"#46039f\"], [0.2222222222222222, \"#7201a8\"], [0.3333333333333333, \"#9c179e\"], [0.4444444444444444, \"#bd3786\"], [0.5555555555555556, \"#d8576b\"], [0.6666666666666666, \"#ed7953\"], [0.7777777777777778, \"#fb9f3a\"], [0.8888888888888888, \"#fdca26\"], [1.0, \"#f0f921\"]], \"type\": \"histogram2d\"}], \"histogram2dcontour\": [{\"colorbar\": {\"outlinewidth\": 0, \"ticks\": \"\"}, \"colorscale\": [[0.0, \"#0d0887\"], [0.1111111111111111, \"#46039f\"], [0.2222222222222222, \"#7201a8\"], [0.3333333333333333, \"#9c179e\"], [0.4444444444444444, \"#bd3786\"], [0.5555555555555556, \"#d8576b\"], [0.6666666666666666, \"#ed7953\"], [0.7777777777777778, \"#fb9f3a\"], [0.8888888888888888, \"#fdca26\"], [1.0, \"#f0f921\"]], \"type\": \"histogram2dcontour\"}], \"mesh3d\": [{\"colorbar\": {\"outlinewidth\": 0, \"ticks\": \"\"}, \"type\": \"mesh3d\"}], \"parcoords\": [{\"line\": {\"colorbar\": {\"outlinewidth\": 0, \"ticks\": \"\"}}, \"type\": \"parcoords\"}], \"pie\": [{\"automargin\": true, \"type\": \"pie\"}], \"scatter\": [{\"marker\": {\"colorbar\": {\"outlinewidth\": 0, \"ticks\": \"\"}}, \"type\": \"scatter\"}], \"scatter3d\": [{\"line\": {\"colorbar\": {\"outlinewidth\": 0, \"ticks\": \"\"}}, \"marker\": {\"colorbar\": {\"outlinewidth\": 0, \"ticks\": \"\"}}, \"type\": \"scatter3d\"}], \"scattercarpet\": [{\"marker\": {\"colorbar\": {\"outlinewidth\": 0, \"ticks\": \"\"}}, \"type\": \"scattercarpet\"}], \"scattergeo\": [{\"marker\": {\"colorbar\": {\"outlinewidth\": 0, \"ticks\": \"\"}}, \"type\": \"scattergeo\"}], \"scattergl\": [{\"marker\": {\"colorbar\": {\"outlinewidth\": 0, \"ticks\": \"\"}}, \"type\": \"scattergl\"}], \"scattermapbox\": [{\"marker\": {\"colorbar\": {\"outlinewidth\": 0, \"ticks\": \"\"}}, \"type\": \"scattermapbox\"}], \"scatterpolar\": [{\"marker\": {\"colorbar\": {\"outlinewidth\": 0, \"ticks\": \"\"}}, \"type\": \"scatterpolar\"}], \"scatterpolargl\": [{\"marker\": {\"colorbar\": {\"outlinewidth\": 0, \"ticks\": \"\"}}, \"type\": \"scatterpolargl\"}], \"scatterternary\": [{\"marker\": {\"colorbar\": {\"outlinewidth\": 0, \"ticks\": \"\"}}, \"type\": \"scatterternary\"}], \"surface\": [{\"colorbar\": {\"outlinewidth\": 0, \"ticks\": \"\"}, \"colorscale\": [[0.0, \"#0d0887\"], [0.1111111111111111, \"#46039f\"], [0.2222222222222222, \"#7201a8\"], [0.3333333333333333, \"#9c179e\"], [0.4444444444444444, \"#bd3786\"], [0.5555555555555556, \"#d8576b\"], [0.6666666666666666, \"#ed7953\"], [0.7777777777777778, \"#fb9f3a\"], [0.8888888888888888, \"#fdca26\"], [1.0, \"#f0f921\"]], \"type\": \"surface\"}], \"table\": [{\"cells\": {\"fill\": {\"color\": \"#EBF0F8\"}, \"line\": {\"color\": \"white\"}}, \"header\": {\"fill\": {\"color\": \"#C8D4E3\"}, \"line\": {\"color\": \"white\"}}, \"type\": \"table\"}]}, \"layout\": {\"annotationdefaults\": {\"arrowcolor\": \"#2a3f5f\", \"arrowhead\": 0, \"arrowwidth\": 1}, \"coloraxis\": {\"colorbar\": {\"outlinewidth\": 0, \"ticks\": \"\"}}, \"colorscale\": {\"diverging\": [[0, \"#8e0152\"], [0.1, \"#c51b7d\"], [0.2, \"#de77ae\"], [0.3, \"#f1b6da\"], [0.4, \"#fde0ef\"], [0.5, \"#f7f7f7\"], [0.6, \"#e6f5d0\"], [0.7, \"#b8e186\"], [0.8, \"#7fbc41\"], [0.9, \"#4d9221\"], [1, \"#276419\"]], \"sequential\": [[0.0, \"#0d0887\"], [0.1111111111111111, \"#46039f\"], [0.2222222222222222, \"#7201a8\"], [0.3333333333333333, \"#9c179e\"], [0.4444444444444444, \"#bd3786\"], [0.5555555555555556, \"#d8576b\"], [0.6666666666666666, \"#ed7953\"], [0.7777777777777778, \"#fb9f3a\"], [0.8888888888888888, \"#fdca26\"], [1.0, \"#f0f921\"]], \"sequentialminus\": [[0.0, \"#0d0887\"], [0.1111111111111111, \"#46039f\"], [0.2222222222222222, \"#7201a8\"], [0.3333333333333333, \"#9c179e\"], [0.4444444444444444, \"#bd3786\"], [0.5555555555555556, \"#d8576b\"], [0.6666666666666666, \"#ed7953\"], [0.7777777777777778, \"#fb9f3a\"], [0.8888888888888888, \"#fdca26\"], [1.0, \"#f0f921\"]]}, \"colorway\": [\"#636efa\", \"#EF553B\", \"#00cc96\", \"#ab63fa\", \"#FFA15A\", \"#19d3f3\", \"#FF6692\", \"#B6E880\", \"#FF97FF\", \"#FECB52\"], \"font\": {\"color\": \"#2a3f5f\"}, \"geo\": {\"bgcolor\": \"white\", \"lakecolor\": \"white\", \"landcolor\": \"#E5ECF6\", \"showlakes\": true, \"showland\": true, \"subunitcolor\": \"white\"}, \"hoverlabel\": {\"align\": \"left\"}, \"hovermode\": \"closest\", \"mapbox\": {\"style\": \"light\"}, \"paper_bgcolor\": \"white\", \"plot_bgcolor\": \"#E5ECF6\", \"polar\": {\"angularaxis\": {\"gridcolor\": \"white\", \"linecolor\": \"white\", \"ticks\": \"\"}, \"bgcolor\": \"#E5ECF6\", \"radialaxis\": {\"gridcolor\": \"white\", \"linecolor\": \"white\", \"ticks\": \"\"}}, \"scene\": {\"xaxis\": {\"backgroundcolor\": \"#E5ECF6\", \"gridcolor\": \"white\", \"gridwidth\": 2, \"linecolor\": \"white\", \"showbackground\": true, \"ticks\": \"\", \"zerolinecolor\": \"white\"}, \"yaxis\": {\"backgroundcolor\": \"#E5ECF6\", \"gridcolor\": \"white\", \"gridwidth\": 2, \"linecolor\": \"white\", \"showbackground\": true, \"ticks\": \"\", \"zerolinecolor\": \"white\"}, \"zaxis\": {\"backgroundcolor\": \"#E5ECF6\", \"gridcolor\": \"white\", \"gridwidth\": 2, \"linecolor\": \"white\", \"showbackground\": true, \"ticks\": \"\", \"zerolinecolor\": \"white\"}}, \"shapedefaults\": {\"line\": {\"color\": \"#2a3f5f\"}}, \"ternary\": {\"aaxis\": {\"gridcolor\": \"white\", \"linecolor\": \"white\", \"ticks\": \"\"}, \"baxis\": {\"gridcolor\": \"white\", \"linecolor\": \"white\", \"ticks\": \"\"}, \"bgcolor\": \"#E5ECF6\", \"caxis\": {\"gridcolor\": \"white\", \"linecolor\": \"white\", \"ticks\": \"\"}}, \"title\": {\"x\": 0.05}, \"xaxis\": {\"automargin\": true, \"gridcolor\": \"white\", \"linecolor\": \"white\", \"ticks\": \"\", \"title\": {\"standoff\": 15}, \"zerolinecolor\": \"white\", \"zerolinewidth\": 2}, \"yaxis\": {\"automargin\": true, \"gridcolor\": \"white\", \"linecolor\": \"white\", \"ticks\": \"\", \"title\": {\"standoff\": 15}, \"zerolinecolor\": \"white\", \"zerolinewidth\": 2}}}, \"xaxis\": {\"anchor\": \"y\", \"domain\": [0.0, 1.0], \"title\": {\"text\": \"index\"}}, \"yaxis\": {\"anchor\": \"x\", \"domain\": [0.0, 1.0], \"title\": {\"text\": \"labels\"}}},\n",
              "                        {\"responsive\": true}\n",
              "                    ).then(function(){\n",
              "                            \n",
              "var gd = document.getElementById('9dcb24aa-2351-4cea-9a56-4d959e776593');\n",
              "var x = new MutationObserver(function (mutations, observer) {{\n",
              "        var display = window.getComputedStyle(gd).display;\n",
              "        if (!display || display === 'none') {{\n",
              "            console.log([gd, 'removed!']);\n",
              "            Plotly.purge(gd);\n",
              "            observer.disconnect();\n",
              "        }}\n",
              "}});\n",
              "\n",
              "// Listen for the removal of the full notebook cells\n",
              "var notebookContainer = gd.closest('#notebook-container');\n",
              "if (notebookContainer) {{\n",
              "    x.observe(notebookContainer, {childList: true});\n",
              "}}\n",
              "\n",
              "// Listen for the clearing of the current output cell\n",
              "var outputEl = gd.closest('.output');\n",
              "if (outputEl) {{\n",
              "    x.observe(outputEl, {childList: true});\n",
              "}}\n",
              "\n",
              "                        })\n",
              "                };\n",
              "                \n",
              "            </script>\n",
              "        </div>\n",
              "</body>\n",
              "</html>"
            ]
          },
          "metadata": {}
        },
        {
          "output_type": "display_data",
          "data": {
            "text/plain": [
              "<Figure size 720x360 with 0 Axes>"
            ]
          },
          "metadata": {}
        }
      ]
    },
    {
      "cell_type": "markdown",
      "metadata": {
        "id": "k2TH5uvsa22j"
      },
      "source": [
        "#### Analise Duplicados"
      ]
    },
    {
      "cell_type": "code",
      "metadata": {
        "colab": {
          "base_uri": "https://localhost:8080/"
        },
        "id": "y01uIAwmuOgV",
        "outputId": "78c9fa8d-bdef-495c-b1b6-556fe922e864"
      },
      "source": [
        "! pip install imagehash"
      ],
      "execution_count": null,
      "outputs": [
        {
          "output_type": "stream",
          "name": "stdout",
          "text": [
            "Collecting imagehash\n",
            "  Downloading ImageHash-4.2.1.tar.gz (812 kB)\n",
            "\u001b[K     |████████████████████████████████| 812 kB 5.3 MB/s \n",
            "\u001b[?25hRequirement already satisfied: six in /usr/local/lib/python3.7/dist-packages (from imagehash) (1.15.0)\n",
            "Requirement already satisfied: numpy in /usr/local/lib/python3.7/dist-packages (from imagehash) (1.19.5)\n",
            "Requirement already satisfied: scipy in /usr/local/lib/python3.7/dist-packages (from imagehash) (1.4.1)\n",
            "Requirement already satisfied: pillow in /usr/local/lib/python3.7/dist-packages (from imagehash) (7.1.2)\n",
            "Requirement already satisfied: PyWavelets in /usr/local/lib/python3.7/dist-packages (from imagehash) (1.2.0)\n",
            "Building wheels for collected packages: imagehash\n",
            "  Building wheel for imagehash (setup.py) ... \u001b[?25l\u001b[?25hdone\n",
            "  Created wheel for imagehash: filename=ImageHash-4.2.1-py2.py3-none-any.whl size=295207 sha256=8ae35b9a27402e186e860f09dac23554553ef350ba16d1cb85a3a5f6672c4da6\n",
            "  Stored in directory: /root/.cache/pip/wheels/4c/d5/59/5e3e297533ddb09407769762985d134135064c6831e29a914e\n",
            "Successfully built imagehash\n",
            "Installing collected packages: imagehash\n",
            "Successfully installed imagehash-4.2.1\n"
          ]
        }
      ]
    },
    {
      "cell_type": "code",
      "metadata": {
        "id": "T-X_Nf65uEbI"
      },
      "source": [
        "from tqdm.notebook import tqdm\n",
        "import matplotlib.pyplot as plt\n",
        "import tensorflow as tf\n",
        "import pandas as pd\n",
        "import numpy as np\n",
        "import imagehash\n",
        "import PIL\n",
        "import os"
      ],
      "execution_count": null,
      "outputs": []
    },
    {
      "cell_type": "code",
      "metadata": {
        "id": "1BkWfZpSuMrW"
      },
      "source": [
        "class CFG():\n",
        "    \n",
        "    threshold = .9\n",
        "    img_size = 512\n",
        "    seed = 42"
      ],
      "execution_count": null,
      "outputs": []
    },
    {
      "cell_type": "code",
      "metadata": {
        "id": "5RSGh4AquVLz"
      },
      "source": [
        "paths = os.listdir(\"/projeto_final/train_images/\")\n",
        "\n",
        "try:\n",
        "  os.mkdir(\"/projeto_final/train_images_small\")\n",
        "except:\n",
        "  pass"
      ],
      "execution_count": null,
      "outputs": []
    },
    {
      "cell_type": "code",
      "metadata": {
        "colab": {
          "base_uri": "https://localhost:8080/",
          "height": 49,
          "referenced_widgets": [
            "243e30afa8924797be7d946ccb51a006",
            "873a8c50f1694286aeed592199f43c55",
            "0a152a33cbde4078b175bd20ac2718cc",
            "38cb2326e28644bebe8145b6b904b9e9",
            "a0ff0549bed04299a5b7bb5bc3becb00",
            "81a56b4d45034498b9de6310e9e09332",
            "541b6ca8e7e344dc924df99aaf2bc8b3",
            "8fbdb4536246499fb390e3c1f7b1a960",
            "6e4c9684e3554a84ae4ce402b1fe1870",
            "0e88004f28cc4c09a709ecdcef38dbc5",
            "63070f1552f64d2491edabbe9edbafb6"
          ]
        },
        "id": "HTIluQvo-2vW",
        "outputId": "e04a36de-6a87-48d6-c767-d850ad3c54aa"
      },
      "source": [
        "for path in tqdm(paths, total=len(paths)):\n",
        "  image = tf.io.read_file(os.path.join(\"/projeto_final/train_images/\", path))\n",
        "  image = tf.image.decode_jpeg(image, channels=3)\n",
        "  image = tf.image.resize(image, [CFG.img_size, CFG.img_size])\n",
        "  image = tf.cast(image, tf.uint8).numpy()\n",
        "  plt.imsave(\"/projeto_final/train_images_small/\"+path, image)"
      ],
      "execution_count": null,
      "outputs": [
        {
          "output_type": "display_data",
          "data": {
            "application/vnd.jupyter.widget-view+json": {
              "model_id": "243e30afa8924797be7d946ccb51a006",
              "version_minor": 0,
              "version_major": 2
            },
            "text/plain": [
              "  0%|          | 0/18632 [00:00<?, ?it/s]"
            ]
          },
          "metadata": {}
        }
      ]
    },
    {
      "cell_type": "code",
      "metadata": {
        "colab": {
          "base_uri": "https://localhost:8080/",
          "height": 49,
          "referenced_widgets": [
            "0b2e18e6e4bc4c5a94a7bdd9d9a9aef4",
            "17cf2d4f74c54693b26afe1e5f2c7f82",
            "3dff99aa77d741c1a2bb5e26d9bb8132",
            "f29e97f69fe84ea382bdcd564915211a",
            "1343c7d54eda4cd6aa98d38a7ed03d18",
            "e02ee89c4f8242808e58cabf050cf0d2",
            "5099092854eb48e3bb3173ccc365145b",
            "b17eee2b0e6948f79646ef6551d8dbd4",
            "bfaaa6b4c44c4d0cbcb717fc2d9ade8e",
            "a7f2a4b630244379a96a7e584290d983",
            "f9312066867a4d69b1a0efe515525a0b"
          ]
        },
        "id": "OcnEM7_kwTQr",
        "outputId": "04223991-6b01-4889-e373-764b6093f438"
      },
      "source": [
        "hash_functions = [\n",
        "    imagehash.average_hash,\n",
        "    imagehash.phash,\n",
        "    imagehash.dhash,\n",
        "    imagehash.whash]\n",
        "\n",
        "image_ids = []\n",
        "hashes = []\n",
        "\n",
        "paths = tf.io.gfile.glob('/projeto_final/train_images_small/*.jpg')\n",
        "\n",
        "for path in tqdm(paths, total=len(paths)):\n",
        "\n",
        "    image = PIL.Image.open(path)\n",
        "\n",
        "    hashes.append(np.array([x(image).hash for x in hash_functions]).reshape(-1,))\n",
        "    image_ids.append(path.split('/')[-1])\n",
        "    \n",
        "hashes = np.array(hashes)\n",
        "image_ids = np.array(image_ids)"
      ],
      "execution_count": null,
      "outputs": [
        {
          "output_type": "display_data",
          "data": {
            "application/vnd.jupyter.widget-view+json": {
              "model_id": "0b2e18e6e4bc4c5a94a7bdd9d9a9aef4",
              "version_minor": 0,
              "version_major": 2
            },
            "text/plain": [
              "  0%|          | 0/18632 [00:00<?, ?it/s]"
            ]
          },
          "metadata": {}
        }
      ]
    },
    {
      "cell_type": "code",
      "metadata": {
        "colab": {
          "base_uri": "https://localhost:8080/",
          "height": 49,
          "referenced_widgets": [
            "edb42b05ed1b4d759c4881e8e90692da",
            "e0c3d632d96f41e9971693ecb1fbb9e4",
            "6366e9a467574406871345b4d30ac9b5",
            "1a105b78978f4d908146bf86eed598a6",
            "809aa0d3b0f547ba9b62a91aed320f87",
            "1a478d4557c340919f0f6010a5607c9b",
            "206dbdb586f14e5f9211cacaa41b1fd4",
            "9fdf2965c0d342c2bb0361b1f5c326b8",
            "6d47dd21ee114cb7b025267d7eca7ffa",
            "428f58fa032a4599b8058f530835214e",
            "28da2fe99acf4f81a843a16e6d029f32"
          ]
        },
        "id": "mfNy4SPjyptE",
        "outputId": "2e5e060d-02ac-493e-ee1e-9b1cc5ccdbf1"
      },
      "source": [
        "duplicate_ids = []\n",
        "\n",
        "for i in tqdm(range(len(hashes)), total=len(hashes)):\n",
        "    similarity = (hashes[i] == hashes).mean(axis=1)\n",
        "    duplicate_ids.append(list(image_ids[similarity > CFG.threshold]))\n",
        "    \n",
        "duplicates = [frozenset([x] + y) for x, y in zip(image_ids, duplicate_ids)]\n",
        "duplicates = set([x for x in duplicates if len(x) > 1])\n",
        "\n"
      ],
      "execution_count": null,
      "outputs": [
        {
          "output_type": "display_data",
          "data": {
            "application/vnd.jupyter.widget-view+json": {
              "model_id": "edb42b05ed1b4d759c4881e8e90692da",
              "version_minor": 0,
              "version_major": 2
            },
            "text/plain": [
              "  0%|          | 0/18632 [00:00<?, ?it/s]"
            ]
          },
          "metadata": {}
        }
      ]
    },
    {
      "cell_type": "code",
      "metadata": {
        "colab": {
          "base_uri": "https://localhost:8080/"
        },
        "id": "4PSEHpzXyv1O",
        "outputId": "25089ed1-3a25-4413-9da6-2207ff4f96d5"
      },
      "source": [
        "print(f'Found {len(duplicates)} duplicate pairs:')\n",
        "for row in duplicates:\n",
        "    print(', '.join(row))"
      ],
      "execution_count": null,
      "outputs": [
        {
          "output_type": "stream",
          "name": "stdout",
          "text": [
            "Found 50 duplicate pairs:\n",
            "83e3d2329933c5f2.jpg, 83e3d2369933c5d2.jpg\n",
            "9ada65c5b0cc9a3c.jpg, e9e8ad35c5871d06.jpg\n",
            "abb0d5a9d4b4985c.jpg, ab91d1a9d4b49a6c.jpg\n",
            "d89c9cda9274322f.jpg, d89d9ede82743229.jpg\n",
            "c9d63696629107ed.jpg, 8f5263c61a8cdbe2.jpg\n",
            "aa542048ebf78bf4.jpg, aa142048eff78bf4.jpg\n",
            "8c0731fff680c51e.jpg, df90901ccb664de6.jpg\n",
            "e11be7f110de8f80.jpg, e13be7f1105e8f80.jpg\n",
            "e51690d8ad307dcb.jpg, eec64e8cf1c8d0c6.jpg\n",
            "d2266ac99461e9db.jpg, c1753cad2f31d492.jpg\n",
            "a3bb604d8a55995d.jpg, e7ecc583d571d202.jpg\n",
            "d0c766bc38e1978c.jpg, e83f715e56462a31.jpg\n",
            "c738d13e7146798c.jpg, c738d13e73467988.jpg\n",
            "98864714f96a75d5.jpg, 9886c704f93a79b3.jpg\n",
            "90f99ee1c1132bb6.jpg, 94c83b2d5fad6924.jpg\n",
            "a9b2e4b09297bc2b.jpg, d1f01e8d8a73274d.jpg\n",
            "9fad869f21b5b240.jpg, d7ec32d72c84dc18.jpg\n",
            "f6f1160be38a48d5.jpg, f6f11e0fe38a08c5.jpg\n",
            "c5339e87235c6ac5.jpg, c53b9e87215c6ac5.jpg\n",
            "c5aff2e545d0a129.jpg, dbee22785d9285c4.jpg\n",
            "e22e9a365cd1ea58.jpg, e22e8a365cd1ea5c.jpg\n",
            "f0cb859beb1b30c1.jpg, f0cb879e4a1b35c1.jpg\n",
            "ca782c131f5ce0fc.jpg, e5f27342ce1cb9a0.jpg\n",
            "f2c798246a0a9bdd.jpg, c1a56069de75b899.jpg\n",
            "ab83c05147c3cfe6.jpg, ab83c0d147c3db66.jpg\n",
            "848d9f9e82d18e5e.jpg, 949b6595a5b8ca3c.jpg\n",
            "e8212ddeec024fec.jpg, e8210ddefc024fec.jpg\n",
            "b80898e11f81ff1f.jpg, b80898e11fa17f1f.jpg\n",
            "cc73e005cc36f31e.jpg, cc73e025cc36d31e.jpg\n",
            "a8e895f5aa54d2a5.jpg, a8e895e5aad453a5.jpg\n",
            "d1dec0973c2cf4a1.jpg, d2d9c2bca7a72458.jpg\n",
            "a7e613159fb22859.jpg, b5ec52491e3349ce.jpg\n",
            "e90e1ac8b7e7aa50.jpg, e90e1acab7e5aa50.jpg\n",
            "dfc86b180e3ac8f8.jpg, dfcc6b28063a88fc.jpg\n",
            "94b42695f24dad36.jpg, f7d233d11aa8496c.jpg\n",
            "f4cba4a7294d6585.jpg, d64460a3b19f1cfc.jpg\n",
            "9fc321ce60a69f0b.jpg, 86f963a16e70345e.jpg\n",
            "bb1891fa8c61e663.jpg, aa0e969518e15d3f.jpg\n",
            "f3dc17a2b20d48ec.jpg, 90a5341f227ce5f9.jpg\n",
            "f90738a0d2f2c1db.jpg, bd8088cdad5f65e0.jpg\n",
            "b7b0edd58a858217.jpg, ba99260ef46b18cb.jpg\n",
            "d3945c098edc9dd1.jpg, dea33c5c0347aa4d.jpg\n",
            "d70f6330fb5a090d.jpg, d70f2230fb5a093d.jpg\n",
            "e787c35e0f0c34e8.jpg, e586c25e0f1c3c79.jpg\n",
            "cdf892b5b4865859.jpg, 82ba3e933947b097.jpg\n",
            "ec83c7c04a1e9db9.jpg, 85897ea7f064b26a.jpg\n",
            "ae5074cfc9183763.jpg, 965295a64a97859f.jpg\n",
            "ebd19f1c549a1ad0.jpg, ebd19f9c549a12d0.jpg\n",
            "e8bd8ac4d982dd83.jpg, e8a58ad4d9829f33.jpg\n",
            "e1e39f8809c7349d.jpg, e9c39fa809c7341d.jpg\n"
          ]
        }
      ]
    },
    {
      "cell_type": "code",
      "metadata": {
        "id": "pfO0-8m5JHps"
      },
      "source": [
        "# Criando csv de duplicados e salvando no drive\n",
        "\n",
        "with open(\"drive/MyDrive/projeto_final_dups.csv\", \"w\") as file:\n",
        "  for row in duplicates:\n",
        "    file.write(\";\".join(row)+\"\\n\")"
      ],
      "execution_count": null,
      "outputs": []
    },
    {
      "cell_type": "markdown",
      "metadata": {
        "id": "8yuw4DmnWBGW"
      },
      "source": [
        "Referencia\n",
        "https://www.kaggle.com/nickuzmenkov/pp2021-ultimate-preprocessing"
      ]
    },
    {
      "cell_type": "markdown",
      "metadata": {
        "id": "VPPNn3E8l1PW"
      },
      "source": [
        "### Ler duplicados do csv ja salvo"
      ]
    },
    {
      "cell_type": "code",
      "metadata": {
        "id": "fzxbv0yoK9EA"
      },
      "source": [
        "df_dups = pd.read_csv(\"drive/MyDrive/projeto_final_dups.csv\", sep=\";\", names=[\"img_1\", \"img_2\"])"
      ],
      "execution_count": null,
      "outputs": []
    },
    {
      "cell_type": "code",
      "metadata": {
        "id": "16JogYVUKS3v"
      },
      "source": [
        "df_dups_cat = df_dups.merge(df_train[[\"image\",\"label_list\"]], left_on=\"img_1\", right_on=\"image\", how=\"left\")\n",
        "df_dups_cat.drop(\"image\",axis = 1, inplace=True)\n",
        "df_dups_cat.rename(columns={\"label_list\":\"labels_1\"},inplace=True)"
      ],
      "execution_count": null,
      "outputs": []
    },
    {
      "cell_type": "code",
      "metadata": {
        "id": "AVP0fucxbbQx"
      },
      "source": [
        "df_dups_cat = df_dups_cat.merge(df_train[[\"image\",\"label_list\"]], left_on=\"img_2\", right_on=\"image\", how=\"left\")\n",
        "df_dups_cat.drop(\"image\",axis = 1, inplace=True)\n",
        "df_dups_cat.rename(columns={\"label_list\":\"labels_2\"},inplace=True)"
      ],
      "execution_count": null,
      "outputs": []
    },
    {
      "cell_type": "code",
      "metadata": {
        "id": "qWUpZstIc7uQ"
      },
      "source": [
        "df_dups_cat[\"flag_dif_label\"] = df_dups_cat[\"labels_1\"] != df_dups_cat[\"labels_2\"]"
      ],
      "execution_count": null,
      "outputs": []
    },
    {
      "cell_type": "code",
      "metadata": {
        "colab": {
          "base_uri": "https://localhost:8080/"
        },
        "id": "4tRxjbjdjQT_",
        "outputId": "0ecf17ee-5896-41f3-965d-dba7eaec2779"
      },
      "source": [
        "# Nem todas as imagens tem os mesmos labels associdos a elas\n",
        "df_dups_cat[\"flag_dif_label\"].value_counts()"
      ],
      "execution_count": null,
      "outputs": [
        {
          "output_type": "execute_result",
          "data": {
            "text/plain": [
              "True     27\n",
              "False    23\n",
              "Name: flag_dif_label, dtype: int64"
            ]
          },
          "metadata": {},
          "execution_count": 18
        }
      ]
    },
    {
      "cell_type": "code",
      "metadata": {
        "colab": {
          "base_uri": "https://localhost:8080/",
          "height": 206
        },
        "id": "hQhGVRgtlghm",
        "outputId": "29b3c523-cdc2-441f-d719-3fff0a6a750c"
      },
      "source": [
        "df_dups_cat.head()"
      ],
      "execution_count": null,
      "outputs": [
        {
          "output_type": "execute_result",
          "data": {
            "text/html": [
              "<div>\n",
              "<style scoped>\n",
              "    .dataframe tbody tr th:only-of-type {\n",
              "        vertical-align: middle;\n",
              "    }\n",
              "\n",
              "    .dataframe tbody tr th {\n",
              "        vertical-align: top;\n",
              "    }\n",
              "\n",
              "    .dataframe thead th {\n",
              "        text-align: right;\n",
              "    }\n",
              "</style>\n",
              "<table border=\"1\" class=\"dataframe\">\n",
              "  <thead>\n",
              "    <tr style=\"text-align: right;\">\n",
              "      <th></th>\n",
              "      <th>img_1</th>\n",
              "      <th>img_2</th>\n",
              "      <th>labels_1</th>\n",
              "      <th>labels_2</th>\n",
              "      <th>flag_dif_label</th>\n",
              "    </tr>\n",
              "  </thead>\n",
              "  <tbody>\n",
              "    <tr>\n",
              "      <th>0</th>\n",
              "      <td>83e3d2329933c5f2.jpg</td>\n",
              "      <td>83e3d2369933c5d2.jpg</td>\n",
              "      <td>[scab]</td>\n",
              "      <td>[scab]</td>\n",
              "      <td>False</td>\n",
              "    </tr>\n",
              "    <tr>\n",
              "      <th>1</th>\n",
              "      <td>9ada65c5b0cc9a3c.jpg</td>\n",
              "      <td>e9e8ad35c5871d06.jpg</td>\n",
              "      <td>[complex]</td>\n",
              "      <td>[rust]</td>\n",
              "      <td>True</td>\n",
              "    </tr>\n",
              "    <tr>\n",
              "      <th>2</th>\n",
              "      <td>abb0d5a9d4b4985c.jpg</td>\n",
              "      <td>ab91d1a9d4b49a6c.jpg</td>\n",
              "      <td>[rust]</td>\n",
              "      <td>[rust]</td>\n",
              "      <td>False</td>\n",
              "    </tr>\n",
              "    <tr>\n",
              "      <th>3</th>\n",
              "      <td>d89c9cda9274322f.jpg</td>\n",
              "      <td>d89d9ede82743229.jpg</td>\n",
              "      <td>[rust]</td>\n",
              "      <td>[rust]</td>\n",
              "      <td>False</td>\n",
              "    </tr>\n",
              "    <tr>\n",
              "      <th>4</th>\n",
              "      <td>c9d63696629107ed.jpg</td>\n",
              "      <td>8f5263c61a8cdbe2.jpg</td>\n",
              "      <td>[complex]</td>\n",
              "      <td>[rust]</td>\n",
              "      <td>True</td>\n",
              "    </tr>\n",
              "  </tbody>\n",
              "</table>\n",
              "</div>"
            ],
            "text/plain": [
              "                  img_1                 img_2  ... labels_2 flag_dif_label\n",
              "0  83e3d2329933c5f2.jpg  83e3d2369933c5d2.jpg  ...   [scab]          False\n",
              "1  9ada65c5b0cc9a3c.jpg  e9e8ad35c5871d06.jpg  ...   [rust]           True\n",
              "2  abb0d5a9d4b4985c.jpg  ab91d1a9d4b49a6c.jpg  ...   [rust]          False\n",
              "3  d89c9cda9274322f.jpg  d89d9ede82743229.jpg  ...   [rust]          False\n",
              "4  c9d63696629107ed.jpg  8f5263c61a8cdbe2.jpg  ...   [rust]           True\n",
              "\n",
              "[5 rows x 5 columns]"
            ]
          },
          "metadata": {},
          "execution_count": 19
        }
      ]
    },
    {
      "cell_type": "code",
      "metadata": {
        "id": "NaPobUVSdICm"
      },
      "source": [
        "def ret_img(image_name, path:str):\n",
        "  img = mpimage.imread(path + image_name)\n",
        "  return img\n",
        "\n",
        "\n",
        "def plot_duplicates(df_dup:pd.DataFrame, rownum:int, path:str)-> None:\n",
        "  image_name_0 = df_dup[\"img_1\"].loc[rownum]\n",
        "  image_name_1 = df_dup[\"img_2\"].loc[rownum]\n",
        "  \n",
        "  label_0 = df_dup[\"labels_1\"].loc[rownum]\n",
        "  label_1 = df_dup[\"labels_2\"].loc[rownum]\n",
        "\n",
        "  plt.figure(figsize=(9,4))\n",
        "  plt.subplot(121)\n",
        "  plt.imshow(ret_img(image_name_0 ,path= path))\n",
        "  plt.title('{} - {}'.format(image_name_0, label_0))\n",
        "  plt.subplot(122)\n",
        "  #n = lst_img[1]\n",
        "  plt.imshow(ret_img(image_name_1 ,path= path))\n",
        "  plt.title('{} - {}'.format(image_name_1, label_1))\n",
        "  plt.tight_layout()\n"
      ],
      "execution_count": null,
      "outputs": []
    },
    {
      "cell_type": "code",
      "metadata": {
        "colab": {
          "base_uri": "https://localhost:8080/",
          "height": 615
        },
        "id": "2L8k45wbmN7Q",
        "outputId": "e7b21310-49ed-44d1-a43a-fe95458016a7"
      },
      "source": [
        "df_dups_diff = df_dups_cat[df_dups_cat[\"flag_dif_label\"]==True].reset_index(drop=True)\n",
        "df_len = df_dups_diff.shape[0]\n",
        "path = \"../projeto_final/train_images/\"\n",
        "\n",
        "for rownum in range(df_len-1):\n",
        "  plot_duplicates(df_dups_diff, rownum, path=path)"
      ],
      "execution_count": null,
      "outputs": [
        {
          "output_type": "error",
          "ename": "NameError",
          "evalue": "ignored",
          "traceback": [
            "\u001b[0;31m---------------------------------------------------------------------------\u001b[0m",
            "\u001b[0;31mNameError\u001b[0m                                 Traceback (most recent call last)",
            "\u001b[0;32m<ipython-input-22-94959209a428>\u001b[0m in \u001b[0;36m<module>\u001b[0;34m()\u001b[0m\n\u001b[1;32m      4\u001b[0m \u001b[0;34m\u001b[0m\u001b[0m\n\u001b[1;32m      5\u001b[0m \u001b[0;32mfor\u001b[0m \u001b[0mrownum\u001b[0m \u001b[0;32min\u001b[0m \u001b[0mrange\u001b[0m\u001b[0;34m(\u001b[0m\u001b[0mdf_len\u001b[0m\u001b[0;34m-\u001b[0m\u001b[0;36m1\u001b[0m\u001b[0;34m)\u001b[0m\u001b[0;34m:\u001b[0m\u001b[0;34m\u001b[0m\u001b[0;34m\u001b[0m\u001b[0m\n\u001b[0;32m----> 6\u001b[0;31m   \u001b[0mplot_duplicates\u001b[0m\u001b[0;34m(\u001b[0m\u001b[0mdf_dups_diff\u001b[0m\u001b[0;34m,\u001b[0m \u001b[0mrownum\u001b[0m\u001b[0;34m,\u001b[0m \u001b[0mpath\u001b[0m\u001b[0;34m=\u001b[0m\u001b[0mpath\u001b[0m\u001b[0;34m)\u001b[0m\u001b[0;34m\u001b[0m\u001b[0;34m\u001b[0m\u001b[0m\n\u001b[0m",
            "\u001b[0;32m<ipython-input-21-9bbbe60c4df9>\u001b[0m in \u001b[0;36mplot_duplicates\u001b[0;34m(df_dup, rownum, path)\u001b[0m\n\u001b[1;32m     13\u001b[0m   \u001b[0mplt\u001b[0m\u001b[0;34m.\u001b[0m\u001b[0mfigure\u001b[0m\u001b[0;34m(\u001b[0m\u001b[0mfigsize\u001b[0m\u001b[0;34m=\u001b[0m\u001b[0;34m(\u001b[0m\u001b[0;36m9\u001b[0m\u001b[0;34m,\u001b[0m\u001b[0;36m4\u001b[0m\u001b[0;34m)\u001b[0m\u001b[0;34m)\u001b[0m\u001b[0;34m\u001b[0m\u001b[0;34m\u001b[0m\u001b[0m\n\u001b[1;32m     14\u001b[0m   \u001b[0mplt\u001b[0m\u001b[0;34m.\u001b[0m\u001b[0msubplot\u001b[0m\u001b[0;34m(\u001b[0m\u001b[0;36m121\u001b[0m\u001b[0;34m)\u001b[0m\u001b[0;34m\u001b[0m\u001b[0;34m\u001b[0m\u001b[0m\n\u001b[0;32m---> 15\u001b[0;31m   \u001b[0mplt\u001b[0m\u001b[0;34m.\u001b[0m\u001b[0mimshow\u001b[0m\u001b[0;34m(\u001b[0m\u001b[0mret_img\u001b[0m\u001b[0;34m(\u001b[0m\u001b[0mimage_name_0\u001b[0m \u001b[0;34m,\u001b[0m\u001b[0mpath\u001b[0m\u001b[0;34m=\u001b[0m \u001b[0mpath\u001b[0m\u001b[0;34m)\u001b[0m\u001b[0;34m)\u001b[0m\u001b[0;34m\u001b[0m\u001b[0;34m\u001b[0m\u001b[0m\n\u001b[0m\u001b[1;32m     16\u001b[0m   \u001b[0mplt\u001b[0m\u001b[0;34m.\u001b[0m\u001b[0mtitle\u001b[0m\u001b[0;34m(\u001b[0m\u001b[0;34m'{} - {}'\u001b[0m\u001b[0;34m.\u001b[0m\u001b[0mformat\u001b[0m\u001b[0;34m(\u001b[0m\u001b[0mimage_name_0\u001b[0m\u001b[0;34m,\u001b[0m \u001b[0mlabel_0\u001b[0m\u001b[0;34m)\u001b[0m\u001b[0;34m)\u001b[0m\u001b[0;34m\u001b[0m\u001b[0;34m\u001b[0m\u001b[0m\n\u001b[1;32m     17\u001b[0m   \u001b[0mplt\u001b[0m\u001b[0;34m.\u001b[0m\u001b[0msubplot\u001b[0m\u001b[0;34m(\u001b[0m\u001b[0;36m122\u001b[0m\u001b[0;34m)\u001b[0m\u001b[0;34m\u001b[0m\u001b[0;34m\u001b[0m\u001b[0m\n",
            "\u001b[0;32m<ipython-input-21-9bbbe60c4df9>\u001b[0m in \u001b[0;36mret_img\u001b[0;34m(image_name, path)\u001b[0m\n\u001b[1;32m      1\u001b[0m \u001b[0;32mdef\u001b[0m \u001b[0mret_img\u001b[0m\u001b[0;34m(\u001b[0m\u001b[0mimage_name\u001b[0m\u001b[0;34m,\u001b[0m \u001b[0mpath\u001b[0m\u001b[0;34m:\u001b[0m\u001b[0mstr\u001b[0m\u001b[0;34m)\u001b[0m\u001b[0;34m:\u001b[0m\u001b[0;34m\u001b[0m\u001b[0;34m\u001b[0m\u001b[0m\n\u001b[0;32m----> 2\u001b[0;31m   \u001b[0mimg\u001b[0m \u001b[0;34m=\u001b[0m \u001b[0mmpimage\u001b[0m\u001b[0;34m.\u001b[0m\u001b[0mimread\u001b[0m\u001b[0;34m(\u001b[0m\u001b[0mpath\u001b[0m \u001b[0;34m+\u001b[0m \u001b[0mimage_name\u001b[0m\u001b[0;34m)\u001b[0m\u001b[0;34m\u001b[0m\u001b[0;34m\u001b[0m\u001b[0m\n\u001b[0m\u001b[1;32m      3\u001b[0m   \u001b[0;32mreturn\u001b[0m \u001b[0mimg\u001b[0m\u001b[0;34m\u001b[0m\u001b[0;34m\u001b[0m\u001b[0m\n\u001b[1;32m      4\u001b[0m \u001b[0;34m\u001b[0m\u001b[0m\n\u001b[1;32m      5\u001b[0m \u001b[0;34m\u001b[0m\u001b[0m\n",
            "\u001b[0;31mNameError\u001b[0m: name 'mpimage' is not defined"
          ]
        },
        {
          "output_type": "display_data",
          "data": {
            "image/png": "[encoded data removed]",
            "text/plain": [
              "<Figure size 648x288 with 1 Axes>"
            ]
          },
          "metadata": {
            "needs_background": "light"
          }
        }
      ]
    },
    {
      "cell_type": "code",
      "metadata": {
        "id": "qe5qU3R3dmGN"
      },
      "source": [
        "print(\"image_1\")\n",
        "df_dups_cat[df_dups_cat[\"flag_dif_label\"] == True][\"labels_1\"].str.join(sep=\",\").value_counts()"
      ],
      "execution_count": null,
      "outputs": []
    },
    {
      "cell_type": "code",
      "metadata": {
        "id": "sgDOGMnwrFWO"
      },
      "source": [
        "print(\"image_2\")\n",
        "df_dups_cat[df_dups_cat[\"flag_dif_label\"] == True][\"labels_2\"].str.join(sep=\",\").value_counts()"
      ],
      "execution_count": null,
      "outputs": []
    },
    {
      "cell_type": "code",
      "metadata": {
        "id": "5SfaJD97vnmf"
      },
      "source": [
        "df_dups_cat[\"labels_1_str\"] = df_dups_cat[\"labels_1\"].str.join(sep=\",\")\n",
        "df_dups_cat[\"labels_2_str\"] = df_dups_cat[\"labels_2\"].str.join(sep=\",\")"
      ],
      "execution_count": null,
      "outputs": []
    },
    {
      "cell_type": "code",
      "metadata": {
        "colab": {
          "base_uri": "https://localhost:8080/",
          "height": 363
        },
        "id": "W2EvGpPywFHW",
        "outputId": "065b16ac-02c7-4851-e8b2-6854d660db3c"
      },
      "source": [
        "pd.DataFrame(df_dups_cat.groupby([\"labels_1_str\", \"labels_2_str\"])[\"flag_dif_label\"].count())"
      ],
      "execution_count": null,
      "outputs": [
        {
          "output_type": "execute_result",
          "data": {
            "text/html": [
              "<div>\n",
              "<style scoped>\n",
              "    .dataframe tbody tr th:only-of-type {\n",
              "        vertical-align: middle;\n",
              "    }\n",
              "\n",
              "    .dataframe tbody tr th {\n",
              "        vertical-align: top;\n",
              "    }\n",
              "\n",
              "    .dataframe thead th {\n",
              "        text-align: right;\n",
              "    }\n",
              "</style>\n",
              "<table border=\"1\" class=\"dataframe\">\n",
              "  <thead>\n",
              "    <tr style=\"text-align: right;\">\n",
              "      <th></th>\n",
              "      <th></th>\n",
              "      <th>flag_dif_label</th>\n",
              "    </tr>\n",
              "    <tr>\n",
              "      <th>labels_1_str</th>\n",
              "      <th>labels_2_str</th>\n",
              "      <th></th>\n",
              "    </tr>\n",
              "  </thead>\n",
              "  <tbody>\n",
              "    <tr>\n",
              "      <th rowspan=\"2\" valign=\"top\">complex</th>\n",
              "      <th>complex</th>\n",
              "      <td>1</td>\n",
              "    </tr>\n",
              "    <tr>\n",
              "      <th>rust</th>\n",
              "      <td>11</td>\n",
              "    </tr>\n",
              "    <tr>\n",
              "      <th>frog_eye_leaf_spot</th>\n",
              "      <th>frog_eye_leaf_spot</th>\n",
              "      <td>1</td>\n",
              "    </tr>\n",
              "    <tr>\n",
              "      <th rowspan=\"3\" valign=\"top\">rust</th>\n",
              "      <th>complex</th>\n",
              "      <td>9</td>\n",
              "    </tr>\n",
              "    <tr>\n",
              "      <th>rust</th>\n",
              "      <td>18</td>\n",
              "    </tr>\n",
              "    <tr>\n",
              "      <th>rust,complex</th>\n",
              "      <td>3</td>\n",
              "    </tr>\n",
              "    <tr>\n",
              "      <th>rust,complex</th>\n",
              "      <th>rust</th>\n",
              "      <td>3</td>\n",
              "    </tr>\n",
              "    <tr>\n",
              "      <th>rust,frog_eye_leaf_spot</th>\n",
              "      <th>rust</th>\n",
              "      <td>1</td>\n",
              "    </tr>\n",
              "    <tr>\n",
              "      <th>scab</th>\n",
              "      <th>scab</th>\n",
              "      <td>3</td>\n",
              "    </tr>\n",
              "  </tbody>\n",
              "</table>\n",
              "</div>"
            ],
            "text/plain": [
              "                                            flag_dif_label\n",
              "labels_1_str            labels_2_str                      \n",
              "complex                 complex                          1\n",
              "                        rust                            11\n",
              "frog_eye_leaf_spot      frog_eye_leaf_spot               1\n",
              "rust                    complex                          9\n",
              "                        rust                            18\n",
              "                        rust,complex                     3\n",
              "rust,complex            rust                             3\n",
              "rust,frog_eye_leaf_spot rust                             1\n",
              "scab                    scab                             3"
            ]
          },
          "metadata": {},
          "execution_count": 24
        }
      ]
    },
    {
      "cell_type": "code",
      "metadata": {
        "id": "SvcJ5vsH2FA_"
      },
      "source": [
        "#-------- Alternativa 1 --------\n",
        "# Tratamento 1 de imagens Duplicadas\n",
        "# Aquelas que tem a mesma classe apenas irei pegar apenas uma delas por distinct\n",
        "# As que tem labels diferentes serao removidos do dataset (total de 27 imagens - penalizamos bem a classe Rust, Complex)\n",
        "\n",
        "img_exclusion = df_dups_cat[df_dups_cat[\"flag_dif_label\"] == False][\"img_2\"]\n",
        "ds1 = df_dups_cat[df_dups_cat[\"flag_dif_label\"] == True][\"img_1\"]\n",
        "ds2 = df_dups_cat[df_dups_cat[\"flag_dif_label\"] == True][\"img_2\"]\n",
        "\n",
        "img_exclusion = pd.concat([ds1, ds2, img_exclusion], axis=0).reset_index(drop=True)\n",
        "\n",
        "df_exc = pd.DataFrame(img_exclusion)\n",
        "df_exc[\"flag_exc\"] = 1\n",
        "\n",
        "df_exc.columns = ['img_exc', 'flag_exc']"
      ],
      "execution_count": null,
      "outputs": []
    },
    {
      "cell_type": "code",
      "metadata": {
        "id": "JwLLQQW_oDIz"
      },
      "source": [
        "df_train = df_train.merge(df_exc, how=\"left\", left_on=\"image\", right_on=\"img_exc\", )"
      ],
      "execution_count": null,
      "outputs": []
    },
    {
      "cell_type": "code",
      "metadata": {
        "id": "PjzTVRihp60Z"
      },
      "source": [
        "# Dataset filtrado retirando os duplicados\n",
        "\n",
        "filter = df_train[\"flag_exc\"]==0\n",
        "\n",
        "df_train_filtered = df_train[filter]"
      ],
      "execution_count": null,
      "outputs": []
    },
    {
      "cell_type": "markdown",
      "metadata": {
        "id": "P5PjIzMBaUWX"
      },
      "source": [
        "### Carregando dataset para formato Lazy"
      ]
    },
    {
      "cell_type": "code",
      "metadata": {
        "id": "4njoKF1Wlxoh"
      },
      "source": [
        "from tensorflow.keras.preprocessing.image import ImageDataGenerator\n",
        "\n",
        "train_datagen = ImageDataGenerator(rescale = 1/255.,\n",
        "    #rotation_range=20,\n",
        "    #width_shift_range=0.2,\n",
        "    #height_shift_range=0.2,\n",
        "    #horizontal_flip=True,\n",
        "    validation_split = 0.2,\n",
        "    #zoom_range = 0.2,\n",
        "    #shear_range = 0.2,\n",
        "    #vertical_flip = False\n",
        "    )"
      ],
      "execution_count": null,
      "outputs": []
    },
    {
      "cell_type": "code",
      "metadata": {
        "id": "f327be26mx-P",
        "colab": {
          "base_uri": "https://localhost:8080/",
          "height": 223
        },
        "outputId": "5dd09cff-d9cf-4c5e-f2d4-4276ef43c8f8"
      },
      "source": [
        "df_train.head()"
      ],
      "execution_count": null,
      "outputs": [
        {
          "output_type": "execute_result",
          "data": {
            "text/html": [
              "<div>\n",
              "<style scoped>\n",
              "    .dataframe tbody tr th:only-of-type {\n",
              "        vertical-align: middle;\n",
              "    }\n",
              "\n",
              "    .dataframe tbody tr th {\n",
              "        vertical-align: top;\n",
              "    }\n",
              "\n",
              "    .dataframe thead th {\n",
              "        text-align: right;\n",
              "    }\n",
              "</style>\n",
              "<table border=\"1\" class=\"dataframe\">\n",
              "  <thead>\n",
              "    <tr style=\"text-align: right;\">\n",
              "      <th></th>\n",
              "      <th>image</th>\n",
              "      <th>labels</th>\n",
              "      <th>label_list</th>\n",
              "      <th>healthy</th>\n",
              "      <th>scab</th>\n",
              "      <th>complex</th>\n",
              "      <th>rust</th>\n",
              "      <th>frog_eye_leaf_spot</th>\n",
              "      <th>powdery_mildew</th>\n",
              "      <th>img_exc</th>\n",
              "      <th>flag_exc</th>\n",
              "    </tr>\n",
              "  </thead>\n",
              "  <tbody>\n",
              "    <tr>\n",
              "      <th>0</th>\n",
              "      <td>800113bb65efe69e.jpg</td>\n",
              "      <td>healthy</td>\n",
              "      <td>[healthy]</td>\n",
              "      <td>1</td>\n",
              "      <td>0</td>\n",
              "      <td>0</td>\n",
              "      <td>0</td>\n",
              "      <td>0</td>\n",
              "      <td>0</td>\n",
              "      <td>NaN</td>\n",
              "      <td>NaN</td>\n",
              "    </tr>\n",
              "    <tr>\n",
              "      <th>1</th>\n",
              "      <td>8002cb321f8bfcdf.jpg</td>\n",
              "      <td>scab frog_eye_leaf_spot complex</td>\n",
              "      <td>[scab, frog_eye_leaf_spot, complex]</td>\n",
              "      <td>0</td>\n",
              "      <td>1</td>\n",
              "      <td>1</td>\n",
              "      <td>0</td>\n",
              "      <td>1</td>\n",
              "      <td>0</td>\n",
              "      <td>NaN</td>\n",
              "      <td>NaN</td>\n",
              "    </tr>\n",
              "    <tr>\n",
              "      <th>2</th>\n",
              "      <td>80070f7fb5e2ccaa.jpg</td>\n",
              "      <td>scab</td>\n",
              "      <td>[scab]</td>\n",
              "      <td>0</td>\n",
              "      <td>1</td>\n",
              "      <td>0</td>\n",
              "      <td>0</td>\n",
              "      <td>0</td>\n",
              "      <td>0</td>\n",
              "      <td>NaN</td>\n",
              "      <td>NaN</td>\n",
              "    </tr>\n",
              "    <tr>\n",
              "      <th>3</th>\n",
              "      <td>80077517781fb94f.jpg</td>\n",
              "      <td>scab</td>\n",
              "      <td>[scab]</td>\n",
              "      <td>0</td>\n",
              "      <td>1</td>\n",
              "      <td>0</td>\n",
              "      <td>0</td>\n",
              "      <td>0</td>\n",
              "      <td>0</td>\n",
              "      <td>NaN</td>\n",
              "      <td>NaN</td>\n",
              "    </tr>\n",
              "    <tr>\n",
              "      <th>4</th>\n",
              "      <td>800cbf0ff87721f8.jpg</td>\n",
              "      <td>complex</td>\n",
              "      <td>[complex]</td>\n",
              "      <td>0</td>\n",
              "      <td>0</td>\n",
              "      <td>1</td>\n",
              "      <td>0</td>\n",
              "      <td>0</td>\n",
              "      <td>0</td>\n",
              "      <td>NaN</td>\n",
              "      <td>NaN</td>\n",
              "    </tr>\n",
              "  </tbody>\n",
              "</table>\n",
              "</div>"
            ],
            "text/plain": [
              "                  image                           labels  ... img_exc  flag_exc\n",
              "0  800113bb65efe69e.jpg                          healthy  ...     NaN       NaN\n",
              "1  8002cb321f8bfcdf.jpg  scab frog_eye_leaf_spot complex  ...     NaN       NaN\n",
              "2  80070f7fb5e2ccaa.jpg                             scab  ...     NaN       NaN\n",
              "3  80077517781fb94f.jpg                             scab  ...     NaN       NaN\n",
              "4  800cbf0ff87721f8.jpg                          complex  ...     NaN       NaN\n",
              "\n",
              "[5 rows x 11 columns]"
            ]
          },
          "metadata": {},
          "execution_count": 25
        }
      ]
    },
    {
      "cell_type": "code",
      "metadata": {
        "id": "o6kBz2F-aTrc",
        "colab": {
          "base_uri": "https://localhost:8080/"
        },
        "outputId": "5c4da7bb-31dc-404d-ba51-c812dc369242"
      },
      "source": [
        "HEIGHT = 512\n",
        "WIDTH=512\n",
        "SEED = 42\n",
        "BATCH_SIZE= 128\n",
        "\n",
        "df_train_filtered = df_train[[\"image\", \"labels\"]]\n",
        "\n",
        "train_dataset = train_datagen.flow_from_dataframe(\n",
        "    df_train_filtered,\n",
        "    directory = \"/projeto_final/train_images/\",\n",
        "    x_col = \"image\",\n",
        "    y_col = \"labels\",\n",
        "    target_size = (HEIGHT,WIDTH),\n",
        "    class_mode='categorical',\n",
        "    batch_size = BATCH_SIZE,\n",
        "    subset = \"training\",\n",
        "    shuffle = True,\n",
        "    seed = SEED,\n",
        "    validate_filenames = False)\n",
        "\n",
        "validation_dataset = train_datagen.flow_from_dataframe(\n",
        "    df_train_filtered,\n",
        "    directory = \"/projeto_final/train_images/\",\n",
        "    x_col = \"image\",\n",
        "    y_col = \"labels\",\n",
        "    target_size = (HEIGHT,WIDTH),\n",
        "    class_mode='categorical',\n",
        "    batch_size = BATCH_SIZE,\n",
        "    subset = \"validation\",\n",
        "    shuffle = True,\n",
        "    seed = SEED,\n",
        "    validate_filenames = False)\n"
      ],
      "execution_count": null,
      "outputs": [
        {
          "output_type": "stream",
          "name": "stdout",
          "text": [
            "Found 14906 non-validated image filenames belonging to 12 classes.\n",
            "Found 3726 non-validated image filenames belonging to 12 classes.\n"
          ]
        }
      ]
    },
    {
      "cell_type": "code",
      "metadata": {
        "id": "4SuSMC6XnT21",
        "colab": {
          "base_uri": "https://localhost:8080/"
        },
        "outputId": "d889a7e2-ce8e-4f77-d68e-87823ab2d469"
      },
      "source": [
        "# Carregamento do modelo pré-treinado SEM as camadas densas (include_top = False)\n",
        "model = tf.keras.applications.ResNet50(weights='imagenet', include_top=False, input_shape=(512,512,3)) # 32 x 32 (?)\n",
        "model.summary()\n",
        "\n",
        "# Congela camadas pré-treinadas\n",
        "for layer in model.layers:\n",
        "    layer.trainable = False\n",
        "\n",
        "# Insere novas camadas no fim da rede para classificação\n",
        "frozen_model = tf.keras.Sequential([\n",
        "  model,\n",
        "  tf.keras.layers.GlobalAveragePooling2D(),\n",
        "  tf.keras.layers.Dense(12, activation='softmax')\n",
        "])\n",
        "\n",
        "frozen_model.summary()"
      ],
      "execution_count": null,
      "outputs": [
        {
          "output_type": "stream",
          "name": "stdout",
          "text": [
            "Downloading data from https://storage.googleapis.com/tensorflow/keras-applications/resnet/resnet50_weights_tf_dim_ordering_tf_kernels_notop.h5\n",
            "94773248/94765736 [==============================] - 1s 0us/step\n",
            "94781440/94765736 [==============================] - 1s 0us/step\n",
            "Model: \"resnet50\"\n",
            "__________________________________________________________________________________________________\n",
            " Layer (type)                   Output Shape         Param #     Connected to                     \n",
            "==================================================================================================\n",
            " input_1 (InputLayer)           [(None, 512, 512, 3  0           []                               \n",
            "                                )]                                                                \n",
            "                                                                                                  \n",
            " conv1_pad (ZeroPadding2D)      (None, 518, 518, 3)  0           ['input_1[0][0]']                \n",
            "                                                                                                  \n",
            " conv1_conv (Conv2D)            (None, 256, 256, 64  9472        ['conv1_pad[0][0]']              \n",
            "                                )                                                                 \n",
            "                                                                                                  \n",
            " conv1_bn (BatchNormalization)  (None, 256, 256, 64  256         ['conv1_conv[0][0]']             \n",
            "                                )                                                                 \n",
            "                                                                                                  \n",
            " conv1_relu (Activation)        (None, 256, 256, 64  0           ['conv1_bn[0][0]']               \n",
            "                                )                                                                 \n",
            "                                                                                                  \n",
            " pool1_pad (ZeroPadding2D)      (None, 258, 258, 64  0           ['conv1_relu[0][0]']             \n",
            "                                )                                                                 \n",
            "                                                                                                  \n",
            " pool1_pool (MaxPooling2D)      (None, 128, 128, 64  0           ['pool1_pad[0][0]']              \n",
            "                                )                                                                 \n",
            "                                                                                                  \n",
            " conv2_block1_1_conv (Conv2D)   (None, 128, 128, 64  4160        ['pool1_pool[0][0]']             \n",
            "                                )                                                                 \n",
            "                                                                                                  \n",
            " conv2_block1_1_bn (BatchNormal  (None, 128, 128, 64  256        ['conv2_block1_1_conv[0][0]']    \n",
            " ization)                       )                                                                 \n",
            "                                                                                                  \n",
            " conv2_block1_1_relu (Activatio  (None, 128, 128, 64  0          ['conv2_block1_1_bn[0][0]']      \n",
            " n)                             )                                                                 \n",
            "                                                                                                  \n",
            " conv2_block1_2_conv (Conv2D)   (None, 128, 128, 64  36928       ['conv2_block1_1_relu[0][0]']    \n",
            "                                )                                                                 \n",
            "                                                                                                  \n",
            " conv2_block1_2_bn (BatchNormal  (None, 128, 128, 64  256        ['conv2_block1_2_conv[0][0]']    \n",
            " ization)                       )                                                                 \n",
            "                                                                                                  \n",
            " conv2_block1_2_relu (Activatio  (None, 128, 128, 64  0          ['conv2_block1_2_bn[0][0]']      \n",
            " n)                             )                                                                 \n",
            "                                                                                                  \n",
            " conv2_block1_0_conv (Conv2D)   (None, 128, 128, 25  16640       ['pool1_pool[0][0]']             \n",
            "                                6)                                                                \n",
            "                                                                                                  \n",
            " conv2_block1_3_conv (Conv2D)   (None, 128, 128, 25  16640       ['conv2_block1_2_relu[0][0]']    \n",
            "                                6)                                                                \n",
            "                                                                                                  \n",
            " conv2_block1_0_bn (BatchNormal  (None, 128, 128, 25  1024       ['conv2_block1_0_conv[0][0]']    \n",
            " ization)                       6)                                                                \n",
            "                                                                                                  \n",
            " conv2_block1_3_bn (BatchNormal  (None, 128, 128, 25  1024       ['conv2_block1_3_conv[0][0]']    \n",
            " ization)                       6)                                                                \n",
            "                                                                                                  \n",
            " conv2_block1_add (Add)         (None, 128, 128, 25  0           ['conv2_block1_0_bn[0][0]',      \n",
            "                                6)                                'conv2_block1_3_bn[0][0]']      \n",
            "                                                                                                  \n",
            " conv2_block1_out (Activation)  (None, 128, 128, 25  0           ['conv2_block1_add[0][0]']       \n",
            "                                6)                                                                \n",
            "                                                                                                  \n",
            " conv2_block2_1_conv (Conv2D)   (None, 128, 128, 64  16448       ['conv2_block1_out[0][0]']       \n",
            "                                )                                                                 \n",
            "                                                                                                  \n",
            " conv2_block2_1_bn (BatchNormal  (None, 128, 128, 64  256        ['conv2_block2_1_conv[0][0]']    \n",
            " ization)                       )                                                                 \n",
            "                                                                                                  \n",
            " conv2_block2_1_relu (Activatio  (None, 128, 128, 64  0          ['conv2_block2_1_bn[0][0]']      \n",
            " n)                             )                                                                 \n",
            "                                                                                                  \n",
            " conv2_block2_2_conv (Conv2D)   (None, 128, 128, 64  36928       ['conv2_block2_1_relu[0][0]']    \n",
            "                                )                                                                 \n",
            "                                                                                                  \n",
            " conv2_block2_2_bn (BatchNormal  (None, 128, 128, 64  256        ['conv2_block2_2_conv[0][0]']    \n",
            " ization)                       )                                                                 \n",
            "                                                                                                  \n",
            " conv2_block2_2_relu (Activatio  (None, 128, 128, 64  0          ['conv2_block2_2_bn[0][0]']      \n",
            " n)                             )                                                                 \n",
            "                                                                                                  \n",
            " conv2_block2_3_conv (Conv2D)   (None, 128, 128, 25  16640       ['conv2_block2_2_relu[0][0]']    \n",
            "                                6)                                                                \n",
            "                                                                                                  \n",
            " conv2_block2_3_bn (BatchNormal  (None, 128, 128, 25  1024       ['conv2_block2_3_conv[0][0]']    \n",
            " ization)                       6)                                                                \n",
            "                                                                                                  \n",
            " conv2_block2_add (Add)         (None, 128, 128, 25  0           ['conv2_block1_out[0][0]',       \n",
            "                                6)                                'conv2_block2_3_bn[0][0]']      \n",
            "                                                                                                  \n",
            " conv2_block2_out (Activation)  (None, 128, 128, 25  0           ['conv2_block2_add[0][0]']       \n",
            "                                6)                                                                \n",
            "                                                                                                  \n",
            " conv2_block3_1_conv (Conv2D)   (None, 128, 128, 64  16448       ['conv2_block2_out[0][0]']       \n",
            "                                )                                                                 \n",
            "                                                                                                  \n",
            " conv2_block3_1_bn (BatchNormal  (None, 128, 128, 64  256        ['conv2_block3_1_conv[0][0]']    \n",
            " ization)                       )                                                                 \n",
            "                                                                                                  \n",
            " conv2_block3_1_relu (Activatio  (None, 128, 128, 64  0          ['conv2_block3_1_bn[0][0]']      \n",
            " n)                             )                                                                 \n",
            "                                                                                                  \n",
            " conv2_block3_2_conv (Conv2D)   (None, 128, 128, 64  36928       ['conv2_block3_1_relu[0][0]']    \n",
            "                                )                                                                 \n",
            "                                                                                                  \n",
            " conv2_block3_2_bn (BatchNormal  (None, 128, 128, 64  256        ['conv2_block3_2_conv[0][0]']    \n",
            " ization)                       )                                                                 \n",
            "                                                                                                  \n",
            " conv2_block3_2_relu (Activatio  (None, 128, 128, 64  0          ['conv2_block3_2_bn[0][0]']      \n",
            " n)                             )                                                                 \n",
            "                                                                                                  \n",
            " conv2_block3_3_conv (Conv2D)   (None, 128, 128, 25  16640       ['conv2_block3_2_relu[0][0]']    \n",
            "                                6)                                                                \n",
            "                                                                                                  \n",
            " conv2_block3_3_bn (BatchNormal  (None, 128, 128, 25  1024       ['conv2_block3_3_conv[0][0]']    \n",
            " ization)                       6)                                                                \n",
            "                                                                                                  \n",
            " conv2_block3_add (Add)         (None, 128, 128, 25  0           ['conv2_block2_out[0][0]',       \n",
            "                                6)                                'conv2_block3_3_bn[0][0]']      \n",
            "                                                                                                  \n",
            " conv2_block3_out (Activation)  (None, 128, 128, 25  0           ['conv2_block3_add[0][0]']       \n",
            "                                6)                                                                \n",
            "                                                                                                  \n",
            " conv3_block1_1_conv (Conv2D)   (None, 64, 64, 128)  32896       ['conv2_block3_out[0][0]']       \n",
            "                                                                                                  \n",
            " conv3_block1_1_bn (BatchNormal  (None, 64, 64, 128)  512        ['conv3_block1_1_conv[0][0]']    \n",
            " ization)                                                                                         \n",
            "                                                                                                  \n",
            " conv3_block1_1_relu (Activatio  (None, 64, 64, 128)  0          ['conv3_block1_1_bn[0][0]']      \n",
            " n)                                                                                               \n",
            "                                                                                                  \n",
            " conv3_block1_2_conv (Conv2D)   (None, 64, 64, 128)  147584      ['conv3_block1_1_relu[0][0]']    \n",
            "                                                                                                  \n",
            " conv3_block1_2_bn (BatchNormal  (None, 64, 64, 128)  512        ['conv3_block1_2_conv[0][0]']    \n",
            " ization)                                                                                         \n",
            "                                                                                                  \n",
            " conv3_block1_2_relu (Activatio  (None, 64, 64, 128)  0          ['conv3_block1_2_bn[0][0]']      \n",
            " n)                                                                                               \n",
            "                                                                                                  \n",
            " conv3_block1_0_conv (Conv2D)   (None, 64, 64, 512)  131584      ['conv2_block3_out[0][0]']       \n",
            "                                                                                                  \n",
            " conv3_block1_3_conv (Conv2D)   (None, 64, 64, 512)  66048       ['conv3_block1_2_relu[0][0]']    \n",
            "                                                                                                  \n",
            " conv3_block1_0_bn (BatchNormal  (None, 64, 64, 512)  2048       ['conv3_block1_0_conv[0][0]']    \n",
            " ization)                                                                                         \n",
            "                                                                                                  \n",
            " conv3_block1_3_bn (BatchNormal  (None, 64, 64, 512)  2048       ['conv3_block1_3_conv[0][0]']    \n",
            " ization)                                                                                         \n",
            "                                                                                                  \n",
            " conv3_block1_add (Add)         (None, 64, 64, 512)  0           ['conv3_block1_0_bn[0][0]',      \n",
            "                                                                  'conv3_block1_3_bn[0][0]']      \n",
            "                                                                                                  \n",
            " conv3_block1_out (Activation)  (None, 64, 64, 512)  0           ['conv3_block1_add[0][0]']       \n",
            "                                                                                                  \n",
            " conv3_block2_1_conv (Conv2D)   (None, 64, 64, 128)  65664       ['conv3_block1_out[0][0]']       \n",
            "                                                                                                  \n",
            " conv3_block2_1_bn (BatchNormal  (None, 64, 64, 128)  512        ['conv3_block2_1_conv[0][0]']    \n",
            " ization)                                                                                         \n",
            "                                                                                                  \n",
            " conv3_block2_1_relu (Activatio  (None, 64, 64, 128)  0          ['conv3_block2_1_bn[0][0]']      \n",
            " n)                                                                                               \n",
            "                                                                                                  \n",
            " conv3_block2_2_conv (Conv2D)   (None, 64, 64, 128)  147584      ['conv3_block2_1_relu[0][0]']    \n",
            "                                                                                                  \n",
            " conv3_block2_2_bn (BatchNormal  (None, 64, 64, 128)  512        ['conv3_block2_2_conv[0][0]']    \n",
            " ization)                                                                                         \n",
            "                                                                                                  \n",
            " conv3_block2_2_relu (Activatio  (None, 64, 64, 128)  0          ['conv3_block2_2_bn[0][0]']      \n",
            " n)                                                                                               \n",
            "                                                                                                  \n",
            " conv3_block2_3_conv (Conv2D)   (None, 64, 64, 512)  66048       ['conv3_block2_2_relu[0][0]']    \n",
            "                                                                                                  \n",
            " conv3_block2_3_bn (BatchNormal  (None, 64, 64, 512)  2048       ['conv3_block2_3_conv[0][0]']    \n",
            " ization)                                                                                         \n",
            "                                                                                                  \n",
            " conv3_block2_add (Add)         (None, 64, 64, 512)  0           ['conv3_block1_out[0][0]',       \n",
            "                                                                  'conv3_block2_3_bn[0][0]']      \n",
            "                                                                                                  \n",
            " conv3_block2_out (Activation)  (None, 64, 64, 512)  0           ['conv3_block2_add[0][0]']       \n",
            "                                                                                                  \n",
            " conv3_block3_1_conv (Conv2D)   (None, 64, 64, 128)  65664       ['conv3_block2_out[0][0]']       \n",
            "                                                                                                  \n",
            " conv3_block3_1_bn (BatchNormal  (None, 64, 64, 128)  512        ['conv3_block3_1_conv[0][0]']    \n",
            " ization)                                                                                         \n",
            "                                                                                                  \n",
            " conv3_block3_1_relu (Activatio  (None, 64, 64, 128)  0          ['conv3_block3_1_bn[0][0]']      \n",
            " n)                                                                                               \n",
            "                                                                                                  \n",
            " conv3_block3_2_conv (Conv2D)   (None, 64, 64, 128)  147584      ['conv3_block3_1_relu[0][0]']    \n",
            "                                                                                                  \n",
            " conv3_block3_2_bn (BatchNormal  (None, 64, 64, 128)  512        ['conv3_block3_2_conv[0][0]']    \n",
            " ization)                                                                                         \n",
            "                                                                                                  \n",
            " conv3_block3_2_relu (Activatio  (None, 64, 64, 128)  0          ['conv3_block3_2_bn[0][0]']      \n",
            " n)                                                                                               \n",
            "                                                                                                  \n",
            " conv3_block3_3_conv (Conv2D)   (None, 64, 64, 512)  66048       ['conv3_block3_2_relu[0][0]']    \n",
            "                                                                                                  \n",
            " conv3_block3_3_bn (BatchNormal  (None, 64, 64, 512)  2048       ['conv3_block3_3_conv[0][0]']    \n",
            " ization)                                                                                         \n",
            "                                                                                                  \n",
            " conv3_block3_add (Add)         (None, 64, 64, 512)  0           ['conv3_block2_out[0][0]',       \n",
            "                                                                  'conv3_block3_3_bn[0][0]']      \n",
            "                                                                                                  \n",
            " conv3_block3_out (Activation)  (None, 64, 64, 512)  0           ['conv3_block3_add[0][0]']       \n",
            "                                                                                                  \n",
            " conv3_block4_1_conv (Conv2D)   (None, 64, 64, 128)  65664       ['conv3_block3_out[0][0]']       \n",
            "                                                                                                  \n",
            " conv3_block4_1_bn (BatchNormal  (None, 64, 64, 128)  512        ['conv3_block4_1_conv[0][0]']    \n",
            " ization)                                                                                         \n",
            "                                                                                                  \n",
            " conv3_block4_1_relu (Activatio  (None, 64, 64, 128)  0          ['conv3_block4_1_bn[0][0]']      \n",
            " n)                                                                                               \n",
            "                                                                                                  \n",
            " conv3_block4_2_conv (Conv2D)   (None, 64, 64, 128)  147584      ['conv3_block4_1_relu[0][0]']    \n",
            "                                                                                                  \n",
            " conv3_block4_2_bn (BatchNormal  (None, 64, 64, 128)  512        ['conv3_block4_2_conv[0][0]']    \n",
            " ization)                                                                                         \n",
            "                                                                                                  \n",
            " conv3_block4_2_relu (Activatio  (None, 64, 64, 128)  0          ['conv3_block4_2_bn[0][0]']      \n",
            " n)                                                                                               \n",
            "                                                                                                  \n",
            " conv3_block4_3_conv (Conv2D)   (None, 64, 64, 512)  66048       ['conv3_block4_2_relu[0][0]']    \n",
            "                                                                                                  \n",
            " conv3_block4_3_bn (BatchNormal  (None, 64, 64, 512)  2048       ['conv3_block4_3_conv[0][0]']    \n",
            " ization)                                                                                         \n",
            "                                                                                                  \n",
            " conv3_block4_add (Add)         (None, 64, 64, 512)  0           ['conv3_block3_out[0][0]',       \n",
            "                                                                  'conv3_block4_3_bn[0][0]']      \n",
            "                                                                                                  \n",
            " conv3_block4_out (Activation)  (None, 64, 64, 512)  0           ['conv3_block4_add[0][0]']       \n",
            "                                                                                                  \n",
            " conv4_block1_1_conv (Conv2D)   (None, 32, 32, 256)  131328      ['conv3_block4_out[0][0]']       \n",
            "                                                                                                  \n",
            " conv4_block1_1_bn (BatchNormal  (None, 32, 32, 256)  1024       ['conv4_block1_1_conv[0][0]']    \n",
            " ization)                                                                                         \n",
            "                                                                                                  \n",
            " conv4_block1_1_relu (Activatio  (None, 32, 32, 256)  0          ['conv4_block1_1_bn[0][0]']      \n",
            " n)                                                                                               \n",
            "                                                                                                  \n",
            " conv4_block1_2_conv (Conv2D)   (None, 32, 32, 256)  590080      ['conv4_block1_1_relu[0][0]']    \n",
            "                                                                                                  \n",
            " conv4_block1_2_bn (BatchNormal  (None, 32, 32, 256)  1024       ['conv4_block1_2_conv[0][0]']    \n",
            " ization)                                                                                         \n",
            "                                                                                                  \n",
            " conv4_block1_2_relu (Activatio  (None, 32, 32, 256)  0          ['conv4_block1_2_bn[0][0]']      \n",
            " n)                                                                                               \n",
            "                                                                                                  \n",
            " conv4_block1_0_conv (Conv2D)   (None, 32, 32, 1024  525312      ['conv3_block4_out[0][0]']       \n",
            "                                )                                                                 \n",
            "                                                                                                  \n",
            " conv4_block1_3_conv (Conv2D)   (None, 32, 32, 1024  263168      ['conv4_block1_2_relu[0][0]']    \n",
            "                                )                                                                 \n",
            "                                                                                                  \n",
            " conv4_block1_0_bn (BatchNormal  (None, 32, 32, 1024  4096       ['conv4_block1_0_conv[0][0]']    \n",
            " ization)                       )                                                                 \n",
            "                                                                                                  \n",
            " conv4_block1_3_bn (BatchNormal  (None, 32, 32, 1024  4096       ['conv4_block1_3_conv[0][0]']    \n",
            " ization)                       )                                                                 \n",
            "                                                                                                  \n",
            " conv4_block1_add (Add)         (None, 32, 32, 1024  0           ['conv4_block1_0_bn[0][0]',      \n",
            "                                )                                 'conv4_block1_3_bn[0][0]']      \n",
            "                                                                                                  \n",
            " conv4_block1_out (Activation)  (None, 32, 32, 1024  0           ['conv4_block1_add[0][0]']       \n",
            "                                )                                                                 \n",
            "                                                                                                  \n",
            " conv4_block2_1_conv (Conv2D)   (None, 32, 32, 256)  262400      ['conv4_block1_out[0][0]']       \n",
            "                                                                                                  \n",
            " conv4_block2_1_bn (BatchNormal  (None, 32, 32, 256)  1024       ['conv4_block2_1_conv[0][0]']    \n",
            " ization)                                                                                         \n",
            "                                                                                                  \n",
            " conv4_block2_1_relu (Activatio  (None, 32, 32, 256)  0          ['conv4_block2_1_bn[0][0]']      \n",
            " n)                                                                                               \n",
            "                                                                                                  \n",
            " conv4_block2_2_conv (Conv2D)   (None, 32, 32, 256)  590080      ['conv4_block2_1_relu[0][0]']    \n",
            "                                                                                                  \n",
            " conv4_block2_2_bn (BatchNormal  (None, 32, 32, 256)  1024       ['conv4_block2_2_conv[0][0]']    \n",
            " ization)                                                                                         \n",
            "                                                                                                  \n",
            " conv4_block2_2_relu (Activatio  (None, 32, 32, 256)  0          ['conv4_block2_2_bn[0][0]']      \n",
            " n)                                                                                               \n",
            "                                                                                                  \n",
            " conv4_block2_3_conv (Conv2D)   (None, 32, 32, 1024  263168      ['conv4_block2_2_relu[0][0]']    \n",
            "                                )                                                                 \n",
            "                                                                                                  \n",
            " conv4_block2_3_bn (BatchNormal  (None, 32, 32, 1024  4096       ['conv4_block2_3_conv[0][0]']    \n",
            " ization)                       )                                                                 \n",
            "                                                                                                  \n",
            " conv4_block2_add (Add)         (None, 32, 32, 1024  0           ['conv4_block1_out[0][0]',       \n",
            "                                )                                 'conv4_block2_3_bn[0][0]']      \n",
            "                                                                                                  \n",
            " conv4_block2_out (Activation)  (None, 32, 32, 1024  0           ['conv4_block2_add[0][0]']       \n",
            "                                )                                                                 \n",
            "                                                                                                  \n",
            " conv4_block3_1_conv (Conv2D)   (None, 32, 32, 256)  262400      ['conv4_block2_out[0][0]']       \n",
            "                                                                                                  \n",
            " conv4_block3_1_bn (BatchNormal  (None, 32, 32, 256)  1024       ['conv4_block3_1_conv[0][0]']    \n",
            " ization)                                                                                         \n",
            "                                                                                                  \n",
            " conv4_block3_1_relu (Activatio  (None, 32, 32, 256)  0          ['conv4_block3_1_bn[0][0]']      \n",
            " n)                                                                                               \n",
            "                                                                                                  \n",
            " conv4_block3_2_conv (Conv2D)   (None, 32, 32, 256)  590080      ['conv4_block3_1_relu[0][0]']    \n",
            "                                                                                                  \n",
            " conv4_block3_2_bn (BatchNormal  (None, 32, 32, 256)  1024       ['conv4_block3_2_conv[0][0]']    \n",
            " ization)                                                                                         \n",
            "                                                                                                  \n",
            " conv4_block3_2_relu (Activatio  (None, 32, 32, 256)  0          ['conv4_block3_2_bn[0][0]']      \n",
            " n)                                                                                               \n",
            "                                                                                                  \n",
            " conv4_block3_3_conv (Conv2D)   (None, 32, 32, 1024  263168      ['conv4_block3_2_relu[0][0]']    \n",
            "                                )                                                                 \n",
            "                                                                                                  \n",
            " conv4_block3_3_bn (BatchNormal  (None, 32, 32, 1024  4096       ['conv4_block3_3_conv[0][0]']    \n",
            " ization)                       )                                                                 \n",
            "                                                                                                  \n",
            " conv4_block3_add (Add)         (None, 32, 32, 1024  0           ['conv4_block2_out[0][0]',       \n",
            "                                )                                 'conv4_block3_3_bn[0][0]']      \n",
            "                                                                                                  \n",
            " conv4_block3_out (Activation)  (None, 32, 32, 1024  0           ['conv4_block3_add[0][0]']       \n",
            "                                )                                                                 \n",
            "                                                                                                  \n",
            " conv4_block4_1_conv (Conv2D)   (None, 32, 32, 256)  262400      ['conv4_block3_out[0][0]']       \n",
            "                                                                                                  \n",
            " conv4_block4_1_bn (BatchNormal  (None, 32, 32, 256)  1024       ['conv4_block4_1_conv[0][0]']    \n",
            " ization)                                                                                         \n",
            "                                                                                                  \n",
            " conv4_block4_1_relu (Activatio  (None, 32, 32, 256)  0          ['conv4_block4_1_bn[0][0]']      \n",
            " n)                                                                                               \n",
            "                                                                                                  \n",
            " conv4_block4_2_conv (Conv2D)   (None, 32, 32, 256)  590080      ['conv4_block4_1_relu[0][0]']    \n",
            "                                                                                                  \n",
            " conv4_block4_2_bn (BatchNormal  (None, 32, 32, 256)  1024       ['conv4_block4_2_conv[0][0]']    \n",
            " ization)                                                                                         \n",
            "                                                                                                  \n",
            " conv4_block4_2_relu (Activatio  (None, 32, 32, 256)  0          ['conv4_block4_2_bn[0][0]']      \n",
            " n)                                                                                               \n",
            "                                                                                                  \n",
            " conv4_block4_3_conv (Conv2D)   (None, 32, 32, 1024  263168      ['conv4_block4_2_relu[0][0]']    \n",
            "                                )                                                                 \n",
            "                                                                                                  \n",
            " conv4_block4_3_bn (BatchNormal  (None, 32, 32, 1024  4096       ['conv4_block4_3_conv[0][0]']    \n",
            " ization)                       )                                                                 \n",
            "                                                                                                  \n",
            " conv4_block4_add (Add)         (None, 32, 32, 1024  0           ['conv4_block3_out[0][0]',       \n",
            "                                )                                 'conv4_block4_3_bn[0][0]']      \n",
            "                                                                                                  \n",
            " conv4_block4_out (Activation)  (None, 32, 32, 1024  0           ['conv4_block4_add[0][0]']       \n",
            "                                )                                                                 \n",
            "                                                                                                  \n",
            " conv4_block5_1_conv (Conv2D)   (None, 32, 32, 256)  262400      ['conv4_block4_out[0][0]']       \n",
            "                                                                                                  \n",
            " conv4_block5_1_bn (BatchNormal  (None, 32, 32, 256)  1024       ['conv4_block5_1_conv[0][0]']    \n",
            " ization)                                                                                         \n",
            "                                                                                                  \n",
            " conv4_block5_1_relu (Activatio  (None, 32, 32, 256)  0          ['conv4_block5_1_bn[0][0]']      \n",
            " n)                                                                                               \n",
            "                                                                                                  \n",
            " conv4_block5_2_conv (Conv2D)   (None, 32, 32, 256)  590080      ['conv4_block5_1_relu[0][0]']    \n",
            "                                                                                                  \n",
            " conv4_block5_2_bn (BatchNormal  (None, 32, 32, 256)  1024       ['conv4_block5_2_conv[0][0]']    \n",
            " ization)                                                                                         \n",
            "                                                                                                  \n",
            " conv4_block5_2_relu (Activatio  (None, 32, 32, 256)  0          ['conv4_block5_2_bn[0][0]']      \n",
            " n)                                                                                               \n",
            "                                                                                                  \n",
            " conv4_block5_3_conv (Conv2D)   (None, 32, 32, 1024  263168      ['conv4_block5_2_relu[0][0]']    \n",
            "                                )                                                                 \n",
            "                                                                                                  \n",
            " conv4_block5_3_bn (BatchNormal  (None, 32, 32, 1024  4096       ['conv4_block5_3_conv[0][0]']    \n",
            " ization)                       )                                                                 \n",
            "                                                                                                  \n",
            " conv4_block5_add (Add)         (None, 32, 32, 1024  0           ['conv4_block4_out[0][0]',       \n",
            "                                )                                 'conv4_block5_3_bn[0][0]']      \n",
            "                                                                                                  \n",
            " conv4_block5_out (Activation)  (None, 32, 32, 1024  0           ['conv4_block5_add[0][0]']       \n",
            "                                )                                                                 \n",
            "                                                                                                  \n",
            " conv4_block6_1_conv (Conv2D)   (None, 32, 32, 256)  262400      ['conv4_block5_out[0][0]']       \n",
            "                                                                                                  \n",
            " conv4_block6_1_bn (BatchNormal  (None, 32, 32, 256)  1024       ['conv4_block6_1_conv[0][0]']    \n",
            " ization)                                                                                         \n",
            "                                                                                                  \n",
            " conv4_block6_1_relu (Activatio  (None, 32, 32, 256)  0          ['conv4_block6_1_bn[0][0]']      \n",
            " n)                                                                                               \n",
            "                                                                                                  \n",
            " conv4_block6_2_conv (Conv2D)   (None, 32, 32, 256)  590080      ['conv4_block6_1_relu[0][0]']    \n",
            "                                                                                                  \n",
            " conv4_block6_2_bn (BatchNormal  (None, 32, 32, 256)  1024       ['conv4_block6_2_conv[0][0]']    \n",
            " ization)                                                                                         \n",
            "                                                                                                  \n",
            " conv4_block6_2_relu (Activatio  (None, 32, 32, 256)  0          ['conv4_block6_2_bn[0][0]']      \n",
            " n)                                                                                               \n",
            "                                                                                                  \n",
            " conv4_block6_3_conv (Conv2D)   (None, 32, 32, 1024  263168      ['conv4_block6_2_relu[0][0]']    \n",
            "                                )                                                                 \n",
            "                                                                                                  \n",
            " conv4_block6_3_bn (BatchNormal  (None, 32, 32, 1024  4096       ['conv4_block6_3_conv[0][0]']    \n",
            " ization)                       )                                                                 \n",
            "                                                                                                  \n",
            " conv4_block6_add (Add)         (None, 32, 32, 1024  0           ['conv4_block5_out[0][0]',       \n",
            "                                )                                 'conv4_block6_3_bn[0][0]']      \n",
            "                                                                                                  \n",
            " conv4_block6_out (Activation)  (None, 32, 32, 1024  0           ['conv4_block6_add[0][0]']       \n",
            "                                )                                                                 \n",
            "                                                                                                  \n",
            " conv5_block1_1_conv (Conv2D)   (None, 16, 16, 512)  524800      ['conv4_block6_out[0][0]']       \n",
            "                                                                                                  \n",
            " conv5_block1_1_bn (BatchNormal  (None, 16, 16, 512)  2048       ['conv5_block1_1_conv[0][0]']    \n",
            " ization)                                                                                         \n",
            "                                                                                                  \n",
            " conv5_block1_1_relu (Activatio  (None, 16, 16, 512)  0          ['conv5_block1_1_bn[0][0]']      \n",
            " n)                                                                                               \n",
            "                                                                                                  \n",
            " conv5_block1_2_conv (Conv2D)   (None, 16, 16, 512)  2359808     ['conv5_block1_1_relu[0][0]']    \n",
            "                                                                                                  \n",
            " conv5_block1_2_bn (BatchNormal  (None, 16, 16, 512)  2048       ['conv5_block1_2_conv[0][0]']    \n",
            " ization)                                                                                         \n",
            "                                                                                                  \n",
            " conv5_block1_2_relu (Activatio  (None, 16, 16, 512)  0          ['conv5_block1_2_bn[0][0]']      \n",
            " n)                                                                                               \n",
            "                                                                                                  \n",
            " conv5_block1_0_conv (Conv2D)   (None, 16, 16, 2048  2099200     ['conv4_block6_out[0][0]']       \n",
            "                                )                                                                 \n",
            "                                                                                                  \n",
            " conv5_block1_3_conv (Conv2D)   (None, 16, 16, 2048  1050624     ['conv5_block1_2_relu[0][0]']    \n",
            "                                )                                                                 \n",
            "                                                                                                  \n",
            " conv5_block1_0_bn (BatchNormal  (None, 16, 16, 2048  8192       ['conv5_block1_0_conv[0][0]']    \n",
            " ization)                       )                                                                 \n",
            "                                                                                                  \n",
            " conv5_block1_3_bn (BatchNormal  (None, 16, 16, 2048  8192       ['conv5_block1_3_conv[0][0]']    \n",
            " ization)                       )                                                                 \n",
            "                                                                                                  \n",
            " conv5_block1_add (Add)         (None, 16, 16, 2048  0           ['conv5_block1_0_bn[0][0]',      \n",
            "                                )                                 'conv5_block1_3_bn[0][0]']      \n",
            "                                                                                                  \n",
            " conv5_block1_out (Activation)  (None, 16, 16, 2048  0           ['conv5_block1_add[0][0]']       \n",
            "                                )                                                                 \n",
            "                                                                                                  \n",
            " conv5_block2_1_conv (Conv2D)   (None, 16, 16, 512)  1049088     ['conv5_block1_out[0][0]']       \n",
            "                                                                                                  \n",
            " conv5_block2_1_bn (BatchNormal  (None, 16, 16, 512)  2048       ['conv5_block2_1_conv[0][0]']    \n",
            " ization)                                                                                         \n",
            "                                                                                                  \n",
            " conv5_block2_1_relu (Activatio  (None, 16, 16, 512)  0          ['conv5_block2_1_bn[0][0]']      \n",
            " n)                                                                                               \n",
            "                                                                                                  \n",
            " conv5_block2_2_conv (Conv2D)   (None, 16, 16, 512)  2359808     ['conv5_block2_1_relu[0][0]']    \n",
            "                                                                                                  \n",
            " conv5_block2_2_bn (BatchNormal  (None, 16, 16, 512)  2048       ['conv5_block2_2_conv[0][0]']    \n",
            " ization)                                                                                         \n",
            "                                                                                                  \n",
            " conv5_block2_2_relu (Activatio  (None, 16, 16, 512)  0          ['conv5_block2_2_bn[0][0]']      \n",
            " n)                                                                                               \n",
            "                                                                                                  \n",
            " conv5_block2_3_conv (Conv2D)   (None, 16, 16, 2048  1050624     ['conv5_block2_2_relu[0][0]']    \n",
            "                                )                                                                 \n",
            "                                                                                                  \n",
            " conv5_block2_3_bn (BatchNormal  (None, 16, 16, 2048  8192       ['conv5_block2_3_conv[0][0]']    \n",
            " ization)                       )                                                                 \n",
            "                                                                                                  \n",
            " conv5_block2_add (Add)         (None, 16, 16, 2048  0           ['conv5_block1_out[0][0]',       \n",
            "                                )                                 'conv5_block2_3_bn[0][0]']      \n",
            "                                                                                                  \n",
            " conv5_block2_out (Activation)  (None, 16, 16, 2048  0           ['conv5_block2_add[0][0]']       \n",
            "                                )                                                                 \n",
            "                                                                                                  \n",
            " conv5_block3_1_conv (Conv2D)   (None, 16, 16, 512)  1049088     ['conv5_block2_out[0][0]']       \n",
            "                                                                                                  \n",
            " conv5_block3_1_bn (BatchNormal  (None, 16, 16, 512)  2048       ['conv5_block3_1_conv[0][0]']    \n",
            " ization)                                                                                         \n",
            "                                                                                                  \n",
            " conv5_block3_1_relu (Activatio  (None, 16, 16, 512)  0          ['conv5_block3_1_bn[0][0]']      \n",
            " n)                                                                                               \n",
            "                                                                                                  \n",
            " conv5_block3_2_conv (Conv2D)   (None, 16, 16, 512)  2359808     ['conv5_block3_1_relu[0][0]']    \n",
            "                                                                                                  \n",
            " conv5_block3_2_bn (BatchNormal  (None, 16, 16, 512)  2048       ['conv5_block3_2_conv[0][0]']    \n",
            " ization)                                                                                         \n",
            "                                                                                                  \n",
            " conv5_block3_2_relu (Activatio  (None, 16, 16, 512)  0          ['conv5_block3_2_bn[0][0]']      \n",
            " n)                                                                                               \n",
            "                                                                                                  \n",
            " conv5_block3_3_conv (Conv2D)   (None, 16, 16, 2048  1050624     ['conv5_block3_2_relu[0][0]']    \n",
            "                                )                                                                 \n",
            "                                                                                                  \n",
            " conv5_block3_3_bn (BatchNormal  (None, 16, 16, 2048  8192       ['conv5_block3_3_conv[0][0]']    \n",
            " ization)                       )                                                                 \n",
            "                                                                                                  \n",
            " conv5_block3_add (Add)         (None, 16, 16, 2048  0           ['conv5_block2_out[0][0]',       \n",
            "                                )                                 'conv5_block3_3_bn[0][0]']      \n",
            "                                                                                                  \n",
            " conv5_block3_out (Activation)  (None, 16, 16, 2048  0           ['conv5_block3_add[0][0]']       \n",
            "                                )                                                                 \n",
            "                                                                                                  \n",
            "==================================================================================================\n",
            "Total params: 23,587,712\n",
            "Trainable params: 23,534,592\n",
            "Non-trainable params: 53,120\n",
            "__________________________________________________________________________________________________\n",
            "Model: \"sequential\"\n",
            "_________________________________________________________________\n",
            " Layer (type)                Output Shape              Param #   \n",
            "=================================================================\n",
            " resnet50 (Functional)       (None, 16, 16, 2048)      23587712  \n",
            "                                                                 \n",
            " global_average_pooling2d (G  (None, 2048)             0         \n",
            " lobalAveragePooling2D)                                          \n",
            "                                                                 \n",
            " dense (Dense)               (None, 12)                24588     \n",
            "                                                                 \n",
            "=================================================================\n",
            "Total params: 23,612,300\n",
            "Trainable params: 24,588\n",
            "Non-trainable params: 23,587,712\n",
            "_________________________________________________________________\n"
          ]
        }
      ]
    },
    {
      "cell_type": "code",
      "metadata": {
        "id": "6HgihrYHnXeR",
        "colab": {
          "base_uri": "https://localhost:8080/",
          "height": 247
        },
        "outputId": "fb27e361-e986-4b40-f83f-53dd68c9907b"
      },
      "source": [
        "# Instancia um otimizador SGD, compila e treina o modelo completo\n",
        "sgd = tf.keras.optimizers.SGD(learning_rate=0.001, momentum=0.9, decay=0.001, nesterov=True)\n",
        "\n",
        "\n",
        "# Early Stopping\n",
        "early = tf.keras.callbacks.EarlyStopping(monitor='val_loss', patience=5, restore_best_weights=True)\n",
        "\n",
        "frozen_model.compile(loss='categorical_crossentropy', optimizer=sgd, metrics=['accuracy'])\n",
        "\n",
        "frozen_model.fit(train_dataset, epochs=25,\n",
        "                  validation_data=validation_dataset,\n",
        "                 callbacks=[early,\n",
        "                            tf.keras.callbacks.experimental.BackupAndRestore(backup_dir=\"/drive/MyDrive/trabalho_final_mdc\")])"
      ],
      "execution_count": null,
      "outputs": [
        {
          "output_type": "error",
          "ename": "NameError",
          "evalue": "ignored",
          "traceback": [
            "\u001b[0;31m---------------------------------------------------------------------------\u001b[0m",
            "\u001b[0;31mNameError\u001b[0m                                 Traceback (most recent call last)",
            "\u001b[0;32m<ipython-input-1-dfce854c21c3>\u001b[0m in \u001b[0;36m<module>\u001b[0;34m()\u001b[0m\n\u001b[1;32m      1\u001b[0m \u001b[0;31m# Instancia um otimizador SGD, compila e treina o modelo completo\u001b[0m\u001b[0;34m\u001b[0m\u001b[0;34m\u001b[0m\u001b[0;34m\u001b[0m\u001b[0m\n\u001b[0;32m----> 2\u001b[0;31m \u001b[0msgd\u001b[0m \u001b[0;34m=\u001b[0m \u001b[0mtf\u001b[0m\u001b[0;34m.\u001b[0m\u001b[0mkeras\u001b[0m\u001b[0;34m.\u001b[0m\u001b[0moptimizers\u001b[0m\u001b[0;34m.\u001b[0m\u001b[0mSGD\u001b[0m\u001b[0;34m(\u001b[0m\u001b[0mlearning_rate\u001b[0m\u001b[0;34m=\u001b[0m\u001b[0;36m0.001\u001b[0m\u001b[0;34m,\u001b[0m \u001b[0mmomentum\u001b[0m\u001b[0;34m=\u001b[0m\u001b[0;36m0.9\u001b[0m\u001b[0;34m,\u001b[0m \u001b[0mdecay\u001b[0m\u001b[0;34m=\u001b[0m\u001b[0;36m0.001\u001b[0m\u001b[0;34m,\u001b[0m \u001b[0mnesterov\u001b[0m\u001b[0;34m=\u001b[0m\u001b[0;32mTrue\u001b[0m\u001b[0;34m)\u001b[0m\u001b[0;34m\u001b[0m\u001b[0;34m\u001b[0m\u001b[0m\n\u001b[0m\u001b[1;32m      3\u001b[0m \u001b[0;34m\u001b[0m\u001b[0m\n\u001b[1;32m      4\u001b[0m \u001b[0;34m\u001b[0m\u001b[0m\n\u001b[1;32m      5\u001b[0m \u001b[0;31m# Early Stopping\u001b[0m\u001b[0;34m\u001b[0m\u001b[0;34m\u001b[0m\u001b[0;34m\u001b[0m\u001b[0m\n",
            "\u001b[0;31mNameError\u001b[0m: name 'tf' is not defined"
          ]
        }
      ]
    },
    {
      "cell_type": "markdown",
      "metadata": {
        "id": "DidlCFczr7Gv"
      },
      "source": [
        "# TO DO\n",
        "\n",
        "* Analise expectral de cores\n",
        "* Tentar inputar no modelo simples de rede neural\n",
        "* Imputar no Resnet50"
      ]
    },
    {
      "cell_type": "code",
      "metadata": {
        "colab": {
          "base_uri": "https://localhost:8080/"
        },
        "id": "wL1wEgXUsJXD",
        "outputId": "96ae4ade-c05f-4ce7-da54-dbda7fee079e"
      },
      "source": [
        "! cd drive/MyDrive; ls"
      ],
      "execution_count": null,
      "outputs": [
        {
          "output_type": "stream",
          "name": "stdout",
          "text": [
            " 20180529_playerdetection.py\n",
            " amz\n",
            " Apresentacao.pptx\n",
            "'Aulas Digital House - Pie chart 1.gsheet'\n",
            " auxilio\n",
            " b3\n",
            " backup\n",
            "'Backup Iphone'\n",
            " Bolo.gsheet\n",
            " Books\n",
            "'Canada 2022'\n",
            "'Case Nubank'\n",
            "'Climbing Workout.gsheet'\n",
            "'Colab Notebooks'\n",
            " Cookies.gsheet\n",
            "'Cópia de [BÔNUS] PlantLife School - Modelo de ficha técnica de produção.gsheet'\n",
            "'Copy of IMG_1029.JPG'\n",
            "'Coursera '\n",
            "'Coursera Week 1 - Task 1.gsheet'\n",
            " deep_trabalho_2\n",
            "'Digital House'\n",
            "'Documento sem título.gdoc'\n",
            "'Draft Projeto Final.gdoc'\n",
            "'Draft Trabalho Final.gdoc'\n",
            "'Fotos Ba'\n",
            "'Gastos Viagem (1).gsheet'\n",
            "'Gastos Viagem.gsheet'\n",
            " gut-pt\n",
            "'gut-pt (1)'\n",
            " IAR_11048712.pdf\n",
            " IFTTT\n",
            " imposto.gsheet\n",
            "'Kami Uploads'\n",
            "\"Let's Go Somewhere.gsheet\"\n",
            "'Mapeamento Bases P..gsheet'\n",
            " MBB\n",
            " mdc-2021-eae446dab2de.json\n",
            "'Meus Gastos Mensais.gsheet'\n",
            "'Otaku life.gsheet'\n",
            " Photos\n",
            "'Pokemon (1).gsheet'\n",
            " Pokemon.csv\n",
            " Pokemon.gsheet\n",
            " projeto_final_dups.csv\n",
            "'Projetos MDC.gsheet'\n",
            "'Rotina Quarentena.gsheet'\n",
            " SVHN_Dataset\n",
            " T01_MDC010_INF0614_Kurosawa_Suda_Wakabayashi.gdoc\n",
            " T01_MDC010_INF0615.gdoc\n",
            " T02_MDC010_INF0614_Kurosawa_Suda_Wakabayashi.gdoc\n",
            " T02_MDC010_INF0615.gdoc\n",
            " T03_MDC010_INF0614_Kurosawa_Suda_Wakabayashi.gdoc\n",
            " T03_MDC010_INF0615_Kurosawa_Suda_Wakabayashi.gdoc\n",
            " tmp9\n",
            " tmp-sort\n",
            "'Trabalho Final MDC'\n",
            "'Tratamento Texto'\n",
            "'Treinamento GCCS'\n",
            " twitter_cs\n",
            " University\n",
            " Untitled0.ipynb\n",
            "'Untitled spreadsheet.gsheet'\n"
          ]
        }
      ]
    }
  ]
}