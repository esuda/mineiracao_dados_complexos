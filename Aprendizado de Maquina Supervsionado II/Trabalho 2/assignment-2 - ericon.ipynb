{
 "cells": [
  {
   "cell_type": "markdown",
   "metadata": {},
   "source": [
    "# INF-0616 - Projeto 2: *SVR, Grid Search & Random Search*\n",
    "\n",
    "Professora: Esther Colombini -- esther@ic.unicamp.br\n",
    "\n",
    "Monitores: Alana Santana -- alana.correia@ic.unicamp.br Hudson Bruno -- hudson.bruno@ic.unicamp.br\n",
    "\n",
    "Este notebook faz parte da disciplina INF-0616 no curso de extensão MDC.\n",
    "Demais artefatos podem ser encontrados no moodle da disciplina: moodle.lab.ic.unicamp.br/456\n",
    "\n",
    "Instituto de Computação - Unicamp 2021"
   ]
  },
  {
   "cell_type": "code",
   "execution_count": 1,
   "metadata": {},
   "outputs": [],
   "source": [
    "from __future__ import print_function\n",
    "\n",
    "from math import ceil\n",
    "\n",
    "import numpy as np\n",
    "import pandas as pd\n",
    "import matplotlib.pyplot as plt\n",
    "\n",
    "from sklearn import datasets, svm\n",
    "from sklearn.ensemble import RandomForestRegressor\n",
    "from sklearn.linear_model import LinearRegression\n",
    "from sklearn.metrics import confusion_matrix, classification_report, accuracy_score, balanced_accuracy_score\n",
    "from sklearn.model_selection import train_test_split, RandomizedSearchCV, GridSearchCV\n",
    "from sklearn.preprocessing import StandardScaler\n",
    "from sklearn.utils.fixes import loguniform\n",
    "\n",
    "import seaborn as sns\n",
    "\n",
    "from IPython.display import display"
   ]
  },
  {
   "cell_type": "markdown",
   "metadata": {},
   "source": [
    "## PARTE I - Support Vector Machine Regressors\n",
    "\n",
    "O conjunto *Doctor fees prediction* contém uma relação entre um conjunto de características associadas a um médico atendente e o preço da consulta cobrada. O objetivo é **regredir** este valor o mais próximo possível do valor esperado.   \n",
    "Ele pode ser encontrado no moodle, junto com a atividade, ou no seguinte link: [kaggle.com/nitin194/doctor-fees-prediction](https://www.kaggle.com/nitin194/doctor-fees-prediction)"
   ]
  },
  {
   "cell_type": "code",
   "execution_count": 2,
   "metadata": {},
   "outputs": [],
   "source": [
    "train = pd.read_csv('./doctor-fees-train.csv')\n",
    "train, test = train_test_split(train, test_size=.3, random_state=7128)"
   ]
  },
  {
   "cell_type": "markdown",
   "metadata": {},
   "source": [
    "#### Pré-processamento dos dados para um formato mais limpo\n",
    "\n",
    "- Converte a coluna `Rating` para porcentagens\n",
    "- Converte a coluna `Experience` para um número (em anos)\n",
    "- Simplifica as colunas `Qualification` e `Place`, removendo caracteres especiais e transformando tudo em minúsculo"
   ]
  },
  {
   "cell_type": "code",
   "execution_count": 3,
   "metadata": {},
   "outputs": [
    {
     "name": "stderr",
     "output_type": "stream",
     "text": [
      "C:\\Users\\HOME41~1\\AppData\\Local\\Temp/ipykernel_9396/1485874194.py:4: FutureWarning: The default value of regex will change from True to False in a future version.\n",
      "  frame['Qualification'] = frame['Qualification'].str.replace('[^a-zA-Z]', ' ').str.lower()\n",
      "C:\\Users\\HOME41~1\\AppData\\Local\\Temp/ipykernel_9396/1485874194.py:5: FutureWarning: The default value of regex will change from True to False in a future version.\n",
      "  frame['Place'] = frame['Place'].str.replace('[^a-zA-Z]', ' ').str.lower()\n"
     ]
    }
   ],
   "source": [
    "def preprocess(frame):\n",
    "    frame['Rating'] = frame['Rating'].str.replace('%', '').astype(float) / 100.0\n",
    "    frame['Experience'] = frame['Experience'].str.replace('years experience', '').astype(float)\n",
    "    frame['Qualification'] = frame['Qualification'].str.replace('[^a-zA-Z]', ' ').str.lower()\n",
    "    frame['Place'] = frame['Place'].str.replace('[^a-zA-Z]', ' ').str.lower()\n",
    "\n",
    "preprocess(train)\n",
    "preprocess(test)"
   ]
  },
  {
   "cell_type": "markdown",
   "metadata": {},
   "source": [
    "- Remove uma linha inválida, contendo `\"years experience\"` como valor para a coluna qualificação"
   ]
  },
  {
   "cell_type": "code",
   "execution_count": 4,
   "metadata": {},
   "outputs": [],
   "source": [
    "invalid_rows = train['Qualification'].str.contains('years experience')\n",
    "train = train[~invalid_rows]"
   ]
  },
  {
   "cell_type": "markdown",
   "metadata": {},
   "source": [
    "- Preenche todas as células das colunas `Place` e `Profile` com valor igual à `NaN` com a tag `unknown`"
   ]
  },
  {
   "cell_type": "code",
   "execution_count": 5,
   "metadata": {},
   "outputs": [
    {
     "data": {
      "text/html": [
       "<div>\n",
       "<style scoped>\n",
       "    .dataframe tbody tr th:only-of-type {\n",
       "        vertical-align: middle;\n",
       "    }\n",
       "\n",
       "    .dataframe tbody tr th {\n",
       "        vertical-align: top;\n",
       "    }\n",
       "\n",
       "    .dataframe thead th {\n",
       "        text-align: right;\n",
       "    }\n",
       "</style>\n",
       "<table border=\"1\" class=\"dataframe\">\n",
       "  <thead>\n",
       "    <tr style=\"text-align: right;\">\n",
       "      <th></th>\n",
       "      <th>Qualification</th>\n",
       "      <th>Experience</th>\n",
       "      <th>Rating</th>\n",
       "      <th>Place</th>\n",
       "      <th>Profile</th>\n",
       "      <th>Miscellaneous_Info</th>\n",
       "      <th>Fees</th>\n",
       "    </tr>\n",
       "  </thead>\n",
       "  <tbody>\n",
       "    <tr>\n",
       "      <th>387</th>\n",
       "      <td>bds  mds   conservative dentistry   endodontics</td>\n",
       "      <td>6.0</td>\n",
       "      <td>NaN</td>\n",
       "      <td>nungambakkam  chennai</td>\n",
       "      <td>Dentist</td>\n",
       "      <td>RCT - Root Canal Treatment Dental Fillings Den...</td>\n",
       "      <td>500</td>\n",
       "    </tr>\n",
       "    <tr>\n",
       "      <th>1162</th>\n",
       "      <td>mbbs</td>\n",
       "      <td>9.0</td>\n",
       "      <td>NaN</td>\n",
       "      <td>balapur  hyderabad</td>\n",
       "      <td>General Medicine</td>\n",
       "      <td>Balapur, Hyderabad ₹300 Visits Today</td>\n",
       "      <td>300</td>\n",
       "    </tr>\n",
       "    <tr>\n",
       "      <th>4593</th>\n",
       "      <td>md   dermatology   venereology   leprosy  mbbs</td>\n",
       "      <td>17.0</td>\n",
       "      <td>NaN</td>\n",
       "      <td>manikonda  hyderabad</td>\n",
       "      <td>Dermatologists</td>\n",
       "      <td>NaN</td>\n",
       "      <td>350</td>\n",
       "    </tr>\n",
       "    <tr>\n",
       "      <th>1992</th>\n",
       "      <td>bams</td>\n",
       "      <td>10.0</td>\n",
       "      <td>1.0</td>\n",
       "      <td>konanakunte  bangalore</td>\n",
       "      <td>Ayurveda</td>\n",
       "      <td>100% 18 Feedback Konanakunte, Bangalore</td>\n",
       "      <td>150</td>\n",
       "    </tr>\n",
       "    <tr>\n",
       "      <th>2641</th>\n",
       "      <td>bhms</td>\n",
       "      <td>0.0</td>\n",
       "      <td>NaN</td>\n",
       "      <td>vidyanagar  hyderabad</td>\n",
       "      <td>Homeopath</td>\n",
       "      <td>NaN</td>\n",
       "      <td>200</td>\n",
       "    </tr>\n",
       "  </tbody>\n",
       "</table>\n",
       "</div>"
      ],
      "text/plain": [
       "                                        Qualification  Experience  Rating  \\\n",
       "387   bds  mds   conservative dentistry   endodontics         6.0     NaN   \n",
       "1162                                             mbbs         9.0     NaN   \n",
       "4593   md   dermatology   venereology   leprosy  mbbs        17.0     NaN   \n",
       "1992                                             bams        10.0     1.0   \n",
       "2641                                             bhms         0.0     NaN   \n",
       "\n",
       "                       Place           Profile  \\\n",
       "387    nungambakkam  chennai           Dentist   \n",
       "1162      balapur  hyderabad  General Medicine   \n",
       "4593    manikonda  hyderabad    Dermatologists   \n",
       "1992  konanakunte  bangalore          Ayurveda   \n",
       "2641   vidyanagar  hyderabad         Homeopath   \n",
       "\n",
       "                                     Miscellaneous_Info  Fees  \n",
       "387   RCT - Root Canal Treatment Dental Fillings Den...   500  \n",
       "1162               Balapur, Hyderabad ₹300 Visits Today   300  \n",
       "4593                                                NaN   350  \n",
       "1992            100% 18 Feedback Konanakunte, Bangalore   150  \n",
       "2641                                                NaN   200  "
      ]
     },
     "execution_count": 5,
     "metadata": {},
     "output_type": "execute_result"
    }
   ],
   "source": [
    "train.fillna({'Place': 'unknown', 'Profile': 'unknown'}, inplace=True);\n",
    "test.fillna({'Place': 'unknown', 'Profile': 'unknown'}, inplace=True);\n",
    "train.head()"
   ]
  },
  {
   "cell_type": "markdown",
   "metadata": {},
   "source": [
    "### Exibindo frequência com que as qualificações, locais e perfis ocorrem nos conjuntos"
   ]
  },
  {
   "cell_type": "code",
   "execution_count": 6,
   "metadata": {},
   "outputs": [],
   "source": [
    "def plot_feature_freq(frame, feature, showing=30):\n",
    "    labels, counts = np.unique(frame[feature].dropna(), return_counts=True)\n",
    "\n",
    "    # ordena pelas mais frequentes\n",
    "    p = np.argsort(counts)[::-1]\n",
    "    labels, counts = labels[p], counts[p]\n",
    "\n",
    "    g = sns.barplot(labels[:showing], counts[:showing])\n",
    "    g.set_xticklabels(labels[:showing], rotation=90)\n",
    "    \n",
    "    return g"
   ]
  },
  {
   "cell_type": "code",
   "execution_count": 7,
   "metadata": {},
   "outputs": [
    {
     "name": "stderr",
     "output_type": "stream",
     "text": [
      "C:\\Users\\home41_hs\\miniconda3\\lib\\site-packages\\seaborn\\_decorators.py:36: FutureWarning: Pass the following variables as keyword args: x, y. From version 0.12, the only valid positional argument will be `data`, and passing other arguments without an explicit keyword will result in an error or misinterpretation.\n",
      "  warnings.warn(\n",
      "C:\\Users\\home41_hs\\miniconda3\\lib\\site-packages\\seaborn\\_decorators.py:36: FutureWarning: Pass the following variables as keyword args: x, y. From version 0.12, the only valid positional argument will be `data`, and passing other arguments without an explicit keyword will result in an error or misinterpretation.\n",
      "  warnings.warn(\n"
     ]
    },
    {
     "data": {
      "image/png": "[encoded data removed]",
      "text/plain": [
       "<Figure size 1152x288 with 2 Axes>"
      ]
     },
     "metadata": {
      "needs_background": "light"
     },
     "output_type": "display_data"
    }
   ],
   "source": [
    "plt.figure(figsize=(16, 4))\n",
    "\n",
    "plt.subplot(121)\n",
    "plot_feature_freq(train, 'Qualification', showing=50)\n",
    "\n",
    "plt.subplot(122)\n",
    "plot_feature_freq(test, 'Qualification', showing=50)\n",
    "\n",
    "# Ordena as qualificações pelas mais frequentes.\n",
    "qualifications, counts = np.unique(train['Qualification'].dropna(), return_counts=True)\n",
    "p = np.argsort(counts)[::-1]\n",
    "qualifications = qualifications[p];"
   ]
  },
  {
   "cell_type": "code",
   "execution_count": 8,
   "metadata": {},
   "outputs": [
    {
     "name": "stderr",
     "output_type": "stream",
     "text": [
      "C:\\Users\\home41_hs\\miniconda3\\lib\\site-packages\\seaborn\\_decorators.py:36: FutureWarning: Pass the following variables as keyword args: x, y. From version 0.12, the only valid positional argument will be `data`, and passing other arguments without an explicit keyword will result in an error or misinterpretation.\n",
      "  warnings.warn(\n",
      "C:\\Users\\home41_hs\\miniconda3\\lib\\site-packages\\seaborn\\_decorators.py:36: FutureWarning: Pass the following variables as keyword args: x, y. From version 0.12, the only valid positional argument will be `data`, and passing other arguments without an explicit keyword will result in an error or misinterpretation.\n",
      "  warnings.warn(\n"
     ]
    },
    {
     "data": {
      "image/png": "[encoded data removed]",
      "text/plain": [
       "<Figure size 1152x288 with 2 Axes>"
      ]
     },
     "metadata": {
      "needs_background": "light"
     },
     "output_type": "display_data"
    }
   ],
   "source": [
    "plt.figure(figsize=(16, 4))\n",
    "\n",
    "plt.subplot(121)\n",
    "plot_feature_freq(train, 'Place')\n",
    "\n",
    "plt.subplot(122)\n",
    "plot_feature_freq(test, 'Place')\n",
    "\n",
    "# Ordena os locais pelos mais frequentes.\n",
    "places, counts = np.unique(train['Place'].dropna(), return_counts=True)\n",
    "p = np.argsort(counts)[::-1]\n",
    "places = places[p];"
   ]
  },
  {
   "cell_type": "code",
   "execution_count": 9,
   "metadata": {},
   "outputs": [
    {
     "name": "stderr",
     "output_type": "stream",
     "text": [
      "C:\\Users\\home41_hs\\miniconda3\\lib\\site-packages\\seaborn\\_decorators.py:36: FutureWarning: Pass the following variables as keyword args: x, y. From version 0.12, the only valid positional argument will be `data`, and passing other arguments without an explicit keyword will result in an error or misinterpretation.\n",
      "  warnings.warn(\n",
      "C:\\Users\\home41_hs\\miniconda3\\lib\\site-packages\\seaborn\\_decorators.py:36: FutureWarning: Pass the following variables as keyword args: x, y. From version 0.12, the only valid positional argument will be `data`, and passing other arguments without an explicit keyword will result in an error or misinterpretation.\n",
      "  warnings.warn(\n"
     ]
    },
    {
     "data": {
      "image/png": "[encoded data removed]",
      "text/plain": [
       "<Figure size 1152x288 with 2 Axes>"
      ]
     },
     "metadata": {
      "needs_background": "light"
     },
     "output_type": "display_data"
    }
   ],
   "source": [
    "plt.figure(figsize=(16, 4))\n",
    "\n",
    "plt.subplot(121)\n",
    "plot_feature_freq(train, 'Profile')\n",
    "\n",
    "plt.subplot(122)\n",
    "plot_feature_freq(test, 'Profile');"
   ]
  },
  {
   "cell_type": "markdown",
   "metadata": {},
   "source": [
    "### Modelando um regressor de custo de consulta"
   ]
  },
  {
   "cell_type": "code",
   "execution_count": 10,
   "metadata": {},
   "outputs": [],
   "source": [
    "from sklearn.pipeline import make_pipeline\n",
    "from sklearn.compose import ColumnTransformer\n",
    "from sklearn.preprocessing import OneHotEncoder, StandardScaler\n",
    "from sklearn.impute import SimpleImputer"
   ]
  },
  {
   "cell_type": "markdown",
   "metadata": {},
   "source": [
    "Vamos codificar as características categóricas usando o one-hot encoding.\n",
    "Entretanto, dado o alto número de ocorrências únicas, nós consideramos somente os 100 valores de maior frequência."
   ]
  },
  {
   "cell_type": "code",
   "execution_count": 11,
   "metadata": {
    "scrolled": true
   },
   "outputs": [],
   "source": [
    "retained_qualif = qualifications[:100].tolist()\n",
    "retained_places = places[:100].tolist()\n",
    "\n",
    "qualif_places_enc = OneHotEncoder(categories=[retained_qualif, retained_places],\n",
    "                                  handle_unknown='ignore')\n",
    "profile_enc = OneHotEncoder()"
   ]
  },
  {
   "cell_type": "markdown",
   "metadata": {},
   "source": [
    "Substituímos as células desconhecidas pelo valor mediano e normalizamos as características contínuas com o `StandardScaler`, o que os transforma em um conjunto de média 0, desvio padrão 1:"
   ]
  },
  {
   "cell_type": "code",
   "execution_count": 12,
   "metadata": {},
   "outputs": [],
   "source": [
    "continuous_enc = make_pipeline(SimpleImputer(strategy='median'),\n",
    "                               StandardScaler())"
   ]
  },
  {
   "cell_type": "markdown",
   "metadata": {},
   "source": [
    "Compomos o pipeline, definindo quais colunas alimentarão quais codificadores, e aplicamos o transformador aos dados de entrada e aos valores de saída:"
   ]
  },
  {
   "cell_type": "code",
   "execution_count": 13,
   "metadata": {},
   "outputs": [],
   "source": [
    "encoder = ColumnTransformer([\n",
    "  ('q_pla', qualif_places_enc, ['Qualification', 'Place']),\n",
    "  ('prof', profile_enc, ['Profile']),\n",
    "  ('ex_ra', continuous_enc, ['Experience', 'Rating'])\n",
    "])\n",
    "\n",
    "train_e = encoder.fit_transform(train)\n",
    "# Apesar da normalização ser imprescindível, ela está acontecendo no conjunto de teste com os parâmetros \n",
    "# que encontramos no cnjunto de treino. Logo, não estamos usando informação do teste, mas apenas adequando a\n",
    "# faixa de valores para a faixa com a qual o modelo foi treinado.\n",
    "test_e = encoder.transform(test)\n",
    "\n",
    "fee_enc = StandardScaler()\n",
    "ye_train = fee_enc.fit_transform(train[['Fees']].astype(float)).ravel()\n",
    "ye_test = fee_enc.transform(test[['Fees']].astype(float)).ravel()"
   ]
  },
  {
   "cell_type": "code",
   "execution_count": 45,
   "metadata": {},
   "outputs": [
    {
     "data": {
      "text/html": [
       "<div>\n",
       "<style scoped>\n",
       "    .dataframe tbody tr th:only-of-type {\n",
       "        vertical-align: middle;\n",
       "    }\n",
       "\n",
       "    .dataframe tbody tr th {\n",
       "        vertical-align: top;\n",
       "    }\n",
       "\n",
       "    .dataframe thead th {\n",
       "        text-align: right;\n",
       "    }\n",
       "</style>\n",
       "<table border=\"1\" class=\"dataframe\">\n",
       "  <thead>\n",
       "    <tr style=\"text-align: right;\">\n",
       "      <th></th>\n",
       "      <th>0</th>\n",
       "      <th>1</th>\n",
       "      <th>2</th>\n",
       "      <th>3</th>\n",
       "      <th>4</th>\n",
       "      <th>5</th>\n",
       "      <th>6</th>\n",
       "      <th>7</th>\n",
       "      <th>8</th>\n",
       "      <th>9</th>\n",
       "      <th>...</th>\n",
       "      <th>198</th>\n",
       "      <th>199</th>\n",
       "      <th>200</th>\n",
       "      <th>201</th>\n",
       "      <th>202</th>\n",
       "      <th>203</th>\n",
       "      <th>204</th>\n",
       "      <th>205</th>\n",
       "      <th>206</th>\n",
       "      <th>207</th>\n",
       "    </tr>\n",
       "  </thead>\n",
       "  <tbody>\n",
       "    <tr>\n",
       "      <th>0</th>\n",
       "      <td>0.0</td>\n",
       "      <td>0.0</td>\n",
       "      <td>0.0</td>\n",
       "      <td>0.0</td>\n",
       "      <td>0.0</td>\n",
       "      <td>0.0</td>\n",
       "      <td>0.0</td>\n",
       "      <td>0.0</td>\n",
       "      <td>0.0</td>\n",
       "      <td>0.0</td>\n",
       "      <td>...</td>\n",
       "      <td>0.0</td>\n",
       "      <td>0.0</td>\n",
       "      <td>0.0</td>\n",
       "      <td>1.0</td>\n",
       "      <td>0.0</td>\n",
       "      <td>0.0</td>\n",
       "      <td>0.0</td>\n",
       "      <td>0.0</td>\n",
       "      <td>-1.018123</td>\n",
       "      <td>0.196602</td>\n",
       "    </tr>\n",
       "    <tr>\n",
       "      <th>1</th>\n",
       "      <td>0.0</td>\n",
       "      <td>0.0</td>\n",
       "      <td>0.0</td>\n",
       "      <td>1.0</td>\n",
       "      <td>0.0</td>\n",
       "      <td>0.0</td>\n",
       "      <td>0.0</td>\n",
       "      <td>0.0</td>\n",
       "      <td>0.0</td>\n",
       "      <td>0.0</td>\n",
       "      <td>...</td>\n",
       "      <td>0.0</td>\n",
       "      <td>0.0</td>\n",
       "      <td>0.0</td>\n",
       "      <td>0.0</td>\n",
       "      <td>0.0</td>\n",
       "      <td>0.0</td>\n",
       "      <td>1.0</td>\n",
       "      <td>0.0</td>\n",
       "      <td>-0.749289</td>\n",
       "      <td>0.196602</td>\n",
       "    </tr>\n",
       "    <tr>\n",
       "      <th>2</th>\n",
       "      <td>0.0</td>\n",
       "      <td>0.0</td>\n",
       "      <td>0.0</td>\n",
       "      <td>0.0</td>\n",
       "      <td>0.0</td>\n",
       "      <td>0.0</td>\n",
       "      <td>0.0</td>\n",
       "      <td>0.0</td>\n",
       "      <td>0.0</td>\n",
       "      <td>0.0</td>\n",
       "      <td>...</td>\n",
       "      <td>0.0</td>\n",
       "      <td>0.0</td>\n",
       "      <td>0.0</td>\n",
       "      <td>0.0</td>\n",
       "      <td>1.0</td>\n",
       "      <td>0.0</td>\n",
       "      <td>0.0</td>\n",
       "      <td>0.0</td>\n",
       "      <td>-0.032398</td>\n",
       "      <td>0.196602</td>\n",
       "    </tr>\n",
       "    <tr>\n",
       "      <th>3</th>\n",
       "      <td>0.0</td>\n",
       "      <td>1.0</td>\n",
       "      <td>0.0</td>\n",
       "      <td>0.0</td>\n",
       "      <td>0.0</td>\n",
       "      <td>0.0</td>\n",
       "      <td>0.0</td>\n",
       "      <td>0.0</td>\n",
       "      <td>0.0</td>\n",
       "      <td>0.0</td>\n",
       "      <td>...</td>\n",
       "      <td>0.0</td>\n",
       "      <td>0.0</td>\n",
       "      <td>1.0</td>\n",
       "      <td>0.0</td>\n",
       "      <td>0.0</td>\n",
       "      <td>0.0</td>\n",
       "      <td>0.0</td>\n",
       "      <td>0.0</td>\n",
       "      <td>-0.659678</td>\n",
       "      <td>0.756092</td>\n",
       "    </tr>\n",
       "    <tr>\n",
       "      <th>4</th>\n",
       "      <td>0.0</td>\n",
       "      <td>0.0</td>\n",
       "      <td>1.0</td>\n",
       "      <td>0.0</td>\n",
       "      <td>0.0</td>\n",
       "      <td>0.0</td>\n",
       "      <td>0.0</td>\n",
       "      <td>0.0</td>\n",
       "      <td>0.0</td>\n",
       "      <td>0.0</td>\n",
       "      <td>...</td>\n",
       "      <td>0.0</td>\n",
       "      <td>0.0</td>\n",
       "      <td>0.0</td>\n",
       "      <td>0.0</td>\n",
       "      <td>0.0</td>\n",
       "      <td>0.0</td>\n",
       "      <td>0.0</td>\n",
       "      <td>1.0</td>\n",
       "      <td>-1.555791</td>\n",
       "      <td>0.196602</td>\n",
       "    </tr>\n",
       "    <tr>\n",
       "      <th>...</th>\n",
       "      <td>...</td>\n",
       "      <td>...</td>\n",
       "      <td>...</td>\n",
       "      <td>...</td>\n",
       "      <td>...</td>\n",
       "      <td>...</td>\n",
       "      <td>...</td>\n",
       "      <td>...</td>\n",
       "      <td>...</td>\n",
       "      <td>...</td>\n",
       "      <td>...</td>\n",
       "      <td>...</td>\n",
       "      <td>...</td>\n",
       "      <td>...</td>\n",
       "      <td>...</td>\n",
       "      <td>...</td>\n",
       "      <td>...</td>\n",
       "      <td>...</td>\n",
       "      <td>...</td>\n",
       "      <td>...</td>\n",
       "      <td>...</td>\n",
       "    </tr>\n",
       "    <tr>\n",
       "      <th>4166</th>\n",
       "      <td>0.0</td>\n",
       "      <td>0.0</td>\n",
       "      <td>1.0</td>\n",
       "      <td>0.0</td>\n",
       "      <td>0.0</td>\n",
       "      <td>0.0</td>\n",
       "      <td>0.0</td>\n",
       "      <td>0.0</td>\n",
       "      <td>0.0</td>\n",
       "      <td>0.0</td>\n",
       "      <td>...</td>\n",
       "      <td>0.0</td>\n",
       "      <td>0.0</td>\n",
       "      <td>0.0</td>\n",
       "      <td>0.0</td>\n",
       "      <td>0.0</td>\n",
       "      <td>0.0</td>\n",
       "      <td>0.0</td>\n",
       "      <td>1.0</td>\n",
       "      <td>0.057213</td>\n",
       "      <td>0.196602</td>\n",
       "    </tr>\n",
       "    <tr>\n",
       "      <th>4167</th>\n",
       "      <td>1.0</td>\n",
       "      <td>0.0</td>\n",
       "      <td>0.0</td>\n",
       "      <td>0.0</td>\n",
       "      <td>0.0</td>\n",
       "      <td>0.0</td>\n",
       "      <td>0.0</td>\n",
       "      <td>0.0</td>\n",
       "      <td>0.0</td>\n",
       "      <td>0.0</td>\n",
       "      <td>...</td>\n",
       "      <td>0.0</td>\n",
       "      <td>0.0</td>\n",
       "      <td>0.0</td>\n",
       "      <td>1.0</td>\n",
       "      <td>0.0</td>\n",
       "      <td>0.0</td>\n",
       "      <td>0.0</td>\n",
       "      <td>0.0</td>\n",
       "      <td>0.146824</td>\n",
       "      <td>-0.362888</td>\n",
       "    </tr>\n",
       "    <tr>\n",
       "      <th>4168</th>\n",
       "      <td>0.0</td>\n",
       "      <td>0.0</td>\n",
       "      <td>0.0</td>\n",
       "      <td>1.0</td>\n",
       "      <td>0.0</td>\n",
       "      <td>0.0</td>\n",
       "      <td>0.0</td>\n",
       "      <td>0.0</td>\n",
       "      <td>0.0</td>\n",
       "      <td>0.0</td>\n",
       "      <td>...</td>\n",
       "      <td>0.0</td>\n",
       "      <td>0.0</td>\n",
       "      <td>0.0</td>\n",
       "      <td>0.0</td>\n",
       "      <td>0.0</td>\n",
       "      <td>0.0</td>\n",
       "      <td>1.0</td>\n",
       "      <td>0.0</td>\n",
       "      <td>2.387108</td>\n",
       "      <td>0.196602</td>\n",
       "    </tr>\n",
       "    <tr>\n",
       "      <th>4169</th>\n",
       "      <td>0.0</td>\n",
       "      <td>0.0</td>\n",
       "      <td>0.0</td>\n",
       "      <td>0.0</td>\n",
       "      <td>1.0</td>\n",
       "      <td>0.0</td>\n",
       "      <td>0.0</td>\n",
       "      <td>0.0</td>\n",
       "      <td>0.0</td>\n",
       "      <td>0.0</td>\n",
       "      <td>...</td>\n",
       "      <td>0.0</td>\n",
       "      <td>0.0</td>\n",
       "      <td>0.0</td>\n",
       "      <td>0.0</td>\n",
       "      <td>0.0</td>\n",
       "      <td>1.0</td>\n",
       "      <td>0.0</td>\n",
       "      <td>0.0</td>\n",
       "      <td>-1.107734</td>\n",
       "      <td>0.196602</td>\n",
       "    </tr>\n",
       "    <tr>\n",
       "      <th>4170</th>\n",
       "      <td>0.0</td>\n",
       "      <td>0.0</td>\n",
       "      <td>0.0</td>\n",
       "      <td>0.0</td>\n",
       "      <td>0.0</td>\n",
       "      <td>0.0</td>\n",
       "      <td>0.0</td>\n",
       "      <td>0.0</td>\n",
       "      <td>0.0</td>\n",
       "      <td>0.0</td>\n",
       "      <td>...</td>\n",
       "      <td>0.0</td>\n",
       "      <td>0.0</td>\n",
       "      <td>1.0</td>\n",
       "      <td>0.0</td>\n",
       "      <td>0.0</td>\n",
       "      <td>0.0</td>\n",
       "      <td>0.0</td>\n",
       "      <td>0.0</td>\n",
       "      <td>-0.570066</td>\n",
       "      <td>-0.362888</td>\n",
       "    </tr>\n",
       "  </tbody>\n",
       "</table>\n",
       "<p>4171 rows × 208 columns</p>\n",
       "</div>"
      ],
      "text/plain": [
       "      0    1    2    3    4    5    6    7    8    9    ...  198  199  200  \\\n",
       "0     0.0  0.0  0.0  0.0  0.0  0.0  0.0  0.0  0.0  0.0  ...  0.0  0.0  0.0   \n",
       "1     0.0  0.0  0.0  1.0  0.0  0.0  0.0  0.0  0.0  0.0  ...  0.0  0.0  0.0   \n",
       "2     0.0  0.0  0.0  0.0  0.0  0.0  0.0  0.0  0.0  0.0  ...  0.0  0.0  0.0   \n",
       "3     0.0  1.0  0.0  0.0  0.0  0.0  0.0  0.0  0.0  0.0  ...  0.0  0.0  1.0   \n",
       "4     0.0  0.0  1.0  0.0  0.0  0.0  0.0  0.0  0.0  0.0  ...  0.0  0.0  0.0   \n",
       "...   ...  ...  ...  ...  ...  ...  ...  ...  ...  ...  ...  ...  ...  ...   \n",
       "4166  0.0  0.0  1.0  0.0  0.0  0.0  0.0  0.0  0.0  0.0  ...  0.0  0.0  0.0   \n",
       "4167  1.0  0.0  0.0  0.0  0.0  0.0  0.0  0.0  0.0  0.0  ...  0.0  0.0  0.0   \n",
       "4168  0.0  0.0  0.0  1.0  0.0  0.0  0.0  0.0  0.0  0.0  ...  0.0  0.0  0.0   \n",
       "4169  0.0  0.0  0.0  0.0  1.0  0.0  0.0  0.0  0.0  0.0  ...  0.0  0.0  0.0   \n",
       "4170  0.0  0.0  0.0  0.0  0.0  0.0  0.0  0.0  0.0  0.0  ...  0.0  0.0  1.0   \n",
       "\n",
       "      201  202  203  204  205       206       207  \n",
       "0     1.0  0.0  0.0  0.0  0.0 -1.018123  0.196602  \n",
       "1     0.0  0.0  0.0  1.0  0.0 -0.749289  0.196602  \n",
       "2     0.0  1.0  0.0  0.0  0.0 -0.032398  0.196602  \n",
       "3     0.0  0.0  0.0  0.0  0.0 -0.659678  0.756092  \n",
       "4     0.0  0.0  0.0  0.0  1.0 -1.555791  0.196602  \n",
       "...   ...  ...  ...  ...  ...       ...       ...  \n",
       "4166  0.0  0.0  0.0  0.0  1.0  0.057213  0.196602  \n",
       "4167  1.0  0.0  0.0  0.0  0.0  0.146824 -0.362888  \n",
       "4168  0.0  0.0  0.0  1.0  0.0  2.387108  0.196602  \n",
       "4169  0.0  0.0  1.0  0.0  0.0 -1.107734  0.196602  \n",
       "4170  0.0  0.0  0.0  0.0  0.0 -0.570066 -0.362888  \n",
       "\n",
       "[4171 rows x 208 columns]"
      ]
     },
     "execution_count": 45,
     "metadata": {},
     "output_type": "execute_result"
    }
   ],
   "source": [
    "pd.DataFrame.sparse.from_spmatrix(train_e)"
   ]
  },
  {
   "cell_type": "code",
   "execution_count": 15,
   "metadata": {},
   "outputs": [
    {
     "data": {
      "text/plain": [
       "4171"
      ]
     },
     "execution_count": 15,
     "metadata": {},
     "output_type": "execute_result"
    }
   ],
   "source": [
    "len(ye_train)"
   ]
  },
  {
   "cell_type": "markdown",
   "metadata": {},
   "source": [
    "# obs: não entendi pq transformar as saídas"
   ]
  },
  {
   "cell_type": "markdown",
   "metadata": {},
   "source": [
    "**Atividade (3 pts):** treine três ou mais regressores baseados em *máquina de vetor de suporte* com configurações distintas (Kernel, C, epislon) e reporte o seus respectivos erros quadráticos médios (MSE) sobre as porções de validação separadas. Discuta como os diversos parâmetros da SVR (Kernel, C, epislon) afetaramm a qualidade do seus regressores. A busca pelos hiperparâmetros deve usar um método formal como GridSerach, RandomSearch, etc.\n",
    "\n",
    "Utilize o conjunto transformado pelas células acima `(train_e, ye_train)` e `(test_e, ye_test)`."
   ]
  },
  {
   "cell_type": "code",
   "execution_count": 16,
   "metadata": {},
   "outputs": [],
   "source": [
    "import numpy as np\n",
    "import matplotlib.pyplot as plt\n",
    "from sklearn.svm import SVR\n",
    "from sklearn.model_selection import GridSearchCV\n",
    "import time"
   ]
  },
  {
   "cell_type": "code",
   "execution_count": 17,
   "metadata": {},
   "outputs": [],
   "source": [
    "kernel = [\"linear\",\"poly\",\"rbf\",\"sigmoid\"]\n",
    "gamma = [0.0001, 0.01, 0.1, 1, 10, 100]\n",
    "C = [0.0001, 0.01, 1, 10, 100]\n",
    "epsilon = [0.1,0.2,0.6,1,2,4]\n",
    "parameters = [{'kernel': kernel ,\n",
    "               #'gamma': gamma,\n",
    "               'C': C,\n",
    "               'epsilon': epsilon}]\n",
    "\n",
    "cv_folds = 5\n"
   ]
  },
  {
   "cell_type": "code",
   "execution_count": 18,
   "metadata": {},
   "outputs": [
    {
     "name": "stdout",
     "output_type": "stream",
     "text": [
      "Fitting 5 folds for each of 120 candidates, totalling 600 fits\n",
      "total time 448.59 seconds\n"
     ]
    }
   ],
   "source": [
    "start_time = time.time()\n",
    "svr = GridSearchCV(SVR(), parameters, cv = cv_folds, scoring  = \"neg_mean_absolute_error\" , verbose=1, n_jobs=-1)\n",
    "svr.fit(train_e, ye_train)\n",
    "end_time = time.time()\n",
    "print(\"total time {:.2f} seconds\".format( end_time - start_time))"
   ]
  },
  {
   "cell_type": "code",
   "execution_count": 19,
   "metadata": {
    "scrolled": true
   },
   "outputs": [],
   "source": [
    "means = -1*svr.cv_results_['mean_test_score']\n",
    "params = svr.cv_results_['params']\n",
    "df_results = pd.concat([pd.DataFrame({'mean_test_score':means}), pd.DataFrame(params)], axis = 1)"
   ]
  },
  {
   "cell_type": "code",
   "execution_count": 20,
   "metadata": {},
   "outputs": [],
   "source": [
    "def plot_vars(df = df_results, var_a = 'epsilon', var_b = 'C', figsize_i = (12,12)):\n",
    "\n",
    "    fig, axs = plt.subplots(2, 2, figsize = figsize_i)\n",
    "\n",
    "    fig.suptitle('Analise de {} vs {}'.format(var_a,var_b))\n",
    "    \n",
    "    df_data_l = df_results[df_results['kernel'] == 'linear'][['mean_test_score',var_a,var_b]].pivot(index = 'C', columns = 'epsilon', values = 'mean_test_score')\n",
    "    df_data_p = df_results[df_results['kernel'] == 'poly'][['mean_test_score',var_a,var_b]].pivot(index = 'C', columns = 'epsilon', values = 'mean_test_score')\n",
    "    df_data_r = df_results[df_results['kernel'] == 'rbf'][['mean_test_score',var_a,var_b]].pivot(index = 'C', columns = 'epsilon', values = 'mean_test_score')\n",
    "    df_data_s = df_results[df_results['kernel'] == 'sigmoid'][['mean_test_score',var_a,var_b]].pivot(index = 'C', columns = 'epsilon', values = 'mean_test_score')\n",
    "    \n",
    "\n",
    "    sns.heatmap(ax = axs[0, 0], data = df_data_l, annot = True)\n",
    "    axs[0, 0].set_title('Kernel - linear')\n",
    "\n",
    "    sns.heatmap(ax = axs[0, 1], data =df_data_p, annot = True)\n",
    "    axs[0, 1].set_title('Kernel - poly')\n",
    "\n",
    "    sns.heatmap(ax = axs[1, 0], data =df_data_r, annot = True)\n",
    "    axs[1, 0].set_title('Kernel - rbf')\n",
    "\n",
    "    sns.heatmap(ax = axs[1, 1],data =df_data_s, annot = True)\n",
    "    axs[1, 1].set_title('Kernel -sigmoid')\n",
    "\n",
    "    plt.tight_layout()\n"
   ]
  },
  {
   "cell_type": "markdown",
   "metadata": {},
   "source": [
    "# pra não ter que ficar rodando só analisar os resultados do df\n",
    "``` python\n",
    "df_results.to_excel('./df_results.xlsx',index = False)\n",
    "```"
   ]
  },
  {
   "cell_type": "markdown",
   "metadata": {},
   "source": [
    "#### deixei na forma de função para caso forem adicionar Gamma no Grid search fica mais fácil pra analisar"
   ]
  },
  {
   "cell_type": "code",
   "execution_count": 21,
   "metadata": {},
   "outputs": [
    {
     "data": {
      "text/plain": [
       "-1.5851043213885965"
      ]
     },
     "execution_count": 21,
     "metadata": {},
     "output_type": "execute_result"
    }
   ],
   "source": [
    "ye_test.min()"
   ]
  },
  {
   "cell_type": "code",
   "execution_count": 22,
   "metadata": {},
   "outputs": [
    {
     "data": {
      "text/plain": [
       "3.105409219166307"
      ]
     },
     "execution_count": 22,
     "metadata": {},
     "output_type": "execute_result"
    }
   ],
   "source": [
    "ye_test.max()"
   ]
  },
  {
   "cell_type": "markdown",
   "metadata": {},
   "source": [
    "# 01 - Heatmaps"
   ]
  },
  {
   "cell_type": "code",
   "execution_count": 23,
   "metadata": {
    "scrolled": true
   },
   "outputs": [
    {
     "data": {
      "text/html": [
       "<div>\n",
       "<style scoped>\n",
       "    .dataframe tbody tr th:only-of-type {\n",
       "        vertical-align: middle;\n",
       "    }\n",
       "\n",
       "    .dataframe tbody tr th {\n",
       "        vertical-align: top;\n",
       "    }\n",
       "\n",
       "    .dataframe thead th {\n",
       "        text-align: right;\n",
       "    }\n",
       "</style>\n",
       "<table border=\"1\" class=\"dataframe\">\n",
       "  <thead>\n",
       "    <tr style=\"text-align: right;\">\n",
       "      <th></th>\n",
       "      <th>mean_test_score</th>\n",
       "      <th>C</th>\n",
       "      <th>epsilon</th>\n",
       "      <th>kernel</th>\n",
       "    </tr>\n",
       "  </thead>\n",
       "  <tbody>\n",
       "    <tr>\n",
       "      <th>3</th>\n",
       "      <td>0.812262</td>\n",
       "      <td>0.0001</td>\n",
       "      <td>0.1</td>\n",
       "      <td>sigmoid</td>\n",
       "    </tr>\n",
       "    <tr>\n",
       "      <th>7</th>\n",
       "      <td>0.815074</td>\n",
       "      <td>0.0001</td>\n",
       "      <td>0.2</td>\n",
       "      <td>sigmoid</td>\n",
       "    </tr>\n",
       "    <tr>\n",
       "      <th>11</th>\n",
       "      <td>0.812153</td>\n",
       "      <td>0.0001</td>\n",
       "      <td>0.6</td>\n",
       "      <td>sigmoid</td>\n",
       "    </tr>\n",
       "    <tr>\n",
       "      <th>15</th>\n",
       "      <td>0.822160</td>\n",
       "      <td>0.0001</td>\n",
       "      <td>1.0</td>\n",
       "      <td>sigmoid</td>\n",
       "    </tr>\n",
       "    <tr>\n",
       "      <th>19</th>\n",
       "      <td>1.040862</td>\n",
       "      <td>0.0001</td>\n",
       "      <td>2.0</td>\n",
       "      <td>sigmoid</td>\n",
       "    </tr>\n",
       "    <tr>\n",
       "      <th>23</th>\n",
       "      <td>1.150492</td>\n",
       "      <td>0.0001</td>\n",
       "      <td>4.0</td>\n",
       "      <td>sigmoid</td>\n",
       "    </tr>\n",
       "    <tr>\n",
       "      <th>27</th>\n",
       "      <td>0.766698</td>\n",
       "      <td>0.0100</td>\n",
       "      <td>0.1</td>\n",
       "      <td>sigmoid</td>\n",
       "    </tr>\n",
       "    <tr>\n",
       "      <th>31</th>\n",
       "      <td>0.767771</td>\n",
       "      <td>0.0100</td>\n",
       "      <td>0.2</td>\n",
       "      <td>sigmoid</td>\n",
       "    </tr>\n",
       "    <tr>\n",
       "      <th>35</th>\n",
       "      <td>0.772304</td>\n",
       "      <td>0.0100</td>\n",
       "      <td>0.6</td>\n",
       "      <td>sigmoid</td>\n",
       "    </tr>\n",
       "    <tr>\n",
       "      <th>39</th>\n",
       "      <td>0.809083</td>\n",
       "      <td>0.0100</td>\n",
       "      <td>1.0</td>\n",
       "      <td>sigmoid</td>\n",
       "    </tr>\n",
       "    <tr>\n",
       "      <th>43</th>\n",
       "      <td>1.040871</td>\n",
       "      <td>0.0100</td>\n",
       "      <td>2.0</td>\n",
       "      <td>sigmoid</td>\n",
       "    </tr>\n",
       "    <tr>\n",
       "      <th>47</th>\n",
       "      <td>1.150492</td>\n",
       "      <td>0.0100</td>\n",
       "      <td>4.0</td>\n",
       "      <td>sigmoid</td>\n",
       "    </tr>\n",
       "    <tr>\n",
       "      <th>51</th>\n",
       "      <td>18.714949</td>\n",
       "      <td>1.0000</td>\n",
       "      <td>0.1</td>\n",
       "      <td>sigmoid</td>\n",
       "    </tr>\n",
       "    <tr>\n",
       "      <th>55</th>\n",
       "      <td>18.712100</td>\n",
       "      <td>1.0000</td>\n",
       "      <td>0.2</td>\n",
       "      <td>sigmoid</td>\n",
       "    </tr>\n",
       "    <tr>\n",
       "      <th>59</th>\n",
       "      <td>18.724427</td>\n",
       "      <td>1.0000</td>\n",
       "      <td>0.6</td>\n",
       "      <td>sigmoid</td>\n",
       "    </tr>\n",
       "    <tr>\n",
       "      <th>63</th>\n",
       "      <td>18.700145</td>\n",
       "      <td>1.0000</td>\n",
       "      <td>1.0</td>\n",
       "      <td>sigmoid</td>\n",
       "    </tr>\n",
       "    <tr>\n",
       "      <th>67</th>\n",
       "      <td>18.565287</td>\n",
       "      <td>1.0000</td>\n",
       "      <td>2.0</td>\n",
       "      <td>sigmoid</td>\n",
       "    </tr>\n",
       "    <tr>\n",
       "      <th>71</th>\n",
       "      <td>1.150492</td>\n",
       "      <td>1.0000</td>\n",
       "      <td>4.0</td>\n",
       "      <td>sigmoid</td>\n",
       "    </tr>\n",
       "    <tr>\n",
       "      <th>75</th>\n",
       "      <td>187.102075</td>\n",
       "      <td>10.0000</td>\n",
       "      <td>0.1</td>\n",
       "      <td>sigmoid</td>\n",
       "    </tr>\n",
       "    <tr>\n",
       "      <th>79</th>\n",
       "      <td>187.100948</td>\n",
       "      <td>10.0000</td>\n",
       "      <td>0.2</td>\n",
       "      <td>sigmoid</td>\n",
       "    </tr>\n",
       "    <tr>\n",
       "      <th>83</th>\n",
       "      <td>187.095407</td>\n",
       "      <td>10.0000</td>\n",
       "      <td>0.6</td>\n",
       "      <td>sigmoid</td>\n",
       "    </tr>\n",
       "    <tr>\n",
       "      <th>87</th>\n",
       "      <td>187.090601</td>\n",
       "      <td>10.0000</td>\n",
       "      <td>1.0</td>\n",
       "      <td>sigmoid</td>\n",
       "    </tr>\n",
       "    <tr>\n",
       "      <th>91</th>\n",
       "      <td>187.076483</td>\n",
       "      <td>10.0000</td>\n",
       "      <td>2.0</td>\n",
       "      <td>sigmoid</td>\n",
       "    </tr>\n",
       "    <tr>\n",
       "      <th>95</th>\n",
       "      <td>1.150492</td>\n",
       "      <td>10.0000</td>\n",
       "      <td>4.0</td>\n",
       "      <td>sigmoid</td>\n",
       "    </tr>\n",
       "    <tr>\n",
       "      <th>99</th>\n",
       "      <td>1870.605237</td>\n",
       "      <td>100.0000</td>\n",
       "      <td>0.1</td>\n",
       "      <td>sigmoid</td>\n",
       "    </tr>\n",
       "    <tr>\n",
       "      <th>103</th>\n",
       "      <td>1870.658118</td>\n",
       "      <td>100.0000</td>\n",
       "      <td>0.2</td>\n",
       "      <td>sigmoid</td>\n",
       "    </tr>\n",
       "    <tr>\n",
       "      <th>107</th>\n",
       "      <td>1870.649724</td>\n",
       "      <td>100.0000</td>\n",
       "      <td>0.6</td>\n",
       "      <td>sigmoid</td>\n",
       "    </tr>\n",
       "    <tr>\n",
       "      <th>111</th>\n",
       "      <td>1870.650268</td>\n",
       "      <td>100.0000</td>\n",
       "      <td>1.0</td>\n",
       "      <td>sigmoid</td>\n",
       "    </tr>\n",
       "    <tr>\n",
       "      <th>115</th>\n",
       "      <td>1870.575846</td>\n",
       "      <td>100.0000</td>\n",
       "      <td>2.0</td>\n",
       "      <td>sigmoid</td>\n",
       "    </tr>\n",
       "    <tr>\n",
       "      <th>119</th>\n",
       "      <td>1.150492</td>\n",
       "      <td>100.0000</td>\n",
       "      <td>4.0</td>\n",
       "      <td>sigmoid</td>\n",
       "    </tr>\n",
       "  </tbody>\n",
       "</table>\n",
       "</div>"
      ],
      "text/plain": [
       "     mean_test_score         C  epsilon   kernel\n",
       "3           0.812262    0.0001      0.1  sigmoid\n",
       "7           0.815074    0.0001      0.2  sigmoid\n",
       "11          0.812153    0.0001      0.6  sigmoid\n",
       "15          0.822160    0.0001      1.0  sigmoid\n",
       "19          1.040862    0.0001      2.0  sigmoid\n",
       "23          1.150492    0.0001      4.0  sigmoid\n",
       "27          0.766698    0.0100      0.1  sigmoid\n",
       "31          0.767771    0.0100      0.2  sigmoid\n",
       "35          0.772304    0.0100      0.6  sigmoid\n",
       "39          0.809083    0.0100      1.0  sigmoid\n",
       "43          1.040871    0.0100      2.0  sigmoid\n",
       "47          1.150492    0.0100      4.0  sigmoid\n",
       "51         18.714949    1.0000      0.1  sigmoid\n",
       "55         18.712100    1.0000      0.2  sigmoid\n",
       "59         18.724427    1.0000      0.6  sigmoid\n",
       "63         18.700145    1.0000      1.0  sigmoid\n",
       "67         18.565287    1.0000      2.0  sigmoid\n",
       "71          1.150492    1.0000      4.0  sigmoid\n",
       "75        187.102075   10.0000      0.1  sigmoid\n",
       "79        187.100948   10.0000      0.2  sigmoid\n",
       "83        187.095407   10.0000      0.6  sigmoid\n",
       "87        187.090601   10.0000      1.0  sigmoid\n",
       "91        187.076483   10.0000      2.0  sigmoid\n",
       "95          1.150492   10.0000      4.0  sigmoid\n",
       "99       1870.605237  100.0000      0.1  sigmoid\n",
       "103      1870.658118  100.0000      0.2  sigmoid\n",
       "107      1870.649724  100.0000      0.6  sigmoid\n",
       "111      1870.650268  100.0000      1.0  sigmoid\n",
       "115      1870.575846  100.0000      2.0  sigmoid\n",
       "119         1.150492  100.0000      4.0  sigmoid"
      ]
     },
     "execution_count": 23,
     "metadata": {},
     "output_type": "execute_result"
    }
   ],
   "source": [
    "df_results[df_results['kernel'] == 'sigmoid']"
   ]
  },
  {
   "cell_type": "markdown",
   "metadata": {},
   "source": [
    "#### 01.01 - Epsilon vs C"
   ]
  },
  {
   "cell_type": "code",
   "execution_count": 24,
   "metadata": {},
   "outputs": [
    {
     "data": {
      "image/png": "[encoded data removed]",
      "text/plain": [
       "<Figure size 864x864 with 8 Axes>"
      ]
     },
     "metadata": {
      "needs_background": "light"
     },
     "output_type": "display_data"
    }
   ],
   "source": [
    "plot_vars(var_a = 'epsilon', var_b = 'C')"
   ]
  },
  {
   "cell_type": "markdown",
   "metadata": {},
   "source": [
    "#### 01.02 - Epsilon vs C"
   ]
  },
  {
   "cell_type": "code",
   "execution_count": 25,
   "metadata": {},
   "outputs": [
    {
     "data": {
      "text/plain": [
       "(0.691, 0.725]        12\n",
       "(0.725, 0.768]        12\n",
       "(0.768, 0.794]        12\n",
       "(0.794, 0.809]        12\n",
       "(0.809, 0.818]        12\n",
       "(0.818, 1.041]        12\n",
       "(1.041, 1.067]        12\n",
       "(1.067, 1.15]         21\n",
       "(1.15, 18.712]         3\n",
       "(18.712, 1870.658]    12\n",
       "Name: mean_test_score, dtype: int64"
      ]
     },
     "execution_count": 25,
     "metadata": {},
     "output_type": "execute_result"
    }
   ],
   "source": [
    "pd.qcut(df_results['mean_test_score'], q = 10).value_counts().sort_index()"
   ]
  },
  {
   "cell_type": "markdown",
   "metadata": {},
   "source": [
    "#### 10% melhores classificadores"
   ]
  },
  {
   "cell_type": "code",
   "execution_count": 26,
   "metadata": {},
   "outputs": [
    {
     "data": {
      "text/html": [
       "<div>\n",
       "<style scoped>\n",
       "    .dataframe tbody tr th:only-of-type {\n",
       "        vertical-align: middle;\n",
       "    }\n",
       "\n",
       "    .dataframe tbody tr th {\n",
       "        vertical-align: top;\n",
       "    }\n",
       "\n",
       "    .dataframe thead th {\n",
       "        text-align: right;\n",
       "    }\n",
       "</style>\n",
       "<table border=\"1\" class=\"dataframe\">\n",
       "  <thead>\n",
       "    <tr style=\"text-align: right;\">\n",
       "      <th></th>\n",
       "      <th>mean_test_score</th>\n",
       "      <th>C</th>\n",
       "      <th>epsilon</th>\n",
       "      <th>kernel</th>\n",
       "    </tr>\n",
       "  </thead>\n",
       "  <tbody>\n",
       "    <tr>\n",
       "      <th>48</th>\n",
       "      <td>0.707067</td>\n",
       "      <td>1.0</td>\n",
       "      <td>0.1</td>\n",
       "      <td>linear</td>\n",
       "    </tr>\n",
       "    <tr>\n",
       "      <th>50</th>\n",
       "      <td>0.691855</td>\n",
       "      <td>1.0</td>\n",
       "      <td>0.1</td>\n",
       "      <td>rbf</td>\n",
       "    </tr>\n",
       "    <tr>\n",
       "      <th>52</th>\n",
       "      <td>0.707200</td>\n",
       "      <td>1.0</td>\n",
       "      <td>0.2</td>\n",
       "      <td>linear</td>\n",
       "    </tr>\n",
       "    <tr>\n",
       "      <th>54</th>\n",
       "      <td>0.694784</td>\n",
       "      <td>1.0</td>\n",
       "      <td>0.2</td>\n",
       "      <td>rbf</td>\n",
       "    </tr>\n",
       "    <tr>\n",
       "      <th>56</th>\n",
       "      <td>0.722091</td>\n",
       "      <td>1.0</td>\n",
       "      <td>0.6</td>\n",
       "      <td>linear</td>\n",
       "    </tr>\n",
       "    <tr>\n",
       "      <th>58</th>\n",
       "      <td>0.719491</td>\n",
       "      <td>1.0</td>\n",
       "      <td>0.6</td>\n",
       "      <td>rbf</td>\n",
       "    </tr>\n",
       "    <tr>\n",
       "      <th>72</th>\n",
       "      <td>0.707942</td>\n",
       "      <td>10.0</td>\n",
       "      <td>0.1</td>\n",
       "      <td>linear</td>\n",
       "    </tr>\n",
       "    <tr>\n",
       "      <th>76</th>\n",
       "      <td>0.708894</td>\n",
       "      <td>10.0</td>\n",
       "      <td>0.2</td>\n",
       "      <td>linear</td>\n",
       "    </tr>\n",
       "    <tr>\n",
       "      <th>80</th>\n",
       "      <td>0.722261</td>\n",
       "      <td>10.0</td>\n",
       "      <td>0.6</td>\n",
       "      <td>linear</td>\n",
       "    </tr>\n",
       "    <tr>\n",
       "      <th>96</th>\n",
       "      <td>0.707993</td>\n",
       "      <td>100.0</td>\n",
       "      <td>0.1</td>\n",
       "      <td>linear</td>\n",
       "    </tr>\n",
       "    <tr>\n",
       "      <th>100</th>\n",
       "      <td>0.708856</td>\n",
       "      <td>100.0</td>\n",
       "      <td>0.2</td>\n",
       "      <td>linear</td>\n",
       "    </tr>\n",
       "    <tr>\n",
       "      <th>104</th>\n",
       "      <td>0.722232</td>\n",
       "      <td>100.0</td>\n",
       "      <td>0.6</td>\n",
       "      <td>linear</td>\n",
       "    </tr>\n",
       "  </tbody>\n",
       "</table>\n",
       "</div>"
      ],
      "text/plain": [
       "     mean_test_score      C  epsilon  kernel\n",
       "48          0.707067    1.0      0.1  linear\n",
       "50          0.691855    1.0      0.1     rbf\n",
       "52          0.707200    1.0      0.2  linear\n",
       "54          0.694784    1.0      0.2     rbf\n",
       "56          0.722091    1.0      0.6  linear\n",
       "58          0.719491    1.0      0.6     rbf\n",
       "72          0.707942   10.0      0.1  linear\n",
       "76          0.708894   10.0      0.2  linear\n",
       "80          0.722261   10.0      0.6  linear\n",
       "96          0.707993  100.0      0.1  linear\n",
       "100         0.708856  100.0      0.2  linear\n",
       "104         0.722232  100.0      0.6  linear"
      ]
     },
     "execution_count": 26,
     "metadata": {},
     "output_type": "execute_result"
    }
   ],
   "source": [
    "df_results[df_results['mean_test_score'] <= 0.725]"
   ]
  },
  {
   "cell_type": "code",
   "execution_count": 27,
   "metadata": {},
   "outputs": [],
   "source": [
    "np.random.seed(1082141)\n",
    "sns.set()"
   ]
  },
  {
   "cell_type": "markdown",
   "metadata": {},
   "source": [
    "**Atividade (2 pts):** Treine 2 outros regressores a sua escolha (Regressão linear, polinomial, árvore de regeressão, etc.) e compare o resultado dos modelos com a sua melhor SVR no conjunto de teste, discuntindo os resultados.\n",
    "\n",
    "Utilize o conjunto transformado pelas células acima `(train_e, ye_train)` e `(test_e, ye_test)`."
   ]
  },
  {
   "cell_type": "markdown",
   "metadata": {},
   "source": [
    "# Random Forest"
   ]
  },
  {
   "cell_type": "markdown",
   "metadata": {},
   "source": [
    "#### Dan Preencher a floresta mágica aqui"
   ]
  },
  {
   "cell_type": "markdown",
   "metadata": {},
   "source": [
    "## Testando Regressão via algoritmo Ridge"
   ]
  },
  {
   "cell_type": "code",
   "execution_count": 32,
   "metadata": {},
   "outputs": [],
   "source": [
    "from sklearn.linear_model import Ridge\n",
    "from sklearn.metrics import mean_absolute_error\n",
    "\n",
    "# Hyperparametros para tunning do modelo\n",
    "model = Ridge()\n",
    "\n",
    "solver = ['svd', 'cholesky', 'lsqr', 'sag']\n",
    "alpha = [1e-5, 1e-4, 1e-3, 1e-2, 1e-1, 1, 10, 100]\n",
    "fit_intercept = [True, False]\n",
    "normalize = [False]\n",
    "\n",
    "parameters = {'solver':solver,\n",
    "                'alpha':alpha,\n",
    "                'fit_intercept':fit_intercept,\n",
    "                'normalize':normalize}\n",
    "                \n",
    "cv_folds = 5"
   ]
  },
  {
   "cell_type": "code",
   "execution_count": 33,
   "metadata": {
    "scrolled": true
   },
   "outputs": [
    {
     "name": "stdout",
     "output_type": "stream",
     "text": [
      "Fitting 5 folds for each of 64 candidates, totalling 320 fits\n"
     ]
    },
    {
     "name": "stderr",
     "output_type": "stream",
     "text": [
      "C:\\Users\\home41_hs\\miniconda3\\lib\\site-packages\\sklearn\\model_selection\\_validation.py:372: FitFailedWarning: \n",
      "160 fits failed out of a total of 320.\n",
      "The score on these train-test partitions for these parameters will be set to nan.\n",
      "If these failures are not expected, you can try to debug them by setting error_score='raise'.\n",
      "\n",
      "Below are more details about the failures:\n",
      "--------------------------------------------------------------------------------\n",
      "40 fits failed with the following error:\n",
      "Traceback (most recent call last):\n",
      "  File \"C:\\Users\\home41_hs\\miniconda3\\lib\\site-packages\\sklearn\\model_selection\\_validation.py\", line 681, in _fit_and_score\n",
      "    estimator.fit(X_train, y_train, **fit_params)\n",
      "  File \"C:\\Users\\home41_hs\\miniconda3\\lib\\site-packages\\sklearn\\linear_model\\_ridge.py\", line 1011, in fit\n",
      "    return super().fit(X, y, sample_weight=sample_weight)\n",
      "  File \"C:\\Users\\home41_hs\\miniconda3\\lib\\site-packages\\sklearn\\linear_model\\_ridge.py\", line 729, in fit\n",
      "    raise ValueError(\n",
      "ValueError: solver='svd' does not support fitting the intercept on sparse data. Please set the solver to 'auto' or 'sparse_cg', 'sag', 'lbfgs' or set `fit_intercept=False`\n",
      "\n",
      "--------------------------------------------------------------------------------\n",
      "40 fits failed with the following error:\n",
      "Traceback (most recent call last):\n",
      "  File \"C:\\Users\\home41_hs\\miniconda3\\lib\\site-packages\\sklearn\\model_selection\\_validation.py\", line 681, in _fit_and_score\n",
      "    estimator.fit(X_train, y_train, **fit_params)\n",
      "  File \"C:\\Users\\home41_hs\\miniconda3\\lib\\site-packages\\sklearn\\linear_model\\_ridge.py\", line 1011, in fit\n",
      "    return super().fit(X, y, sample_weight=sample_weight)\n",
      "  File \"C:\\Users\\home41_hs\\miniconda3\\lib\\site-packages\\sklearn\\linear_model\\_ridge.py\", line 729, in fit\n",
      "    raise ValueError(\n",
      "ValueError: solver='cholesky' does not support fitting the intercept on sparse data. Please set the solver to 'auto' or 'sparse_cg', 'sag', 'lbfgs' or set `fit_intercept=False`\n",
      "\n",
      "--------------------------------------------------------------------------------\n",
      "40 fits failed with the following error:\n",
      "Traceback (most recent call last):\n",
      "  File \"C:\\Users\\home41_hs\\miniconda3\\lib\\site-packages\\sklearn\\model_selection\\_validation.py\", line 681, in _fit_and_score\n",
      "    estimator.fit(X_train, y_train, **fit_params)\n",
      "  File \"C:\\Users\\home41_hs\\miniconda3\\lib\\site-packages\\sklearn\\linear_model\\_ridge.py\", line 1011, in fit\n",
      "    return super().fit(X, y, sample_weight=sample_weight)\n",
      "  File \"C:\\Users\\home41_hs\\miniconda3\\lib\\site-packages\\sklearn\\linear_model\\_ridge.py\", line 729, in fit\n",
      "    raise ValueError(\n",
      "ValueError: solver='lsqr' does not support fitting the intercept on sparse data. Please set the solver to 'auto' or 'sparse_cg', 'sag', 'lbfgs' or set `fit_intercept=False`\n",
      "\n",
      "--------------------------------------------------------------------------------\n",
      "40 fits failed with the following error:\n",
      "Traceback (most recent call last):\n",
      "  File \"C:\\Users\\home41_hs\\miniconda3\\lib\\site-packages\\sklearn\\model_selection\\_validation.py\", line 681, in _fit_and_score\n",
      "    estimator.fit(X_train, y_train, **fit_params)\n",
      "  File \"C:\\Users\\home41_hs\\miniconda3\\lib\\site-packages\\sklearn\\linear_model\\_ridge.py\", line 1011, in fit\n",
      "    return super().fit(X, y, sample_weight=sample_weight)\n",
      "  File \"C:\\Users\\home41_hs\\miniconda3\\lib\\site-packages\\sklearn\\linear_model\\_ridge.py\", line 791, in fit\n",
      "    self.coef_, self.n_iter_ = _ridge_regression(\n",
      "  File \"C:\\Users\\home41_hs\\miniconda3\\lib\\site-packages\\sklearn\\linear_model\\_ridge.py\", line 655, in _ridge_regression\n",
      "    raise TypeError(\"SVD solver does not support sparse inputs currently\")\n",
      "TypeError: SVD solver does not support sparse inputs currently\n",
      "\n",
      "  warnings.warn(some_fits_failed_message, FitFailedWarning)\n",
      "C:\\Users\\home41_hs\\miniconda3\\lib\\site-packages\\sklearn\\model_selection\\_search.py:969: UserWarning: One or more of the test scores are non-finite: [        nan         nan         nan -0.72139822         nan -0.72183433\n",
      " -0.7211899  -0.72139347         nan         nan         nan -0.72139562\n",
      "         nan -0.72183403 -0.72118961 -0.72139672         nan         nan\n",
      "         nan -0.72138914         nan -0.72183101 -0.72118673 -0.72138713\n",
      "         nan         nan         nan -0.72135627         nan -0.72180093\n",
      " -0.72115798 -0.72136547         nan         nan         nan -0.72109772\n",
      "         nan -0.72151145 -0.72088126 -0.72110034         nan         nan\n",
      "         nan -0.71951754         nan -0.71973912 -0.71941639 -0.7195189\n",
      "         nan         nan         nan -0.72384643         nan -0.72371852\n",
      " -0.72397761 -0.72381967         nan         nan         nan -0.75208364\n",
      "         nan -0.75134981 -0.75134125 -0.75135827]\n",
      "  warnings.warn(\n",
      "C:\\Users\\home41_hs\\miniconda3\\lib\\site-packages\\sklearn\\linear_model\\_base.py:148: FutureWarning: 'normalize' was deprecated in version 1.0 and will be removed in 1.2. Please leave the normalize parameter to its default value to silence this warning. The default behavior of this estimator is to not do any normalization. If normalization is needed please use sklearn.preprocessing.StandardScaler instead.\n",
      "  warnings.warn(\n"
     ]
    },
    {
     "data": {
      "text/plain": [
       "GridSearchCV(cv=5, estimator=Ridge(), n_jobs=-1,\n",
       "             param_grid={'alpha': [1e-05, 0.0001, 0.001, 0.01, 0.1, 1, 10, 100],\n",
       "                         'fit_intercept': [True, False], 'normalize': [False],\n",
       "                         'solver': ['svd', 'cholesky', 'lsqr', 'sag']},\n",
       "             scoring='neg_mean_absolute_error', verbose=1)"
      ]
     },
     "execution_count": 33,
     "metadata": {},
     "output_type": "execute_result"
    }
   ],
   "source": [
    "find_ridge = GridSearchCV(estimator=model, \n",
    "                                cv=cv_folds,\n",
    "                                param_grid=parameters, \n",
    "                                scoring=\"neg_mean_absolute_error\", \n",
    "                                verbose=1, \n",
    "                                n_jobs=-1)\n",
    "\n",
    "find_ridge.fit(train_e, ye_train)"
   ]
  },
  {
   "cell_type": "code",
   "execution_count": 34,
   "metadata": {},
   "outputs": [],
   "source": [
    "means_ridge = -1*find_ridge.cv_results_['mean_test_score']\n",
    "params_ridge = find_ridge.cv_results_['params']\n",
    "df_results = pd.concat([pd.DataFrame({'mean_test_score':means_ridge}), pd.DataFrame(params_ridge)], axis=1)"
   ]
  },
  {
   "cell_type": "code",
   "execution_count": 35,
   "metadata": {
    "scrolled": true
   },
   "outputs": [
    {
     "data": {
      "text/html": [
       "<div>\n",
       "<style scoped>\n",
       "    .dataframe tbody tr th:only-of-type {\n",
       "        vertical-align: middle;\n",
       "    }\n",
       "\n",
       "    .dataframe tbody tr th {\n",
       "        vertical-align: top;\n",
       "    }\n",
       "\n",
       "    .dataframe thead th {\n",
       "        text-align: right;\n",
       "    }\n",
       "</style>\n",
       "<table border=\"1\" class=\"dataframe\">\n",
       "  <thead>\n",
       "    <tr style=\"text-align: right;\">\n",
       "      <th></th>\n",
       "      <th>mean_test_score</th>\n",
       "      <th>alpha</th>\n",
       "      <th>fit_intercept</th>\n",
       "      <th>normalize</th>\n",
       "      <th>solver</th>\n",
       "    </tr>\n",
       "  </thead>\n",
       "  <tbody>\n",
       "    <tr>\n",
       "      <th>46</th>\n",
       "      <td>0.719416</td>\n",
       "      <td>1.00000</td>\n",
       "      <td>False</td>\n",
       "      <td>False</td>\n",
       "      <td>lsqr</td>\n",
       "    </tr>\n",
       "    <tr>\n",
       "      <th>43</th>\n",
       "      <td>0.719518</td>\n",
       "      <td>1.00000</td>\n",
       "      <td>True</td>\n",
       "      <td>False</td>\n",
       "      <td>sag</td>\n",
       "    </tr>\n",
       "    <tr>\n",
       "      <th>47</th>\n",
       "      <td>0.719519</td>\n",
       "      <td>1.00000</td>\n",
       "      <td>False</td>\n",
       "      <td>False</td>\n",
       "      <td>sag</td>\n",
       "    </tr>\n",
       "    <tr>\n",
       "      <th>45</th>\n",
       "      <td>0.719739</td>\n",
       "      <td>1.00000</td>\n",
       "      <td>False</td>\n",
       "      <td>False</td>\n",
       "      <td>cholesky</td>\n",
       "    </tr>\n",
       "    <tr>\n",
       "      <th>38</th>\n",
       "      <td>0.720881</td>\n",
       "      <td>0.10000</td>\n",
       "      <td>False</td>\n",
       "      <td>False</td>\n",
       "      <td>lsqr</td>\n",
       "    </tr>\n",
       "    <tr>\n",
       "      <th>35</th>\n",
       "      <td>0.721098</td>\n",
       "      <td>0.10000</td>\n",
       "      <td>True</td>\n",
       "      <td>False</td>\n",
       "      <td>sag</td>\n",
       "    </tr>\n",
       "    <tr>\n",
       "      <th>39</th>\n",
       "      <td>0.721100</td>\n",
       "      <td>0.10000</td>\n",
       "      <td>False</td>\n",
       "      <td>False</td>\n",
       "      <td>sag</td>\n",
       "    </tr>\n",
       "    <tr>\n",
       "      <th>30</th>\n",
       "      <td>0.721158</td>\n",
       "      <td>0.01000</td>\n",
       "      <td>False</td>\n",
       "      <td>False</td>\n",
       "      <td>lsqr</td>\n",
       "    </tr>\n",
       "    <tr>\n",
       "      <th>22</th>\n",
       "      <td>0.721187</td>\n",
       "      <td>0.00100</td>\n",
       "      <td>False</td>\n",
       "      <td>False</td>\n",
       "      <td>lsqr</td>\n",
       "    </tr>\n",
       "    <tr>\n",
       "      <th>14</th>\n",
       "      <td>0.721190</td>\n",
       "      <td>0.00010</td>\n",
       "      <td>False</td>\n",
       "      <td>False</td>\n",
       "      <td>lsqr</td>\n",
       "    </tr>\n",
       "    <tr>\n",
       "      <th>6</th>\n",
       "      <td>0.721190</td>\n",
       "      <td>0.00001</td>\n",
       "      <td>False</td>\n",
       "      <td>False</td>\n",
       "      <td>lsqr</td>\n",
       "    </tr>\n",
       "    <tr>\n",
       "      <th>27</th>\n",
       "      <td>0.721356</td>\n",
       "      <td>0.01000</td>\n",
       "      <td>True</td>\n",
       "      <td>False</td>\n",
       "      <td>sag</td>\n",
       "    </tr>\n",
       "    <tr>\n",
       "      <th>31</th>\n",
       "      <td>0.721365</td>\n",
       "      <td>0.01000</td>\n",
       "      <td>False</td>\n",
       "      <td>False</td>\n",
       "      <td>sag</td>\n",
       "    </tr>\n",
       "    <tr>\n",
       "      <th>23</th>\n",
       "      <td>0.721387</td>\n",
       "      <td>0.00100</td>\n",
       "      <td>False</td>\n",
       "      <td>False</td>\n",
       "      <td>sag</td>\n",
       "    </tr>\n",
       "    <tr>\n",
       "      <th>19</th>\n",
       "      <td>0.721389</td>\n",
       "      <td>0.00100</td>\n",
       "      <td>True</td>\n",
       "      <td>False</td>\n",
       "      <td>sag</td>\n",
       "    </tr>\n",
       "    <tr>\n",
       "      <th>7</th>\n",
       "      <td>0.721393</td>\n",
       "      <td>0.00001</td>\n",
       "      <td>False</td>\n",
       "      <td>False</td>\n",
       "      <td>sag</td>\n",
       "    </tr>\n",
       "    <tr>\n",
       "      <th>11</th>\n",
       "      <td>0.721396</td>\n",
       "      <td>0.00010</td>\n",
       "      <td>True</td>\n",
       "      <td>False</td>\n",
       "      <td>sag</td>\n",
       "    </tr>\n",
       "    <tr>\n",
       "      <th>15</th>\n",
       "      <td>0.721397</td>\n",
       "      <td>0.00010</td>\n",
       "      <td>False</td>\n",
       "      <td>False</td>\n",
       "      <td>sag</td>\n",
       "    </tr>\n",
       "    <tr>\n",
       "      <th>3</th>\n",
       "      <td>0.721398</td>\n",
       "      <td>0.00001</td>\n",
       "      <td>True</td>\n",
       "      <td>False</td>\n",
       "      <td>sag</td>\n",
       "    </tr>\n",
       "    <tr>\n",
       "      <th>37</th>\n",
       "      <td>0.721511</td>\n",
       "      <td>0.10000</td>\n",
       "      <td>False</td>\n",
       "      <td>False</td>\n",
       "      <td>cholesky</td>\n",
       "    </tr>\n",
       "    <tr>\n",
       "      <th>29</th>\n",
       "      <td>0.721801</td>\n",
       "      <td>0.01000</td>\n",
       "      <td>False</td>\n",
       "      <td>False</td>\n",
       "      <td>cholesky</td>\n",
       "    </tr>\n",
       "    <tr>\n",
       "      <th>21</th>\n",
       "      <td>0.721831</td>\n",
       "      <td>0.00100</td>\n",
       "      <td>False</td>\n",
       "      <td>False</td>\n",
       "      <td>cholesky</td>\n",
       "    </tr>\n",
       "    <tr>\n",
       "      <th>13</th>\n",
       "      <td>0.721834</td>\n",
       "      <td>0.00010</td>\n",
       "      <td>False</td>\n",
       "      <td>False</td>\n",
       "      <td>cholesky</td>\n",
       "    </tr>\n",
       "    <tr>\n",
       "      <th>5</th>\n",
       "      <td>0.721834</td>\n",
       "      <td>0.00001</td>\n",
       "      <td>False</td>\n",
       "      <td>False</td>\n",
       "      <td>cholesky</td>\n",
       "    </tr>\n",
       "    <tr>\n",
       "      <th>53</th>\n",
       "      <td>0.723719</td>\n",
       "      <td>10.00000</td>\n",
       "      <td>False</td>\n",
       "      <td>False</td>\n",
       "      <td>cholesky</td>\n",
       "    </tr>\n",
       "    <tr>\n",
       "      <th>55</th>\n",
       "      <td>0.723820</td>\n",
       "      <td>10.00000</td>\n",
       "      <td>False</td>\n",
       "      <td>False</td>\n",
       "      <td>sag</td>\n",
       "    </tr>\n",
       "    <tr>\n",
       "      <th>51</th>\n",
       "      <td>0.723846</td>\n",
       "      <td>10.00000</td>\n",
       "      <td>True</td>\n",
       "      <td>False</td>\n",
       "      <td>sag</td>\n",
       "    </tr>\n",
       "    <tr>\n",
       "      <th>54</th>\n",
       "      <td>0.723978</td>\n",
       "      <td>10.00000</td>\n",
       "      <td>False</td>\n",
       "      <td>False</td>\n",
       "      <td>lsqr</td>\n",
       "    </tr>\n",
       "    <tr>\n",
       "      <th>62</th>\n",
       "      <td>0.751341</td>\n",
       "      <td>100.00000</td>\n",
       "      <td>False</td>\n",
       "      <td>False</td>\n",
       "      <td>lsqr</td>\n",
       "    </tr>\n",
       "    <tr>\n",
       "      <th>61</th>\n",
       "      <td>0.751350</td>\n",
       "      <td>100.00000</td>\n",
       "      <td>False</td>\n",
       "      <td>False</td>\n",
       "      <td>cholesky</td>\n",
       "    </tr>\n",
       "    <tr>\n",
       "      <th>63</th>\n",
       "      <td>0.751358</td>\n",
       "      <td>100.00000</td>\n",
       "      <td>False</td>\n",
       "      <td>False</td>\n",
       "      <td>sag</td>\n",
       "    </tr>\n",
       "    <tr>\n",
       "      <th>59</th>\n",
       "      <td>0.752084</td>\n",
       "      <td>100.00000</td>\n",
       "      <td>True</td>\n",
       "      <td>False</td>\n",
       "      <td>sag</td>\n",
       "    </tr>\n",
       "  </tbody>\n",
       "</table>\n",
       "</div>"
      ],
      "text/plain": [
       "    mean_test_score      alpha  fit_intercept  normalize    solver\n",
       "46         0.719416    1.00000          False      False      lsqr\n",
       "43         0.719518    1.00000           True      False       sag\n",
       "47         0.719519    1.00000          False      False       sag\n",
       "45         0.719739    1.00000          False      False  cholesky\n",
       "38         0.720881    0.10000          False      False      lsqr\n",
       "35         0.721098    0.10000           True      False       sag\n",
       "39         0.721100    0.10000          False      False       sag\n",
       "30         0.721158    0.01000          False      False      lsqr\n",
       "22         0.721187    0.00100          False      False      lsqr\n",
       "14         0.721190    0.00010          False      False      lsqr\n",
       "6          0.721190    0.00001          False      False      lsqr\n",
       "27         0.721356    0.01000           True      False       sag\n",
       "31         0.721365    0.01000          False      False       sag\n",
       "23         0.721387    0.00100          False      False       sag\n",
       "19         0.721389    0.00100           True      False       sag\n",
       "7          0.721393    0.00001          False      False       sag\n",
       "11         0.721396    0.00010           True      False       sag\n",
       "15         0.721397    0.00010          False      False       sag\n",
       "3          0.721398    0.00001           True      False       sag\n",
       "37         0.721511    0.10000          False      False  cholesky\n",
       "29         0.721801    0.01000          False      False  cholesky\n",
       "21         0.721831    0.00100          False      False  cholesky\n",
       "13         0.721834    0.00010          False      False  cholesky\n",
       "5          0.721834    0.00001          False      False  cholesky\n",
       "53         0.723719   10.00000          False      False  cholesky\n",
       "55         0.723820   10.00000          False      False       sag\n",
       "51         0.723846   10.00000           True      False       sag\n",
       "54         0.723978   10.00000          False      False      lsqr\n",
       "62         0.751341  100.00000          False      False      lsqr\n",
       "61         0.751350  100.00000          False      False  cholesky\n",
       "63         0.751358  100.00000          False      False       sag\n",
       "59         0.752084  100.00000           True      False       sag"
      ]
     },
     "execution_count": 35,
     "metadata": {},
     "output_type": "execute_result"
    }
   ],
   "source": [
    "df_results[df_results['mean_test_score'].notna()].sort_values(by='mean_test_score', ascending=True)"
   ]
  },
  {
   "cell_type": "code",
   "execution_count": 36,
   "metadata": {},
   "outputs": [
    {
     "name": "stdout",
     "output_type": "stream",
     "text": [
      "MAE Melhor Modelo Ridge: 0.7106088207027786\n"
     ]
    },
    {
     "name": "stderr",
     "output_type": "stream",
     "text": [
      "C:\\Users\\home41_hs\\miniconda3\\lib\\site-packages\\sklearn\\linear_model\\_base.py:148: FutureWarning: 'normalize' was deprecated in version 1.0 and will be removed in 1.2. Please leave the normalize parameter to its default value to silence this warning. The default behavior of this estimator is to not do any normalization. If normalization is needed please use sklearn.preprocessing.StandardScaler instead.\n",
      "  warnings.warn(\n"
     ]
    }
   ],
   "source": [
    "# Melhor modelo\n",
    "best_ridge = Ridge(alpha=1, fit_intercept=False, normalize=False, solver='lsqr')\n",
    "best_ridge.fit(train_e, ye_train)\n",
    "\n",
    "ridge_test = best_ridge.predict(test_e)\n",
    "\n",
    "print(\"MAE Melhor Modelo Ridge: {}\".format(mean_absolute_error(ye_test, ridge_test)))\n",
    "\n"
   ]
  },
  {
   "cell_type": "markdown",
   "metadata": {},
   "source": [
    "## Testando modelo de Arvore de Decisao para Regressao"
   ]
  },
  {
   "cell_type": "code",
   "execution_count": 49,
   "metadata": {},
   "outputs": [],
   "source": [
    "from sklearn.tree import DecisionTreeRegressor"
   ]
  },
  {
   "cell_type": "code",
   "execution_count": 62,
   "metadata": {},
   "outputs": [],
   "source": [
    "parameters={\"splitter\":[\"best\",\"random\"],\n",
    "            \"max_depth\" : [3,5,7,9,12],\n",
    "           \"min_samples_leaf\":[2,4,5,7,9],\n",
    "           \"max_features\":[\"auto\",\"log2\",\"sqrt\",None] }\n",
    "find_tree = GridSearchCV(estimator = model_tree, param_grid = parameters, scoring = 'neg_mean_absolute_error', cv =cv_folds, n_jobs = -1, verbose = 1)\n",
    "find_tree.fit(train_e, ye_train)\n",
    "print(find_tree.best_params_)"
   ]
  },
  {
   "cell_type": "code",
   "execution_count": 66,
   "metadata": {},
   "outputs": [],
   "source": [
    "means_tree = -1*find_tree.cv_results_['mean_test_score']\n",
    "params_tree = find_tree.cv_results_['params']\n",
    "df_results = pd.concat([pd.DataFrame({'mean_test_score':means_ridge}), pd.DataFrame(params_ridge)], axis=1)"
   ]
  },
  {
   "cell_type": "code",
   "execution_count": 67,
   "metadata": {},
   "outputs": [
    {
     "data": {
      "text/plain": [
       "{'max_depth': 12,\n",
       " 'max_features': None,\n",
       " 'min_samples_leaf': 2,\n",
       " 'splitter': 'random'}"
      ]
     },
     "execution_count": 67,
     "metadata": {},
     "output_type": "execute_result"
    }
   ],
   "source": [
    "find_tree.best_params_"
   ]
  },
  {
   "cell_type": "code",
   "execution_count": 65,
   "metadata": {},
   "outputs": [
    {
     "data": {
      "text/plain": [
       "DecisionTreeRegressor(max_depth=12, min_samples_leaf=2, splitter='random')"
      ]
     },
     "execution_count": 65,
     "metadata": {},
     "output_type": "execute_result"
    }
   ],
   "source": [
    "model_tree = DecisionTreeRegressor\n",
    "model_tree.fit(train_e, ye_train)"
   ]
  },
  {
   "cell_type": "code",
   "execution_count": 68,
   "metadata": {},
   "outputs": [
    {
     "name": "stdout",
     "output_type": "stream",
     "text": [
      "MAE Melhor Modelo Random Forest: 0.7239141989749293\n"
     ]
    }
   ],
   "source": [
    "# Melhor modelo\n",
    "best_tree = DecisionTreeRegressor(max_depth=  12, \n",
    "                                  max_features= None,\n",
    "                                  min_samples_leaf= 2,\n",
    "                                  splitter= 'random')\n",
    "best_tree.fit(train_e, ye_train)\n",
    "\n",
    "tree_test = best_tree.predict(test_e)\n",
    "\n",
    "print(\"MAE Melhor Modelo Random Forest: {}\".format(mean_absolute_error(ye_test, tree_test)))\n"
   ]
  },
  {
   "cell_type": "markdown",
   "metadata": {},
   "source": [
    "## PARTE II - Classificando imagens de dígitos\n",
    "### Lendo o conjunto de dados\n",
    "\n",
    "**Pen-Based Recognition of Handwritten Digits Data Set**\n",
    "é um banco de imagens simples e bem conhecido em reconhecimento de imagens.  \n",
    "Ele é composto por imagens em escala cinza de 8 por 8 pixels divididas em 10 classes de dígitos.\n",
    "\n",
    "Uma descrição completa pode ser encontrada no seguinte link: [archive.ics.uci.edu/ml/datasets/Pen-Based+Recognition+of+Handwritten+Digits](http://archive.ics.uci.edu/ml/datasets/Pen-Based+Recognition+of+Handwritten+Digits)"
   ]
  },
  {
   "cell_type": "code",
   "execution_count": null,
   "metadata": {},
   "outputs": [],
   "source": [
    "x, y = datasets.load_digits(return_X_y=True)\n",
    "\n",
    "x_train, x_test, y_train, y_test = train_test_split(x, y,\n",
    "                                                    test_size=.5,\n",
    "                                                    random_state=183212)\n",
    "print('amostras em treino: %i' % x_train.shape[0],\n",
    "\n",
    "      'amostras em teste: %i' % x_test.shape[0],\n",
    "      'número de características: %i' % x_train.shape[1],\n",
    "      'número de classes: %i' % (np.max(y_train) + 1),\n",
    "      sep='\\n', end='\\n\\n')"
   ]
  },
  {
   "cell_type": "code",
   "execution_count": null,
   "metadata": {},
   "outputs": [],
   "source": [
    "pd.DataFrame(y_test).value_counts().sort_index()"
   ]
  },
  {
   "cell_type": "code",
   "execution_count": null,
   "metadata": {},
   "outputs": [],
   "source": [
    "pd.DataFrame(x_train).describe()"
   ]
  },
  {
   "cell_type": "markdown",
   "metadata": {},
   "source": [
    "### 256 primeiras amostras no conjunto de treinamento"
   ]
  },
  {
   "cell_type": "code",
   "execution_count": null,
   "metadata": {},
   "outputs": [],
   "source": [
    "plt.figure(figsize=(16, 8))\n",
    "\n",
    "for ix in range(8  * 32):\n",
    "    plt.subplot(8, 32, ix + 1)\n",
    "    plt.imshow(x_train[ix].reshape(8, 8), cmap='Greys')\n",
    "    plt.axis('off')"
   ]
  },
  {
   "cell_type": "markdown",
   "metadata": {},
   "source": [
    "### Visualizando o conjunto e frequências das classes"
   ]
  },
  {
   "cell_type": "code",
   "execution_count": null,
   "metadata": {},
   "outputs": [],
   "source": [
    "from sklearn.manifold import TSNE\n",
    "\n",
    "encoder2D = TSNE()\n",
    "w_train = encoder2D.fit_transform(x_train)\n",
    "w_test = encoder2D.fit_transform(x_test)\n",
    "\n",
    "plt.figure(figsize=(16, 6))\n",
    "categorical_colors = sns.color_palette()\n",
    "\n",
    "for ix, (x, y) in enumerate(((w_train, y_train), (w_test, y_test))):\n",
    "    plt.subplot(1, 2, ix + 1)\n",
    "    sns.scatterplot(*x.T, hue=y, palette=categorical_colors);"
   ]
  },
  {
   "cell_type": "code",
   "execution_count": null,
   "metadata": {},
   "outputs": [],
   "source": [
    "plt.figure(figsize=(16, 4))\n",
    "\n",
    "plt.subplot(121)\n",
    "plt.title('Frequencia das classes no conjunto de treinamento (%i amostras)' % len(x_train))\n",
    "labels, counts = np.unique(y_train, return_counts=True)\n",
    "sns.barplot(labels, counts)\n",
    "\n",
    "plt.subplot(122)\n",
    "plt.title('Frequencia das classes no conjunto de teste (%i amostras)' % len(x_test))\n",
    "labels, counts = np.unique(y_test, return_counts=True)\n",
    "sns.barplot(labels, counts);"
   ]
  },
  {
   "cell_type": "markdown",
   "metadata": {},
   "source": [
    "### Modelando um classificador de digitos com SVM Linear\n",
    "\n",
    "**Atividade (1 pt):** defina e treine uma máquina de vetor de suporte com kernel linear, utilizando o scikit-learn. Encontre o melhor valor do parâmetro C, definindo um intervalo de busca e fazendo um grid search com validação cruzada em 10 folds."
   ]
  },
  {
   "cell_type": "markdown",
   "metadata": {},
   "source": [
    "### Normalização"
   ]
  },
  {
   "cell_type": "code",
   "execution_count": null,
   "metadata": {},
   "outputs": [],
   "source": [
    "norm = StandardScaler()\n",
    "norm.fit(x_train)\n",
    "x_train_norm  = norm.transform(x_train)\n",
    "\n",
    "norm.fit(x_test)\n",
    "x_test_norm  = norm.transform(x_test)"
   ]
  },
  {
   "cell_type": "markdown",
   "metadata": {},
   "source": [
    "### Modelo"
   ]
  },
  {
   "cell_type": "code",
   "execution_count": null,
   "metadata": {},
   "outputs": [],
   "source": [
    "kernel = [\"linear\"]\n",
    "C = [0.0001, 0.001, 0.01, 0.1, 1, 2, 5, 10, 20, 50, 100, 200, 500, 1000]\n",
    "gamma = [0.0001, 0.001, 0.01, 0.1, 1, 2, 5, 10, 20, 50, 100, 200, 500, 1000]\n",
    "\n",
    "parameters = {'kernel': kernel, 'C': C}#, 'gamma': gamma}\n",
    "svc = svm.SVC()\n",
    "clf = GridSearchCV(estimator=svc, param_grid=parameters, scoring='accuracy', cv=10, n_jobs=-1, verbose=1)\n",
    "clf.fit(x_train_norm, y_train)\n",
    "print(clf.best_params_)"
   ]
  },
  {
   "cell_type": "code",
   "execution_count": null,
   "metadata": {},
   "outputs": [],
   "source": [
    "linear_svm = svm.SVC( C= 0.1,kernel=\"linear\")\n",
    "linear_svm.fit(x_train_norm, y_train)\n"
   ]
  },
  {
   "cell_type": "markdown",
   "metadata": {},
   "source": [
    "### Conjunto treino"
   ]
  },
  {
   "cell_type": "code",
   "execution_count": null,
   "metadata": {},
   "outputs": [],
   "source": [
    "linear_svm_predicts_train = linear_svm.predict(x_train_norm)"
   ]
  },
  {
   "cell_type": "code",
   "execution_count": null,
   "metadata": {},
   "outputs": [],
   "source": [
    "confusion_matrix(y_train, linear_svm_predicts_train)"
   ]
  },
  {
   "cell_type": "code",
   "execution_count": null,
   "metadata": {},
   "outputs": [],
   "source": [
    "balanced_accuracy_score(y_train, linear_svm_predicts_train)"
   ]
  },
  {
   "cell_type": "markdown",
   "metadata": {},
   "source": [
    "### Avaliando o modelo treinado\n",
    "\n",
    "**Atividade (1 pt):** avalie o modelo treinado com o melhor valor encontrado para o parâmetro C sobre o conjunto de teste previamente separado. Reporte a acurácia média e a matriz de confusão."
   ]
  },
  {
   "cell_type": "code",
   "execution_count": null,
   "metadata": {},
   "outputs": [],
   "source": [
    "linear_svm_predicts_test = linear_svm.predict(x_test_norm)"
   ]
  },
  {
   "cell_type": "code",
   "execution_count": null,
   "metadata": {},
   "outputs": [],
   "source": [
    "confusion_matrix(y_test, linear_svm_predicts_test)"
   ]
  },
  {
   "cell_type": "code",
   "execution_count": null,
   "metadata": {},
   "outputs": [],
   "source": [
    "balanced_accuracy_score(y_test, linear_svm_predicts_test)\n"
   ]
  },
  {
   "cell_type": "markdown",
   "metadata": {},
   "source": [
    "### Modelando um classificador de digitos com SVM com kernel RBF\n",
    "\n",
    "**Atividade (1 pt):** utilizando o kernel RBF, defina e treine uma máquina de vetor de suporte. Faça um grid search nos valores de C e gamma com validação cruzada em 10 folds."
   ]
  },
  {
   "cell_type": "code",
   "execution_count": null,
   "metadata": {
    "scrolled": true
   },
   "outputs": [],
   "source": [
    "kernel = [\"rbf\"]\n",
    "C = [0.0001, 0.001, 0.01, 0.1, 1, 2, 5, 10, 20, 50, 100, 200, 500, 1000]\n",
    "gamma = [0.0001, 0.001, 0.01, 0.1, 1, 2, 5, 10, 20, 50, 100, 200, 500, 1000]\n",
    "\n",
    "parameters = {'kernel': kernel, 'C': C, 'gamma': gamma}\n",
    "svc = svm.SVC()\n",
    "clf_rbf = GridSearchCV(estimator = svc, param_grid = parameters, scoring = 'accuracy', cv =10, n_jobs = -1, verbose = 3)\n",
    "clf_rbf.fit(x_train_norm, y_train)\n",
    "print(clf_rbf.best_params_)\n"
   ]
  },
  {
   "cell_type": "code",
   "execution_count": null,
   "metadata": {},
   "outputs": [],
   "source": [
    "pd.set_option(\"display.max_columns\", None)\n",
    "pd.DataFrame()\n",
    "means = clf_rbf.cv_results_['mean_test_score']\n",
    "params = clf_rbf.cv_results_['params']\n",
    "df_results = pd.concat([pd.DataFrame({'mean_test_score':means}), pd.DataFrame(params)], axis = 1)\n",
    "df_results = df_results.sort_values('mean_test_score', ascending = False)\n"
   ]
  },
  {
   "cell_type": "code",
   "execution_count": null,
   "metadata": {},
   "outputs": [],
   "source": [
    "clf_rbf_grid = svm.SVC( C=5, kernel=\"rbf\", gamma=0.01)\n",
    "clf_rbf_grid.fit(x_train_norm, y_train)\n"
   ]
  },
  {
   "cell_type": "markdown",
   "metadata": {},
   "source": [
    "### Conjunto Treino\n"
   ]
  },
  {
   "cell_type": "code",
   "execution_count": null,
   "metadata": {},
   "outputs": [],
   "source": [
    "clf_rbf_grid_predict_train = clf_rbf_grid.predict(x_train_norm)"
   ]
  },
  {
   "cell_type": "code",
   "execution_count": null,
   "metadata": {},
   "outputs": [],
   "source": [
    "confusion_matrix(y_train, clf_rbf_grid_predict_train)\n"
   ]
  },
  {
   "cell_type": "code",
   "execution_count": null,
   "metadata": {},
   "outputs": [],
   "source": [
    "balanced_accuracy_score(y_train, clf_rbf_grid_predict_train)"
   ]
  },
  {
   "cell_type": "code",
   "execution_count": null,
   "metadata": {},
   "outputs": [],
   "source": [
    "df_results[:10]\n"
   ]
  },
  {
   "cell_type": "markdown",
   "metadata": {},
   "source": [
    "### Conjunto Teste"
   ]
  },
  {
   "cell_type": "code",
   "execution_count": null,
   "metadata": {},
   "outputs": [],
   "source": [
    "clf_rbf_grid_predict_test = clf_rbf_grid.predict(x_test_norm)\n"
   ]
  },
  {
   "cell_type": "code",
   "execution_count": null,
   "metadata": {},
   "outputs": [],
   "source": [
    "confusion_matrix(y_test, clf_rbf_grid_predict_test)\n",
    "\n"
   ]
  },
  {
   "cell_type": "code",
   "execution_count": null,
   "metadata": {},
   "outputs": [],
   "source": [
    "balanced_accuracy_score(y_test, clf_rbf_grid_predict_test)\n"
   ]
  },
  {
   "cell_type": "markdown",
   "metadata": {},
   "source": [
    "**Atividade (1 pt):** aumente o intervalo de busca de C e gamma e faça uma busca randômica pelo intervalo. "
   ]
  },
  {
   "cell_type": "code",
   "execution_count": null,
   "metadata": {},
   "outputs": [],
   "source": [
    "kernel = [\"rbf\"]\n",
    "C = loguniform(1e-5, 1e4)\n",
    "gamma = loguniform(1e-5, 1e4)\n",
    "\n",
    "parameters = {'kernel': kernel, 'C': C, 'gamma': gamma}\n",
    "svc = svm.SVC()\n",
    "clf_rbf_02 = RandomizedSearchCV(estimator = svc, param_distributions = parameters, scoring = 'accuracy', cv =10, n_jobs = -1, verbose = 3)\n",
    "clf_rbf_02.fit(x_train_norm, y_train)\n",
    "print(clf_rbf_02.best_params_)\n"
   ]
  },
  {
   "cell_type": "code",
   "execution_count": null,
   "metadata": {},
   "outputs": [],
   "source": [
    "clf_rbf_random = svm.SVC( kernel='rbf' ,C= 0.8787324890986387, gamma=  0.0015432644574156363)\n",
    "clf_rbf_random.fit(x_train_norm, y_train)\n"
   ]
  },
  {
   "cell_type": "markdown",
   "metadata": {},
   "source": [
    "### Conjunto Treino"
   ]
  },
  {
   "cell_type": "code",
   "execution_count": null,
   "metadata": {},
   "outputs": [],
   "source": [
    "clf_rbf_random_predict_train = clf_rbf_random.predict(x_train_norm)"
   ]
  },
  {
   "cell_type": "code",
   "execution_count": null,
   "metadata": {},
   "outputs": [],
   "source": [
    "confusion_matrix(y_train, clf_rbf_random_predict_train)"
   ]
  },
  {
   "cell_type": "code",
   "execution_count": null,
   "metadata": {},
   "outputs": [],
   "source": [
    "balanced_accuracy_score(y_train, clf_rbf_random_predict_train)"
   ]
  },
  {
   "cell_type": "markdown",
   "metadata": {},
   "source": [
    "### Conjunto Teste\n"
   ]
  },
  {
   "cell_type": "code",
   "execution_count": null,
   "metadata": {},
   "outputs": [],
   "source": [
    "clf_rbf_random_predict_test = clf_rbf_random.predict(x_test_norm)"
   ]
  },
  {
   "cell_type": "code",
   "execution_count": null,
   "metadata": {},
   "outputs": [],
   "source": [
    "confusion_matrix(y_test, clf_rbf_random_predict_test)"
   ]
  },
  {
   "cell_type": "code",
   "execution_count": null,
   "metadata": {},
   "outputs": [],
   "source": [
    "balanced_accuracy_score(y_test, clf_rbf_random_predict_test)"
   ]
  },
  {
   "cell_type": "markdown",
   "metadata": {},
   "source": [
    "### Avaliando os melhores modelos\n",
    "\n",
    "**Atividade (1 pt):** utilizando o melhor par de valores encontrado para C e gamma, em cada uma das estratégias, treine e avalie um modelo sobre o conjunto de teste previamente separado. Reporte a acurácia média e a matriz de confusão para com cada modelo."
   ]
  },
  {
   "cell_type": "markdown",
   "metadata": {},
   "source": [
    "## Linear"
   ]
  },
  {
   "cell_type": "code",
   "execution_count": null,
   "metadata": {},
   "outputs": [],
   "source": [
    "confusion_matrix(y_test, linear_svm_predicts_test)"
   ]
  },
  {
   "cell_type": "code",
   "execution_count": null,
   "metadata": {},
   "outputs": [],
   "source": [
    "balanced_accuracy_score(y_test, linear_svm_predicts_test)"
   ]
  },
  {
   "cell_type": "markdown",
   "metadata": {},
   "source": [
    "## RBF - Grid Search"
   ]
  },
  {
   "cell_type": "code",
   "execution_count": null,
   "metadata": {},
   "outputs": [],
   "source": [
    "confusion_matrix(y_test, clf_rbf_grid_predict_test)"
   ]
  },
  {
   "cell_type": "code",
   "execution_count": null,
   "metadata": {},
   "outputs": [],
   "source": [
    "balanced_accuracy_score(y_test, clf_rbf_grid_predict_test)"
   ]
  },
  {
   "cell_type": "markdown",
   "metadata": {},
   "source": [
    "## RBF - Random Search"
   ]
  },
  {
   "cell_type": "code",
   "execution_count": null,
   "metadata": {},
   "outputs": [],
   "source": [
    "confusion_matrix(y_test, clf_rbf_random_predict_test)"
   ]
  },
  {
   "cell_type": "code",
   "execution_count": null,
   "metadata": {},
   "outputs": [],
   "source": [
    "balanced_accuracy_score(y_test, clf_rbf_random_predict_test)"
   ]
  },
  {
   "cell_type": "markdown",
   "metadata": {},
   "source": [
    "Podemos perceber que o melhor desempenho se deu para RBF via Grid Search, devido ao maior número de fits testados, seguido por Linear, também usando grid search e finalmente RBF por Random Search, que apesar do maior intervalo testado, testou menos combinações. Com isso, notamos que random search pode ser útil na busca inicial de parâmetro, com posterior refinamento usando grid search. Vale notar também que para o kernel linear, notamos overfitting."
   ]
  }
 ],
 "metadata": {
  "interpreter": {
   "hash": "24e0735208a08393bf3ee81a0c12f9c86fdfb4195b6121c64527702e7d9bc896"
  },
  "kernelspec": {
   "display_name": "Python 3 (ipykernel)",
   "language": "python",
   "name": "python3"
  },
  "language_info": {
   "codemirror_mode": {
    "name": "ipython",
    "version": 3
   },
   "file_extension": ".py",
   "mimetype": "text/x-python",
   "name": "python",
   "nbconvert_exporter": "python",
   "pygments_lexer": "ipython3",
   "version": "3.9.5"
  }
 },
 "nbformat": 4,
 "nbformat_minor": 2
}
