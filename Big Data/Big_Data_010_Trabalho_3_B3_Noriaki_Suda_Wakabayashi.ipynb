{
  "nbformat": 4,
  "nbformat_minor": 0,
  "metadata": {
    "colab": {
      "name": "Copy of Big Data 010 - Trabalho 3 - B3 - Spark Template",
      "provenance": [],
      "collapsed_sections": [],
      "include_colab_link": true
    },
    "kernelspec": {
      "name": "python3",
      "display_name": "Python 3"
    }
  },
  "cells": [
    {
      "cell_type": "markdown",
      "metadata": {
        "id": "view-in-github",
        "colab_type": "text"
      },
      "source": [
        "<a href=\"https://colab.research.google.com/github/esuda/mineiracao_dados_complexos/blob/master/Big%20Data/Big_Data_010_Trabalho_3_B3_Noriaki_Suda_Wakabayashi.ipynb\" target=\"_parent\"><img src=\"https://colab.research.google.com/assets/colab-badge.svg\" alt=\"Open In Colab\"/></a>"
      ]
    },
    {
      "cell_type": "markdown",
      "metadata": {
        "id": "vtgklrVs3jTq"
      },
      "source": [
        "# Integrantes do Grupo\n",
        "* Daniel Noriaki Kurosawa\n",
        "* Eric Uyemura Suda\n",
        "* Fernando Shigeru Wakabayashi"
      ]
    },
    {
      "cell_type": "markdown",
      "metadata": {
        "id": "pZrBq6MYZx-h"
      },
      "source": [
        "# Dados de Entrada\n",
        "\n",
        "*   [Pacote de dados](https://tinyurl.com/bd009-b3)\n",
        "  *   Selecione \"Adicionar ao Drive\"\n",
        "*   [Descrição dos dados](https://drive.google.com/file/d/1wu1yfR1A0A0Tl8Jl1ZNNuowr88YEFtXS/view?usp=sharing)\n",
        "\n",
        "\n",
        "\n",
        "\n"
      ]
    },
    {
      "cell_type": "code",
      "metadata": {
        "id": "SAgm1b_iEW9l",
        "colab": {
          "base_uri": "https://localhost:8080/"
        },
        "outputId": "5adf970c-aa3c-4a5e-8292-0fba5e92821a"
      },
      "source": [
        "from google.colab import drive\n",
        "drive.mount('/content/drive')"
      ],
      "execution_count": null,
      "outputs": [
        {
          "output_type": "stream",
          "name": "stdout",
          "text": [
            "Mounted at /content/drive\n"
          ]
        }
      ]
    },
    {
      "cell_type": "markdown",
      "metadata": {
        "id": "kNY4NS1pgk9N"
      },
      "source": [
        "# Instalação de pacotes"
      ]
    },
    {
      "cell_type": "code",
      "metadata": {
        "id": "BuquY0rfYhPK",
        "colab": {
          "base_uri": "https://localhost:8080/"
        },
        "outputId": "284f6726-afa6-45fe-c4f9-f814b05d9e88"
      },
      "source": [
        "!wget -q https://downloads.apache.org/spark/spark-3.2.0/spark-3.2.0-bin-hadoop3.2.tgz\n",
        "!tar xf spark-3.2.0-bin-hadoop3.2.tgz\n",
        "!pip install findspark pyspark "
      ],
      "execution_count": null,
      "outputs": [
        {
          "output_type": "stream",
          "name": "stdout",
          "text": [
            "Collecting findspark\n",
            "  Downloading findspark-1.4.2-py2.py3-none-any.whl (4.2 kB)\n",
            "Collecting pyspark\n",
            "  Downloading pyspark-3.2.0.tar.gz (281.3 MB)\n",
            "\u001b[K     |████████████████████████████████| 281.3 MB 8.0 kB/s \n",
            "\u001b[?25hCollecting py4j==0.10.9.2\n",
            "  Downloading py4j-0.10.9.2-py2.py3-none-any.whl (198 kB)\n",
            "\u001b[K     |████████████████████████████████| 198 kB 46.3 MB/s \n",
            "\u001b[?25hBuilding wheels for collected packages: pyspark\n",
            "  Building wheel for pyspark (setup.py) ... \u001b[?25l\u001b[?25hdone\n",
            "  Created wheel for pyspark: filename=pyspark-3.2.0-py2.py3-none-any.whl size=281805912 sha256=1769f8cbcded5442378e8970d601a81a9915d1f7509a5bb5d80171df26ecb1ae\n",
            "  Stored in directory: /root/.cache/pip/wheels/0b/de/d2/9be5d59d7331c6c2a7c1b6d1a4f463ce107332b1ecd4e80718\n",
            "Successfully built pyspark\n",
            "Installing collected packages: py4j, pyspark, findspark\n",
            "Successfully installed findspark-1.4.2 py4j-0.10.9.2 pyspark-3.2.0\n"
          ]
        }
      ]
    },
    {
      "cell_type": "markdown",
      "metadata": {
        "id": "8b0DSUv3g0WJ"
      },
      "source": [
        "# Preparação do ambiente"
      ]
    },
    {
      "cell_type": "code",
      "metadata": {
        "id": "Y4elg4PSY52O",
        "colab": {
          "base_uri": "https://localhost:8080/"
        },
        "outputId": "15866456-0141-42e2-98b7-8037b126625b"
      },
      "source": [
        "%env PYTHONHASHSEED=1234\n",
        "%env JAVA_HOME=/usr/lib/jvm/default-java\n",
        "%env SPARK_HOME=/content/spark-3.2.0-bin-hadoop3.2"
      ],
      "execution_count": null,
      "outputs": [
        {
          "output_type": "stream",
          "name": "stdout",
          "text": [
            "env: PYTHONHASHSEED=1234\n",
            "env: JAVA_HOME=/usr/lib/jvm/default-java\n",
            "env: SPARK_HOME=/content/spark-3.2.0-bin-hadoop3.2\n"
          ]
        }
      ]
    },
    {
      "cell_type": "code",
      "metadata": {
        "id": "W0gLXPcaY8L6"
      },
      "source": [
        "import findspark\n",
        "findspark.init(\"/content/spark-3.2.0-bin-hadoop3.2\")"
      ],
      "execution_count": null,
      "outputs": []
    },
    {
      "cell_type": "code",
      "metadata": {
        "id": "umR86cbmZAQv"
      },
      "source": [
        "from pyspark.sql import SparkSession\n",
        "from pyspark.sql import Row\n",
        "from pyspark.sql.types import *\n",
        "from pyspark.sql.functions import *\n",
        "from pyspark.sql import Window\n",
        "\n",
        "\n",
        "from datetime import datetime\n",
        "\n",
        "appName = 'Big Data'\n",
        "master = 'local'\n",
        "\n",
        "spark = SparkSession.builder     \\\n",
        "    .master(master) \\\n",
        "    .appName(appName) \\\n",
        "    .getOrCreate()\n",
        "\n",
        "spark.sparkContext.setLogLevel(\"WARN\")"
      ],
      "execution_count": null,
      "outputs": []
    },
    {
      "cell_type": "markdown",
      "metadata": {
        "id": "dPjIkCSGh1UX"
      },
      "source": [
        "# Leitura dos dados e criação de dataframes"
      ]
    },
    {
      "cell_type": "code",
      "metadata": {
        "id": "UGaSan2Ca5h2"
      },
      "source": [
        "def read_line(line) :\n",
        "  tipo = line[0:2]\n",
        "  if tipo == '01' :\n",
        "    yield Row(tipreg=int(line[0:2]),\n",
        "               data=datetime.strptime(line[2:10], '%Y%m%d'),\n",
        "               codbdi=int(line[10:12]),\n",
        "               codneg=line[12:24].strip(),\n",
        "               tpmerc=int(line[24:27]),\n",
        "               especi=line[39:49].replace('*', '').replace(' ',''),\n",
        "               preult=float(line[108:121])/100)\n",
        "\n",
        "\n"
      ],
      "execution_count": null,
      "outputs": []
    },
    {
      "cell_type": "code",
      "metadata": {
        "id": "gIC6VVRSmIzf",
        "colab": {
          "base_uri": "https://localhost:8080/"
        },
        "outputId": "d2cc1b5d-6adf-43d0-f29c-fd649aa6b5e1"
      },
      "source": [
        "# Modifique esta linha para incluir dados de outros anos na solução final\n",
        "\n",
        "input_data = spark.sparkContext.textFile('/content/drive/My Drive/b3/COTAHIST*')\n",
        "\n",
        "cotacoes = input_data.flatMap(read_line).toDF()\n",
        "cotacoes.printSchema()\n",
        "cotacoes.show()\n"
      ],
      "execution_count": null,
      "outputs": [
        {
          "output_type": "stream",
          "name": "stdout",
          "text": [
            "root\n",
            " |-- tipreg: long (nullable = true)\n",
            " |-- data: timestamp (nullable = true)\n",
            " |-- codbdi: long (nullable = true)\n",
            " |-- codneg: string (nullable = true)\n",
            " |-- tpmerc: long (nullable = true)\n",
            " |-- especi: string (nullable = true)\n",
            " |-- preult: double (nullable = true)\n",
            "\n",
            "+------+-------------------+------+------+------+------+------+\n",
            "|tipreg|               data|codbdi|codneg|tpmerc|especi|preult|\n",
            "+------+-------------------+------+------+------+------+------+\n",
            "|     1|1995-01-02 00:00:00|     2| ACE 3|    10| ONINT|  63.0|\n",
            "|     1|1995-01-02 00:00:00|     2| ACE 4|    10| PNINT|  72.0|\n",
            "|     1|1995-01-02 00:00:00|     2| ALP 4|    10|    PN| 160.0|\n",
            "|     1|1995-01-02 00:00:00|     2| ROS 4|    10|    PN|  1.85|\n",
            "|     1|1995-01-02 00:00:00|     2| BAS 4|    10| PNI94|  48.0|\n",
            "|     1|1995-01-02 00:00:00|     2| AQT 4|    10|    PN|  0.78|\n",
            "|     1|1995-01-02 00:00:00|     2| ARC 6|    10|   PNB|2260.0|\n",
            "|     1|1995-01-02 00:00:00|     2| ATE 4|    10|    PN|   8.9|\n",
            "|     1|1995-01-02 00:00:00|     2| AVP 3|    10|    ON|   4.0|\n",
            "|     1|1995-01-02 00:00:00|     2| BBR 3|    10|  ONED|  25.5|\n",
            "|     1|1995-01-02 00:00:00|     2| BAD 3|    10|  ONED|  19.5|\n",
            "|     1|1995-01-02 00:00:00|     2| BSE 4|    10|  PNED|  14.3|\n",
            "|     1|1995-01-02 00:00:00|     2| BIV 4|    10|    PN| 300.0|\n",
            "|     1|1995-01-02 00:00:00|     2| BES 3|    10|    ON|   9.5|\n",
            "|     1|1995-01-02 00:00:00|     2| BES 4|    10|    PN|  11.0|\n",
            "|     1|1995-01-02 00:00:00|     2| BEP 4|    10|    PN|   3.3|\n",
            "|     1|1995-01-02 00:00:00|     2| BDL 4|    10|    PN| 235.0|\n",
            "|     1|1995-01-02 00:00:00|     2| BCN 4|    10|    PN|  4.65|\n",
            "|     1|1995-01-02 00:00:00|     2| BLP 4|    10|    PN|  1.15|\n",
            "|     1|1995-01-02 00:00:00|     2| BCA 6|    10|   PNB|  1.98|\n",
            "+------+-------------------+------+------+------+------+------+\n",
            "only showing top 20 rows\n",
            "\n"
          ]
        }
      ]
    },
    {
      "cell_type": "markdown",
      "metadata": {
        "id": "9VvhxJrJYWbW"
      },
      "source": [
        "# Implementação"
      ]
    },
    {
      "cell_type": "markdown",
      "metadata": {
        "id": "PrZS6QnY8t5z"
      },
      "source": [
        "## Retirando os registros com NA"
      ]
    },
    {
      "cell_type": "code",
      "metadata": {
        "id": "aOXaSun51SVC"
      },
      "source": [
        "cotacoes = cotacoes.na.drop()"
      ],
      "execution_count": null,
      "outputs": []
    },
    {
      "cell_type": "markdown",
      "metadata": {
        "id": "PsdIf83eg5gz"
      },
      "source": [
        "## Primeiro Filtro\n",
        "* Tipo Registro = 1 (Cotacao Historica)\n",
        "* Codigo BDI = 02 (Lote Padrao)\n",
        "* Tipo de Mercado = 010 (Mercado a Vista)"
      ]
    },
    {
      "cell_type": "code",
      "metadata": {
        "colab": {
          "base_uri": "https://localhost:8080/"
        },
        "id": "RGU1Nme4hf2p",
        "outputId": "4708e87a-c61e-423f-d0ed-6405111835cb"
      },
      "source": [
        "cotacoes.printSchema()"
      ],
      "execution_count": null,
      "outputs": [
        {
          "output_type": "stream",
          "name": "stdout",
          "text": [
            "root\n",
            " |-- tipreg: long (nullable = true)\n",
            " |-- data: timestamp (nullable = true)\n",
            " |-- codbdi: long (nullable = true)\n",
            " |-- codneg: string (nullable = true)\n",
            " |-- tpmerc: long (nullable = true)\n",
            " |-- especi: string (nullable = true)\n",
            " |-- preult: double (nullable = true)\n",
            "\n"
          ]
        }
      ]
    },
    {
      "cell_type": "code",
      "metadata": {
        "id": "_Ap2k47Zg5DT"
      },
      "source": [
        "cotacoes_aux_01 = cotacoes.filter(cotacoes.tipreg == 1)\\\n",
        "                          .filter(cotacoes.codbdi == 2)\\\n",
        "                          .filter(cotacoes.tpmerc == 10)"
      ],
      "execution_count": null,
      "outputs": []
    },
    {
      "cell_type": "code",
      "metadata": {
        "colab": {
          "base_uri": "https://localhost:8080/"
        },
        "id": "1n-Vu48Qmkn_",
        "outputId": "9c8775f1-aaa8-417a-fc8c-fd36b2aa4b2a"
      },
      "source": [
        "cotacoes_aux_01.show()"
      ],
      "execution_count": null,
      "outputs": [
        {
          "output_type": "stream",
          "name": "stdout",
          "text": [
            "+------+-------------------+------+------+------+------+-------+\n",
            "|tipreg|               data|codbdi|codneg|tpmerc|especi| preult|\n",
            "+------+-------------------+------+------+------+------+-------+\n",
            "|     1|2020-01-02 00:00:00|     2| AALR3|    10|  ONNM|   19.0|\n",
            "|     1|2020-01-02 00:00:00|     2|AAPL34|    10|   DRN| 121.34|\n",
            "|     1|2020-01-02 00:00:00|     2| ABCB4|    10|PNEJN2|   20.3|\n",
            "|     1|2020-01-02 00:00:00|     2| ABEV3|    10|  ONEJ|   19.2|\n",
            "|     1|2020-01-02 00:00:00|     2| ADHM3|    10|    ON|   2.48|\n",
            "|     1|2020-01-02 00:00:00|     2| AFLT3|    10|    ON|  11.23|\n",
            "|     1|2020-01-02 00:00:00|     2| AGRO3|    10|  ONNM|  19.25|\n",
            "|     1|2020-01-02 00:00:00|     2| ALPA3|    10|  ONN1|   26.8|\n",
            "|     1|2020-01-02 00:00:00|     2| ALPA4|    10|  PNN1|  32.58|\n",
            "|     1|2020-01-02 00:00:00|     2| ALSO3|    10|  ONNM|  50.01|\n",
            "|     1|2020-01-02 00:00:00|     2| ALUP3|    10|  ONN2|  11.66|\n",
            "|     1|2020-01-02 00:00:00|     2| ALUP4|    10|  PNN2|   8.42|\n",
            "|     1|2020-01-02 00:00:00|     2|ALUP11|    10| UNTN2|  28.65|\n",
            "|     1|2020-01-02 00:00:00|     2| AMAR3|    10|  ONNM|  13.46|\n",
            "|     1|2020-01-02 00:00:00|     2|AMZO34|    10|   DRN|3803.38|\n",
            "|     1|2020-01-02 00:00:00|     2| ANIM3|    10|  ONNM|   29.6|\n",
            "|     1|2020-01-02 00:00:00|     2| APER3|    10|  ONNM|   30.7|\n",
            "|     1|2020-01-02 00:00:00|     2| ARZZ3|    10|  ONNM|  63.91|\n",
            "|     1|2020-01-02 00:00:00|     2| ATOM3|    10|    ON|   1.72|\n",
            "|     1|2020-01-02 00:00:00|     2|ATTB34|    10|   DRN| 157.44|\n",
            "+------+-------------------+------+------+------+------+-------+\n",
            "only showing top 20 rows\n",
            "\n"
          ]
        }
      ]
    },
    {
      "cell_type": "markdown",
      "metadata": {
        "id": "6kp1tHSAjDn9"
      },
      "source": [
        "## Segundo Filtro\n",
        "* Apenas acoes ordinarias normativas ou ordinarias normativas novo mercado (retirar acoes que tenham especificacoes mistas);\n",
        "* Desconsiderar acoes com especificacao igual \" \" ou \"*\""
      ]
    },
    {
      "cell_type": "code",
      "metadata": {
        "id": "ZiqTjwlZjCos"
      },
      "source": [
        "cotacoes_nao_on = cotacoes_aux_01.filter((col(\"especi\") != \"ON\") & (col(\"especi\") != \"ONNM\"))\\\n",
        "                          .select(col(\"codneg\").alias(\"codneg_nao_on\"),\n",
        "                                  expr(\"1\").alias(\"flag_nao_on\"))\\\n",
        "                          .distinct()"
      ],
      "execution_count": null,
      "outputs": []
    },
    {
      "cell_type": "code",
      "metadata": {
        "colab": {
          "base_uri": "https://localhost:8080/"
        },
        "id": "pE_vJmnJjClV",
        "outputId": "148f982a-c099-4cd7-f6c9-b7d2f0afa53d"
      },
      "source": [
        "cotacoes_nao_on.show()"
      ],
      "execution_count": null,
      "outputs": [
        {
          "output_type": "stream",
          "name": "stdout",
          "text": [
            "+-------------+-----------+\n",
            "|codneg_nao_on|flag_nao_on|\n",
            "+-------------+-----------+\n",
            "|       A1MT34|          1|\n",
            "|       G1RM34|          1|\n",
            "|        BSLI3|          1|\n",
            "|        EUCA3|          1|\n",
            "|        FRAS3|          1|\n",
            "|       I1VZ34|          1|\n",
            "|       S1NP34|          1|\n",
            "|        CRPG5|          1|\n",
            "|        BRSR5|          1|\n",
            "|       M1CB34|          1|\n",
            "|       N1LS34|          1|\n",
            "|       P1GR34|          1|\n",
            "|       Z1IO34|          1|\n",
            "|       Z1BH34|          1|\n",
            "|        ENGI4|          1|\n",
            "|       SIMN34|          1|\n",
            "|       TMOS34|          1|\n",
            "|       UPAC34|          1|\n",
            "|       T1SO34|          1|\n",
            "|       A1FL34|          1|\n",
            "+-------------+-----------+\n",
            "only showing top 20 rows\n",
            "\n"
          ]
        }
      ]
    },
    {
      "cell_type": "code",
      "metadata": {
        "id": "4ZVT_YwLku83"
      },
      "source": [
        "cotacoes_aux_02 = cotacoes_aux_01.join(cotacoes_nao_on, \n",
        "                                       on=[cotacoes_aux_01.codneg == cotacoes_nao_on.codneg_nao_on], \n",
        "                                       how=\"left\")"
      ],
      "execution_count": null,
      "outputs": []
    },
    {
      "cell_type": "code",
      "metadata": {
        "colab": {
          "base_uri": "https://localhost:8080/"
        },
        "id": "r5ezaGXunpuF",
        "outputId": "3291af73-55ed-4939-b5ce-6a396e1943f1"
      },
      "source": [
        "cotacoes_aux_02.filter(\"flag_nao_on = 1 and (especi = 'ON' or especi = 'ONNM')\").select(\"codneg\").distinct().show()"
      ],
      "execution_count": null,
      "outputs": [
        {
          "output_type": "stream",
          "name": "stdout",
          "text": [
            "+------+\n",
            "|codneg|\n",
            "+------+\n",
            "| VAG 3|\n",
            "| LAM 3|\n",
            "| MSA 3|\n",
            "| FCA 3|\n",
            "| CRU 3|\n",
            "| ELC 3|\n",
            "| BAS 3|\n",
            "| IAP 3|\n",
            "| BEP 3|\n",
            "| ITS 3|\n",
            "| CMI 3|\n",
            "| TER 3|\n",
            "| LOB 3|\n",
            "| IBA 3|\n",
            "| VSM 3|\n",
            "| BMK 3|\n",
            "| NOR 3|\n",
            "| MAH 3|\n",
            "| UCA 3|\n",
            "| MLF 3|\n",
            "+------+\n",
            "only showing top 20 rows\n",
            "\n"
          ]
        }
      ]
    },
    {
      "cell_type": "code",
      "metadata": {
        "colab": {
          "base_uri": "https://localhost:8080/"
        },
        "id": "lR8S1bTloDll",
        "outputId": "6354d3ec-31cb-4cd2-bcc7-315272e20b15"
      },
      "source": [
        "cotacoes_aux_02.filter(\"codneg = 'B3SA3'\").select(\"especi\").distinct().show()"
      ],
      "execution_count": null,
      "outputs": [
        {
          "output_type": "stream",
          "name": "stdout",
          "text": [
            "+-------+\n",
            "| especi|\n",
            "+-------+\n",
            "| ONEJNM|\n",
            "|   ONNM|\n",
            "|ONEDJNM|\n",
            "+-------+\n",
            "\n"
          ]
        }
      ]
    },
    {
      "cell_type": "code",
      "metadata": {
        "id": "3XpunAnPrLlT"
      },
      "source": [
        "cotacoes_invalidas = cotacoes_aux_02.filter(col(\"especi\").isin(\"\", \" \", \"*\"))\\\n",
        "                          .select(col(\"codneg\").alias(\"codneg_invalido\"),\n",
        "                                  expr(\"1\").alias(\"flag_invalido\"))\\\n",
        "                          .distinct()"
      ],
      "execution_count": null,
      "outputs": []
    },
    {
      "cell_type": "code",
      "metadata": {
        "colab": {
          "base_uri": "https://localhost:8080/"
        },
        "id": "1qSFItOIr3qR",
        "outputId": "a658a21e-af0d-41df-f6e2-5c8df2dde40a"
      },
      "source": [
        "# Para 2012 nao ha acoes com especificacao igaul a \" \" ou \"*\"\n",
        "# mas manteremos o cruzamento para os outros anos\n",
        "cotacoes_invalidas.show()"
      ],
      "execution_count": null,
      "outputs": [
        {
          "output_type": "stream",
          "name": "stdout",
          "text": [
            "+---------------+-------------+\n",
            "|codneg_invalido|flag_invalido|\n",
            "+---------------+-------------+\n",
            "+---------------+-------------+\n",
            "\n"
          ]
        }
      ]
    },
    {
      "cell_type": "code",
      "metadata": {
        "id": "rA2MfKkYsfRb"
      },
      "source": [
        "cotacoes_aux_03 = cotacoes_aux_02.join(cotacoes_invalidas, \n",
        "                                       on=[cotacoes_aux_02.codneg == cotacoes_invalidas.codneg_invalido], \n",
        "                                       how=\"left\")"
      ],
      "execution_count": null,
      "outputs": []
    },
    {
      "cell_type": "code",
      "metadata": {
        "colab": {
          "base_uri": "https://localhost:8080/"
        },
        "id": "es3ueFFstAFn",
        "outputId": "17b1da4a-eaaf-479c-ca8d-4441f59de7fe"
      },
      "source": [
        "cotacoes_aux_03.show()"
      ],
      "execution_count": null,
      "outputs": [
        {
          "output_type": "stream",
          "name": "stdout",
          "text": [
            "+------+-------------------+------+------+------+------+-------+-------------+-----------+---------------+-------------+\n",
            "|tipreg|               data|codbdi|codneg|tpmerc|especi| preult|codneg_nao_on|flag_nao_on|codneg_invalido|flag_invalido|\n",
            "+------+-------------------+------+------+------+------+-------+-------------+-----------+---------------+-------------+\n",
            "|     1|2020-01-02 00:00:00|     2| AZUL4|    10|  PNN2|   58.8|        AZUL4|          1|           null|         null|\n",
            "|     1|2020-01-02 00:00:00|     2| ARZZ3|    10|  ONNM|  63.91|        ARZZ3|          1|           null|         null|\n",
            "|     1|2020-01-02 00:00:00|     2| AGRO3|    10|  ONNM|  19.25|        AGRO3|          1|           null|         null|\n",
            "|     1|2020-01-02 00:00:00|     2| ATOM3|    10|    ON|   1.72|         null|       null|           null|         null|\n",
            "|     1|2020-01-02 00:00:00|     2| ADHM3|    10|    ON|   2.48|        ADHM3|          1|           null|         null|\n",
            "|     1|2020-01-02 00:00:00|     2| AFLT3|    10|    ON|  11.23|        AFLT3|          1|           null|         null|\n",
            "|     1|2020-01-02 00:00:00|     2| ALUP4|    10|  PNN2|   8.42|        ALUP4|          1|           null|         null|\n",
            "|     1|2020-01-02 00:00:00|     2| ALSO3|    10|  ONNM|  50.01|         null|       null|           null|         null|\n",
            "|     1|2020-01-02 00:00:00|     2| ALPA4|    10|  PNN1|  32.58|        ALPA4|          1|           null|         null|\n",
            "|     1|2020-01-02 00:00:00|     2| AALR3|    10|  ONNM|   19.0|        AALR3|          1|           null|         null|\n",
            "|     1|2020-01-02 00:00:00|     2|ATTB34|    10|   DRN| 157.44|       ATTB34|          1|           null|         null|\n",
            "|     1|2020-01-02 00:00:00|     2| ANIM3|    10|  ONNM|   29.6|         null|       null|           null|         null|\n",
            "|     1|2020-01-02 00:00:00|     2|AMZO34|    10|   DRN|3803.38|       AMZO34|          1|           null|         null|\n",
            "|     1|2020-01-02 00:00:00|     2| AMAR3|    10|  ONNM|  13.46|         null|       null|           null|         null|\n",
            "|     1|2020-01-02 00:00:00|     2| ALPA3|    10|  ONN1|   26.8|        ALPA3|          1|           null|         null|\n",
            "|     1|2020-01-02 00:00:00|     2| ALUP3|    10|  ONN2|  11.66|        ALUP3|          1|           null|         null|\n",
            "|     1|2020-01-02 00:00:00|     2| ABCB4|    10|PNEJN2|   20.3|        ABCB4|          1|           null|         null|\n",
            "|     1|2020-01-02 00:00:00|     2| ABEV3|    10|  ONEJ|   19.2|        ABEV3|          1|           null|         null|\n",
            "|     1|2020-01-02 00:00:00|     2|ALUP11|    10| UNTN2|  28.65|       ALUP11|          1|           null|         null|\n",
            "|     1|2020-01-02 00:00:00|     2|AAPL34|    10|   DRN| 121.34|       AAPL34|          1|           null|         null|\n",
            "+------+-------------------+------+------+------+------+-------+-------------+-----------+---------------+-------------+\n",
            "only showing top 20 rows\n",
            "\n"
          ]
        }
      ]
    },
    {
      "cell_type": "markdown",
      "metadata": {
        "id": "NxNDKcB-dg6q"
      },
      "source": [
        "### Filtrando as flags de nao ON ONNM e campo invalido"
      ]
    },
    {
      "cell_type": "code",
      "metadata": {
        "id": "HSknbhjYv6MZ"
      },
      "source": [
        "cotacoes_aux_04 = cotacoes_aux_03.filter(\"flag_nao_on is null and flag_invalido is null\")\\\n",
        "                        .drop(\"codneg_nao_on\", \"flag_nao_on\", \"codneg_invalido\", \"flag_invalido\")"
      ],
      "execution_count": null,
      "outputs": []
    },
    {
      "cell_type": "code",
      "metadata": {
        "colab": {
          "base_uri": "https://localhost:8080/"
        },
        "id": "Jl2hfn65wgb0",
        "outputId": "ccc8bf57-aa5f-40c0-8631-49f59513665d"
      },
      "source": [
        "cotacoes_aux_04.select(\"codneg\").distinct().show()"
      ],
      "execution_count": null,
      "outputs": [
        {
          "output_type": "stream",
          "name": "stdout",
          "text": [
            "+------+\n",
            "|codneg|\n",
            "+------+\n",
            "| LIGT3|\n",
            "| MILS3|\n",
            "| PRIO3|\n",
            "| EKTR3|\n",
            "| RSID3|\n",
            "| VULC3|\n",
            "| PTNT3|\n",
            "| BRGE3|\n",
            "| LPSB3|\n",
            "| NAFG3|\n",
            "| ENEV3|\n",
            "| TESA3|\n",
            "| VLID3|\n",
            "| EMBR3|\n",
            "| MNPR3|\n",
            "| BOBR3|\n",
            "| PLAS3|\n",
            "| CRPG3|\n",
            "| ATOM3|\n",
            "| BRFS3|\n",
            "+------+\n",
            "only showing top 20 rows\n",
            "\n"
          ]
        }
      ]
    },
    {
      "cell_type": "markdown",
      "metadata": {
        "id": "ti-51ZS18lQg"
      },
      "source": [
        "## Calculo da volatilidade dos papeis"
      ]
    },
    {
      "cell_type": "code",
      "metadata": {
        "id": "YNmRKd0j5iPb"
      },
      "source": [
        "janela_cotacao = Window.partitionBy('codneg').orderBy(\"data\")\n",
        "\n",
        "cotacoes_aux_04 = cotacoes_aux_04.withColumn(\"preult_ant\", lag(\"preult\", 1).over(janela_cotacao))\\\n",
        "                                  .withColumn(\"dif_rel\", (col(\"preult\")/col(\"preult_ant\"))-1)\\\n",
        "                                  .filter(\"dif_rel is not null\")\n"
      ],
      "execution_count": null,
      "outputs": []
    },
    {
      "cell_type": "code",
      "metadata": {
        "id": "yYqFSuZE0JDs"
      },
      "source": [
        ""
      ],
      "execution_count": null,
      "outputs": []
    },
    {
      "cell_type": "code",
      "metadata": {
        "id": "nUnkEdvC7VXb",
        "colab": {
          "base_uri": "https://localhost:8080/"
        },
        "outputId": "f96baed4-fbeb-4afa-bb7b-85a60d6f2698"
      },
      "source": [
        "cotacoes.filter(\"codneg = 'AFLU3'\").sort(\"data\", \"dif_rel\").show()"
      ],
      "execution_count": null,
      "outputs": [
        {
          "output_type": "stream",
          "name": "stdout",
          "text": [
            "+------+-------------------+------+------+------+------+------+\n",
            "|tipreg|               data|codbdi|codneg|tpmerc|especi|preult|\n",
            "+------+-------------------+------+------+------+------+------+\n",
            "|     1|2012-01-19 00:00:00|     2| AFLU3|    10|    ON|  4.93|\n",
            "|     1|2012-02-01 00:00:00|     2| AFLU3|    10|    ON|   5.0|\n",
            "|     1|2012-02-13 00:00:00|     2| AFLU3|    10|    ON|  5.27|\n",
            "|     1|2012-02-14 00:00:00|     2| AFLU3|    10|    ON|   5.0|\n",
            "|     1|2012-02-17 00:00:00|     2| AFLU3|    10|    ON|   5.0|\n",
            "|     1|2012-03-01 00:00:00|     2| AFLU3|    10|    ON|   5.0|\n",
            "|     1|2012-03-13 00:00:00|     2| AFLU3|    10|    ON|   5.2|\n",
            "|     1|2012-03-14 00:00:00|     2| AFLU3|    10|    ON|   5.2|\n",
            "|     1|2012-05-09 00:00:00|     2| AFLU3|    10|    ON|  4.83|\n",
            "|     1|2012-06-11 00:00:00|     2| AFLU3|    10|    ON|  4.61|\n",
            "|     1|2012-06-29 00:00:00|     2| AFLU3|    10|    ON|   6.1|\n",
            "|     1|2012-08-06 00:00:00|     2| AFLU3|    10|    ON|  6.15|\n",
            "|     1|2012-08-16 00:00:00|     2| AFLU3|    10|    ON|  6.15|\n",
            "|     1|2012-08-27 00:00:00|     2| AFLU3|    10|    ON|  6.35|\n",
            "|     1|2012-09-20 00:00:00|     2| AFLU3|    10|    ON|   6.1|\n",
            "|     1|2012-10-01 00:00:00|     2| AFLU3|    10|    ON|   6.1|\n",
            "|     1|2012-11-12 00:00:00|     2| AFLU3|    10|    ON|  5.41|\n",
            "|     1|2012-11-30 00:00:00|     2| AFLU3|    10|    ON|  5.41|\n",
            "|     1|2012-12-13 00:00:00|     2| AFLU3|    10|    ON|   5.8|\n",
            "|     1|2012-12-18 00:00:00|     2| AFLU3|    10|    ON|   5.8|\n",
            "+------+-------------------+------+------+------+------+------+\n",
            "only showing top 20 rows\n",
            "\n"
          ]
        }
      ]
    },
    {
      "cell_type": "code",
      "metadata": {
        "id": "3o-FKLGK7nD8"
      },
      "source": [
        "cotacoes_var = cotacoes_aux_04.select(\"codneg\", \"dif_rel\")\\\n",
        "                              .groupby(\"codneg\")\\\n",
        "                              .agg(stddev(\"dif_rel\"))"
      ],
      "execution_count": null,
      "outputs": []
    },
    {
      "cell_type": "code",
      "metadata": {
        "id": "5bD0Fnhy8ayr",
        "colab": {
          "base_uri": "https://localhost:8080/"
        },
        "outputId": "03d77e57-f676-48fa-f1a5-e7b6de33e700"
      },
      "source": [
        "cotacoes_var.show(cotacoes.count())"
      ],
      "execution_count": null,
      "outputs": [
        {
          "output_type": "stream",
          "name": "stdout",
          "text": [
            "+------+--------------------+\n",
            "|codneg|stddev_samp(dif_rel)|\n",
            "+------+--------------------+\n",
            "| AERI3|0.035309326149144345|\n",
            "| AESL3|  120.94500665036315|\n",
            "| AGR 3| 0.40176101334529724|\n",
            "| AHE 3| 0.11296519899091297|\n",
            "| ALPK3| 0.01787184515479393|\n",
            "| ALSO3| 0.04005735515563661|\n",
            "| AMBP3| 0.02123610033741466|\n",
            "| AMCE3| 0.43256056304718327|\n",
            "| AMPI3|  0.3398704488476588|\n",
            "| AORE3| 0.10892028606398707|\n",
            "| ARA 3|  0.5878275899627735|\n",
            "| ARL 3|   0.490448532142979|\n",
            "| ARP 3|  0.7777680333781121|\n",
            "| ARTE3|  28.619386213880993|\n",
            "| ASS 3|  0.7163634496417357|\n",
            "| AVLL3|0.027641514583680433|\n",
            "| BAN 3|  0.6271729948365894|\n",
            "| BAQU3|  0.0778374811346549|\n",
            "| BAR 3| 0.08700979781061385|\n",
            "| BBVT3| 0.08361667522867804|\n",
            "| BDE 3| 0.16606898780262738|\n",
            "| BDEP3| 0.47150271983819436|\n",
            "| BDL 3| 0.12515991890869743|\n",
            "| BEBA3|                null|\n",
            "| BEE 3| 0.22706295322298525|\n",
            "| BEG 3| 0.22655259190481114|\n",
            "| BER 3|  1.0695712629770202|\n",
            "| BES 3| 0.05739273180161253|\n",
            "| BEX 3|                null|\n",
            "| BHEQ3|  2.0042586236494637|\n",
            "| BIO 3|  0.0869060847266797|\n",
            "| BIV 3| 0.14884805576409402|\n",
            "| BME 3| 0.21721032090082174|\n",
            "| BMI 3|  0.2878460210818708|\n",
            "| BNET3| 0.14800823788801404|\n",
            "| BOAS3|0.023905267286877724|\n",
            "| BPA 3|                null|\n",
            "| BPAR3|  3.6790202679552193|\n",
            "| BPL 3|                null|\n",
            "| BRD 3|  0.1657159611847285|\n",
            "| BSEG3|0.007101159707615055|\n",
            "| BZN 3|0.002309401076758...|\n",
            "| CAF 3|  0.4231840034642481|\n",
            "| CAFE3|  0.3519057441422782|\n",
            "| CAL 3| 0.10977373115454636|\n",
            "| CALI3|  0.3050871375903244|\n",
            "| CAMB3|0.041480495423093476|\n",
            "| CASH3| 0.03919573533890585|\n",
            "| CBA 3|  0.3194902139426086|\n",
            "| CBM 3|0.041000309161236724|\n",
            "| CBMA3|  0.1943798956947645|\n",
            "| CCC 3|                null|\n",
            "| CCH 3|                null|\n",
            "| CCHI3| 0.13788159219839421|\n",
            "| CDO 3| 0.16352236205057272|\n",
            "| CEC 3|                null|\n",
            "| CECI3| 0.05739605484611159|\n",
            "| CEE 6| 0.05714446422453057|\n",
            "| CEL 3| 0.22614823460582884|\n",
            "| CELM3|  0.4550610710648134|\n",
            "| CGR 3|                null|\n",
            "| CHA 3|                null|\n",
            "| CII 3|                null|\n",
            "| CNF 3|                 0.0|\n",
            "| CNTO3|  0.0425462619970284|\n",
            "| COB 3| 0.14433756729740646|\n",
            "| COC 3| 0.06491919310958814|\n",
            "| COP 3| 0.35635482419352843|\n",
            "| COR 3|  0.3679447697235093|\n",
            "| CPEE3|  0.0567137484509531|\n",
            "| CPFP3|                null|\n",
            "| CQUE3|                null|\n",
            "| CRBM3|  0.4955336921453463|\n",
            "| CRE 3| 0.24476404351456124|\n",
            "| CRGT3| 0.14359466862359133|\n",
            "| CSA 3| 0.35363880375529083|\n",
            "| CSI 3| 0.08721849171760657|\n",
            "| CSIP3| 0.38464248244585786|\n",
            "| CSP 3| 0.14903104466022854|\n",
            "| CSPP3|  0.6711240158768697|\n",
            "| CTA 3|                 0.5|\n",
            "| CTAN3|                null|\n",
            "| CTK 3|  0.4413864123741528|\n",
            "| CTMI3|                null|\n",
            "| CTS 3| 0.10532331426252706|\n",
            "| CTWR3| 0.14291519422048043|\n",
            "| CURY3| 0.02420496960583803|\n",
            "| CVPT3| 0.24679396461090433|\n",
            "| CZA 3|  0.4607507295223382|\n",
            "| DATA3| 0.09521366955090099|\n",
            "| DFV 3|  0.9301986074344345|\n",
            "| DFVA3|  0.5591778232899857|\n",
            "| DHB 3|  0.3241092944830965|\n",
            "| DHBI3|   3.037705560768626|\n",
            "| DIS 3|                null|\n",
            "| DMVF3| 0.03692302542132938|\n",
            "| DOH 3|  0.1767766952966369|\n",
            "| DOMO3|0.005071372080300461|\n",
            "| DOV 3| 0.30860899609644454|\n",
            "| DRO 3|  0.1063357497113114|\n",
            "| EBEN3|                null|\n",
            "| EBER3| 0.34759475345200314|\n",
            "| ECIS3| 0.40211812071780423|\n",
            "| ECP 3|  1.0342324018102023|\n",
            "| ELU 3|  0.2599397868464571|\n",
            "| EMR 3|  0.3461686784415789|\n",
            "| EMX 3|                null|\n",
            "| EMXS3| 0.27595348022845867|\n",
            "| ENJU3| 0.03067629806441137|\n",
            "| ENL 5|                null|\n",
            "| ENLT3|   0.096144096600339|\n",
            "| EST 3|  0.3705530980604949|\n",
            "| ESTR3|  1.5396272261480597|\n",
            "| FAP 3| 0.37868151276894263|\n",
            "| FAPC3| 0.39464810916524823|\n",
            "| FAT 3|  3.1434396952361774|\n",
            "| FCAP3| 0.12125512075677691|\n",
            "| FCH 3|                null|\n",
            "| FGO 3| 0.18609041699752352|\n",
            "| FGOS3|  0.6564594553830461|\n",
            "| FGU 3|  0.2875167433594634|\n",
            "| FGUI3|  0.8247485645868362|\n",
            "| FIG 3|  1.1059749684572404|\n",
            "| FJT 3| 0.07749436683330259|\n",
            "| FLB 3|  1.5624243769527837|\n",
            "| FLBR3|   82.94970235442167|\n",
            "| FTRX3|  0.2908806913690522|\n",
            "| FTS 3| 0.19590772464143708|\n",
            "| GAF 3|  0.7040481230537949|\n",
            "| GAFP3|  0.3270637310567812|\n",
            "| GAL 3|  0.1767766952966369|\n",
            "| GAZO3| 0.14982511694275957|\n",
            "| GFTT3|   1.395652109859009|\n",
            "| GLO 3|  0.2066275179112842|\n",
            "| GMAT3| 0.01781050543891832|\n",
            "| GRN 3| 0.20019336142167551|\n",
            "| GRNL3|  0.3028814132747213|\n",
            "| GTDP3| 0.22380635762704718|\n",
            "| GVTT3| 0.03159402077365382|\n",
            "| HAGA3| 0.07424574865530036|\n",
            "| HBSA3|0.024987167192367606|\n",
            "| HERI3|0.011547005383792526|\n",
            "| HET 3|   1.001538840683936|\n",
            "| HETA3|   34.96467187635529|\n",
            "| HGN 3|  0.4296229597265813|\n",
            "| IBP 3|  0.5852806754884339|\n",
            "| ICF 3|  0.1664016790335608|\n",
            "| IDC 3|                null|\n",
            "| ILM 3| 0.10479366619977616|\n",
            "| ILMD3|     4.4675466344117|\n",
            "| IMB 3|  0.7376917733645388|\n",
            "| INFM3|  0.7071067811865476|\n",
            "| IRI 3|   0.037053900106828|\n",
            "| IRON3|0.010975010020309837|\n",
            "| IVE 3| 0.20528906550577183|\n",
            "| IVT 3|                null|\n",
            "| IVTE3| 0.30304576336566325|\n",
            "| JBD 3| 0.37599791965953927|\n",
            "|JBDU11| 0.04083050805835754|\n",
            "| JFE 3| 0.21637175664058278|\n",
            "| KLAB3| 0.23882188157124679|\n",
            "| LAC 3|  0.7650790687420264|\n",
            "| LAE 3| 0.28309096747824475|\n",
            "| LAEL3|                null|\n",
            "| LAT 3|0.042760479942054126|\n",
            "| LAVV3|0.024742974997435677|\n",
            "| LCSA3| 0.36339105178405856|\n",
            "| LET 3| 0.19327585352432292|\n",
            "| LETO3| 0.35584976727203504|\n",
            "| LEV 3|                0.25|\n",
            "| LIB 3|                 0.0|\n",
            "| LIBP3| 0.03138464448138076|\n",
            "|LIGH11|                null|\n",
            "| LIX 3|  0.3457545398314517|\n",
            "| LOR 3| 0.11724727068583003|\n",
            "| LPC 3|                 0.0|\n",
            "| LUX 3|                null|\n",
            "| MAF 3| 0.26054998473228974|\n",
            "| MAFE3| 0.17705466852210014|\n",
            "| MANM3| 0.06397849731087348|\n",
            "| MAP 3|  0.3194381026379179|\n",
            "| MAT 3|  0.2905377019484768|\n",
            "| MATC3| 0.25296675317237916|\n",
            "| MDD 3|                null|\n",
            "| MDNE3| 0.05968579416134049|\n",
            "| MEC 3| 0.33652098539393877|\n",
            "| MELK3|0.025053568983320448|\n",
            "| MEND3|                null|\n",
            "| MEP 3| 0.07269024577005112|\n",
            "| MER 3| 0.17258884512802827|\n",
            "| MGE 3|  0.4942144169583398|\n",
            "| MIM 3| 0.47140452079103173|\n",
            "| MLCF3|                null|\n",
            "| MNS 3| 0.09829902549210959|\n",
            "| MNSA3|  0.4062243972114861|\n",
            "| MRS 3|                null|\n",
            "| MSP 3|  0.8918335967112323|\n",
            "| MTC 3|7.441271561478012E-4|\n",
            "| MTI 3| 0.42426406871192857|\n",
            "| MTRE3| 0.04615345854374307|\n",
            "| MTSA3| 0.22332924077968666|\n",
            "| NAF 3| 0.03535533905932741|\n",
            "| NGRD3| 0.08154360716309332|\n",
            "| NOV 3|   38.24804861872689|\n",
            "| OGSA3| 0.07398404348237173|\n",
            "| ORI 3| 0.08319050784730507|\n",
            "| ORIO3| 0.08393737492862159|\n",
            "| PCA 3|                null|\n",
            "| PDA 3| 0.07823182738676163|\n",
            "| PDTC3| 0.04909060133088079|\n",
            "| PGMN3|0.016469445632356968|\n",
            "| PIUM3|  3.8072361145215896|\n",
            "| PLIM3| 0.16279180225786802|\n",
            "| PLPL3| 0.03364317874831103|\n",
            "| POM 3|  0.1378369049087909|\n",
            "| PRB 3|  0.4739650597174525|\n",
            "| PRBN3|  0.1817188394662202|\n",
            "| PREQ3|                null|\n",
            "| PRG 3| 0.24323474832293412|\n",
            "| PRNR3| 0.04062713846020991|\n",
            "| PRO 3|  0.1499923475244192|\n",
            "| PRTX3| 0.03685532237518687|\n",
            "| PTB 3|              0.4995|\n",
            "| PTN 3|                null|\n",
            "| PTP 3|                null|\n",
            "| PTQ 3|4.713259795512913E-4|\n",
            "| QGN 3|                null|\n",
            "| RAN 3|   86.95192879508825|\n",
            "| RAP 3|  0.2265457940919574|\n",
            "| RDOR3| 0.02105830418167638|\n",
            "| RECF3|5.322309105706636E-4|\n",
            "| RHE 3|  0.1941922962460695|\n",
            "| RHER3| 0.10548140054620007|\n",
            "| ROS 3| 0.10013764631429274|\n",
            "| ROSI3|                null|\n",
            "| RRRP3| 0.02777107249060637|\n",
            "| RSI 3|   0.064248144553611|\n",
            "| SANO3|  0.1613276840481693|\n",
            "|SBSP11|                null|\n",
            "| SCLO3|   2.092730820233239|\n",
            "| SCON3|  0.0429322218876239|\n",
            "| SDO 3|                null|\n",
            "| SDOK3| 0.13149778198382917|\n",
            "| SEDU3|0.033672340357944794|\n",
            "| SEM 3| 0.08330042028746017|\n",
            "| SEQL3|0.021579981965989502|\n",
            "| SGA 3| 0.10848423078175386|\n",
            "| SGEN3|  0.4015917264527732|\n",
            "| SHA 3|  0.2532004610818916|\n",
            "| SHAP3| 0.30214121249947595|\n",
            "| SIF 3| 0.23502332451831578|\n",
            "| SIFC3|  0.5042776042975159|\n",
            "| SIMH3|0.029523224064358963|\n",
            "| SJO 3|   0.240730413878113|\n",
            "| SJOS3|  0.3764835996314726|\n",
            "| SLA 5|0.013823140083346175|\n",
            "| SLAE3|0.010921825723578277|\n",
            "| SNS 3| 0.21528741808023555|\n",
            "| SNSY3| 0.47152819080481895|\n",
            "| SOE 3|   0.435645680714555|\n",
            "| SOL 3|  0.1194891233925382|\n",
            "| SOMA3|  0.0264343067716233|\n",
            "| SON 3|   0.263308265353654|\n",
            "| SPC 3|0.023481040236662348|\n",
            "| SPG 3|                null|\n",
            "| SPPE3|   0.848185910656936|\n",
            "| SUL 3| 0.33610235785245185|\n",
            "| TAM 3|  0.1663811320943578|\n",
            "| TCN 3|  0.8779711460710615|\n",
            "|TCSP11|                null|\n",
            "| TEK 3| 0.16317848796612638|\n",
            "| TESE3|  0.4939632004756824|\n",
            "| TIB 3|  0.5949298597675554|\n",
            "| TIBR3|    0.56354297982287|\n",
            "| TKN 3| 0.11734092682150504|\n",
            "| TRA 3|                null|\n",
            "| TRAS3|                null|\n",
            "| TRB 3| 0.22475256108217828|\n",
            "| TRBR3| 0.12509768878570116|\n",
            "| TRF 3| 0.13219030176544902|\n",
            "| TROR3| 0.35379876297381374|\n",
            "| TXRX3|  0.6277294308313589|\n",
            "| UBH 3| 0.05440693318535601|\n",
            "| USG 3| 0.16918170403324304|\n",
            "| USGE3| 0.09195418900201127|\n",
            "| UTF 3|                null|\n",
            "| VEM 3|  0.3339966926361157|\n",
            "| VEP 3| 0.23382274577580156|\n",
            "| VLJ 3|  0.3717994058651628|\n",
            "| VPSC3|  1.7666235585989198|\n",
            "| VPTA3|  0.2984066323077592|\n",
            "| VTE 3| 0.13561117141753792|\n",
            "| VUL 3|                null|\n",
            "| WISA3|  0.1363126986465683|\n",
            "| WMBY3|    4.74418393963275|\n",
            "| ZAN 3|  0.4152693364209293|\n",
            "| ZIV 3| 0.41997996773269264|\n",
            "| ZIVI3|   279.6750331859745|\n",
            "+------+--------------------+\n",
            "\n"
          ]
        }
      ]
    },
    {
      "cell_type": "code",
      "metadata": {
        "id": "8Ecpe9G06dbD",
        "colab": {
          "base_uri": "https://localhost:8080/"
        },
        "outputId": "6d6ebb63-1c33-4dd9-fd1b-c5511f348515"
      },
      "source": [
        "cotacoes_aux_04.cache().count()"
      ],
      "execution_count": null,
      "outputs": [
        {
          "output_type": "execute_result",
          "data": {
            "text/plain": [
              "14837"
            ]
          },
          "metadata": {},
          "execution_count": 43
        }
      ]
    },
    {
      "cell_type": "code",
      "metadata": {
        "id": "Z5YBQ7Kc8-3Y",
        "colab": {
          "base_uri": "https://localhost:8080/"
        },
        "outputId": "774d78c1-aa04-4a75-ebb9-0a2b79af1bb4"
      },
      "source": [
        "cotacoes_aux_04.filter(\"codneg in ('SPG 3','ENL 5','FCH 3')\").sort(\"codneg\", \"data\").show()"
      ],
      "execution_count": null,
      "outputs": [
        {
          "output_type": "stream",
          "name": "stdout",
          "text": [
            "+------+-------------------+------+------+------+------+------+----------+------------------+\n",
            "|tipreg|               data|codbdi|codneg|tpmerc|especi|preult|preult_ant|           dif_rel|\n",
            "+------+-------------------+------+------+------+------+------+----------+------------------+\n",
            "|     1|1997-02-07 00:00:00|     2| ENL 5|    10|    ON|   1.0|       1.0|               0.0|\n",
            "|     1|1995-05-11 00:00:00|     2| FCH 3|    10|    ON|197.99|     130.0|0.5230000000000001|\n",
            "|     1|1996-12-04 00:00:00|     2| SPG 3|    10|    ON|  3.51|      2.01|0.7462686567164181|\n",
            "+------+-------------------+------+------+------+------+------+----------+------------------+\n",
            "\n"
          ]
        }
      ]
    }
  ]
}