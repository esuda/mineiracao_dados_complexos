{
  "nbformat": 4,
  "nbformat_minor": 0,
  "metadata": {
    "colab": {
      "name": "Big Data 010 - Trabalho 2 - Sentimento - Template.ipynb",
      "provenance": [],
      "collapsed_sections": [],
      "include_colab_link": true
    },
    "kernelspec": {
      "name": "python3",
      "display_name": "Python 3"
    }
  },
  "cells": [
    {
      "cell_type": "markdown",
      "metadata": {
        "id": "view-in-github",
        "colab_type": "text"
      },
      "source": [
        "<a href=\"https://colab.research.google.com/github/esuda/mineiracao_dados_complexos/blob/master/Big%20Data/Big_Data_010_Trabalho_2_Sentimento_Noriaki_Suda_Wakabayashi.ipynb\" target=\"_parent\"><img src=\"https://colab.research.google.com/assets/colab-badge.svg\" alt=\"Open In Colab\"/></a>"
      ]
    },
    {
      "cell_type": "markdown",
      "metadata": {
        "id": "1pkxSQ7daQk0"
      },
      "source": [
        "# Pacote de dados\n",
        "\n",
        "\n",
        "*   Abra o link do pacote de dados: https://tinyurl.com/bd10-tweets\n",
        "*   Selecione a opção \"Adicionar Atalho ao Drive\""
      ]
    },
    {
      "cell_type": "code",
      "metadata": {
        "id": "42wAmUtHclQi",
        "colab": {
          "base_uri": "https://localhost:8080/"
        },
        "outputId": "2a5b078d-95ff-492a-81c6-ba2c493366db"
      },
      "source": [
        "!pip install mrjob nltk twython"
      ],
      "execution_count": null,
      "outputs": [
        {
          "output_type": "stream",
          "name": "stdout",
          "text": [
            "Collecting mrjob\n",
            "  Downloading mrjob-0.7.4-py2.py3-none-any.whl (439 kB)\n",
            "\u001b[?25l\r\u001b[K     |▊                               | 10 kB 22.8 MB/s eta 0:00:01\r\u001b[K     |█▌                              | 20 kB 29.0 MB/s eta 0:00:01\r\u001b[K     |██▎                             | 30 kB 12.6 MB/s eta 0:00:01\r\u001b[K     |███                             | 40 kB 9.6 MB/s eta 0:00:01\r\u001b[K     |███▊                            | 51 kB 5.4 MB/s eta 0:00:01\r\u001b[K     |████▌                           | 61 kB 5.5 MB/s eta 0:00:01\r\u001b[K     |█████▏                          | 71 kB 6.1 MB/s eta 0:00:01\r\u001b[K     |██████                          | 81 kB 6.8 MB/s eta 0:00:01\r\u001b[K     |██████▊                         | 92 kB 7.0 MB/s eta 0:00:01\r\u001b[K     |███████▌                        | 102 kB 5.5 MB/s eta 0:00:01\r\u001b[K     |████████▏                       | 112 kB 5.5 MB/s eta 0:00:01\r\u001b[K     |█████████                       | 122 kB 5.5 MB/s eta 0:00:01\r\u001b[K     |█████████▊                      | 133 kB 5.5 MB/s eta 0:00:01\r\u001b[K     |██████████▍                     | 143 kB 5.5 MB/s eta 0:00:01\r\u001b[K     |███████████▏                    | 153 kB 5.5 MB/s eta 0:00:01\r\u001b[K     |████████████                    | 163 kB 5.5 MB/s eta 0:00:01\r\u001b[K     |████████████▊                   | 174 kB 5.5 MB/s eta 0:00:01\r\u001b[K     |█████████████▍                  | 184 kB 5.5 MB/s eta 0:00:01\r\u001b[K     |██████████████▏                 | 194 kB 5.5 MB/s eta 0:00:01\r\u001b[K     |███████████████                 | 204 kB 5.5 MB/s eta 0:00:01\r\u001b[K     |███████████████▋                | 215 kB 5.5 MB/s eta 0:00:01\r\u001b[K     |████████████████▍               | 225 kB 5.5 MB/s eta 0:00:01\r\u001b[K     |█████████████████▏              | 235 kB 5.5 MB/s eta 0:00:01\r\u001b[K     |██████████████████              | 245 kB 5.5 MB/s eta 0:00:01\r\u001b[K     |██████████████████▋             | 256 kB 5.5 MB/s eta 0:00:01\r\u001b[K     |███████████████████▍            | 266 kB 5.5 MB/s eta 0:00:01\r\u001b[K     |████████████████████▏           | 276 kB 5.5 MB/s eta 0:00:01\r\u001b[K     |████████████████████▉           | 286 kB 5.5 MB/s eta 0:00:01\r\u001b[K     |█████████████████████▋          | 296 kB 5.5 MB/s eta 0:00:01\r\u001b[K     |██████████████████████▍         | 307 kB 5.5 MB/s eta 0:00:01\r\u001b[K     |███████████████████████         | 317 kB 5.5 MB/s eta 0:00:01\r\u001b[K     |███████████████████████▉        | 327 kB 5.5 MB/s eta 0:00:01\r\u001b[K     |████████████████████████▋       | 337 kB 5.5 MB/s eta 0:00:01\r\u001b[K     |█████████████████████████▍      | 348 kB 5.5 MB/s eta 0:00:01\r\u001b[K     |██████████████████████████      | 358 kB 5.5 MB/s eta 0:00:01\r\u001b[K     |██████████████████████████▉     | 368 kB 5.5 MB/s eta 0:00:01\r\u001b[K     |███████████████████████████▋    | 378 kB 5.5 MB/s eta 0:00:01\r\u001b[K     |████████████████████████████▎   | 389 kB 5.5 MB/s eta 0:00:01\r\u001b[K     |█████████████████████████████   | 399 kB 5.5 MB/s eta 0:00:01\r\u001b[K     |█████████████████████████████▉  | 409 kB 5.5 MB/s eta 0:00:01\r\u001b[K     |██████████████████████████████▋ | 419 kB 5.5 MB/s eta 0:00:01\r\u001b[K     |███████████████████████████████▎| 430 kB 5.5 MB/s eta 0:00:01\r\u001b[K     |████████████████████████████████| 439 kB 5.5 MB/s \n",
            "\u001b[?25hRequirement already satisfied: nltk in /usr/local/lib/python3.7/dist-packages (3.2.5)\n",
            "Collecting twython\n",
            "  Downloading twython-3.9.1-py3-none-any.whl (33 kB)\n",
            "Requirement already satisfied: PyYAML>=3.10 in /usr/local/lib/python3.7/dist-packages (from mrjob) (3.13)\n",
            "Requirement already satisfied: six in /usr/local/lib/python3.7/dist-packages (from nltk) (1.15.0)\n",
            "Requirement already satisfied: requests>=2.1.0 in /usr/local/lib/python3.7/dist-packages (from twython) (2.23.0)\n",
            "Requirement already satisfied: requests-oauthlib>=0.4.0 in /usr/local/lib/python3.7/dist-packages (from twython) (1.3.0)\n",
            "Requirement already satisfied: chardet<4,>=3.0.2 in /usr/local/lib/python3.7/dist-packages (from requests>=2.1.0->twython) (3.0.4)\n",
            "Requirement already satisfied: idna<3,>=2.5 in /usr/local/lib/python3.7/dist-packages (from requests>=2.1.0->twython) (2.10)\n",
            "Requirement already satisfied: urllib3!=1.25.0,!=1.25.1,<1.26,>=1.21.1 in /usr/local/lib/python3.7/dist-packages (from requests>=2.1.0->twython) (1.24.3)\n",
            "Requirement already satisfied: certifi>=2017.4.17 in /usr/local/lib/python3.7/dist-packages (from requests>=2.1.0->twython) (2021.5.30)\n",
            "Requirement already satisfied: oauthlib>=3.0.0 in /usr/local/lib/python3.7/dist-packages (from requests-oauthlib>=0.4.0->twython) (3.1.1)\n",
            "Installing collected packages: twython, mrjob\n",
            "Successfully installed mrjob-0.7.4 twython-3.9.1\n"
          ]
        }
      ]
    },
    {
      "cell_type": "code",
      "metadata": {
        "id": "1P8u-xDBcyhv",
        "colab": {
          "base_uri": "https://localhost:8080/"
        },
        "outputId": "d14ddce0-ac9a-48f7-f1e2-03c6b0ba9613"
      },
      "source": [
        "from google.colab import drive\n",
        "drive.mount('/content/drive')"
      ],
      "execution_count": null,
      "outputs": [
        {
          "output_type": "stream",
          "name": "stdout",
          "text": [
            "Mounted at /content/drive\n"
          ]
        }
      ]
    },
    {
      "cell_type": "code",
      "metadata": {
        "id": "antgULJUdK25",
        "colab": {
          "base_uri": "https://localhost:8080/"
        },
        "outputId": "6a5a6886-e47e-4638-f58a-f3ed9c753504"
      },
      "source": [
        "%%file trab2.py\n",
        "\n",
        "from mrjob.job import MRJob\n",
        "from mrjob.step import MRStep\n",
        "import nltk\n",
        "from nltk.sentiment import SentimentIntensityAnalyzer\n",
        "import re\n",
        "\n",
        "class Sentiment(MRJob):\n",
        "\n",
        "  def mapper_init(self):\n",
        "    nltk.download('vader_lexicon', quiet=True)\n",
        "\n",
        "  def mapper(self, _, line):\n",
        "    yield None, [0, 1]\n",
        "\n",
        "  def combiner(self, key, values):\n",
        "    yield None, [0, 1]\n",
        "\n",
        "  def reducer(self, key, values):\n",
        "    yield None, 0\n",
        "\n",
        "if __name__ == '__main__':\n",
        "    Sentiment.run()"
      ],
      "execution_count": null,
      "outputs": [
        {
          "output_type": "stream",
          "name": "stdout",
          "text": [
            "Writing trab2.py\n"
          ]
        }
      ]
    },
    {
      "cell_type": "code",
      "metadata": {
        "id": "BygVmz6JuJLL",
        "colab": {
          "base_uri": "https://localhost:8080/"
        },
        "outputId": "4e97aa21-3611-46e7-b5df-433a8cd28957"
      },
      "source": [
        "!python trab2.py -r local \"/content/drive/My Drive/twitter_cs/sample_clean.csv\" "
      ],
      "execution_count": null,
      "outputs": [
        {
          "output_type": "stream",
          "name": "stdout",
          "text": [
            "No configs found; falling back on auto-configuration\n",
            "No configs specified for local runner\n",
            "Creating temp directory /tmp/trab2.root.20211030.111352.846274\n",
            "Running step 1 of 1...\n",
            "job output is in /tmp/trab2.root.20211030.111352.846274/output\n",
            "Streaming final output from /tmp/trab2.root.20211030.111352.846274/output...\n",
            "null\t0\n",
            "Removing temp directory /tmp/trab2.root.20211030.111352.846274...\n"
          ]
        }
      ]
    },
    {
      "cell_type": "code",
      "metadata": {
        "id": "RDGaqJcRT_vx"
      },
      "source": [
        "!python trab2.py -r local \"/content/drive/My Drive/twitter_cs/sample_clean_larger.csv.gz\" "
      ],
      "execution_count": null,
      "outputs": []
    },
    {
      "cell_type": "code",
      "metadata": {
        "id": "4vQneQhpUXBc"
      },
      "source": [
        "!python trab2.py -r local \"/content/drive/My Drive/twitter_cs/twcs_clean.csv.gz\" "
      ],
      "execution_count": null,
      "outputs": []
    }
  ]
}