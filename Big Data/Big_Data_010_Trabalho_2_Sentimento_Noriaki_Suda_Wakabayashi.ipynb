{
  "nbformat": 4,
  "nbformat_minor": 0,
  "metadata": {
    "colab": {
      "name": "Big Data 010 - Trabalho 2 - Sentimento - Template.ipynb",
      "provenance": [],
      "collapsed_sections": [],
      "include_colab_link": true
    },
    "kernelspec": {
      "name": "python3",
      "display_name": "Python 3"
    }
  },
  "cells": [
    {
      "cell_type": "markdown",
      "metadata": {
        "id": "view-in-github",
        "colab_type": "text"
      },
      "source": [
        "<a href=\"https://colab.research.google.com/github/esuda/mineiracao_dados_complexos/blob/master/Big%20Data/Big_Data_010_Trabalho_2_Sentimento_Noriaki_Suda_Wakabayashi.ipynb\" target=\"_parent\"><img src=\"https://colab.research.google.com/assets/colab-badge.svg\" alt=\"Open In Colab\"/></a>"
      ]
    },
    {
      "cell_type": "markdown",
      "metadata": {
        "id": "1pkxSQ7daQk0"
      },
      "source": [
        "# Pacote de dados\n",
        "\n",
        "\n",
        "*   Abra o link do pacote de dados: https://tinyurl.com/bd10-tweets\n",
        "*   Selecione a opção \"Adicionar Atalho ao Drive\""
      ]
    },
    {
      "cell_type": "code",
      "metadata": {
        "id": "42wAmUtHclQi",
        "colab": {
          "base_uri": "https://localhost:8080/"
        },
        "outputId": "df46525e-827d-4e42-d1a6-8fb7e8e94d5d"
      },
      "source": [
        "!pip install mrjob nltk twython"
      ],
      "execution_count": 2,
      "outputs": [
        {
          "output_type": "stream",
          "name": "stdout",
          "text": [
            "Requirement already satisfied: mrjob in /usr/local/lib/python3.7/dist-packages (0.7.4)\n",
            "Requirement already satisfied: nltk in /usr/local/lib/python3.7/dist-packages (3.2.5)\n",
            "Requirement already satisfied: twython in /usr/local/lib/python3.7/dist-packages (3.9.1)\n",
            "Requirement already satisfied: PyYAML>=3.10 in /usr/local/lib/python3.7/dist-packages (from mrjob) (3.13)\n",
            "Requirement already satisfied: six in /usr/local/lib/python3.7/dist-packages (from nltk) (1.15.0)\n",
            "Requirement already satisfied: requests>=2.1.0 in /usr/local/lib/python3.7/dist-packages (from twython) (2.23.0)\n",
            "Requirement already satisfied: requests-oauthlib>=0.4.0 in /usr/local/lib/python3.7/dist-packages (from twython) (1.3.0)\n",
            "Requirement already satisfied: chardet<4,>=3.0.2 in /usr/local/lib/python3.7/dist-packages (from requests>=2.1.0->twython) (3.0.4)\n",
            "Requirement already satisfied: urllib3!=1.25.0,!=1.25.1,<1.26,>=1.21.1 in /usr/local/lib/python3.7/dist-packages (from requests>=2.1.0->twython) (1.24.3)\n",
            "Requirement already satisfied: idna<3,>=2.5 in /usr/local/lib/python3.7/dist-packages (from requests>=2.1.0->twython) (2.10)\n",
            "Requirement already satisfied: certifi>=2017.4.17 in /usr/local/lib/python3.7/dist-packages (from requests>=2.1.0->twython) (2021.5.30)\n",
            "Requirement already satisfied: oauthlib>=3.0.0 in /usr/local/lib/python3.7/dist-packages (from requests-oauthlib>=0.4.0->twython) (3.1.1)\n"
          ]
        }
      ]
    },
    {
      "cell_type": "code",
      "metadata": {
        "id": "1P8u-xDBcyhv",
        "colab": {
          "base_uri": "https://localhost:8080/"
        },
        "outputId": "ed1e971d-0c06-44bd-f424-aa813fd102c9"
      },
      "source": [
        "from google.colab import drive\n",
        "drive.mount('/content/drive')"
      ],
      "execution_count": 3,
      "outputs": [
        {
          "output_type": "stream",
          "name": "stdout",
          "text": [
            "Mounted at /content/drive\n"
          ]
        }
      ]
    },
    {
      "cell_type": "code",
      "metadata": {
        "id": "vxVkFwFOYV5G",
        "outputId": "e9a1b9f3-71ec-4ee4-a602-47928b9c40a9",
        "colab": {
          "base_uri": "https://localhost:8080/"
        }
      },
      "source": [
        "!ls \"/content/drive/My Drive/twitter_cs\""
      ],
      "execution_count": 5,
      "outputs": [
        {
          "output_type": "stream",
          "name": "stdout",
          "text": [
            "negative-words.txt  sample_clean_larger.csv\ttwcs_clean.csv\n",
            "positive-words.txt  sample_clean_larger.csv.gz\ttwcs_clean.csv.gz\n",
            "sample_clean.csv    sample.csv\t\t\ttwcs.csv\n"
          ]
        }
      ]
    },
    {
      "cell_type": "code",
      "metadata": {
        "id": "AIJDLpzvY-l5",
        "outputId": "1815497c-84f9-4f0a-8b13-fbe90300d97b",
        "colab": {
          "base_uri": "https://localhost:8080/"
        }
      },
      "source": [
        "!cat \"/content/drive/My Drive/twitter_cs/sample_clean.csv\" | head"
      ],
      "execution_count": 43,
      "outputs": [
        {
          "output_type": "stream",
          "name": "stdout",
          "text": [
            "tweet_id,author_id,inbound,created_at,text,response_tweet_id,in_response_to_tweet_id\r\n",
            "119237,105834,True,Wed Oct 11 06:55:44 +0000 2017,@AppleSupport causing the reply to be disregarded and the tapped notification under the keyboard is opened😡😡😡,119236,\r\n",
            "119238,ChaseSupport,False,Wed Oct 11 13:25:49 +0000 2017,\"@105835 Your business means a lot to us. Please DM your name  zip code and additional details about your concern. ^RR https://t.co/znUu1VJn9r\",,119239\r\n",
            "119239,105835,True,Wed Oct 11 13:00:09 +0000 2017,@76328 I really hope you all change but I'm sure you won't! Because you don't have to!,119238,\r\n",
            "119240,VirginTrains,False,Tue Oct 10 15:16:08 +0000 2017,\"@105836 LiveChat is online at the moment - https://t.co/SY94VtU8Kq or contact 03331 031 031 option 1  4  3 (Leave a message) to request a call back\",119241,119242\r\n",
            "119241,105836,True,Tue Oct 10 15:17:21 +0000 2017,@VirginTrains see attached error message. I've tried leaving a voicemail several times in the past week https://t.co/NxVZjlYx1k,119243,119240\r\n",
            "119243,VirginTrains,False,Tue Oct 10 15:25:14 +0000 2017,\"@105836 Have you tried from another device  Miriam ^MM\",119244,119241\r\n",
            "119244,105836,True,Tue Oct 10 15:26:44 +0000 2017,\"@VirginTrains yep  I've tried laptop too several times over the past week and again today. I've tried different browsers too\",119245,119243\r\n",
            "119245,VirginTrains,False,Tue Oct 10 15:33:22 +0000 2017,\"@105836 It's working OK from here  Miriam. Does this link help https://t.co/0m2mpH15eh ? ^MM\",,119244\r\n",
            "119242,105836,True,Tue Oct 10 15:09:00 +0000 2017,@VirginTrains I still haven't heard &amp; the number I'm directed to by phone is a dead end &amp; the live chat doesn't work. Can someone call me?,119240,119246\r\n"
          ]
        }
      ]
    },
    {
      "cell_type": "markdown",
      "metadata": {
        "id": "1IxqWhN3xwcR"
      },
      "source": [
        "# Ver porque nao esta saindo resultado pelo logger de warning"
      ]
    },
    {
      "cell_type": "code",
      "metadata": {
        "id": "antgULJUdK25",
        "colab": {
          "base_uri": "https://localhost:8080/"
        },
        "outputId": "fc06f0a9-4e29-4ed6-c560-6b5580cc64e3"
      },
      "source": [
        "%%file trab2.py\n",
        "\n",
        "from mrjob.job import MRJob\n",
        "from mrjob.step import MRStep\n",
        "import nltk\n",
        "from nltk.sentiment import SentimentIntensityAnalyzer\n",
        "import re\n",
        "import logging\n",
        "\n",
        "class Sentiment(MRJob):\n",
        "\n",
        "  def mapper_init(self):\n",
        "    nltk.download('vader_lexicon', quiet=True)\n",
        "\n",
        "    self.sentiment = SentimentIntensityAnalyzer()\n",
        "\n",
        "  def mapper(self, _, line):\n",
        "    try:\n",
        "      tweet_id, author_id, inbound, created_at, text, response_tweet_id, in_response_to_tweet_id = line.split(\",\")\n",
        "\n",
        "      author_id = author_id.lower().strip()\n",
        "      flag_author = bool(re.match(\"^[0-9]+$\", author_id))\n",
        "\n",
        "      if inbound == \"True\":\n",
        "        raise ValueError(\"Inbound\") \n",
        "      elif flag_author == True:\n",
        "        raise ValueError(\"Author\")\n",
        "\n",
        "      polaridade = self.sentiment.polarity_scores(text)['compound']\n",
        "      yield author_id, (polaridade, 1)\n",
        "\n",
        "    except ValueError as error:\n",
        "      logging.warning(error.args)\n",
        "      logging.warning(\"linha descartada: \"+line)\n",
        "      pass\n",
        "\n",
        "  def combiner(self, key, values):\n",
        "    try:\n",
        "      polaridade_sum = 0\n",
        "      quantidade = 0\n",
        "      for value in values:\n",
        "        polaridade_sum += value[0]\n",
        "        quantidade += value[1]\n",
        "    \n",
        "      yield key, (polaridade_sum, quantidade)\n",
        "    \n",
        "    except:\n",
        "      logging.warning(\"Deu ruim Combiner\")     \n",
        "      pass\n",
        "\n",
        "  def reducer(self, key, values):\n",
        "    try:\n",
        "      polaridade_sum = 0\n",
        "      quantidade = 0\n",
        "      for value in values:\n",
        "        polaridade_sum += value[0]\n",
        "        quantidade += value[1]\n",
        "\n",
        "      yield key, str(polaridade_sum/quantidade)\n",
        "\n",
        "    except:\n",
        "      logging.warning(\"Deu ruim reducer\")     \n",
        "      pass\n",
        "\n",
        "if __name__ == '__main__':\n",
        "    logging.basicConfig(filename=\"log.txt\")\n",
        "    Sentiment.run()"
      ],
      "execution_count": 87,
      "outputs": [
        {
          "output_type": "stream",
          "name": "stdout",
          "text": [
            "Overwriting trab2.py\n"
          ]
        }
      ]
    },
    {
      "cell_type": "code",
      "metadata": {
        "id": "BygVmz6JuJLL",
        "colab": {
          "base_uri": "https://localhost:8080/"
        },
        "outputId": "dfc663e3-98f8-4fa9-ecb6-43471b8edae9"
      },
      "source": [
        "!python trab2.py -r local \"/content/drive/My Drive/twitter_cs/sample_clean.csv\" "
      ],
      "execution_count": 91,
      "outputs": [
        {
          "output_type": "stream",
          "name": "stdout",
          "text": [
            "No configs found; falling back on auto-configuration\n",
            "No configs specified for local runner\n",
            "Creating temp directory /tmp/trab2.root.20211102.033133.190049\n",
            "Running step 1 of 1...\n",
            "job output is in /tmp/trab2.root.20211102.033133.190049/output\n",
            "Streaming final output from /tmp/trab2.root.20211102.033133.190049/output...\n",
            "\"o2\"\t\"0.7783\"\n",
            "\"southwestair\"\t\"0.6114\"\n",
            "\"spotifycares\"\t\"0.512325\"\n",
            "\"sprintcare\"\t\"0.2263\"\n",
            "\"british_airways\"\t\"0.2015\"\n",
            "\"chasesupport\"\t\"0.3182\"\n",
            "\"comcastcares\"\t\"-0.1217\"\n",
            "\"hpsupport\"\t\"0.6369\"\n",
            "\"applesupport\"\t\"0.5644153846153845\"\n",
            "\"ask_spectrum\"\t\"-0.2732\"\n",
            "\"author_id\"\t\"0.0\"\n",
            "\"tesco\"\t\"0.48062499999999997\"\n",
            "\"upshelp\"\t\"0.2263\"\n",
            "\"virgintrains\"\t\"0.171025\"\n",
            "Removing temp directory /tmp/trab2.root.20211102.033133.190049...\n"
          ]
        }
      ]
    },
    {
      "cell_type": "code",
      "metadata": {
        "id": "8ncCInbTtOwz"
      },
      "source": [
        "# Sanity Check pra ver se esta agrupando certo\n",
        "import pandas as pd\n",
        "import nltk\n",
        "from nltk.sentiment import SentimentIntensityAnalyzer\n",
        "nltk.download('vader_lexicon', quiet=True)\n",
        "analyzer = SentimentIntensityAnalyzer()\n",
        "\n",
        "df = pd.read_csv(\"/content/drive/My Drive/twitter_cs/sample_clean.csv\" )\n",
        "\n",
        "df[\"test\"] = df.author_id.str.match(\"^[0-9]+$\")\n",
        "\n",
        "df['compound'] = [analyzer.polarity_scores(x)['compound'] for x in df['text']]\n",
        "\n",
        "df[df[\"test\"]==False].filter([\"author_id\", \"compound\"]).groupby(\"author_id\")[\"compound\"].mean()"
      ],
      "execution_count": null,
      "outputs": []
    },
    {
      "cell_type": "code",
      "metadata": {
        "id": "t0MAk5Czg_YK"
      },
      "source": [
        "!cat log.txt"
      ],
      "execution_count": null,
      "outputs": []
    },
    {
      "cell_type": "code",
      "metadata": {
        "id": "FC3onBh8hHl-"
      },
      "source": [
        "!rm log.txt"
      ],
      "execution_count": 90,
      "outputs": []
    },
    {
      "cell_type": "code",
      "metadata": {
        "id": "RDGaqJcRT_vx"
      },
      "source": [
        "!python trab2.py -r local \"/content/drive/My Drive/twitter_cs/sample_clean_larger.csv.gz\" "
      ],
      "execution_count": null,
      "outputs": []
    },
    {
      "cell_type": "code",
      "metadata": {
        "id": "4vQneQhpUXBc"
      },
      "source": [
        "!python trab2.py -r local \"/content/drive/My Drive/twitter_cs/twcs_clean.csv.gz\" "
      ],
      "execution_count": null,
      "outputs": []
    },
    {
      "cell_type": "code",
      "metadata": {
        "id": "KyTJEoXFcSYL",
        "outputId": "246d0337-aa2c-4394-b72c-367316d5a5c9",
        "colab": {
          "base_uri": "https://localhost:8080/"
        }
      },
      "source": [
        "import re\n",
        "names = [\"asdfaser\", \"1234\", \"21asdfa\", \"sdf1234531\", \"\"]\n",
        "for name in names:\n",
        "  print(name, \"\\t\", bool(re.match(\"^[0-9]+$\", name)))"
      ],
      "execution_count": 22,
      "outputs": [
        {
          "output_type": "stream",
          "name": "stdout",
          "text": [
            "asdfaser \t False\n",
            "1234 \t True\n",
            "21asdfa \t False\n",
            "sdf1234531 \t False\n",
            " \t False\n"
          ]
        }
      ]
    }
  ]
}